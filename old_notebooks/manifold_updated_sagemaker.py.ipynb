{
 "cells": [
  {
   "cell_type": "markdown",
   "metadata": {
    "nbpresent": {
     "id": "42b5e80b-ad1d-4335-a1f7-10a91127e3dc"
    }
   },
   "source": [
    "# Time series forecasting with DeepAR\n",
    "DeepAR is a supervised learning algorithm for forecasting scalar time series. \n",
    "\n",
    "\n",
    "Let's start by specifying:\n",
    "\n",
    "- The S3 bucket and prefix that you want to use for training and model data.  This should be within the same region as the Notebook Instance, training, and hosting.\n",
    "- The IAM role arn used to give training and hosting access to your data. See the documentation for how to create these.  Note, if more than one role is required for notebook instances, training, and/or hosting, please replace the boto regexp with a the appropriate full IAM role arn string(s)."
   ]
  },
  {
   "cell_type": "code",
   "execution_count": 1,
   "metadata": {
    "isConfigCell": true
   },
   "outputs": [],
   "source": [
    "bucket = 'sagemaker-testtimeseries'\n",
    "prefix = 'sagemaker/test-demo-deepar'\n",
    " \n",
    "# Define IAM role\n",
    "import boto3\n",
    "import re\n",
    "from sagemaker import get_execution_role\n",
    "\n",
    "role = get_execution_role()"
   ]
  },
  {
   "cell_type": "code",
   "execution_count": 2,
   "metadata": {},
   "outputs": [
    {
     "data": {
      "text/plain": [
       "'arn:aws:iam::945416147148:role/service-role/AmazonSageMaker-ExecutionRole-20180616T095406'"
      ]
     },
     "execution_count": 2,
     "metadata": {},
     "output_type": "execute_result"
    }
   ],
   "source": [
    "role"
   ]
  },
  {
   "cell_type": "markdown",
   "metadata": {
    "nbpresent": {
     "id": "b2548d66-6f8f-426f-9cda-7a3cd1459abd"
    }
   },
   "source": [
    "Now we'll import the Python libraries we'll need."
   ]
  },
  {
   "cell_type": "code",
   "execution_count": 3,
   "metadata": {
    "nbpresent": {
     "id": "bb88eea9-27f3-4e47-9133-663911ea09a9"
    }
   },
   "outputs": [],
   "source": [
    "import pandas as pd\n",
    "import numpy as np\n",
    "import matplotlib.pyplot as plt\n",
    "import io\n",
    "import os\n",
    "import time\n",
    "import json\n",
    "import glob\n",
    "import sagemaker.amazon.common as smac\n",
    "import sagemaker\n",
    "from sagemaker.predictor import csv_serializer, json_deserializer\n",
    "import boto3\n",
    "import  s3fs\n",
    "import  sagemaker\n",
    "from sagemaker import get_execution_role"
   ]
  },
  {
   "cell_type": "code",
   "execution_count": 4,
   "metadata": {},
   "outputs": [],
   "source": [
    "sagemaker_session = sagemaker.Session()\n",
    "role = get_execution_role()\n",
    "\n",
    "s3_data_path = \"{}/{}/data\".format(bucket, prefix)\n",
    "s3_output_path = \"{}/{}/output\".format(bucket, prefix)"
   ]
  },
  {
   "cell_type": "code",
   "execution_count": 5,
   "metadata": {},
   "outputs": [],
   "source": [
    "\n",
    "containers  = {\n",
    "    'us-west-2': '156387875391.dkr.ecr.us-west-2.amazonaws.com/forecasting-deepar:latest'\n",
    "}\n",
    "image_name = containers[boto3.Session().region_name]"
   ]
  },
  {
   "cell_type": "code",
   "execution_count": 6,
   "metadata": {},
   "outputs": [
    {
     "data": {
      "text/plain": [
       "'arn:aws:iam::945416147148:role/service-role/AmazonSageMaker-ExecutionRole-20180616T095406'"
      ]
     },
     "execution_count": 6,
     "metadata": {},
     "output_type": "execute_result"
    }
   ],
   "source": [
    "role"
   ]
  },
  {
   "cell_type": "markdown",
   "metadata": {
    "nbpresent": {
     "id": "142777ae-c072-448e-b941-72bc75735d01"
    }
   },
   "source": [
    "---\n",
    "## Data\n",
    "\n",
    "Let's download the data.  More information about this dataset can be found [here](https://rdrr.io/github/robjhyndman/fpp/man/gasoline.html)."
   ]
  },
  {
   "cell_type": "code",
   "execution_count": 7,
   "metadata": {
    "nbpresent": {
     "id": "78105bc7-ce5d-4003-84f6-4dc5700c5945"
    }
   },
   "outputs": [],
   "source": [
    "#!wget http://gwa.ewi.tudelft.nl/fileadmin/pds/trace-archives/grid-workloads-archive/datasets/gwa-t-12/rnd.zip"
   ]
  },
  {
   "cell_type": "code",
   "execution_count": 8,
   "metadata": {},
   "outputs": [],
   "source": [
    "#import zipfile\n",
    "#with zipfile.ZipFile(\"rnd.zip\",\"r\") as zip_ref:\n",
    "#    zip_ref.extractall(\"targetdir\")"
   ]
  },
  {
   "cell_type": "markdown",
   "metadata": {
    "nbpresent": {
     "id": "b472326f-3584-4b61-aecc-04b35486a1ab"
    }
   },
   "source": [
    "And take a look at it."
   ]
  },
  {
   "cell_type": "code",
   "execution_count": 9,
   "metadata": {
    "nbpresent": {
     "id": "f8976dad-6897-4c7e-8c95-ae2f53070ef5"
    }
   },
   "outputs": [
    {
     "name": "stderr",
     "output_type": "stream",
     "text": [
      "/home/ec2-user/anaconda3/envs/python3/lib/python3.6/site-packages/ipykernel/__main__.py:3: ParserWarning: Falling back to the 'python' engine because the 'c' engine does not support regex separators (separators > 1 char and different from '\\s+' are interpreted as regex); you can avoid this warning by specifying engine='python'.\n",
      "  app.launch_new_instance()\n"
     ]
    }
   ],
   "source": [
    "all_files = glob.glob(os.path.join('targetdir/rnd/2013-7/', \"1*.csv\"))     # advisable to use os.path.join as this makes concatenation OS independent\n",
    "\n",
    "df_from_each_file = (pd.read_csv(f, sep = ';\\t') for f in all_files)\n",
    "concatenated_df   = pd.concat(df_from_each_file)"
   ]
  },
  {
   "cell_type": "code",
   "execution_count": 10,
   "metadata": {},
   "outputs": [
    {
     "name": "stderr",
     "output_type": "stream",
     "text": [
      "/home/ec2-user/anaconda3/envs/python3/lib/python3.6/site-packages/ipykernel/__main__.py:2: ParserWarning: Falling back to the 'python' engine because the 'c' engine does not support regex separators (separators > 1 char and different from '\\s+' are interpreted as regex); you can avoid this warning by specifying engine='python'.\n",
      "  from ipykernel import kernelapp as app\n"
     ]
    }
   ],
   "source": [
    "all_files = glob.glob(os.path.join('targetdir/rnd/2013-8/', \"1*.csv\"))     # advisable to use os.path.join as this makes concatenation OS independent\n",
    "df_from_each_file = (pd.read_csv(f, sep = ';\\t') for f in all_files)\n",
    "concatenated_df8   = pd.concat(df_from_each_file)"
   ]
  },
  {
   "cell_type": "code",
   "execution_count": 11,
   "metadata": {},
   "outputs": [
    {
     "name": "stderr",
     "output_type": "stream",
     "text": [
      "/home/ec2-user/anaconda3/envs/python3/lib/python3.6/site-packages/ipykernel/__main__.py:3: ParserWarning: Falling back to the 'python' engine because the 'c' engine does not support regex separators (separators > 1 char and different from '\\s+' are interpreted as regex); you can avoid this warning by specifying engine='python'.\n",
      "  app.launch_new_instance()\n"
     ]
    }
   ],
   "source": [
    "all_files = glob.glob(os.path.join('targetdir/rnd/2013-9/', \"1*.csv\"))     # advisable to use os.path.join as this makes concatenation OS independent\n",
    "\n",
    "df_from_each_file = (pd.read_csv(f, sep = ';\\t') for f in all_files)\n",
    "concatenated_df9   = pd.concat(df_from_each_file)"
   ]
  },
  {
   "cell_type": "code",
   "execution_count": null,
   "metadata": {},
   "outputs": [],
   "source": []
  },
  {
   "cell_type": "code",
   "execution_count": 12,
   "metadata": {},
   "outputs": [],
   "source": [
    "newdat = concatenated_df.append(concatenated_df8)\n",
    "newerdat = newdat.append(concatenated_df9)\n",
    "concatenated_df = newerdat"
   ]
  },
  {
   "cell_type": "code",
   "execution_count": 13,
   "metadata": {},
   "outputs": [
    {
     "name": "stdout",
     "output_type": "stream",
     "text": [
      "<class 'pandas.core.frame.DataFrame'>\n",
      "Int64Index: 2692928 entries, 0 to 11506\n",
      "Data columns (total 11 columns):\n",
      "Timestamp [ms]                           int64\n",
      "CPU cores                                int64\n",
      "CPU capacity provisioned [MHZ]           float64\n",
      "CPU usage [MHZ]                          float64\n",
      "CPU usage [%]                            float64\n",
      "Memory capacity provisioned [KB]         float64\n",
      "Memory usage [KB]                        float64\n",
      "Disk read throughput [KB/s]              float64\n",
      "Disk write throughput [KB/s]             float64\n",
      "Network received throughput [KB/s]       float64\n",
      "Network transmitted throughput [KB/s]    float64\n",
      "dtypes: float64(9), int64(2)\n",
      "memory usage: 246.5 MB\n"
     ]
    }
   ],
   "source": [
    "concatenated_df.info()"
   ]
  },
  {
   "cell_type": "code",
   "execution_count": null,
   "metadata": {},
   "outputs": [],
   "source": []
  },
  {
   "cell_type": "code",
   "execution_count": null,
   "metadata": {},
   "outputs": [],
   "source": []
  },
  {
   "cell_type": "code",
   "execution_count": null,
   "metadata": {},
   "outputs": [],
   "source": []
  },
  {
   "cell_type": "code",
   "execution_count": null,
   "metadata": {},
   "outputs": [],
   "source": []
  },
  {
   "cell_type": "code",
   "execution_count": 14,
   "metadata": {},
   "outputs": [],
   "source": [
    "concatenated_df['Timestamp'] = pd.to_datetime(concatenated_df['Timestamp [ms]'], unit = 's')\n",
    "#concatenated_df.apply(pd.to_numeric, errors='ignore')\n",
    "concatenated_df.describe()\n",
    "concatenated_df['weekday'] = concatenated_df['Timestamp'].dt.dayofweek\n",
    "\n",
    "\n",
    "concatenated_df['weekend'] = ((concatenated_df.weekday) // 5 == 1).astype(float)\n",
    "# Feature engineering with the date\n",
    "concatenated_df['month']=concatenated_df.Timestamp.dt.month \n",
    "concatenated_df['day']=concatenated_df.Timestamp.dt.day\n",
    "concatenated_df.set_index('Timestamp',inplace=True)\n",
    "concatenated_df[\"CPU usage prev\"] = concatenated_df['CPU usage [%]'].shift(1)\n",
    "concatenated_df[\"CPU_diff\"] = concatenated_df['CPU usage [%]'] - concatenated_df[\"CPU usage prev\"]\n",
    "concatenated_df[\"received_prev\"] = concatenated_df['Network received throughput [KB/s]'].shift(1)\n",
    "concatenated_df[\"received_diff\"] = concatenated_df['Network received throughput [KB/s]']- concatenated_df[\"received_prev\"]\n",
    "\n",
    "concatenated_df[\"transmitted_prev\"] = concatenated_df['Network transmitted throughput [KB/s]'].shift(1)\n",
    "concatenated_df[\"transmitted_diff\"] = concatenated_df['Network transmitted throughput [KB/s]']- concatenated_df[\"transmitted_prev\"]\n",
    "\n",
    "hourlydat = concatenated_df.resample('H').sum()"
   ]
  },
  {
   "cell_type": "code",
   "execution_count": 15,
   "metadata": {},
   "outputs": [
    {
     "data": {
      "image/png": "[encoded data removed]",
      "text/plain": [
       "<Figure size 720x360 with 1 Axes>"
      ]
     },
     "metadata": {},
     "output_type": "display_data"
    }
   ],
   "source": [
    "cpu = concatenated_df[['CPU usage [MHZ]']]\n",
    "cpu.plot(alpha=0.5, style='-', figsize=(10, 5))\n",
    "plt.legend(loc='upper right');\n",
    "#cpu.resample('H').sum().plot(style=':', figsize=(10, 5))\n",
    "#cpu.asfreq('H').plot(style='--');\n",
    "plt.legend(loc='upper right');"
   ]
  },
  {
   "cell_type": "code",
   "execution_count": 16,
   "metadata": {},
   "outputs": [],
   "source": [
    "hourlydat[\"start\"] = hourlydat.index\n",
    "hourlydat['target'] = hourlydat['CPU usage [MHZ]']\n",
    "jsondat=pd.DataFrame(hourlydat['start'])\n",
    "jsondat['start'] = hourlydat.index\n",
    "result = pd.concat([hourlydat['start'], hourlydat['target']], axis=1)\n",
    "result = result.reset_index()\n",
    "result.drop('Timestamp', axis=1, inplace=True)\n",
    "#result.start = result.start.astype(str)\n",
    "#result.set_index('start',inplace=True)\n",
    "#result"
   ]
  },
  {
   "cell_type": "code",
   "execution_count": 17,
   "metadata": {},
   "outputs": [],
   "source": [
    "result.set_index('start',inplace=True)\n",
    "result.index = pd.to_datetime(result.index) "
   ]
  },
  {
   "cell_type": "code",
   "execution_count": 18,
   "metadata": {},
   "outputs": [],
   "source": [
    "# remove two july days for even dataset\n",
    "result = result[2:]"
   ]
  },
  {
   "cell_type": "code",
   "execution_count": 19,
   "metadata": {},
   "outputs": [],
   "source": [
    "start = result.index.min()\n",
    "end = result.index.max()\n",
    "index = pd.date_range(start, end, freq='D')\n",
    "index = index.map(lambda t: t.strftime('%Y-%m-%d'))\n",
    "makingjson = pd.DataFrame(index=index, columns=['target'])\n",
    "makingjson.index.name = 'date'\n",
    "\n",
    "for day in index:\n",
    "    makingjson.loc[day, 'target'] = result.loc[day, 'target'].tolist()\n"
   ]
  },
  {
   "cell_type": "code",
   "execution_count": 20,
   "metadata": {},
   "outputs": [],
   "source": [
    "def series_to_obj(ts, cat=None):\n",
    "    obj = {\"start\": str(ts.index[0]), \"target\": list(ts)}\n",
    "    if cat is not None:\n",
    "        obj[\"cat\"] = cat\n",
    "    return obj\n",
    "\n",
    "def series_to_jsonline(ts, cat=None):\n",
    "    return json.dumps(series_to_obj(ts, cat))"
   ]
  },
  {
   "cell_type": "code",
   "execution_count": 21,
   "metadata": {},
   "outputs": [],
   "source": [
    "makingjson = makingjson.reset_index(drop=False)\n"
   ]
  },
  {
   "cell_type": "code",
   "execution_count": 22,
   "metadata": {},
   "outputs": [],
   "source": [
    "makingjson.columns = ['start', 'target']"
   ]
  },
  {
   "cell_type": "code",
   "execution_count": 23,
   "metadata": {},
   "outputs": [
    {
     "data": {
      "text/html": [
       "<div>\n",
       "<style scoped>\n",
       "    .dataframe tbody tr th:only-of-type {\n",
       "        vertical-align: middle;\n",
       "    }\n",
       "\n",
       "    .dataframe tbody tr th {\n",
       "        vertical-align: top;\n",
       "    }\n",
       "\n",
       "    .dataframe thead th {\n",
       "        text-align: right;\n",
       "    }\n",
       "</style>\n",
       "<table border=\"1\" class=\"dataframe\">\n",
       "  <thead>\n",
       "    <tr style=\"text-align: right;\">\n",
       "      <th></th>\n",
       "      <th>start</th>\n",
       "      <th>target</th>\n",
       "    </tr>\n",
       "  </thead>\n",
       "  <tbody>\n",
       "    <tr>\n",
       "      <th>0</th>\n",
       "      <td>2013-07-01</td>\n",
       "      <td>[574199.4713140074, 504223.53358262416, 602037...</td>\n",
       "    </tr>\n",
       "    <tr>\n",
       "      <th>1</th>\n",
       "      <td>2013-07-02</td>\n",
       "      <td>[650204.8214047799, 653213.9708218395, 565570....</td>\n",
       "    </tr>\n",
       "    <tr>\n",
       "      <th>2</th>\n",
       "      <td>2013-07-03</td>\n",
       "      <td>[992436.0216913229, 952792.0524644597, 924735....</td>\n",
       "    </tr>\n",
       "    <tr>\n",
       "      <th>3</th>\n",
       "      <td>2013-07-04</td>\n",
       "      <td>[221054.54960393056, 231642.20276966706, 22931...</td>\n",
       "    </tr>\n",
       "    <tr>\n",
       "      <th>4</th>\n",
       "      <td>2013-07-05</td>\n",
       "      <td>[133744.91281717448, 137004.83592266572, 13975...</td>\n",
       "    </tr>\n",
       "  </tbody>\n",
       "</table>\n",
       "</div>"
      ],
      "text/plain": [
       "        start                                             target\n",
       "0  2013-07-01  [574199.4713140074, 504223.53358262416, 602037...\n",
       "1  2013-07-02  [650204.8214047799, 653213.9708218395, 565570....\n",
       "2  2013-07-03  [992436.0216913229, 952792.0524644597, 924735....\n",
       "3  2013-07-04  [221054.54960393056, 231642.20276966706, 22931...\n",
       "4  2013-07-05  [133744.91281717448, 137004.83592266572, 13975..."
      ]
     },
     "execution_count": 23,
     "metadata": {},
     "output_type": "execute_result"
    }
   ],
   "source": [
    "makingjson.head()"
   ]
  },
  {
   "cell_type": "code",
   "execution_count": 24,
   "metadata": {},
   "outputs": [
    {
     "data": {
      "text/plain": [
       "18.2"
      ]
     },
     "execution_count": 24,
     "metadata": {},
     "output_type": "execute_result"
    }
   ],
   "source": [
    "len(makingjson)*.2"
   ]
  },
  {
   "cell_type": "code",
   "execution_count": 25,
   "metadata": {},
   "outputs": [],
   "source": [
    "traindat = makingjson[:-round(len(makingjson)*.2)]"
   ]
  },
  {
   "cell_type": "code",
   "execution_count": 26,
   "metadata": {},
   "outputs": [],
   "source": [
    "#makingjson.to_json('test.json', orient='records', lines=True)\n"
   ]
  },
  {
   "cell_type": "code",
   "execution_count": 27,
   "metadata": {},
   "outputs": [],
   "source": [
    "#traindat.to_json('train.json', orient='records', lines=True)\n"
   ]
  },
  {
   "cell_type": "code",
   "execution_count": 28,
   "metadata": {},
   "outputs": [],
   "source": [
    "t0  = '2013-07-01 00:00:00'\n",
    "data_length = 2182\n",
    "num_ts = 90\n",
    "period = 24\n",
    "freq= \"H\""
   ]
  },
  {
   "cell_type": "code",
   "execution_count": 29,
   "metadata": {},
   "outputs": [
    {
     "data": {
      "text/plain": [
       "DatetimeIndex(['2013-07-01 00:00:00', '2013-07-01 01:00:00',\n",
       "               '2013-07-01 02:00:00', '2013-07-01 03:00:00',\n",
       "               '2013-07-01 04:00:00', '2013-07-01 05:00:00',\n",
       "               '2013-07-01 06:00:00', '2013-07-01 07:00:00',\n",
       "               '2013-07-01 08:00:00', '2013-07-01 09:00:00',\n",
       "               ...\n",
       "               '2013-09-29 12:00:00', '2013-09-29 13:00:00',\n",
       "               '2013-09-29 14:00:00', '2013-09-29 15:00:00',\n",
       "               '2013-09-29 16:00:00', '2013-09-29 17:00:00',\n",
       "               '2013-09-29 18:00:00', '2013-09-29 19:00:00',\n",
       "               '2013-09-29 20:00:00', '2013-09-29 21:00:00'],\n",
       "              dtype='datetime64[ns]', length=2182, freq='H')"
      ]
     },
     "execution_count": 29,
     "metadata": {},
     "output_type": "execute_result"
    }
   ],
   "source": [
    "index = pd.DatetimeIndex(start=t0, freq=freq, periods=data_length)\n",
    "index\n",
    "data = result['target']\n",
    "index"
   ]
  },
  {
   "cell_type": "code",
   "execution_count": 30,
   "metadata": {},
   "outputs": [],
   "source": [
    "freq = 'H'\n",
    "prediction_length = 48\n",
    "context_length = 24"
   ]
  },
  {
   "cell_type": "code",
   "execution_count": 31,
   "metadata": {},
   "outputs": [],
   "source": [
    "time_series = []\n",
    "time_series.append(pd.Series(data=data, index=index))"
   ]
  },
  {
   "cell_type": "code",
   "execution_count": 32,
   "metadata": {},
   "outputs": [
    {
     "data": {
      "image/png": "[encoded data removed]",
      "text/plain": [
       "<Figure size 432x288 with 1 Axes>"
      ]
     },
     "metadata": {},
     "output_type": "display_data"
    }
   ],
   "source": [
    "time_series[0].plot()\n",
    "plt.show()"
   ]
  },
  {
   "cell_type": "code",
   "execution_count": 33,
   "metadata": {},
   "outputs": [],
   "source": [
    "time_series_training = []\n",
    "for ts in time_series:\n",
    "    time_series_training.append(ts[:-prediction_length])"
   ]
  },
  {
   "cell_type": "code",
   "execution_count": 34,
   "metadata": {},
   "outputs": [],
   "source": [
    "encoding = \"utf-8\"\n",
    "s3filesystem = s3fs.S3FileSystem()\n",
    "\n",
    "with s3filesystem.open(s3_data_path + \"/train/train.json\", 'wb') as fp:\n",
    "    for ts in time_series_training:\n",
    "        fp.write(series_to_jsonline(ts).encode(encoding))\n",
    "        fp.write('\\n'.encode(encoding))\n"
   ]
  },
  {
   "cell_type": "code",
   "execution_count": 35,
   "metadata": {},
   "outputs": [],
   "source": [
    "with s3filesystem.open(s3_data_path + \"/test/test.json\", 'wb') as fp:\n",
    "    for ts in time_series:\n",
    "        fp.write(series_to_jsonline(ts).encode(encoding))\n",
    "        fp.write('\\n'.encode(encoding))"
   ]
  },
  {
   "cell_type": "code",
   "execution_count": 36,
   "metadata": {},
   "outputs": [
    {
     "data": {
      "text/plain": [
       "'sagemaker-testtimeseries/sagemaker/test-demo-deepar/data'"
      ]
     },
     "execution_count": 36,
     "metadata": {},
     "output_type": "execute_result"
    }
   ],
   "source": [
    "s3_data_path"
   ]
  },
  {
   "cell_type": "code",
   "execution_count": 37,
   "metadata": {},
   "outputs": [],
   "source": [
    "estimator = sagemaker.estimator.Estimator(\n",
    "    sagemaker_session=sagemaker_session,\n",
    "    image_name=image_name,\n",
    "    role=role,\n",
    "    train_instance_count=1,\n",
    "    train_instance_type='ml.c4.xlarge',\n",
    "    base_job_name='test-demo-deepar',\n",
    "    output_path=\"s3://\" + s3_output_path\n",
    ")"
   ]
  },
  {
   "cell_type": "code",
   "execution_count": 38,
   "metadata": {},
   "outputs": [],
   "source": [
    "\n",
    "hyperparameters  = {\n",
    "    \"time_freq\": freq,\n",
    "    \"context_length\": context_length,\n",
    "    \"prediction_length\": prediction_length,\n",
    "    \"num_cells\": \"40\",\n",
    "    \"num_layers\": \"3\",\n",
    "    \"likelihood\": \"gaussian\",\n",
    "    \"epochs\": \"50\",\n",
    "    \"mini_batch_size\": \"32\",\n",
    "    \"learning_rate\": \"0.001\",\n",
    "    \"dropout_rate\": \"0.05\",\n",
    "    \"early_stopping_patience\": \"10\"\n",
    "}"
   ]
  },
  {
   "cell_type": "code",
   "execution_count": 39,
   "metadata": {},
   "outputs": [],
   "source": [
    "estimator.set_hyperparameters(**hyperparameters)"
   ]
  },
  {
   "cell_type": "code",
   "execution_count": 40,
   "metadata": {},
   "outputs": [
    {
     "name": "stderr",
     "output_type": "stream",
     "text": [
      "INFO:sagemaker:Creating training-job with name: test-demo-deepar-2018-06-19-20-36-53-657\n"
     ]
    },
    {
     "name": "stdout",
     "output_type": "stream",
     "text": [
      "..............................\n",
      "\u001b[31mArguments: train\u001b[0m\n",
      "\u001b[31m[06/19/2018 20:41:42 INFO 140219966605120] Reading default configuration from /opt/amazon/lib/python2.7/site-packages/algorithm/default-input.json: {u'dropout_rate': u'0.10', u'cardinality': u'', u'test_quantiles': u'[0.1, 0.2, 0.3, 0.4, 0.5, 0.6, 0.7, 0.8, 0.9]', u'_tuning_objective_metric': u'', u'_num_gpus': u'auto', u'learning_rate': u'0.001', u'num_cells': u'40', u'num_layers': u'2', u'embedding_dimension': u'', u'_kvstore': u'auto', u'_num_kv_servers': u'auto', u'mini_batch_size': u'32', u'likelihood': u'student-t', u'early_stopping_patience': u''}\u001b[0m\n",
      "\u001b[31m[06/19/2018 20:41:42 INFO 140219966605120] Reading provided configuration from /opt/ml/input/config/hyperparameters.json: {u'dropout_rate': u'0.05', u'learning_rate': u'0.001', u'num_cells': u'40', u'prediction_length': u'48', u'epochs': u'50', u'time_freq': u'H', u'context_length': u'24', u'num_layers': u'3', u'mini_batch_size': u'32', u'likelihood': u'gaussian', u'early_stopping_patience': u'10'}\u001b[0m\n",
      "\u001b[31m[06/19/2018 20:41:42 INFO 140219966605120] Final configuration: {u'dropout_rate': u'0.05', u'test_quantiles': u'[0.1, 0.2, 0.3, 0.4, 0.5, 0.6, 0.7, 0.8, 0.9]', u'_tuning_objective_metric': u'', u'learning_rate': u'0.001', u'num_layers': u'3', u'epochs': u'50', u'embedding_dimension': u'', u'num_cells': u'40', u'_num_kv_servers': u'auto', u'cardinality': u'', u'likelihood': u'gaussian', u'mini_batch_size': u'32', u'_num_gpus': u'auto', u'prediction_length': u'48', u'time_freq': u'H', u'context_length': u'24', u'_kvstore': u'auto', u'early_stopping_patience': u'10'}\u001b[0m\n",
      "\u001b[31m[06/19/2018 20:41:42 INFO 140219966605120] Detected entry point for worker worker\u001b[0m\n",
      "\u001b[31m[06/19/2018 20:41:42 INFO 140219966605120] nvidia-smi took: 0.0251851081848 secs to identify 0 gpus\u001b[0m\n",
      "\u001b[31m[06/19/2018 20:41:42 INFO 140219966605120] Number of GPUs being used: 0\u001b[0m\n",
      "\u001b[31m[06/19/2018 20:41:42 WARNING 140219966605120] Dataset contains very few time-series which may not be sufficient for good accuracy\u001b[0m\n",
      "\u001b[31m[06/19/2018 20:41:42 INFO 140219966605120] Training set statistics:\u001b[0m\n",
      "\u001b[31m[06/19/2018 20:41:42 INFO 140219966605120] Real timeseries\u001b[0m\n",
      "\u001b[31m[06/19/2018 20:41:42 INFO 140219966605120] number of timeseries: 1\u001b[0m\n",
      "\u001b[31m[06/19/2018 20:41:42 INFO 140219966605120] number of observations: 2134\u001b[0m\n",
      "\u001b[31m[06/19/2018 20:41:42 INFO 140219966605120] mean target length: 2134\u001b[0m\n",
      "\u001b[31m[06/19/2018 20:41:42 INFO 140219966605120] min/mean/max target: 0.0/442131.373946/2017685.125\u001b[0m\n",
      "\u001b[31m[06/19/2018 20:41:42 INFO 140219966605120] mean abs(target): 442131.373946\u001b[0m\n",
      "\u001b[31m[06/19/2018 20:41:42 INFO 140219966605120] Small number of time-series. Doing 10 number of passes over dataset per epoch.\u001b[0m\n",
      "\u001b[31m[06/19/2018 20:41:42 INFO 140219966605120] Test set statistics:\u001b[0m\n",
      "\u001b[31m[06/19/2018 20:41:42 INFO 140219966605120] Real timeseries\u001b[0m\n",
      "\u001b[31m[06/19/2018 20:41:42 INFO 140219966605120] number of timeseries: 1\u001b[0m\n",
      "\u001b[31m[06/19/2018 20:41:42 INFO 140219966605120] number of observations: 2182\u001b[0m\n",
      "\u001b[31m[06/19/2018 20:41:42 INFO 140219966605120] mean target length: 2182\u001b[0m\n",
      "\u001b[31m[06/19/2018 20:41:42 INFO 140219966605120] min/mean/max target: 0.0/436158.944088/2017685.125\u001b[0m\n",
      "\u001b[31m[06/19/2018 20:41:42 INFO 140219966605120] mean abs(target): 436158.944088\u001b[0m\n",
      "\u001b[31m[06/19/2018 20:41:42 INFO 140219966605120] Create Store: local\u001b[0m\n",
      "\u001b[31m#metrics {\"Metrics\": {\"get_graph.time\": {\"count\": 1, \"max\": 180.8760166168213, \"sum\": 180.8760166168213, \"min\": 180.8760166168213}}, \"EndTime\": 1529440902.766091, \"Dimensions\": {\"Host\": \"algo-1\", \"Operation\": \"training\", \"Algorithm\": \"AWS/DeepAR\"}, \"StartTime\": 1529440902.583208}\n",
      "\u001b[0m\n",
      "\u001b[31m[06/19/2018 20:41:42 INFO 140219966605120] Number of GPUs being used: 0\u001b[0m\n",
      "\u001b[31m#metrics {\"Metrics\": {\"initialize.time\": {\"count\": 1, \"max\": 441.44201278686523, \"sum\": 441.44201278686523, \"min\": 441.44201278686523}}, \"EndTime\": 1529440903.024749, \"Dimensions\": {\"Host\": \"algo-1\", \"Operation\": \"training\", \"Algorithm\": \"AWS/DeepAR\"}, \"StartTime\": 1529440902.766162}\n",
      "\u001b[0m\n",
      "\u001b[31m[06/19/2018 20:41:43 INFO 140219966605120] Using early stopping with patience 10\u001b[0m\n",
      "\u001b[31m[06/19/2018 20:41:43 INFO 140219966605120] Epoch[0] Batch[0] avg_epoch_loss=16.285309\u001b[0m\n",
      "\u001b[31m[06/19/2018 20:41:43 INFO 140219966605120] Epoch[0] Batch[5] avg_epoch_loss=15.381458\u001b[0m\n",
      "\u001b[31m[06/19/2018 20:41:43 INFO 140219966605120] Epoch[0] Batch [5]#011Speed: 304.08 samples/sec#011loss=15.381458\u001b[0m\n",
      "\u001b[31m[06/19/2018 20:41:44 INFO 140219966605120] processed a total of 308 examples\u001b[0m\n",
      "\u001b[31m#metrics {\"Metrics\": {\"epochs\": {\"count\": 1, \"max\": 50, \"sum\": 50.0, \"min\": 50}, \"update.time\": {\"count\": 1, \"max\": 1113.2681369781494, \"sum\": 1113.2681369781494, \"min\": 1113.2681369781494}}, \"EndTime\": 1529440904.15757, \"Dimensions\": {\"Host\": \"algo-1\", \"Operation\": \"training\", \"Algorithm\": \"AWS/DeepAR\"}, \"StartTime\": 1529440903.024826}\n",
      "\u001b[0m\n",
      "\u001b[31m[06/19/2018 20:41:44 INFO 140219966605120] #throughput_metric: host=algo-1, train throughput=276.634885258 records/second\u001b[0m\n",
      "\u001b[31m[06/19/2018 20:41:44 INFO 140219966605120] #progress_metric: host=algo-1, completed 2 % of epochs\u001b[0m\n",
      "\u001b[31m[06/19/2018 20:41:44 INFO 140219966605120] best epoch loss so far\u001b[0m\n",
      "\u001b[31m[06/19/2018 20:41:44 INFO 140219966605120] Saved checkpoint to \"/opt/ml/model/state_f0830569-aefd-4a51-a1c5-bf5117817be5-0000.params\"\u001b[0m\n",
      "\u001b[31m#metrics {\"Metrics\": {\"state.serialize.time\": {\"count\": 1, \"max\": 26.01003646850586, \"sum\": 26.01003646850586, \"min\": 26.01003646850586}}, \"EndTime\": 1529440904.184068, \"Dimensions\": {\"Host\": \"algo-1\", \"Operation\": \"training\", \"Algorithm\": \"AWS/DeepAR\"}, \"StartTime\": 1529440904.157645}\n",
      "\u001b[0m\n",
      "\u001b[31m[06/19/2018 20:41:44 INFO 140219966605120] Epoch[1] Batch[0] avg_epoch_loss=14.500108\u001b[0m\n",
      "\u001b[31m[06/19/2018 20:41:44 INFO 140219966605120] Epoch[1] Batch[5] avg_epoch_loss=14.338280\u001b[0m\n",
      "\u001b[31m[06/19/2018 20:41:44 INFO 140219966605120] Epoch[1] Batch [5]#011Speed: 349.57 samples/sec#011loss=14.338280\u001b[0m\n",
      "\u001b[31m[06/19/2018 20:41:45 INFO 140219966605120] processed a total of 314 examples\u001b[0m\n",
      "\u001b[31m#metrics {\"Metrics\": {\"update.time\": {\"count\": 1, \"max\": 915.0619506835938, \"sum\": 915.0619506835938, \"min\": 915.0619506835938}}, \"EndTime\": 1529440905.113216, \"Dimensions\": {\"Host\": \"algo-1\", \"Operation\": \"training\", \"Algorithm\": \"AWS/DeepAR\"}, \"StartTime\": 1529440904.184135}\n",
      "\u001b[0m\n",
      "\u001b[31m[06/19/2018 20:41:45 INFO 140219966605120] #throughput_metric: host=algo-1, train throughput=343.107546737 records/second\u001b[0m\n",
      "\u001b[31m[06/19/2018 20:41:45 INFO 140219966605120] #progress_metric: host=algo-1, completed 4 % of epochs\u001b[0m\n",
      "\u001b[31m[06/19/2018 20:41:45 INFO 140219966605120] best epoch loss so far\u001b[0m\n",
      "\u001b[31m[06/19/2018 20:41:45 INFO 140219966605120] Saved checkpoint to \"/opt/ml/model/state_9cf403e4-980d-49d5-a31b-6a8d8311c156-0000.params\"\u001b[0m\n",
      "\u001b[31m#metrics {\"Metrics\": {\"state.serialize.time\": {\"count\": 1, \"max\": 24.631977081298828, \"sum\": 24.631977081298828, \"min\": 24.631977081298828}}, \"EndTime\": 1529440905.138323, \"Dimensions\": {\"Host\": \"algo-1\", \"Operation\": \"training\", \"Algorithm\": \"AWS/DeepAR\"}, \"StartTime\": 1529440905.113283}\n",
      "\u001b[0m\n",
      "\u001b[31m[06/19/2018 20:41:45 INFO 140219966605120] Epoch[2] Batch[0] avg_epoch_loss=13.981711\u001b[0m\n",
      "\u001b[31m[06/19/2018 20:41:45 INFO 140219966605120] Epoch[2] Batch[5] avg_epoch_loss=14.057899\u001b[0m\n",
      "\u001b[31m[06/19/2018 20:41:45 INFO 140219966605120] Epoch[2] Batch [5]#011Speed: 325.79 samples/sec#011loss=14.057899\u001b[0m\n",
      "\u001b[31m[06/19/2018 20:41:46 INFO 140219966605120] processed a total of 302 examples\u001b[0m\n",
      "\u001b[31m#metrics {\"Metrics\": {\"update.time\": {\"count\": 1, \"max\": 945.4820156097412, \"sum\": 945.4820156097412, \"min\": 945.4820156097412}}, \"EndTime\": 1529440906.097147, \"Dimensions\": {\"Host\": \"algo-1\", \"Operation\": \"training\", \"Algorithm\": \"AWS/DeepAR\"}, \"StartTime\": 1529440905.138385}\n",
      "\u001b[0m\n",
      "\u001b[31m[06/19/2018 20:41:46 INFO 140219966605120] #throughput_metric: host=algo-1, train throughput=319.378279813 records/second\u001b[0m\n",
      "\u001b[31m[06/19/2018 20:41:46 INFO 140219966605120] #progress_metric: host=algo-1, completed 6 % of epochs\u001b[0m\n",
      "\u001b[31m[06/19/2018 20:41:46 INFO 140219966605120] best epoch loss so far\u001b[0m\n",
      "\u001b[31m[06/19/2018 20:41:46 INFO 140219966605120] Saved checkpoint to \"/opt/ml/model/state_6d52bbe1-5278-4252-946e-4a58fc1e501c-0000.params\"\u001b[0m\n",
      "\u001b[31m#metrics {\"Metrics\": {\"state.serialize.time\": {\"count\": 1, \"max\": 32.2721004486084, \"sum\": 32.2721004486084, \"min\": 32.2721004486084}}, \"EndTime\": 1529440906.129832, \"Dimensions\": {\"Host\": \"algo-1\", \"Operation\": \"training\", \"Algorithm\": \"AWS/DeepAR\"}, \"StartTime\": 1529440906.097217}\n",
      "\u001b[0m\n",
      "\u001b[31m[06/19/2018 20:41:46 INFO 140219966605120] Epoch[3] Batch[0] avg_epoch_loss=13.832198\u001b[0m\n",
      "\u001b[31m[06/19/2018 20:41:46 INFO 140219966605120] Epoch[3] Batch[5] avg_epoch_loss=13.986605\u001b[0m\n",
      "\u001b[31m[06/19/2018 20:41:46 INFO 140219966605120] Epoch[3] Batch [5]#011Speed: 347.32 samples/sec#011loss=13.986605\u001b[0m\n",
      "\u001b[31m[06/19/2018 20:41:47 INFO 140219966605120] processed a total of 300 examples\u001b[0m\n",
      "\u001b[31m#metrics {\"Metrics\": {\"update.time\": {\"count\": 1, \"max\": 916.7580604553223, \"sum\": 916.7580604553223, \"min\": 916.7580604553223}}, \"EndTime\": 1529440907.060585, \"Dimensions\": {\"Host\": \"algo-1\", \"Operation\": \"training\", \"Algorithm\": \"AWS/DeepAR\"}, \"StartTime\": 1529440906.129895}\n",
      "\u001b[0m\n",
      "\u001b[31m[06/19/2018 20:41:47 INFO 140219966605120] #throughput_metric: host=algo-1, train throughput=327.20444583 records/second\u001b[0m\n",
      "\u001b[31m[06/19/2018 20:41:47 INFO 140219966605120] #progress_metric: host=algo-1, completed 8 % of epochs\u001b[0m\n",
      "\u001b[31m[06/19/2018 20:41:47 INFO 140219966605120] best epoch loss so far\u001b[0m\n",
      "\u001b[31m[06/19/2018 20:41:47 INFO 140219966605120] Saved checkpoint to \"/opt/ml/model/state_90870a21-9e6e-4f40-a60b-a8d7b64af9ac-0000.params\"\u001b[0m\n",
      "\u001b[31m#metrics {\"Metrics\": {\"state.serialize.time\": {\"count\": 1, \"max\": 24.849891662597656, \"sum\": 24.849891662597656, \"min\": 24.849891662597656}}, \"EndTime\": 1529440907.085897, \"Dimensions\": {\"Host\": \"algo-1\", \"Operation\": \"training\", \"Algorithm\": \"AWS/DeepAR\"}, \"StartTime\": 1529440907.060653}\n",
      "\u001b[0m\n",
      "\u001b[31m[06/19/2018 20:41:47 INFO 140219966605120] Epoch[4] Batch[0] avg_epoch_loss=13.863015\u001b[0m\n",
      "\u001b[31m[06/19/2018 20:41:47 INFO 140219966605120] Epoch[4] Batch[5] avg_epoch_loss=13.951408\u001b[0m\n",
      "\u001b[31m[06/19/2018 20:41:47 INFO 140219966605120] Epoch[4] Batch [5]#011Speed: 336.89 samples/sec#011loss=13.951408\u001b[0m\n",
      "\u001b[31m[06/19/2018 20:41:48 INFO 140219966605120] Epoch[4] Batch[10] avg_epoch_loss=13.919743\u001b[0m\n",
      "\u001b[31m[06/19/2018 20:41:48 INFO 140219966605120] Epoch[4] Batch [10]#011Speed: 357.86 samples/sec#011loss=13.881745\u001b[0m\n",
      "\u001b[31m[06/19/2018 20:41:48 INFO 140219966605120] processed a total of 325 examples\u001b[0m\n",
      "\u001b[31m#metrics {\"Metrics\": {\"update.time\": {\"count\": 1, \"max\": 1000.0619888305664, \"sum\": 1000.0619888305664, \"min\": 1000.0619888305664}}, \"EndTime\": 1529440908.098517, \"Dimensions\": {\"Host\": \"algo-1\", \"Operation\": \"training\", \"Algorithm\": \"AWS/DeepAR\"}, \"StartTime\": 1529440907.08596}\n",
      "\u001b[0m\n",
      "\u001b[31m[06/19/2018 20:41:48 INFO 140219966605120] #throughput_metric: host=algo-1, train throughput=324.945381524 records/second\u001b[0m\n",
      "\u001b[31m[06/19/2018 20:41:48 INFO 140219966605120] #progress_metric: host=algo-1, completed 10 % of epochs\u001b[0m\n",
      "\u001b[31m[06/19/2018 20:41:48 INFO 140219966605120] best epoch loss so far\u001b[0m\n",
      "\u001b[31m[06/19/2018 20:41:48 INFO 140219966605120] Saved checkpoint to \"/opt/ml/model/state_6f79025d-88ed-4e51-a2d8-8bd2768baf00-0000.params\"\u001b[0m\n",
      "\u001b[31m#metrics {\"Metrics\": {\"state.serialize.time\": {\"count\": 1, \"max\": 24.708986282348633, \"sum\": 24.708986282348633, \"min\": 24.708986282348633}}, \"EndTime\": 1529440908.123761, \"Dimensions\": {\"Host\": \"algo-1\", \"Operation\": \"training\", \"Algorithm\": \"AWS/DeepAR\"}, \"StartTime\": 1529440908.098592}\n",
      "\u001b[0m\n",
      "\u001b[31m[06/19/2018 20:41:48 INFO 140219966605120] Epoch[5] Batch[0] avg_epoch_loss=13.776197\u001b[0m\n",
      "\u001b[31m[06/19/2018 20:41:48 INFO 140219966605120] Epoch[5] Batch[5] avg_epoch_loss=13.870963\u001b[0m\n",
      "\u001b[31m[06/19/2018 20:41:48 INFO 140219966605120] Epoch[5] Batch [5]#011Speed: 344.06 samples/sec#011loss=13.870963\u001b[0m\n",
      "\u001b[31m[06/19/2018 20:41:49 INFO 140219966605120] Epoch[5] Batch[10] avg_epoch_loss=13.853014\u001b[0m\n",
      "\u001b[31m[06/19/2018 20:41:49 INFO 140219966605120] Epoch[5] Batch [10]#011Speed: 361.95 samples/sec#011loss=13.831474\u001b[0m\n",
      "\u001b[31m[06/19/2018 20:41:49 INFO 140219966605120] processed a total of 334 examples\u001b[0m\n",
      "\u001b[31m#metrics {\"Metrics\": {\"update.time\": {\"count\": 1, \"max\": 985.6748580932617, \"sum\": 985.6748580932617, \"min\": 985.6748580932617}}, \"EndTime\": 1529440909.123355, \"Dimensions\": {\"Host\": \"algo-1\", \"Operation\": \"training\", \"Algorithm\": \"AWS/DeepAR\"}, \"StartTime\": 1529440908.123824}\n",
      "\u001b[0m\n",
      "\u001b[31m[06/19/2018 20:41:49 INFO 140219966605120] #throughput_metric: host=algo-1, train throughput=338.819712478 records/second\u001b[0m\n",
      "\u001b[31m[06/19/2018 20:41:49 INFO 140219966605120] #progress_metric: host=algo-1, completed 12 % of epochs\u001b[0m\n",
      "\u001b[31m[06/19/2018 20:41:49 INFO 140219966605120] best epoch loss so far\u001b[0m\n",
      "\u001b[31m[06/19/2018 20:41:49 INFO 140219966605120] Saved checkpoint to \"/opt/ml/model/state_47ce79d9-6a4b-48ad-9152-9e08e86ecb1f-0000.params\"\u001b[0m\n",
      "\u001b[31m#metrics {\"Metrics\": {\"state.serialize.time\": {\"count\": 1, \"max\": 24.92213249206543, \"sum\": 24.92213249206543, \"min\": 24.92213249206543}}, \"EndTime\": 1529440909.148737, \"Dimensions\": {\"Host\": \"algo-1\", \"Operation\": \"training\", \"Algorithm\": \"AWS/DeepAR\"}, \"StartTime\": 1529440909.123422}\n",
      "\u001b[0m\n",
      "\u001b[31m[06/19/2018 20:41:49 INFO 140219966605120] Epoch[6] Batch[0] avg_epoch_loss=13.817848\u001b[0m\n",
      "\u001b[31m[06/19/2018 20:41:49 INFO 140219966605120] Epoch[6] Batch[5] avg_epoch_loss=13.790943\u001b[0m\n",
      "\u001b[31m[06/19/2018 20:41:49 INFO 140219966605120] Epoch[6] Batch [5]#011Speed: 350.16 samples/sec#011loss=13.790943\u001b[0m\n",
      "\u001b[31m[06/19/2018 20:41:50 INFO 140219966605120] processed a total of 296 examples\u001b[0m\n",
      "\u001b[31m#metrics {\"Metrics\": {\"update.time\": {\"count\": 1, \"max\": 934.0999126434326, \"sum\": 934.0999126434326, \"min\": 934.0999126434326}}, \"EndTime\": 1529440910.096114, \"Dimensions\": {\"Host\": \"algo-1\", \"Operation\": \"training\", \"Algorithm\": \"AWS/DeepAR\"}, \"StartTime\": 1529440909.148802}\n",
      "\u001b[0m\n",
      "\u001b[31m[06/19/2018 20:41:50 INFO 140219966605120] #throughput_metric: host=algo-1, train throughput=316.846279095 records/second\u001b[0m\n",
      "\u001b[31m[06/19/2018 20:41:50 INFO 140219966605120] #progress_metric: host=algo-1, completed 14 % of epochs\u001b[0m\n",
      "\u001b[31m[06/19/2018 20:41:50 INFO 140219966605120] best epoch loss so far\u001b[0m\n",
      "\u001b[31m[06/19/2018 20:41:50 INFO 140219966605120] Saved checkpoint to \"/opt/ml/model/state_a95dc364-3c32-472c-aa2e-bc6b76dc69ba-0000.params\"\u001b[0m\n",
      "\u001b[31m#metrics {\"Metrics\": {\"state.serialize.time\": {\"count\": 1, \"max\": 25.504112243652344, \"sum\": 25.504112243652344, \"min\": 25.504112243652344}}, \"EndTime\": 1529440910.122217, \"Dimensions\": {\"Host\": \"algo-1\", \"Operation\": \"training\", \"Algorithm\": \"AWS/DeepAR\"}, \"StartTime\": 1529440910.096184}\n",
      "\u001b[0m\n",
      "\u001b[31m[06/19/2018 20:41:50 INFO 140219966605120] Epoch[7] Batch[0] avg_epoch_loss=13.666138\u001b[0m\n",
      "\u001b[31m[06/19/2018 20:41:50 INFO 140219966605120] Epoch[7] Batch[5] avg_epoch_loss=13.704264\u001b[0m\n",
      "\u001b[31m[06/19/2018 20:41:50 INFO 140219966605120] Epoch[7] Batch [5]#011Speed: 348.84 samples/sec#011loss=13.704264\u001b[0m\n",
      "\u001b[31m[06/19/2018 20:41:51 INFO 140219966605120] Epoch[7] Batch[10] avg_epoch_loss=13.688771\u001b[0m\n",
      "\u001b[31m[06/19/2018 20:41:51 INFO 140219966605120] Epoch[7] Batch [10]#011Speed: 364.61 samples/sec#011loss=13.670178\u001b[0m\n",
      "\u001b[31m[06/19/2018 20:41:51 INFO 140219966605120] processed a total of 324 examples\u001b[0m\n",
      "\u001b[31m#metrics {\"Metrics\": {\"update.time\": {\"count\": 1, \"max\": 987.034797668457, \"sum\": 987.034797668457, \"min\": 987.034797668457}}, \"EndTime\": 1529440911.121797, \"Dimensions\": {\"Host\": \"algo-1\", \"Operation\": \"training\", \"Algorithm\": \"AWS/DeepAR\"}, \"StartTime\": 1529440910.122283}\n",
      "\u001b[0m\n",
      "\u001b[31m[06/19/2018 20:41:51 INFO 140219966605120] #throughput_metric: host=algo-1, train throughput=328.220227448 records/second\u001b[0m\n",
      "\u001b[31m[06/19/2018 20:41:51 INFO 140219966605120] #progress_metric: host=algo-1, completed 16 % of epochs\u001b[0m\n",
      "\u001b[31m[06/19/2018 20:41:51 INFO 140219966605120] best epoch loss so far\u001b[0m\n",
      "\u001b[31m[06/19/2018 20:41:51 INFO 140219966605120] Saved checkpoint to \"/opt/ml/model/state_f2c4ab88-2cb8-45fd-a990-05b88c67a939-0000.params\"\u001b[0m\n",
      "\u001b[31m#metrics {\"Metrics\": {\"state.serialize.time\": {\"count\": 1, \"max\": 29.252052307128906, \"sum\": 29.252052307128906, \"min\": 29.252052307128906}}, \"EndTime\": 1529440911.15146, \"Dimensions\": {\"Host\": \"algo-1\", \"Operation\": \"training\", \"Algorithm\": \"AWS/DeepAR\"}, \"StartTime\": 1529440911.121871}\n",
      "\u001b[0m\n",
      "\u001b[31m[06/19/2018 20:41:51 INFO 140219966605120] Epoch[8] Batch[0] avg_epoch_loss=13.765390\u001b[0m\n",
      "\u001b[31m[06/19/2018 20:41:51 INFO 140219966605120] Epoch[8] Batch[5] avg_epoch_loss=13.678160\u001b[0m\n",
      "\u001b[31m[06/19/2018 20:41:51 INFO 140219966605120] Epoch[8] Batch [5]#011Speed: 366.16 samples/sec#011loss=13.678160\u001b[0m\n",
      "\u001b[31m[06/19/2018 20:41:52 INFO 140219966605120] Epoch[8] Batch[10] avg_epoch_loss=13.635865\u001b[0m\n",
      "\u001b[31m[06/19/2018 20:41:52 INFO 140219966605120] Epoch[8] Batch [10]#011Speed: 320.61 samples/sec#011loss=13.585111\u001b[0m\n",
      "\u001b[31m[06/19/2018 20:41:52 INFO 140219966605120] processed a total of 329 examples\u001b[0m\n",
      "\u001b[31m#metrics {\"Metrics\": {\"update.time\": {\"count\": 1, \"max\": 1037.9810333251953, \"sum\": 1037.9810333251953, \"min\": 1037.9810333251953}}, \"EndTime\": 1529440912.202142, \"Dimensions\": {\"Host\": \"algo-1\", \"Operation\": \"training\", \"Algorithm\": \"AWS/DeepAR\"}, \"StartTime\": 1529440911.151526}\n",
      "\u001b[0m\n",
      "\u001b[31m[06/19/2018 20:41:52 INFO 140219966605120] #throughput_metric: host=algo-1, train throughput=316.930973556 records/second\u001b[0m\n",
      "\u001b[31m[06/19/2018 20:41:52 INFO 140219966605120] #progress_metric: host=algo-1, completed 18 % of epochs\u001b[0m\n",
      "\u001b[31m[06/19/2018 20:41:52 INFO 140219966605120] best epoch loss so far\u001b[0m\n",
      "\u001b[31m[06/19/2018 20:41:52 INFO 140219966605120] Saved checkpoint to \"/opt/ml/model/state_585c778a-dac0-4404-b795-9c3a78528571-0000.params\"\u001b[0m\n",
      "\u001b[31m#metrics {\"Metrics\": {\"state.serialize.time\": {\"count\": 1, \"max\": 37.262916564941406, \"sum\": 37.262916564941406, \"min\": 37.262916564941406}}, \"EndTime\": 1529440912.239805, \"Dimensions\": {\"Host\": \"algo-1\", \"Operation\": \"training\", \"Algorithm\": \"AWS/DeepAR\"}, \"StartTime\": 1529440912.202209}\n",
      "\u001b[0m\n",
      "\u001b[31m[06/19/2018 20:41:52 INFO 140219966605120] Epoch[9] Batch[0] avg_epoch_loss=13.532613\u001b[0m\n",
      "\u001b[31m[06/19/2018 20:41:52 INFO 140219966605120] Epoch[9] Batch[5] avg_epoch_loss=13.550778\u001b[0m\n",
      "\u001b[31m[06/19/2018 20:41:52 INFO 140219966605120] Epoch[9] Batch [5]#011Speed: 321.74 samples/sec#011loss=13.550778\u001b[0m\n"
     ]
    },
    {
     "name": "stdout",
     "output_type": "stream",
     "text": [
      "\u001b[31m[06/19/2018 20:41:53 INFO 140219966605120] processed a total of 294 examples\u001b[0m\n",
      "\u001b[31m#metrics {\"Metrics\": {\"update.time\": {\"count\": 1, \"max\": 921.623945236206, \"sum\": 921.623945236206, \"min\": 921.623945236206}}, \"EndTime\": 1529440913.178251, \"Dimensions\": {\"Host\": \"algo-1\", \"Operation\": \"training\", \"Algorithm\": \"AWS/DeepAR\"}, \"StartTime\": 1529440912.239866}\n",
      "\u001b[0m\n",
      "\u001b[31m[06/19/2018 20:41:53 INFO 140219966605120] #throughput_metric: host=algo-1, train throughput=318.964749314 records/second\u001b[0m\n",
      "\u001b[31m[06/19/2018 20:41:53 INFO 140219966605120] #progress_metric: host=algo-1, completed 20 % of epochs\u001b[0m\n",
      "\u001b[31m[06/19/2018 20:41:53 INFO 140219966605120] best epoch loss so far\u001b[0m\n",
      "\u001b[31m[06/19/2018 20:41:53 INFO 140219966605120] Saved checkpoint to \"/opt/ml/model/state_4f8f3bec-5022-4338-8225-7af3d6d7dc4e-0000.params\"\u001b[0m\n",
      "\u001b[31m#metrics {\"Metrics\": {\"state.serialize.time\": {\"count\": 1, \"max\": 25.136947631835938, \"sum\": 25.136947631835938, \"min\": 25.136947631835938}}, \"EndTime\": 1529440913.203849, \"Dimensions\": {\"Host\": \"algo-1\", \"Operation\": \"training\", \"Algorithm\": \"AWS/DeepAR\"}, \"StartTime\": 1529440913.17832}\n",
      "\u001b[0m\n",
      "\u001b[31m[06/19/2018 20:41:53 INFO 140219966605120] Epoch[10] Batch[0] avg_epoch_loss=13.462871\u001b[0m\n",
      "\u001b[31m[06/19/2018 20:41:53 INFO 140219966605120] Epoch[10] Batch[5] avg_epoch_loss=13.565969\u001b[0m\n",
      "\u001b[31m[06/19/2018 20:41:53 INFO 140219966605120] Epoch[10] Batch [5]#011Speed: 321.98 samples/sec#011loss=13.565969\u001b[0m\n",
      "\u001b[31m[06/19/2018 20:41:54 INFO 140219966605120] processed a total of 305 examples\u001b[0m\n",
      "\u001b[31m#metrics {\"Metrics\": {\"update.time\": {\"count\": 1, \"max\": 962.5160694122314, \"sum\": 962.5160694122314, \"min\": 962.5160694122314}}, \"EndTime\": 1529440914.180189, \"Dimensions\": {\"Host\": \"algo-1\", \"Operation\": \"training\", \"Algorithm\": \"AWS/DeepAR\"}, \"StartTime\": 1529440913.203917}\n",
      "\u001b[0m\n",
      "\u001b[31m[06/19/2018 20:41:54 INFO 140219966605120] #throughput_metric: host=algo-1, train throughput=316.846275914 records/second\u001b[0m\n",
      "\u001b[31m[06/19/2018 20:41:54 INFO 140219966605120] #progress_metric: host=algo-1, completed 22 % of epochs\u001b[0m\n",
      "\u001b[31m[06/19/2018 20:41:54 INFO 140219966605120] best epoch loss so far\u001b[0m\n",
      "\u001b[31m[06/19/2018 20:41:54 INFO 140219966605120] Saved checkpoint to \"/opt/ml/model/state_11bb490e-71a2-4992-be8b-b02790464c0c-0000.params\"\u001b[0m\n",
      "\u001b[31m#metrics {\"Metrics\": {\"state.serialize.time\": {\"count\": 1, \"max\": 24.8868465423584, \"sum\": 24.8868465423584, \"min\": 24.8868465423584}}, \"EndTime\": 1529440914.205505, \"Dimensions\": {\"Host\": \"algo-1\", \"Operation\": \"training\", \"Algorithm\": \"AWS/DeepAR\"}, \"StartTime\": 1529440914.180255}\n",
      "\u001b[0m\n",
      "\u001b[31m[06/19/2018 20:41:54 INFO 140219966605120] Epoch[11] Batch[0] avg_epoch_loss=13.466241\u001b[0m\n",
      "\u001b[31m[06/19/2018 20:41:54 INFO 140219966605120] Epoch[11] Batch[5] avg_epoch_loss=13.509698\u001b[0m\n",
      "\u001b[31m[06/19/2018 20:41:54 INFO 140219966605120] Epoch[11] Batch [5]#011Speed: 352.18 samples/sec#011loss=13.509698\u001b[0m\n",
      "\u001b[31m[06/19/2018 20:41:55 INFO 140219966605120] processed a total of 293 examples\u001b[0m\n",
      "\u001b[31m#metrics {\"Metrics\": {\"update.time\": {\"count\": 1, \"max\": 897.4781036376953, \"sum\": 897.4781036376953, \"min\": 897.4781036376953}}, \"EndTime\": 1529440915.116671, \"Dimensions\": {\"Host\": \"algo-1\", \"Operation\": \"training\", \"Algorithm\": \"AWS/DeepAR\"}, \"StartTime\": 1529440914.205566}\n",
      "\u001b[0m\n",
      "\u001b[31m[06/19/2018 20:41:55 INFO 140219966605120] #throughput_metric: host=algo-1, train throughput=326.435152636 records/second\u001b[0m\n",
      "\u001b[31m[06/19/2018 20:41:55 INFO 140219966605120] #progress_metric: host=algo-1, completed 24 % of epochs\u001b[0m\n",
      "\u001b[31m[06/19/2018 20:41:55 INFO 140219966605120] best epoch loss so far\u001b[0m\n",
      "\u001b[31m[06/19/2018 20:41:55 INFO 140219966605120] Saved checkpoint to \"/opt/ml/model/state_fbf44b37-5384-4f2e-8459-8808ad429f82-0000.params\"\u001b[0m\n",
      "\u001b[31m#metrics {\"Metrics\": {\"state.serialize.time\": {\"count\": 1, \"max\": 25.363922119140625, \"sum\": 25.363922119140625, \"min\": 25.363922119140625}}, \"EndTime\": 1529440915.142602, \"Dimensions\": {\"Host\": \"algo-1\", \"Operation\": \"training\", \"Algorithm\": \"AWS/DeepAR\"}, \"StartTime\": 1529440915.116737}\n",
      "\u001b[0m\n",
      "\u001b[31m[06/19/2018 20:41:55 INFO 140219966605120] Epoch[12] Batch[0] avg_epoch_loss=13.422970\u001b[0m\n",
      "\u001b[31m[06/19/2018 20:41:55 INFO 140219966605120] Epoch[12] Batch[5] avg_epoch_loss=13.397468\u001b[0m\n",
      "\u001b[31m[06/19/2018 20:41:55 INFO 140219966605120] Epoch[12] Batch [5]#011Speed: 368.03 samples/sec#011loss=13.397468\u001b[0m\n",
      "\u001b[31m[06/19/2018 20:41:56 INFO 140219966605120] Epoch[12] Batch[10] avg_epoch_loss=13.377541\u001b[0m\n",
      "\u001b[31m[06/19/2018 20:41:56 INFO 140219966605120] Epoch[12] Batch [10]#011Speed: 341.32 samples/sec#011loss=13.353629\u001b[0m\n",
      "\u001b[31m[06/19/2018 20:41:56 INFO 140219966605120] processed a total of 332 examples\u001b[0m\n",
      "\u001b[31m#metrics {\"Metrics\": {\"update.time\": {\"count\": 1, \"max\": 995.3618049621582, \"sum\": 995.3618049621582, \"min\": 995.3618049621582}}, \"EndTime\": 1529440916.152523, \"Dimensions\": {\"Host\": \"algo-1\", \"Operation\": \"training\", \"Algorithm\": \"AWS/DeepAR\"}, \"StartTime\": 1529440915.142661}\n",
      "\u001b[0m\n",
      "\u001b[31m[06/19/2018 20:41:56 INFO 140219966605120] #throughput_metric: host=algo-1, train throughput=333.512785134 records/second\u001b[0m\n",
      "\u001b[31m[06/19/2018 20:41:56 INFO 140219966605120] #progress_metric: host=algo-1, completed 26 % of epochs\u001b[0m\n",
      "\u001b[31m[06/19/2018 20:41:56 INFO 140219966605120] best epoch loss so far\u001b[0m\n",
      "\u001b[31m[06/19/2018 20:41:56 INFO 140219966605120] Saved checkpoint to \"/opt/ml/model/state_6d9974ae-4693-4031-b098-b34373f763e2-0000.params\"\u001b[0m\n",
      "\u001b[31m#metrics {\"Metrics\": {\"state.serialize.time\": {\"count\": 1, \"max\": 37.27412223815918, \"sum\": 37.27412223815918, \"min\": 37.27412223815918}}, \"EndTime\": 1529440916.190191, \"Dimensions\": {\"Host\": \"algo-1\", \"Operation\": \"training\", \"Algorithm\": \"AWS/DeepAR\"}, \"StartTime\": 1529440916.152591}\n",
      "\u001b[0m\n",
      "\u001b[31m[06/19/2018 20:41:56 INFO 140219966605120] Epoch[13] Batch[0] avg_epoch_loss=13.278357\u001b[0m\n",
      "\u001b[31m[06/19/2018 20:41:56 INFO 140219966605120] Epoch[13] Batch[5] avg_epoch_loss=13.299964\u001b[0m\n",
      "\u001b[31m[06/19/2018 20:41:56 INFO 140219966605120] Epoch[13] Batch [5]#011Speed: 336.59 samples/sec#011loss=13.299964\u001b[0m\n",
      "\u001b[31m[06/19/2018 20:41:57 INFO 140219966605120] Epoch[13] Batch[10] avg_epoch_loss=13.302054\u001b[0m\n",
      "\u001b[31m[06/19/2018 20:41:57 INFO 140219966605120] Epoch[13] Batch [10]#011Speed: 340.40 samples/sec#011loss=13.304563\u001b[0m\n",
      "\u001b[31m[06/19/2018 20:41:57 INFO 140219966605120] processed a total of 335 examples\u001b[0m\n",
      "\u001b[31m#metrics {\"Metrics\": {\"update.time\": {\"count\": 1, \"max\": 1024.2700576782227, \"sum\": 1024.2700576782227, \"min\": 1024.2700576782227}}, \"EndTime\": 1529440917.231441, \"Dimensions\": {\"Host\": \"algo-1\", \"Operation\": \"training\", \"Algorithm\": \"AWS/DeepAR\"}, \"StartTime\": 1529440916.19025}\n",
      "\u001b[0m\n",
      "\u001b[31m[06/19/2018 20:41:57 INFO 140219966605120] #throughput_metric: host=algo-1, train throughput=327.024882523 records/second\u001b[0m\n",
      "\u001b[31m[06/19/2018 20:41:57 INFO 140219966605120] #progress_metric: host=algo-1, completed 28 % of epochs\u001b[0m\n",
      "\u001b[31m[06/19/2018 20:41:57 INFO 140219966605120] best epoch loss so far\u001b[0m\n",
      "\u001b[31m[06/19/2018 20:41:57 INFO 140219966605120] Saved checkpoint to \"/opt/ml/model/state_469f7023-7c44-4f84-a32f-93c185254c56-0000.params\"\u001b[0m\n",
      "\u001b[31m#metrics {\"Metrics\": {\"state.serialize.time\": {\"count\": 1, \"max\": 24.993896484375, \"sum\": 24.993896484375, \"min\": 24.993896484375}}, \"EndTime\": 1529440917.256909, \"Dimensions\": {\"Host\": \"algo-1\", \"Operation\": \"training\", \"Algorithm\": \"AWS/DeepAR\"}, \"StartTime\": 1529440917.23152}\n",
      "\u001b[0m\n",
      "\u001b[31m[06/19/2018 20:41:57 INFO 140219966605120] Epoch[14] Batch[0] avg_epoch_loss=13.204073\u001b[0m\n",
      "\u001b[31m[06/19/2018 20:41:57 INFO 140219966605120] Epoch[14] Batch[5] avg_epoch_loss=13.255203\u001b[0m\n",
      "\u001b[31m[06/19/2018 20:41:57 INFO 140219966605120] Epoch[14] Batch [5]#011Speed: 353.73 samples/sec#011loss=13.255203\u001b[0m\n",
      "\u001b[31m[06/19/2018 20:41:58 INFO 140219966605120] processed a total of 312 examples\u001b[0m\n",
      "\u001b[31m#metrics {\"Metrics\": {\"update.time\": {\"count\": 1, \"max\": 919.7940826416016, \"sum\": 919.7940826416016, \"min\": 919.7940826416016}}, \"EndTime\": 1529440918.189116, \"Dimensions\": {\"Host\": \"algo-1\", \"Operation\": \"training\", \"Algorithm\": \"AWS/DeepAR\"}, \"StartTime\": 1529440917.256959}\n",
      "\u001b[0m\n",
      "\u001b[31m[06/19/2018 20:41:58 INFO 140219966605120] #throughput_metric: host=algo-1, train throughput=339.167674355 records/second\u001b[0m\n",
      "\u001b[31m[06/19/2018 20:41:58 INFO 140219966605120] #progress_metric: host=algo-1, completed 30 % of epochs\u001b[0m\n",
      "\u001b[31m[06/19/2018 20:41:58 INFO 140219966605120] best epoch loss so far\u001b[0m\n",
      "\u001b[31m[06/19/2018 20:41:58 INFO 140219966605120] Saved checkpoint to \"/opt/ml/model/state_99b72e8f-f4fa-4f9b-a0c2-09cf5ce7f7e2-0000.params\"\u001b[0m\n",
      "\u001b[31m#metrics {\"Metrics\": {\"state.serialize.time\": {\"count\": 1, \"max\": 37.46485710144043, \"sum\": 37.46485710144043, \"min\": 37.46485710144043}}, \"EndTime\": 1529440918.226984, \"Dimensions\": {\"Host\": \"algo-1\", \"Operation\": \"training\", \"Algorithm\": \"AWS/DeepAR\"}, \"StartTime\": 1529440918.189188}\n",
      "\u001b[0m\n",
      "\u001b[31m[06/19/2018 20:41:58 INFO 140219966605120] Epoch[15] Batch[0] avg_epoch_loss=13.152024\u001b[0m\n",
      "\u001b[31m[06/19/2018 20:41:58 INFO 140219966605120] Epoch[15] Batch[5] avg_epoch_loss=13.200211\u001b[0m\n",
      "\u001b[31m[06/19/2018 20:41:58 INFO 140219966605120] Epoch[15] Batch [5]#011Speed: 331.81 samples/sec#011loss=13.200211\u001b[0m\n",
      "\u001b[31m[06/19/2018 20:41:59 INFO 140219966605120] processed a total of 290 examples\u001b[0m\n",
      "\u001b[31m#metrics {\"Metrics\": {\"update.time\": {\"count\": 1, \"max\": 909.1498851776123, \"sum\": 909.1498851776123, \"min\": 909.1498851776123}}, \"EndTime\": 1529440919.153401, \"Dimensions\": {\"Host\": \"algo-1\", \"Operation\": \"training\", \"Algorithm\": \"AWS/DeepAR\"}, \"StartTime\": 1529440918.227049}\n",
      "\u001b[0m\n",
      "\u001b[31m[06/19/2018 20:41:59 INFO 140219966605120] #throughput_metric: host=algo-1, train throughput=318.945264625 records/second\u001b[0m\n",
      "\u001b[31m[06/19/2018 20:41:59 INFO 140219966605120] #progress_metric: host=algo-1, completed 32 % of epochs\u001b[0m\n",
      "\u001b[31m[06/19/2018 20:41:59 INFO 140219966605120] best epoch loss so far\u001b[0m\n",
      "\u001b[31m[06/19/2018 20:41:59 INFO 140219966605120] Saved checkpoint to \"/opt/ml/model/state_ef09ad65-72ef-4e78-b672-56136ae8f971-0000.params\"\u001b[0m\n",
      "\u001b[31m#metrics {\"Metrics\": {\"state.serialize.time\": {\"count\": 1, \"max\": 24.996042251586914, \"sum\": 24.996042251586914, \"min\": 24.996042251586914}}, \"EndTime\": 1529440919.178836, \"Dimensions\": {\"Host\": \"algo-1\", \"Operation\": \"training\", \"Algorithm\": \"AWS/DeepAR\"}, \"StartTime\": 1529440919.153467}\n",
      "\u001b[0m\n",
      "\u001b[31m[06/19/2018 20:41:59 INFO 140219966605120] Epoch[16] Batch[0] avg_epoch_loss=13.254222\u001b[0m\n",
      "\u001b[31m[06/19/2018 20:41:59 INFO 140219966605120] Epoch[16] Batch[5] avg_epoch_loss=13.192196\u001b[0m\n",
      "\u001b[31m[06/19/2018 20:41:59 INFO 140219966605120] Epoch[16] Batch [5]#011Speed: 351.72 samples/sec#011loss=13.192196\u001b[0m\n",
      "\u001b[31m[06/19/2018 20:42:00 INFO 140219966605120] Epoch[16] Batch[10] avg_epoch_loss=13.148524\u001b[0m\n",
      "\u001b[31m[06/19/2018 20:42:00 INFO 140219966605120] Epoch[16] Batch [10]#011Speed: 345.83 samples/sec#011loss=13.096118\u001b[0m\n",
      "\u001b[31m[06/19/2018 20:42:00 INFO 140219966605120] processed a total of 330 examples\u001b[0m\n",
      "\u001b[31m#metrics {\"Metrics\": {\"update.time\": {\"count\": 1, \"max\": 1008.0060958862305, \"sum\": 1008.0060958862305, \"min\": 1008.0060958862305}}, \"EndTime\": 1529440920.199983, \"Dimensions\": {\"Host\": \"algo-1\", \"Operation\": \"training\", \"Algorithm\": \"AWS/DeepAR\"}, \"StartTime\": 1529440919.178894}\n",
      "\u001b[0m\n",
      "\u001b[31m[06/19/2018 20:42:00 INFO 140219966605120] #throughput_metric: host=algo-1, train throughput=327.337396158 records/second\u001b[0m\n",
      "\u001b[31m[06/19/2018 20:42:00 INFO 140219966605120] #progress_metric: host=algo-1, completed 34 % of epochs\u001b[0m\n",
      "\u001b[31m[06/19/2018 20:42:00 INFO 140219966605120] best epoch loss so far\u001b[0m\n",
      "\u001b[31m[06/19/2018 20:42:00 INFO 140219966605120] Saved checkpoint to \"/opt/ml/model/state_a32b5029-e4b9-4712-b529-a03f63013590-0000.params\"\u001b[0m\n",
      "\u001b[31m#metrics {\"Metrics\": {\"state.serialize.time\": {\"count\": 1, \"max\": 27.911901473999023, \"sum\": 27.911901473999023, \"min\": 27.911901473999023}}, \"EndTime\": 1529440920.22835, \"Dimensions\": {\"Host\": \"algo-1\", \"Operation\": \"training\", \"Algorithm\": \"AWS/DeepAR\"}, \"StartTime\": 1529440920.200056}\n",
      "\u001b[0m\n",
      "\u001b[31m[06/19/2018 20:42:00 INFO 140219966605120] Epoch[17] Batch[0] avg_epoch_loss=13.057733\u001b[0m\n",
      "\u001b[31m[06/19/2018 20:42:00 INFO 140219966605120] Epoch[17] Batch[5] avg_epoch_loss=13.174553\u001b[0m\n",
      "\u001b[31m[06/19/2018 20:42:00 INFO 140219966605120] Epoch[17] Batch [5]#011Speed: 356.64 samples/sec#011loss=13.174553\u001b[0m\n",
      "\u001b[31m[06/19/2018 20:42:01 INFO 140219966605120] Epoch[17] Batch[10] avg_epoch_loss=13.139577\u001b[0m\n",
      "\u001b[31m[06/19/2018 20:42:01 INFO 140219966605120] Epoch[17] Batch [10]#011Speed: 354.54 samples/sec#011loss=13.097607\u001b[0m\n",
      "\u001b[31m[06/19/2018 20:42:01 INFO 140219966605120] processed a total of 331 examples\u001b[0m\n",
      "\u001b[31m#metrics {\"Metrics\": {\"update.time\": {\"count\": 1, \"max\": 1000.8149147033691, \"sum\": 1000.8149147033691, \"min\": 1000.8149147033691}}, \"EndTime\": 1529440921.244476, \"Dimensions\": {\"Host\": \"algo-1\", \"Operation\": \"training\", \"Algorithm\": \"AWS/DeepAR\"}, \"StartTime\": 1529440920.228447}\n",
      "\u001b[0m\n",
      "\u001b[31m[06/19/2018 20:42:01 INFO 140219966605120] #throughput_metric: host=algo-1, train throughput=330.67990865 records/second\u001b[0m\n",
      "\u001b[31m[06/19/2018 20:42:01 INFO 140219966605120] #progress_metric: host=algo-1, completed 36 % of epochs\u001b[0m\n",
      "\u001b[31m[06/19/2018 20:42:01 INFO 140219966605120] best epoch loss so far\u001b[0m\n",
      "\u001b[31m[06/19/2018 20:42:01 INFO 140219966605120] Saved checkpoint to \"/opt/ml/model/state_ac2bb6f6-b101-48f5-9714-b280c6fd79d5-0000.params\"\u001b[0m\n",
      "\u001b[31m#metrics {\"Metrics\": {\"state.serialize.time\": {\"count\": 1, \"max\": 37.299156188964844, \"sum\": 37.299156188964844, \"min\": 37.299156188964844}}, \"EndTime\": 1529440921.28245, \"Dimensions\": {\"Host\": \"algo-1\", \"Operation\": \"training\", \"Algorithm\": \"AWS/DeepAR\"}, \"StartTime\": 1529440921.244595}\n",
      "\u001b[0m\n",
      "\u001b[31m[06/19/2018 20:42:01 INFO 140219966605120] Epoch[18] Batch[0] avg_epoch_loss=13.082928\u001b[0m\n",
      "\u001b[31m[06/19/2018 20:42:01 INFO 140219966605120] Epoch[18] Batch[5] avg_epoch_loss=13.050779\u001b[0m\n",
      "\u001b[31m[06/19/2018 20:42:01 INFO 140219966605120] Epoch[18] Batch [5]#011Speed: 356.67 samples/sec#011loss=13.050779\u001b[0m\n",
      "\u001b[31m[06/19/2018 20:42:02 INFO 140219966605120] Epoch[18] Batch[10] avg_epoch_loss=13.026460\u001b[0m\n",
      "\u001b[31m[06/19/2018 20:42:02 INFO 140219966605120] Epoch[18] Batch [10]#011Speed: 340.72 samples/sec#011loss=12.997277\u001b[0m\n",
      "\u001b[31m[06/19/2018 20:42:02 INFO 140219966605120] processed a total of 336 examples\u001b[0m\n",
      "\u001b[31m#metrics {\"Metrics\": {\"update.time\": {\"count\": 1, \"max\": 1014.7120952606201, \"sum\": 1014.7120952606201, \"min\": 1014.7120952606201}}, \"EndTime\": 1529440922.316087, \"Dimensions\": {\"Host\": \"algo-1\", \"Operation\": \"training\", \"Algorithm\": \"AWS/DeepAR\"}, \"StartTime\": 1529440921.282514}\n",
      "\u001b[0m\n",
      "\u001b[31m[06/19/2018 20:42:02 INFO 140219966605120] #throughput_metric: host=algo-1, train throughput=331.07465451 records/second\u001b[0m\n",
      "\u001b[31m[06/19/2018 20:42:02 INFO 140219966605120] #progress_metric: host=algo-1, completed 38 % of epochs\u001b[0m\n",
      "\u001b[31m[06/19/2018 20:42:02 INFO 140219966605120] best epoch loss so far\u001b[0m\n",
      "\u001b[31m[06/19/2018 20:42:02 INFO 140219966605120] Saved checkpoint to \"/opt/ml/model/state_5150391c-f56f-4c32-a0bc-d62f8f3e4e93-0000.params\"\u001b[0m\n",
      "\u001b[31m#metrics {\"Metrics\": {\"state.serialize.time\": {\"count\": 1, \"max\": 41.5349006652832, \"sum\": 41.5349006652832, \"min\": 41.5349006652832}}, \"EndTime\": 1529440922.35837, \"Dimensions\": {\"Host\": \"algo-1\", \"Operation\": \"training\", \"Algorithm\": \"AWS/DeepAR\"}, \"StartTime\": 1529440922.316166}\n",
      "\u001b[0m\n",
      "\u001b[31m[06/19/2018 20:42:02 INFO 140219966605120] Epoch[19] Batch[0] avg_epoch_loss=13.130398\u001b[0m\n",
      "\u001b[31m[06/19/2018 20:42:02 INFO 140219966605120] Epoch[19] Batch[5] avg_epoch_loss=13.030824\u001b[0m\n",
      "\u001b[31m[06/19/2018 20:42:02 INFO 140219966605120] Epoch[19] Batch [5]#011Speed: 350.29 samples/sec#011loss=13.030824\u001b[0m\n"
     ]
    },
    {
     "name": "stdout",
     "output_type": "stream",
     "text": [
      "\u001b[31m[06/19/2018 20:42:03 INFO 140219966605120] processed a total of 320 examples\u001b[0m\n",
      "\u001b[31m#metrics {\"Metrics\": {\"update.time\": {\"count\": 1, \"max\": 912.8530025482178, \"sum\": 912.8530025482178, \"min\": 912.8530025482178}}, \"EndTime\": 1529440923.291653, \"Dimensions\": {\"Host\": \"algo-1\", \"Operation\": \"training\", \"Algorithm\": \"AWS/DeepAR\"}, \"StartTime\": 1529440922.358437}\n",
      "\u001b[0m\n",
      "\u001b[31m[06/19/2018 20:42:03 INFO 140219966605120] #throughput_metric: host=algo-1, train throughput=350.507484514 records/second\u001b[0m\n",
      "\u001b[31m[06/19/2018 20:42:03 INFO 140219966605120] #progress_metric: host=algo-1, completed 40 % of epochs\u001b[0m\n",
      "\u001b[31m[06/19/2018 20:42:03 INFO 140219966605120] loss did not improve for 1 epochs\u001b[0m\n",
      "\u001b[31m[06/19/2018 20:42:03 INFO 140219966605120] Epoch[20] Batch[0] avg_epoch_loss=12.839293\u001b[0m\n",
      "\u001b[31m[06/19/2018 20:42:03 INFO 140219966605120] Epoch[20] Batch[5] avg_epoch_loss=12.945405\u001b[0m\n",
      "\u001b[31m[06/19/2018 20:42:03 INFO 140219966605120] Epoch[20] Batch [5]#011Speed: 350.65 samples/sec#011loss=12.945405\u001b[0m\n",
      "\u001b[31m[06/19/2018 20:42:04 INFO 140219966605120] Epoch[20] Batch[10] avg_epoch_loss=12.982824\u001b[0m\n",
      "\u001b[31m[06/19/2018 20:42:04 INFO 140219966605120] Epoch[20] Batch [10]#011Speed: 377.85 samples/sec#011loss=13.027728\u001b[0m\n",
      "\u001b[31m[06/19/2018 20:42:04 INFO 140219966605120] processed a total of 324 examples\u001b[0m\n",
      "\u001b[31m#metrics {\"Metrics\": {\"update.time\": {\"count\": 1, \"max\": 967.911958694458, \"sum\": 967.911958694458, \"min\": 967.911958694458}}, \"EndTime\": 1529440924.272847, \"Dimensions\": {\"Host\": \"algo-1\", \"Operation\": \"training\", \"Algorithm\": \"AWS/DeepAR\"}, \"StartTime\": 1529440923.291723}\n",
      "\u001b[0m\n",
      "\u001b[31m[06/19/2018 20:42:04 INFO 140219966605120] #throughput_metric: host=algo-1, train throughput=334.70178058 records/second\u001b[0m\n",
      "\u001b[31m[06/19/2018 20:42:04 INFO 140219966605120] #progress_metric: host=algo-1, completed 42 % of epochs\u001b[0m\n",
      "\u001b[31m[06/19/2018 20:42:04 INFO 140219966605120] best epoch loss so far\u001b[0m\n",
      "\u001b[31m[06/19/2018 20:42:04 INFO 140219966605120] Saved checkpoint to \"/opt/ml/model/state_7e09ba8d-75b2-404f-92e4-7f228513ac98-0000.params\"\u001b[0m\n",
      "\u001b[31m#metrics {\"Metrics\": {\"state.serialize.time\": {\"count\": 1, \"max\": 24.528980255126953, \"sum\": 24.528980255126953, \"min\": 24.528980255126953}}, \"EndTime\": 1529440924.297839, \"Dimensions\": {\"Host\": \"algo-1\", \"Operation\": \"training\", \"Algorithm\": \"AWS/DeepAR\"}, \"StartTime\": 1529440924.272922}\n",
      "\u001b[0m\n",
      "\u001b[31m[06/19/2018 20:42:04 INFO 140219966605120] Epoch[21] Batch[0] avg_epoch_loss=12.852903\u001b[0m\n",
      "\u001b[31m[06/19/2018 20:42:04 INFO 140219966605120] Epoch[21] Batch[5] avg_epoch_loss=12.960099\u001b[0m\n",
      "\u001b[31m[06/19/2018 20:42:04 INFO 140219966605120] Epoch[21] Batch [5]#011Speed: 342.08 samples/sec#011loss=12.960099\u001b[0m\n",
      "\u001b[31m[06/19/2018 20:42:05 INFO 140219966605120] processed a total of 294 examples\u001b[0m\n",
      "\u001b[31m#metrics {\"Metrics\": {\"update.time\": {\"count\": 1, \"max\": 921.3149547576904, \"sum\": 921.3149547576904, \"min\": 921.3149547576904}}, \"EndTime\": 1529440925.232451, \"Dimensions\": {\"Host\": \"algo-1\", \"Operation\": \"training\", \"Algorithm\": \"AWS/DeepAR\"}, \"StartTime\": 1529440924.297899}\n",
      "\u001b[0m\n",
      "\u001b[31m[06/19/2018 20:42:05 INFO 140219966605120] #throughput_metric: host=algo-1, train throughput=319.072371608 records/second\u001b[0m\n",
      "\u001b[31m[06/19/2018 20:42:05 INFO 140219966605120] #progress_metric: host=algo-1, completed 44 % of epochs\u001b[0m\n",
      "\u001b[31m[06/19/2018 20:42:05 INFO 140219966605120] loss did not improve for 1 epochs\u001b[0m\n",
      "\u001b[31m[06/19/2018 20:42:05 INFO 140219966605120] Epoch[22] Batch[0] avg_epoch_loss=12.976348\u001b[0m\n",
      "\u001b[31m[06/19/2018 20:42:05 INFO 140219966605120] Epoch[22] Batch[5] avg_epoch_loss=12.968178\u001b[0m\n",
      "\u001b[31m[06/19/2018 20:42:05 INFO 140219966605120] Epoch[22] Batch [5]#011Speed: 351.63 samples/sec#011loss=12.968178\u001b[0m\n",
      "\u001b[31m[06/19/2018 20:42:06 INFO 140219966605120] processed a total of 299 examples\u001b[0m\n",
      "\u001b[31m#metrics {\"Metrics\": {\"update.time\": {\"count\": 1, \"max\": 890.8698558807373, \"sum\": 890.8698558807373, \"min\": 890.8698558807373}}, \"EndTime\": 1529440926.136297, \"Dimensions\": {\"Host\": \"algo-1\", \"Operation\": \"training\", \"Algorithm\": \"AWS/DeepAR\"}, \"StartTime\": 1529440925.232519}\n",
      "\u001b[0m\n",
      "\u001b[31m[06/19/2018 20:42:06 INFO 140219966605120] #throughput_metric: host=algo-1, train throughput=335.586700448 records/second\u001b[0m\n",
      "\u001b[31m[06/19/2018 20:42:06 INFO 140219966605120] #progress_metric: host=algo-1, completed 46 % of epochs\u001b[0m\n",
      "\u001b[31m[06/19/2018 20:42:06 INFO 140219966605120] best epoch loss so far\u001b[0m\n",
      "\u001b[31m[06/19/2018 20:42:06 INFO 140219966605120] Saved checkpoint to \"/opt/ml/model/state_42233855-1bd6-472a-881a-7606051145bc-0000.params\"\u001b[0m\n",
      "\u001b[31m#metrics {\"Metrics\": {\"state.serialize.time\": {\"count\": 1, \"max\": 25.112152099609375, \"sum\": 25.112152099609375, \"min\": 25.112152099609375}}, \"EndTime\": 1529440926.161879, \"Dimensions\": {\"Host\": \"algo-1\", \"Operation\": \"training\", \"Algorithm\": \"AWS/DeepAR\"}, \"StartTime\": 1529440926.136368}\n",
      "\u001b[0m\n",
      "\u001b[31m[06/19/2018 20:42:06 INFO 140219966605120] Epoch[23] Batch[0] avg_epoch_loss=12.845923\u001b[0m\n",
      "\u001b[31m[06/19/2018 20:42:06 INFO 140219966605120] Epoch[23] Batch[5] avg_epoch_loss=12.965902\u001b[0m\n",
      "\u001b[31m[06/19/2018 20:42:06 INFO 140219966605120] Epoch[23] Batch [5]#011Speed: 316.92 samples/sec#011loss=12.965902\u001b[0m\n",
      "\u001b[31m[06/19/2018 20:42:07 INFO 140219966605120] processed a total of 314 examples\u001b[0m\n",
      "\u001b[31m#metrics {\"Metrics\": {\"update.time\": {\"count\": 1, \"max\": 951.7920017242432, \"sum\": 951.7920017242432, \"min\": 951.7920017242432}}, \"EndTime\": 1529440927.127028, \"Dimensions\": {\"Host\": \"algo-1\", \"Operation\": \"training\", \"Algorithm\": \"AWS/DeepAR\"}, \"StartTime\": 1529440926.161944}\n",
      "\u001b[0m\n",
      "\u001b[31m[06/19/2018 20:42:07 INFO 140219966605120] #throughput_metric: host=algo-1, train throughput=329.86831581 records/second\u001b[0m\n",
      "\u001b[31m[06/19/2018 20:42:07 INFO 140219966605120] #progress_metric: host=algo-1, completed 48 % of epochs\u001b[0m\n",
      "\u001b[31m[06/19/2018 20:42:07 INFO 140219966605120] loss did not improve for 1 epochs\u001b[0m\n",
      "\u001b[31m[06/19/2018 20:42:07 INFO 140219966605120] Epoch[24] Batch[0] avg_epoch_loss=12.829190\u001b[0m\n",
      "\u001b[31m[06/19/2018 20:42:07 INFO 140219966605120] Epoch[24] Batch[5] avg_epoch_loss=12.938090\u001b[0m\n",
      "\u001b[31m[06/19/2018 20:42:07 INFO 140219966605120] Epoch[24] Batch [5]#011Speed: 343.26 samples/sec#011loss=12.938090\u001b[0m\n",
      "\u001b[31m[06/19/2018 20:42:08 INFO 140219966605120] processed a total of 306 examples\u001b[0m\n",
      "\u001b[31m#metrics {\"Metrics\": {\"update.time\": {\"count\": 1, \"max\": 910.3221893310547, \"sum\": 910.3221893310547, \"min\": 910.3221893310547}}, \"EndTime\": 1529440928.05138, \"Dimensions\": {\"Host\": \"algo-1\", \"Operation\": \"training\", \"Algorithm\": \"AWS/DeepAR\"}, \"StartTime\": 1529440927.127095}\n",
      "\u001b[0m\n",
      "\u001b[31m[06/19/2018 20:42:08 INFO 140219966605120] #throughput_metric: host=algo-1, train throughput=336.105638384 records/second\u001b[0m\n",
      "\u001b[31m[06/19/2018 20:42:08 INFO 140219966605120] #progress_metric: host=algo-1, completed 50 % of epochs\u001b[0m\n",
      "\u001b[31m[06/19/2018 20:42:08 INFO 140219966605120] best epoch loss so far\u001b[0m\n",
      "\u001b[31m[06/19/2018 20:42:08 INFO 140219966605120] Saved checkpoint to \"/opt/ml/model/state_e184c863-5823-421e-a8b1-ac98a7674672-0000.params\"\u001b[0m\n",
      "\u001b[31m#metrics {\"Metrics\": {\"state.serialize.time\": {\"count\": 1, \"max\": 31.41498565673828, \"sum\": 31.41498565673828, \"min\": 31.41498565673828}}, \"EndTime\": 1529440928.083234, \"Dimensions\": {\"Host\": \"algo-1\", \"Operation\": \"training\", \"Algorithm\": \"AWS/DeepAR\"}, \"StartTime\": 1529440928.051451}\n",
      "\u001b[0m\n",
      "\u001b[31m[06/19/2018 20:42:08 INFO 140219966605120] Epoch[25] Batch[0] avg_epoch_loss=12.762666\u001b[0m\n",
      "\u001b[31m[06/19/2018 20:42:08 INFO 140219966605120] Epoch[25] Batch[5] avg_epoch_loss=12.867597\u001b[0m\n",
      "\u001b[31m[06/19/2018 20:42:08 INFO 140219966605120] Epoch[25] Batch [5]#011Speed: 339.95 samples/sec#011loss=12.867597\u001b[0m\n",
      "\u001b[31m[06/19/2018 20:42:09 INFO 140219966605120] processed a total of 296 examples\u001b[0m\n",
      "\u001b[31m#metrics {\"Metrics\": {\"update.time\": {\"count\": 1, \"max\": 907.9399108886719, \"sum\": 907.9399108886719, \"min\": 907.9399108886719}}, \"EndTime\": 1529440929.004479, \"Dimensions\": {\"Host\": \"algo-1\", \"Operation\": \"training\", \"Algorithm\": \"AWS/DeepAR\"}, \"StartTime\": 1529440928.083385}\n",
      "\u001b[0m\n",
      "\u001b[31m[06/19/2018 20:42:09 INFO 140219966605120] #throughput_metric: host=algo-1, train throughput=325.967483436 records/second\u001b[0m\n",
      "\u001b[31m[06/19/2018 20:42:09 INFO 140219966605120] #progress_metric: host=algo-1, completed 52 % of epochs\u001b[0m\n",
      "\u001b[31m[06/19/2018 20:42:09 INFO 140219966605120] loss did not improve for 1 epochs\u001b[0m\n",
      "\u001b[31m[06/19/2018 20:42:09 INFO 140219966605120] Epoch[26] Batch[0] avg_epoch_loss=12.887142\u001b[0m\n",
      "\u001b[31m[06/19/2018 20:42:09 INFO 140219966605120] Epoch[26] Batch[5] avg_epoch_loss=12.919854\u001b[0m\n",
      "\u001b[31m[06/19/2018 20:42:09 INFO 140219966605120] Epoch[26] Batch [5]#011Speed: 354.16 samples/sec#011loss=12.919854\u001b[0m\n",
      "\u001b[31m[06/19/2018 20:42:09 INFO 140219966605120] processed a total of 313 examples\u001b[0m\n",
      "\u001b[31m#metrics {\"Metrics\": {\"update.time\": {\"count\": 1, \"max\": 888.2761001586914, \"sum\": 888.2761001586914, \"min\": 888.2761001586914}}, \"EndTime\": 1529440929.905737, \"Dimensions\": {\"Host\": \"algo-1\", \"Operation\": \"training\", \"Algorithm\": \"AWS/DeepAR\"}, \"StartTime\": 1529440929.004541}\n",
      "\u001b[0m\n",
      "\u001b[31m[06/19/2018 20:42:09 INFO 140219966605120] #throughput_metric: host=algo-1, train throughput=352.325835951 records/second\u001b[0m\n",
      "\u001b[31m[06/19/2018 20:42:09 INFO 140219966605120] #progress_metric: host=algo-1, completed 54 % of epochs\u001b[0m\n",
      "\u001b[31m[06/19/2018 20:42:09 INFO 140219966605120] loss did not improve for 2 epochs\u001b[0m\n",
      "\u001b[31m[06/19/2018 20:42:09 INFO 140219966605120] Epoch[27] Batch[0] avg_epoch_loss=12.832723\u001b[0m\n",
      "\u001b[31m[06/19/2018 20:42:10 INFO 140219966605120] Epoch[27] Batch[5] avg_epoch_loss=12.931800\u001b[0m\n",
      "\u001b[31m[06/19/2018 20:42:10 INFO 140219966605120] Epoch[27] Batch [5]#011Speed: 359.14 samples/sec#011loss=12.931800\u001b[0m\n",
      "\u001b[31m[06/19/2018 20:42:10 INFO 140219966605120] processed a total of 304 examples\u001b[0m\n",
      "\u001b[31m#metrics {\"Metrics\": {\"update.time\": {\"count\": 1, \"max\": 898.4990119934082, \"sum\": 898.4990119934082, \"min\": 898.4990119934082}}, \"EndTime\": 1529440930.817826, \"Dimensions\": {\"Host\": \"algo-1\", \"Operation\": \"training\", \"Algorithm\": \"AWS/DeepAR\"}, \"StartTime\": 1529440929.905805}\n",
      "\u001b[0m\n",
      "\u001b[31m[06/19/2018 20:42:10 INFO 140219966605120] #throughput_metric: host=algo-1, train throughput=338.29160392 records/second\u001b[0m\n",
      "\u001b[31m[06/19/2018 20:42:10 INFO 140219966605120] #progress_metric: host=algo-1, completed 56 % of epochs\u001b[0m\n",
      "\u001b[31m[06/19/2018 20:42:10 INFO 140219966605120] loss did not improve for 3 epochs\u001b[0m\n",
      "\u001b[31m[06/19/2018 20:42:10 INFO 140219966605120] Epoch[28] Batch[0] avg_epoch_loss=12.741957\u001b[0m\n",
      "\u001b[31m[06/19/2018 20:42:11 INFO 140219966605120] Epoch[28] Batch[5] avg_epoch_loss=12.815595\u001b[0m\n",
      "\u001b[31m[06/19/2018 20:42:11 INFO 140219966605120] Epoch[28] Batch [5]#011Speed: 362.54 samples/sec#011loss=12.815595\u001b[0m\n",
      "\u001b[31m[06/19/2018 20:42:11 INFO 140219966605120] Epoch[28] Batch[10] avg_epoch_loss=12.844404\u001b[0m\n",
      "\u001b[31m[06/19/2018 20:42:11 INFO 140219966605120] Epoch[28] Batch [10]#011Speed: 350.15 samples/sec#011loss=12.878975\u001b[0m\n",
      "\u001b[31m[06/19/2018 20:42:11 INFO 140219966605120] processed a total of 331 examples\u001b[0m\n",
      "\u001b[31m#metrics {\"Metrics\": {\"update.time\": {\"count\": 1, \"max\": 992.1009540557861, \"sum\": 992.1009540557861, \"min\": 992.1009540557861}}, \"EndTime\": 1529440931.825799, \"Dimensions\": {\"Host\": \"algo-1\", \"Operation\": \"training\", \"Algorithm\": \"AWS/DeepAR\"}, \"StartTime\": 1529440930.817907}\n",
      "\u001b[0m\n",
      "\u001b[31m[06/19/2018 20:42:11 INFO 140219966605120] #throughput_metric: host=algo-1, train throughput=333.600126682 records/second\u001b[0m\n",
      "\u001b[31m[06/19/2018 20:42:11 INFO 140219966605120] #progress_metric: host=algo-1, completed 58 % of epochs\u001b[0m\n",
      "\u001b[31m[06/19/2018 20:42:11 INFO 140219966605120] best epoch loss so far\u001b[0m\n",
      "\u001b[31m[06/19/2018 20:42:11 INFO 140219966605120] Saved checkpoint to \"/opt/ml/model/state_7a13aff1-373e-4a1a-b1fb-49ca39c0b9b5-0000.params\"\u001b[0m\n",
      "\u001b[31m#metrics {\"Metrics\": {\"state.serialize.time\": {\"count\": 1, \"max\": 25.310993194580078, \"sum\": 25.310993194580078, \"min\": 25.310993194580078}}, \"EndTime\": 1529440931.851608, \"Dimensions\": {\"Host\": \"algo-1\", \"Operation\": \"training\", \"Algorithm\": \"AWS/DeepAR\"}, \"StartTime\": 1529440931.825869}\n",
      "\u001b[0m\n",
      "\u001b[31m[06/19/2018 20:42:11 INFO 140219966605120] Epoch[29] Batch[0] avg_epoch_loss=13.011771\u001b[0m\n",
      "\u001b[31m[06/19/2018 20:42:12 INFO 140219966605120] Epoch[29] Batch[5] avg_epoch_loss=12.850853\u001b[0m\n",
      "\u001b[31m[06/19/2018 20:42:12 INFO 140219966605120] Epoch[29] Batch [5]#011Speed: 335.12 samples/sec#011loss=12.850853\u001b[0m\n",
      "\u001b[31m[06/19/2018 20:42:12 INFO 140219966605120] processed a total of 277 examples\u001b[0m\n",
      "\u001b[31m#metrics {\"Metrics\": {\"update.time\": {\"count\": 1, \"max\": 826.6210556030273, \"sum\": 826.6210556030273, \"min\": 826.6210556030273}}, \"EndTime\": 1529440932.69329, \"Dimensions\": {\"Host\": \"algo-1\", \"Operation\": \"training\", \"Algorithm\": \"AWS/DeepAR\"}, \"StartTime\": 1529440931.851685}\n",
      "\u001b[0m\n",
      "\u001b[31m[06/19/2018 20:42:12 INFO 140219966605120] #throughput_metric: host=algo-1, train throughput=335.058642217 records/second\u001b[0m\n",
      "\u001b[31m[06/19/2018 20:42:12 INFO 140219966605120] #progress_metric: host=algo-1, completed 60 % of epochs\u001b[0m\n",
      "\u001b[31m[06/19/2018 20:42:12 INFO 140219966605120] best epoch loss so far\u001b[0m\n",
      "\u001b[31m[06/19/2018 20:42:12 INFO 140219966605120] Saved checkpoint to \"/opt/ml/model/state_f4627753-b40d-41b1-9aa9-975b096030e8-0000.params\"\u001b[0m\n",
      "\u001b[31m#metrics {\"Metrics\": {\"state.serialize.time\": {\"count\": 1, \"max\": 24.739980697631836, \"sum\": 24.739980697631836, \"min\": 24.739980697631836}}, \"EndTime\": 1529440932.71852, \"Dimensions\": {\"Host\": \"algo-1\", \"Operation\": \"training\", \"Algorithm\": \"AWS/DeepAR\"}, \"StartTime\": 1529440932.693357}\n",
      "\u001b[0m\n",
      "\u001b[31m[06/19/2018 20:42:12 INFO 140219966605120] Epoch[30] Batch[0] avg_epoch_loss=12.731257\u001b[0m\n"
     ]
    },
    {
     "name": "stdout",
     "output_type": "stream",
     "text": [
      "\u001b[31m[06/19/2018 20:42:13 INFO 140219966605120] Epoch[30] Batch[5] avg_epoch_loss=12.760989\u001b[0m\n",
      "\u001b[31m[06/19/2018 20:42:13 INFO 140219966605120] Epoch[30] Batch [5]#011Speed: 350.89 samples/sec#011loss=12.760989\u001b[0m\n",
      "\u001b[31m[06/19/2018 20:42:13 INFO 140219966605120] processed a total of 310 examples\u001b[0m\n",
      "\u001b[31m#metrics {\"Metrics\": {\"update.time\": {\"count\": 1, \"max\": 909.3120098114014, \"sum\": 909.3120098114014, \"min\": 909.3120098114014}}, \"EndTime\": 1529440933.641177, \"Dimensions\": {\"Host\": \"algo-1\", \"Operation\": \"training\", \"Algorithm\": \"AWS/DeepAR\"}, \"StartTime\": 1529440932.71857}\n",
      "\u001b[0m\n",
      "\u001b[31m[06/19/2018 20:42:13 INFO 140219966605120] #throughput_metric: host=algo-1, train throughput=340.862657096 records/second\u001b[0m\n",
      "\u001b[31m[06/19/2018 20:42:13 INFO 140219966605120] #progress_metric: host=algo-1, completed 62 % of epochs\u001b[0m\n",
      "\u001b[31m[06/19/2018 20:42:13 INFO 140219966605120] best epoch loss so far\u001b[0m\n",
      "\u001b[31m[06/19/2018 20:42:13 INFO 140219966605120] Saved checkpoint to \"/opt/ml/model/state_ad6489a7-6413-4147-9bf0-a551cca8a80a-0000.params\"\u001b[0m\n",
      "\u001b[31m#metrics {\"Metrics\": {\"state.serialize.time\": {\"count\": 1, \"max\": 23.712158203125, \"sum\": 23.712158203125, \"min\": 23.712158203125}}, \"EndTime\": 1529440933.66538, \"Dimensions\": {\"Host\": \"algo-1\", \"Operation\": \"training\", \"Algorithm\": \"AWS/DeepAR\"}, \"StartTime\": 1529440933.641286}\n",
      "\u001b[0m\n",
      "\u001b[31m[06/19/2018 20:42:13 INFO 140219966605120] Epoch[31] Batch[0] avg_epoch_loss=12.771528\u001b[0m\n",
      "\u001b[31m[06/19/2018 20:42:14 INFO 140219966605120] Epoch[31] Batch[5] avg_epoch_loss=12.863813\u001b[0m\n",
      "\u001b[31m[06/19/2018 20:42:14 INFO 140219966605120] Epoch[31] Batch [5]#011Speed: 333.18 samples/sec#011loss=12.863813\u001b[0m\n",
      "\u001b[31m[06/19/2018 20:42:14 INFO 140219966605120] processed a total of 299 examples\u001b[0m\n",
      "\u001b[31m#metrics {\"Metrics\": {\"update.time\": {\"count\": 1, \"max\": 907.1879386901855, \"sum\": 907.1879386901855, \"min\": 907.1879386901855}}, \"EndTime\": 1529440934.586223, \"Dimensions\": {\"Host\": \"algo-1\", \"Operation\": \"training\", \"Algorithm\": \"AWS/DeepAR\"}, \"StartTime\": 1529440933.665448}\n",
      "\u001b[0m\n",
      "\u001b[31m[06/19/2018 20:42:14 INFO 140219966605120] #throughput_metric: host=algo-1, train throughput=329.553197181 records/second\u001b[0m\n",
      "\u001b[31m[06/19/2018 20:42:14 INFO 140219966605120] #progress_metric: host=algo-1, completed 64 % of epochs\u001b[0m\n",
      "\u001b[31m[06/19/2018 20:42:14 INFO 140219966605120] loss did not improve for 1 epochs\u001b[0m\n",
      "\u001b[31m[06/19/2018 20:42:14 INFO 140219966605120] Epoch[32] Batch[0] avg_epoch_loss=12.917056\u001b[0m\n",
      "\u001b[31m[06/19/2018 20:42:15 INFO 140219966605120] Epoch[32] Batch[5] avg_epoch_loss=12.797015\u001b[0m\n",
      "\u001b[31m[06/19/2018 20:42:15 INFO 140219966605120] Epoch[32] Batch [5]#011Speed: 325.19 samples/sec#011loss=12.797015\u001b[0m\n",
      "\u001b[31m[06/19/2018 20:42:15 INFO 140219966605120] Epoch[32] Batch[10] avg_epoch_loss=12.809725\u001b[0m\n",
      "\u001b[31m[06/19/2018 20:42:15 INFO 140219966605120] Epoch[32] Batch [10]#011Speed: 366.97 samples/sec#011loss=12.824976\u001b[0m\n",
      "\u001b[31m[06/19/2018 20:42:15 INFO 140219966605120] processed a total of 323 examples\u001b[0m\n",
      "\u001b[31m#metrics {\"Metrics\": {\"update.time\": {\"count\": 1, \"max\": 1006.5970420837402, \"sum\": 1006.5970420837402, \"min\": 1006.5970420837402}}, \"EndTime\": 1529440935.605653, \"Dimensions\": {\"Host\": \"algo-1\", \"Operation\": \"training\", \"Algorithm\": \"AWS/DeepAR\"}, \"StartTime\": 1529440934.586287}\n",
      "\u001b[0m\n",
      "\u001b[31m[06/19/2018 20:42:15 INFO 140219966605120] #throughput_metric: host=algo-1, train throughput=320.848390891 records/second\u001b[0m\n",
      "\u001b[31m[06/19/2018 20:42:15 INFO 140219966605120] #progress_metric: host=algo-1, completed 66 % of epochs\u001b[0m\n",
      "\u001b[31m[06/19/2018 20:42:15 INFO 140219966605120] loss did not improve for 2 epochs\u001b[0m\n",
      "\u001b[31m[06/19/2018 20:42:15 INFO 140219966605120] Epoch[33] Batch[0] avg_epoch_loss=12.889262\u001b[0m\n",
      "\u001b[31m[06/19/2018 20:42:16 INFO 140219966605120] Epoch[33] Batch[5] avg_epoch_loss=12.811265\u001b[0m\n",
      "\u001b[31m[06/19/2018 20:42:16 INFO 140219966605120] Epoch[33] Batch [5]#011Speed: 361.77 samples/sec#011loss=12.811265\u001b[0m\n",
      "\u001b[31m[06/19/2018 20:42:16 INFO 140219966605120] Epoch[33] Batch[10] avg_epoch_loss=12.833502\u001b[0m\n",
      "\u001b[31m[06/19/2018 20:42:16 INFO 140219966605120] Epoch[33] Batch [10]#011Speed: 365.28 samples/sec#011loss=12.860186\u001b[0m\n",
      "\u001b[31m[06/19/2018 20:42:16 INFO 140219966605120] processed a total of 346 examples\u001b[0m\n",
      "\u001b[31m#metrics {\"Metrics\": {\"update.time\": {\"count\": 1, \"max\": 976.7370223999023, \"sum\": 976.7370223999023, \"min\": 976.7370223999023}}, \"EndTime\": 1529440936.596703, \"Dimensions\": {\"Host\": \"algo-1\", \"Operation\": \"training\", \"Algorithm\": \"AWS/DeepAR\"}, \"StartTime\": 1529440935.605728}\n",
      "\u001b[0m\n",
      "\u001b[31m[06/19/2018 20:42:16 INFO 140219966605120] #throughput_metric: host=algo-1, train throughput=354.20377486 records/second\u001b[0m\n",
      "\u001b[31m[06/19/2018 20:42:16 INFO 140219966605120] #progress_metric: host=algo-1, completed 68 % of epochs\u001b[0m\n",
      "\u001b[31m[06/19/2018 20:42:16 INFO 140219966605120] loss did not improve for 3 epochs\u001b[0m\n",
      "\u001b[31m[06/19/2018 20:42:16 INFO 140219966605120] Epoch[34] Batch[0] avg_epoch_loss=12.856684\u001b[0m\n",
      "\u001b[31m[06/19/2018 20:42:17 INFO 140219966605120] Epoch[34] Batch[5] avg_epoch_loss=12.756603\u001b[0m\n",
      "\u001b[31m[06/19/2018 20:42:17 INFO 140219966605120] Epoch[34] Batch [5]#011Speed: 318.92 samples/sec#011loss=12.756603\u001b[0m\n",
      "\u001b[31m[06/19/2018 20:42:17 INFO 140219966605120] processed a total of 302 examples\u001b[0m\n",
      "\u001b[31m#metrics {\"Metrics\": {\"update.time\": {\"count\": 1, \"max\": 949.3958950042725, \"sum\": 949.3958950042725, \"min\": 949.3958950042725}}, \"EndTime\": 1529440937.559748, \"Dimensions\": {\"Host\": \"algo-1\", \"Operation\": \"training\", \"Algorithm\": \"AWS/DeepAR\"}, \"StartTime\": 1529440936.596768}\n",
      "\u001b[0m\n",
      "\u001b[31m[06/19/2018 20:42:17 INFO 140219966605120] #throughput_metric: host=algo-1, train throughput=318.061790395 records/second\u001b[0m\n",
      "\u001b[31m[06/19/2018 20:42:17 INFO 140219966605120] #progress_metric: host=algo-1, completed 70 % of epochs\u001b[0m\n",
      "\u001b[31m[06/19/2018 20:42:17 INFO 140219966605120] loss did not improve for 4 epochs\u001b[0m\n",
      "\u001b[31m[06/19/2018 20:42:17 INFO 140219966605120] Epoch[35] Batch[0] avg_epoch_loss=12.744816\u001b[0m\n",
      "\u001b[31m[06/19/2018 20:42:18 INFO 140219966605120] Epoch[35] Batch[5] avg_epoch_loss=12.713908\u001b[0m\n",
      "\u001b[31m[06/19/2018 20:42:18 INFO 140219966605120] Epoch[35] Batch [5]#011Speed: 350.86 samples/sec#011loss=12.713908\u001b[0m\n",
      "\u001b[31m[06/19/2018 20:42:18 INFO 140219966605120] processed a total of 313 examples\u001b[0m\n",
      "\u001b[31m#metrics {\"Metrics\": {\"update.time\": {\"count\": 1, \"max\": 894.0110206604004, \"sum\": 894.0110206604004, \"min\": 894.0110206604004}}, \"EndTime\": 1529440938.467195, \"Dimensions\": {\"Host\": \"algo-1\", \"Operation\": \"training\", \"Algorithm\": \"AWS/DeepAR\"}, \"StartTime\": 1529440937.559819}\n",
      "\u001b[0m\n",
      "\u001b[31m[06/19/2018 20:42:18 INFO 140219966605120] #throughput_metric: host=algo-1, train throughput=350.063663397 records/second\u001b[0m\n",
      "\u001b[31m[06/19/2018 20:42:18 INFO 140219966605120] #progress_metric: host=algo-1, completed 72 % of epochs\u001b[0m\n",
      "\u001b[31m[06/19/2018 20:42:18 INFO 140219966605120] best epoch loss so far\u001b[0m\n",
      "\u001b[31m[06/19/2018 20:42:18 INFO 140219966605120] Saved checkpoint to \"/opt/ml/model/state_4192c95d-37c6-42e6-9bd2-0a1e5964671f-0000.params\"\u001b[0m\n",
      "\u001b[31m#metrics {\"Metrics\": {\"state.serialize.time\": {\"count\": 1, \"max\": 24.805784225463867, \"sum\": 24.805784225463867, \"min\": 24.805784225463867}}, \"EndTime\": 1529440938.492463, \"Dimensions\": {\"Host\": \"algo-1\", \"Operation\": \"training\", \"Algorithm\": \"AWS/DeepAR\"}, \"StartTime\": 1529440938.467272}\n",
      "\u001b[0m\n",
      "\u001b[31m[06/19/2018 20:42:18 INFO 140219966605120] Epoch[36] Batch[0] avg_epoch_loss=12.550431\u001b[0m\n",
      "\u001b[31m[06/19/2018 20:42:19 INFO 140219966605120] Epoch[36] Batch[5] avg_epoch_loss=12.712850\u001b[0m\n",
      "\u001b[31m[06/19/2018 20:42:19 INFO 140219966605120] Epoch[36] Batch [5]#011Speed: 344.08 samples/sec#011loss=12.712850\u001b[0m\n",
      "\u001b[31m[06/19/2018 20:42:19 INFO 140219966605120] Epoch[36] Batch[10] avg_epoch_loss=12.729207\u001b[0m\n",
      "\u001b[31m[06/19/2018 20:42:19 INFO 140219966605120] Epoch[36] Batch [10]#011Speed: 343.76 samples/sec#011loss=12.748835\u001b[0m\n",
      "\u001b[31m[06/19/2018 20:42:19 INFO 140219966605120] processed a total of 331 examples\u001b[0m\n",
      "\u001b[31m#metrics {\"Metrics\": {\"update.time\": {\"count\": 1, \"max\": 1008.275032043457, \"sum\": 1008.275032043457, \"min\": 1008.275032043457}}, \"EndTime\": 1529440939.513901, \"Dimensions\": {\"Host\": \"algo-1\", \"Operation\": \"training\", \"Algorithm\": \"AWS/DeepAR\"}, \"StartTime\": 1529440938.492519}\n",
      "\u001b[0m\n",
      "\u001b[31m[06/19/2018 20:42:19 INFO 140219966605120] #throughput_metric: host=algo-1, train throughput=328.248593379 records/second\u001b[0m\n",
      "\u001b[31m[06/19/2018 20:42:19 INFO 140219966605120] #progress_metric: host=algo-1, completed 74 % of epochs\u001b[0m\n",
      "\u001b[31m[06/19/2018 20:42:19 INFO 140219966605120] best epoch loss so far\u001b[0m\n",
      "\u001b[31m[06/19/2018 20:42:19 INFO 140219966605120] Saved checkpoint to \"/opt/ml/model/state_84d95273-4561-4532-b26e-ccdbec97a780-0000.params\"\u001b[0m\n",
      "\u001b[31m#metrics {\"Metrics\": {\"state.serialize.time\": {\"count\": 1, \"max\": 24.821043014526367, \"sum\": 24.821043014526367, \"min\": 24.821043014526367}}, \"EndTime\": 1529440939.539205, \"Dimensions\": {\"Host\": \"algo-1\", \"Operation\": \"training\", \"Algorithm\": \"AWS/DeepAR\"}, \"StartTime\": 1529440939.513973}\n",
      "\u001b[0m\n",
      "\u001b[31m[06/19/2018 20:42:19 INFO 140219966605120] Epoch[37] Batch[0] avg_epoch_loss=12.966980\u001b[0m\n",
      "\u001b[31m[06/19/2018 20:42:20 INFO 140219966605120] Epoch[37] Batch[5] avg_epoch_loss=12.781204\u001b[0m\n",
      "\u001b[31m[06/19/2018 20:42:20 INFO 140219966605120] Epoch[37] Batch [5]#011Speed: 350.68 samples/sec#011loss=12.781204\u001b[0m\n",
      "\u001b[31m[06/19/2018 20:42:20 INFO 140219966605120] Epoch[37] Batch[10] avg_epoch_loss=12.760603\u001b[0m\n",
      "\u001b[31m[06/19/2018 20:42:20 INFO 140219966605120] Epoch[37] Batch [10]#011Speed: 359.04 samples/sec#011loss=12.735881\u001b[0m\n",
      "\u001b[31m[06/19/2018 20:42:20 INFO 140219966605120] processed a total of 331 examples\u001b[0m\n",
      "\u001b[31m#metrics {\"Metrics\": {\"update.time\": {\"count\": 1, \"max\": 980.0910949707031, \"sum\": 980.0910949707031, \"min\": 980.0910949707031}}, \"EndTime\": 1529440940.532612, \"Dimensions\": {\"Host\": \"algo-1\", \"Operation\": \"training\", \"Algorithm\": \"AWS/DeepAR\"}, \"StartTime\": 1529440939.53929}\n",
      "\u001b[0m\n",
      "\u001b[31m[06/19/2018 20:42:20 INFO 140219966605120] #throughput_metric: host=algo-1, train throughput=337.687236272 records/second\u001b[0m\n",
      "\u001b[31m[06/19/2018 20:42:20 INFO 140219966605120] #progress_metric: host=algo-1, completed 76 % of epochs\u001b[0m\n",
      "\u001b[31m[06/19/2018 20:42:20 INFO 140219966605120] loss did not improve for 1 epochs\u001b[0m\n",
      "\u001b[31m[06/19/2018 20:42:20 INFO 140219966605120] Epoch[38] Batch[0] avg_epoch_loss=12.720675\u001b[0m\n",
      "\u001b[31m[06/19/2018 20:42:21 INFO 140219966605120] Epoch[38] Batch[5] avg_epoch_loss=12.720748\u001b[0m\n",
      "\u001b[31m[06/19/2018 20:42:21 INFO 140219966605120] Epoch[38] Batch [5]#011Speed: 359.03 samples/sec#011loss=12.720748\u001b[0m\n",
      "\u001b[31m[06/19/2018 20:42:21 INFO 140219966605120] Epoch[38] Batch[10] avg_epoch_loss=12.752577\u001b[0m\n",
      "\u001b[31m[06/19/2018 20:42:21 INFO 140219966605120] Epoch[38] Batch [10]#011Speed: 350.31 samples/sec#011loss=12.790772\u001b[0m\n",
      "\u001b[31m[06/19/2018 20:42:21 INFO 140219966605120] processed a total of 327 examples\u001b[0m\n",
      "\u001b[31m#metrics {\"Metrics\": {\"update.time\": {\"count\": 1, \"max\": 994.6799278259277, \"sum\": 994.6799278259277, \"min\": 994.6799278259277}}, \"EndTime\": 1529440941.541313, \"Dimensions\": {\"Host\": \"algo-1\", \"Operation\": \"training\", \"Algorithm\": \"AWS/DeepAR\"}, \"StartTime\": 1529440940.532684}\n",
      "\u001b[0m\n",
      "\u001b[31m[06/19/2018 20:42:21 INFO 140219966605120] #throughput_metric: host=algo-1, train throughput=328.713591259 records/second\u001b[0m\n",
      "\u001b[31m[06/19/2018 20:42:21 INFO 140219966605120] #progress_metric: host=algo-1, completed 78 % of epochs\u001b[0m\n",
      "\u001b[31m[06/19/2018 20:42:21 INFO 140219966605120] loss did not improve for 2 epochs\u001b[0m\n",
      "\u001b[31m[06/19/2018 20:42:21 INFO 140219966605120] Epoch[39] Batch[0] avg_epoch_loss=12.653661\u001b[0m\n",
      "\u001b[31m[06/19/2018 20:42:22 INFO 140219966605120] Epoch[39] Batch[5] avg_epoch_loss=12.701430\u001b[0m\n",
      "\u001b[31m[06/19/2018 20:42:22 INFO 140219966605120] Epoch[39] Batch [5]#011Speed: 347.74 samples/sec#011loss=12.701430\u001b[0m\n",
      "\u001b[31m[06/19/2018 20:42:22 INFO 140219966605120] Epoch[39] Batch[10] avg_epoch_loss=12.732215\u001b[0m\n",
      "\u001b[31m[06/19/2018 20:42:22 INFO 140219966605120] Epoch[39] Batch [10]#011Speed: 348.89 samples/sec#011loss=12.769157\u001b[0m\n",
      "\u001b[31m[06/19/2018 20:42:22 INFO 140219966605120] processed a total of 341 examples\u001b[0m\n",
      "\u001b[31m#metrics {\"Metrics\": {\"update.time\": {\"count\": 1, \"max\": 997.4298477172852, \"sum\": 997.4298477172852, \"min\": 997.4298477172852}}, \"EndTime\": 1529440942.552834, \"Dimensions\": {\"Host\": \"algo-1\", \"Operation\": \"training\", \"Algorithm\": \"AWS/DeepAR\"}, \"StartTime\": 1529440941.541384}\n",
      "\u001b[0m\n",
      "\u001b[31m[06/19/2018 20:42:22 INFO 140219966605120] #throughput_metric: host=algo-1, train throughput=341.833413239 records/second\u001b[0m\n",
      "\u001b[31m[06/19/2018 20:42:22 INFO 140219966605120] #progress_metric: host=algo-1, completed 80 % of epochs\u001b[0m\n",
      "\u001b[31m[06/19/2018 20:42:22 INFO 140219966605120] loss did not improve for 3 epochs\u001b[0m\n",
      "\u001b[31m[06/19/2018 20:42:22 INFO 140219966605120] Epoch[40] Batch[0] avg_epoch_loss=12.654653\u001b[0m\n"
     ]
    },
    {
     "name": "stdout",
     "output_type": "stream",
     "text": [
      "\u001b[31m[06/19/2018 20:42:23 INFO 140219966605120] Epoch[40] Batch[5] avg_epoch_loss=12.703548\u001b[0m\n",
      "\u001b[31m[06/19/2018 20:42:23 INFO 140219966605120] Epoch[40] Batch [5]#011Speed: 351.27 samples/sec#011loss=12.703548\u001b[0m\n",
      "\u001b[31m[06/19/2018 20:42:23 INFO 140219966605120] Epoch[40] Batch[10] avg_epoch_loss=12.698941\u001b[0m\n",
      "\u001b[31m[06/19/2018 20:42:23 INFO 140219966605120] Epoch[40] Batch [10]#011Speed: 337.12 samples/sec#011loss=12.693414\u001b[0m\n",
      "\u001b[31m[06/19/2018 20:42:23 INFO 140219966605120] processed a total of 335 examples\u001b[0m\n",
      "\u001b[31m#metrics {\"Metrics\": {\"update.time\": {\"count\": 1, \"max\": 1009.0091228485107, \"sum\": 1009.0091228485107, \"min\": 1009.0091228485107}}, \"EndTime\": 1529440943.578266, \"Dimensions\": {\"Host\": \"algo-1\", \"Operation\": \"training\", \"Algorithm\": \"AWS/DeepAR\"}, \"StartTime\": 1529440942.552932}\n",
      "\u001b[0m\n",
      "\u001b[31m[06/19/2018 20:42:23 INFO 140219966605120] #throughput_metric: host=algo-1, train throughput=331.972415722 records/second\u001b[0m\n",
      "\u001b[31m[06/19/2018 20:42:23 INFO 140219966605120] #progress_metric: host=algo-1, completed 82 % of epochs\u001b[0m\n",
      "\u001b[31m[06/19/2018 20:42:23 INFO 140219966605120] best epoch loss so far\u001b[0m\n",
      "\u001b[31m[06/19/2018 20:42:23 INFO 140219966605120] Saved checkpoint to \"/opt/ml/model/state_7b9622c5-1949-4773-aebb-52c62ff5433e-0000.params\"\u001b[0m\n",
      "\u001b[31m#metrics {\"Metrics\": {\"state.serialize.time\": {\"count\": 1, \"max\": 25.0551700592041, \"sum\": 25.0551700592041, \"min\": 25.0551700592041}}, \"EndTime\": 1529440943.603791, \"Dimensions\": {\"Host\": \"algo-1\", \"Operation\": \"training\", \"Algorithm\": \"AWS/DeepAR\"}, \"StartTime\": 1529440943.578339}\n",
      "\u001b[0m\n",
      "\u001b[31m[06/19/2018 20:42:23 INFO 140219966605120] Epoch[41] Batch[0] avg_epoch_loss=12.654795\u001b[0m\n",
      "\u001b[31m[06/19/2018 20:42:24 INFO 140219966605120] Epoch[41] Batch[5] avg_epoch_loss=12.708588\u001b[0m\n",
      "\u001b[31m[06/19/2018 20:42:24 INFO 140219966605120] Epoch[41] Batch [5]#011Speed: 331.11 samples/sec#011loss=12.708588\u001b[0m\n",
      "\u001b[31m[06/19/2018 20:42:24 INFO 140219966605120] processed a total of 297 examples\u001b[0m\n",
      "\u001b[31m#metrics {\"Metrics\": {\"update.time\": {\"count\": 1, \"max\": 926.3219833374023, \"sum\": 926.3219833374023, \"min\": 926.3219833374023}}, \"EndTime\": 1529440944.54376, \"Dimensions\": {\"Host\": \"algo-1\", \"Operation\": \"training\", \"Algorithm\": \"AWS/DeepAR\"}, \"StartTime\": 1529440943.603849}\n",
      "\u001b[0m\n",
      "\u001b[31m[06/19/2018 20:42:24 INFO 140219966605120] #throughput_metric: host=algo-1, train throughput=320.586467826 records/second\u001b[0m\n",
      "\u001b[31m[06/19/2018 20:42:24 INFO 140219966605120] #progress_metric: host=algo-1, completed 84 % of epochs\u001b[0m\n",
      "\u001b[31m[06/19/2018 20:42:24 INFO 140219966605120] loss did not improve for 1 epochs\u001b[0m\n",
      "\u001b[31m[06/19/2018 20:42:24 INFO 140219966605120] Epoch[42] Batch[0] avg_epoch_loss=12.580260\u001b[0m\n",
      "\u001b[31m[06/19/2018 20:42:25 INFO 140219966605120] Epoch[42] Batch[5] avg_epoch_loss=12.635511\u001b[0m\n",
      "\u001b[31m[06/19/2018 20:42:25 INFO 140219966605120] Epoch[42] Batch [5]#011Speed: 335.87 samples/sec#011loss=12.635511\u001b[0m\n",
      "\u001b[31m[06/19/2018 20:42:25 INFO 140219966605120] Epoch[42] Batch[10] avg_epoch_loss=12.625407\u001b[0m\n",
      "\u001b[31m[06/19/2018 20:42:25 INFO 140219966605120] Epoch[42] Batch [10]#011Speed: 342.94 samples/sec#011loss=12.613282\u001b[0m\n",
      "\u001b[31m[06/19/2018 20:42:25 INFO 140219966605120] processed a total of 334 examples\u001b[0m\n",
      "\u001b[31m#metrics {\"Metrics\": {\"update.time\": {\"count\": 1, \"max\": 1022.2389698028564, \"sum\": 1022.2389698028564, \"min\": 1022.2389698028564}}, \"EndTime\": 1529440945.582144, \"Dimensions\": {\"Host\": \"algo-1\", \"Operation\": \"training\", \"Algorithm\": \"AWS/DeepAR\"}, \"StartTime\": 1529440944.543832}\n",
      "\u001b[0m\n",
      "\u001b[31m[06/19/2018 20:42:25 INFO 140219966605120] #throughput_metric: host=algo-1, train throughput=326.698650806 records/second\u001b[0m\n",
      "\u001b[31m[06/19/2018 20:42:25 INFO 140219966605120] #progress_metric: host=algo-1, completed 86 % of epochs\u001b[0m\n",
      "\u001b[31m[06/19/2018 20:42:25 INFO 140219966605120] best epoch loss so far\u001b[0m\n",
      "\u001b[31m[06/19/2018 20:42:25 INFO 140219966605120] Saved checkpoint to \"/opt/ml/model/state_4edccc73-9fa1-4966-85c0-695926ebdb42-0000.params\"\u001b[0m\n",
      "\u001b[31m#metrics {\"Metrics\": {\"state.serialize.time\": {\"count\": 1, \"max\": 25.2840518951416, \"sum\": 25.2840518951416, \"min\": 25.2840518951416}}, \"EndTime\": 1529440945.607896, \"Dimensions\": {\"Host\": \"algo-1\", \"Operation\": \"training\", \"Algorithm\": \"AWS/DeepAR\"}, \"StartTime\": 1529440945.582218}\n",
      "\u001b[0m\n",
      "\u001b[31m[06/19/2018 20:42:25 INFO 140219966605120] Epoch[43] Batch[0] avg_epoch_loss=12.611214\u001b[0m\n",
      "\u001b[31m[06/19/2018 20:42:26 INFO 140219966605120] Epoch[43] Batch[5] avg_epoch_loss=12.718560\u001b[0m\n",
      "\u001b[31m[06/19/2018 20:42:26 INFO 140219966605120] Epoch[43] Batch [5]#011Speed: 361.44 samples/sec#011loss=12.718560\u001b[0m\n",
      "\u001b[31m[06/19/2018 20:42:26 INFO 140219966605120] processed a total of 319 examples\u001b[0m\n",
      "\u001b[31m#metrics {\"Metrics\": {\"update.time\": {\"count\": 1, \"max\": 901.8669128417969, \"sum\": 901.8669128417969, \"min\": 901.8669128417969}}, \"EndTime\": 1529440946.523972, \"Dimensions\": {\"Host\": \"algo-1\", \"Operation\": \"training\", \"Algorithm\": \"AWS/DeepAR\"}, \"StartTime\": 1529440945.607961}\n",
      "\u001b[0m\n",
      "\u001b[31m[06/19/2018 20:42:26 INFO 140219966605120] #throughput_metric: host=algo-1, train throughput=353.671924145 records/second\u001b[0m\n",
      "\u001b[31m[06/19/2018 20:42:26 INFO 140219966605120] #progress_metric: host=algo-1, completed 88 % of epochs\u001b[0m\n",
      "\u001b[31m[06/19/2018 20:42:26 INFO 140219966605120] loss did not improve for 1 epochs\u001b[0m\n",
      "\u001b[31m[06/19/2018 20:42:26 INFO 140219966605120] Epoch[44] Batch[0] avg_epoch_loss=12.730067\u001b[0m\n",
      "\u001b[31m[06/19/2018 20:42:27 INFO 140219966605120] Epoch[44] Batch[5] avg_epoch_loss=12.747457\u001b[0m\n",
      "\u001b[31m[06/19/2018 20:42:27 INFO 140219966605120] Epoch[44] Batch [5]#011Speed: 347.23 samples/sec#011loss=12.747457\u001b[0m\n",
      "\u001b[31m[06/19/2018 20:42:27 INFO 140219966605120] processed a total of 305 examples\u001b[0m\n",
      "\u001b[31m#metrics {\"Metrics\": {\"update.time\": {\"count\": 1, \"max\": 924.0119457244873, \"sum\": 924.0119457244873, \"min\": 924.0119457244873}}, \"EndTime\": 1529440947.461404, \"Dimensions\": {\"Host\": \"algo-1\", \"Operation\": \"training\", \"Algorithm\": \"AWS/DeepAR\"}, \"StartTime\": 1529440946.524037}\n",
      "\u001b[0m\n",
      "\u001b[31m[06/19/2018 20:42:27 INFO 140219966605120] #throughput_metric: host=algo-1, train throughput=330.046885929 records/second\u001b[0m\n",
      "\u001b[31m[06/19/2018 20:42:27 INFO 140219966605120] #progress_metric: host=algo-1, completed 90 % of epochs\u001b[0m\n",
      "\u001b[31m[06/19/2018 20:42:27 INFO 140219966605120] loss did not improve for 2 epochs\u001b[0m\n",
      "\u001b[31m[06/19/2018 20:42:27 INFO 140219966605120] Epoch[45] Batch[0] avg_epoch_loss=12.572383\u001b[0m\n",
      "\u001b[31m[06/19/2018 20:42:28 INFO 140219966605120] Epoch[45] Batch[5] avg_epoch_loss=12.696450\u001b[0m\n",
      "\u001b[31m[06/19/2018 20:42:28 INFO 140219966605120] Epoch[45] Batch [5]#011Speed: 344.49 samples/sec#011loss=12.696450\u001b[0m\n",
      "\u001b[31m[06/19/2018 20:42:28 INFO 140219966605120] processed a total of 316 examples\u001b[0m\n",
      "\u001b[31m#metrics {\"Metrics\": {\"update.time\": {\"count\": 1, \"max\": 916.478157043457, \"sum\": 916.478157043457, \"min\": 916.478157043457}}, \"EndTime\": 1529440948.393372, \"Dimensions\": {\"Host\": \"algo-1\", \"Operation\": \"training\", \"Algorithm\": \"AWS/DeepAR\"}, \"StartTime\": 1529440947.461471}\n",
      "\u001b[0m\n",
      "\u001b[31m[06/19/2018 20:42:28 INFO 140219966605120] #throughput_metric: host=algo-1, train throughput=344.761765834 records/second\u001b[0m\n",
      "\u001b[31m[06/19/2018 20:42:28 INFO 140219966605120] #progress_metric: host=algo-1, completed 92 % of epochs\u001b[0m\n",
      "\u001b[31m[06/19/2018 20:42:28 INFO 140219966605120] loss did not improve for 3 epochs\u001b[0m\n",
      "\u001b[31m[06/19/2018 20:42:28 INFO 140219966605120] Epoch[46] Batch[0] avg_epoch_loss=12.696220\u001b[0m\n",
      "\u001b[31m[06/19/2018 20:42:28 INFO 140219966605120] Epoch[46] Batch[5] avg_epoch_loss=12.654525\u001b[0m\n",
      "\u001b[31m[06/19/2018 20:42:28 INFO 140219966605120] Epoch[46] Batch [5]#011Speed: 363.81 samples/sec#011loss=12.654525\u001b[0m\n",
      "\u001b[31m[06/19/2018 20:42:29 INFO 140219966605120] Epoch[46] Batch[10] avg_epoch_loss=12.639271\u001b[0m\n",
      "\u001b[31m[06/19/2018 20:42:29 INFO 140219966605120] Epoch[46] Batch [10]#011Speed: 346.73 samples/sec#011loss=12.620966\u001b[0m\n",
      "\u001b[31m[06/19/2018 20:42:29 INFO 140219966605120] processed a total of 343 examples\u001b[0m\n",
      "\u001b[31m#metrics {\"Metrics\": {\"update.time\": {\"count\": 1, \"max\": 995.8851337432861, \"sum\": 995.8851337432861, \"min\": 995.8851337432861}}, \"EndTime\": 1529440949.403392, \"Dimensions\": {\"Host\": \"algo-1\", \"Operation\": \"training\", \"Algorithm\": \"AWS/DeepAR\"}, \"StartTime\": 1529440948.393438}\n",
      "\u001b[0m\n",
      "\u001b[31m[06/19/2018 20:42:29 INFO 140219966605120] #throughput_metric: host=algo-1, train throughput=344.378151721 records/second\u001b[0m\n",
      "\u001b[31m[06/19/2018 20:42:29 INFO 140219966605120] #progress_metric: host=algo-1, completed 94 % of epochs\u001b[0m\n",
      "\u001b[31m[06/19/2018 20:42:29 INFO 140219966605120] loss did not improve for 4 epochs\u001b[0m\n",
      "\u001b[31m[06/19/2018 20:42:29 INFO 140219966605120] Epoch[47] Batch[0] avg_epoch_loss=12.652112\u001b[0m\n",
      "\u001b[31m[06/19/2018 20:42:29 INFO 140219966605120] Epoch[47] Batch[5] avg_epoch_loss=12.631706\u001b[0m\n",
      "\u001b[31m[06/19/2018 20:42:29 INFO 140219966605120] Epoch[47] Batch [5]#011Speed: 332.05 samples/sec#011loss=12.631706\u001b[0m\n",
      "\u001b[31m[06/19/2018 20:42:30 INFO 140219966605120] processed a total of 320 examples\u001b[0m\n",
      "\u001b[31m#metrics {\"Metrics\": {\"update.time\": {\"count\": 1, \"max\": 925.3079891204834, \"sum\": 925.3079891204834, \"min\": 925.3079891204834}}, \"EndTime\": 1529440950.342627, \"Dimensions\": {\"Host\": \"algo-1\", \"Operation\": \"training\", \"Algorithm\": \"AWS/DeepAR\"}, \"StartTime\": 1529440949.403468}\n",
      "\u001b[0m\n",
      "\u001b[31m[06/19/2018 20:42:30 INFO 140219966605120] #throughput_metric: host=algo-1, train throughput=345.791505473 records/second\u001b[0m\n",
      "\u001b[31m[06/19/2018 20:42:30 INFO 140219966605120] #progress_metric: host=algo-1, completed 96 % of epochs\u001b[0m\n",
      "\u001b[31m[06/19/2018 20:42:30 INFO 140219966605120] loss did not improve for 5 epochs\u001b[0m\n",
      "\u001b[31m[06/19/2018 20:42:30 INFO 140219966605120] Epoch[48] Batch[0] avg_epoch_loss=12.623044\u001b[0m\n",
      "\u001b[31m[06/19/2018 20:42:30 INFO 140219966605120] Epoch[48] Batch[5] avg_epoch_loss=12.615989\u001b[0m\n",
      "\u001b[31m[06/19/2018 20:42:30 INFO 140219966605120] Epoch[48] Batch [5]#011Speed: 333.15 samples/sec#011loss=12.615989\u001b[0m\n",
      "\u001b[31m[06/19/2018 20:42:31 INFO 140219966605120] Epoch[48] Batch[10] avg_epoch_loss=12.677095\u001b[0m\n",
      "\u001b[31m[06/19/2018 20:42:31 INFO 140219966605120] Epoch[48] Batch [10]#011Speed: 341.34 samples/sec#011loss=12.750422\u001b[0m\n",
      "\u001b[31m[06/19/2018 20:42:31 INFO 140219966605120] processed a total of 340 examples\u001b[0m\n",
      "\u001b[31m#metrics {\"Metrics\": {\"update.time\": {\"count\": 1, \"max\": 1030.1129817962646, \"sum\": 1030.1129817962646, \"min\": 1030.1129817962646}}, \"EndTime\": 1529440951.38985, \"Dimensions\": {\"Host\": \"algo-1\", \"Operation\": \"training\", \"Algorithm\": \"AWS/DeepAR\"}, \"StartTime\": 1529440950.342699}\n",
      "\u001b[0m\n",
      "\u001b[31m[06/19/2018 20:42:31 INFO 140219966605120] #throughput_metric: host=algo-1, train throughput=330.028190005 records/second\u001b[0m\n",
      "\u001b[31m[06/19/2018 20:42:31 INFO 140219966605120] #progress_metric: host=algo-1, completed 98 % of epochs\u001b[0m\n",
      "\u001b[31m[06/19/2018 20:42:31 INFO 140219966605120] loss did not improve for 6 epochs\u001b[0m\n",
      "\u001b[31m[06/19/2018 20:42:31 INFO 140219966605120] Epoch[49] Batch[0] avg_epoch_loss=12.669972\u001b[0m\n",
      "\u001b[31m[06/19/2018 20:42:31 INFO 140219966605120] Epoch[49] Batch[5] avg_epoch_loss=12.638007\u001b[0m\n",
      "\u001b[31m[06/19/2018 20:42:31 INFO 140219966605120] Epoch[49] Batch [5]#011Speed: 320.39 samples/sec#011loss=12.638007\u001b[0m\n",
      "\u001b[31m[06/19/2018 20:42:32 INFO 140219966605120] processed a total of 318 examples\u001b[0m\n",
      "\u001b[31m#metrics {\"Metrics\": {\"update.time\": {\"count\": 1, \"max\": 952.0590305328369, \"sum\": 952.0590305328369, \"min\": 952.0590305328369}}, \"EndTime\": 1529440952.358352, \"Dimensions\": {\"Host\": \"algo-1\", \"Operation\": \"training\", \"Algorithm\": \"AWS/DeepAR\"}, \"StartTime\": 1529440951.389918}\n",
      "\u001b[0m\n",
      "\u001b[31m[06/19/2018 20:42:32 INFO 140219966605120] #throughput_metric: host=algo-1, train throughput=333.978193327 records/second\u001b[0m\n",
      "\u001b[31m[06/19/2018 20:42:32 INFO 140219966605120] #progress_metric: host=algo-1, completed 100 % of epochs\u001b[0m\n",
      "\u001b[31m[06/19/2018 20:42:32 INFO 140219966605120] loss did not improve for 7 epochs\u001b[0m\n",
      "\u001b[31m[06/19/2018 20:42:32 INFO 140219966605120] Loading parameters from best epoch (42)\u001b[0m\n",
      "\u001b[31m#metrics {\"Metrics\": {\"state.deserialize.time\": {\"count\": 1, \"max\": 11.231184005737305, \"sum\": 11.231184005737305, \"min\": 11.231184005737305}}, \"EndTime\": 1529440952.37004, \"Dimensions\": {\"Host\": \"algo-1\", \"Operation\": \"training\", \"Algorithm\": \"AWS/DeepAR\"}, \"StartTime\": 1529440952.358417}\n",
      "\u001b[0m\n",
      "\u001b[31m[06/19/2018 20:42:32 INFO 140219966605120] Final loss: 12.625406612 (occured at epoch 42)\u001b[0m\n",
      "\u001b[31m[06/19/2018 20:42:32 INFO 140219966605120] #quality_metric: host=algo-1, train final_loss <loss>=12.625406612\u001b[0m\n",
      "\u001b[31m[06/19/2018 20:42:32 INFO 140219966605120] Creating prediction graph.\u001b[0m\n"
     ]
    },
    {
     "name": "stdout",
     "output_type": "stream",
     "text": [
      "\u001b[31m#metrics {\"Metrics\": {\"get_graph.time\": {\"count\": 1, \"max\": 1879.4119358062744, \"sum\": 1879.4119358062744, \"min\": 1879.4119358062744}}, \"EndTime\": 1529440954.249934, \"Dimensions\": {\"Host\": \"algo-1\", \"Operation\": \"training\", \"Algorithm\": \"AWS/DeepAR\"}, \"StartTime\": 1529440952.370087}\n",
      "\u001b[0m\n",
      "\u001b[31m[06/19/2018 20:42:36 INFO 140219966605120] Number of GPUs being used: 0\u001b[0m\n",
      "\u001b[31m#metrics {\"Metrics\": {\"finalize.time\": {\"count\": 1, \"max\": 3663.7210845947266, \"sum\": 3663.7210845947266, \"min\": 3663.7210845947266}}, \"EndTime\": 1529440956.034215, \"Dimensions\": {\"Host\": \"algo-1\", \"Operation\": \"training\", \"Algorithm\": \"AWS/DeepAR\"}, \"StartTime\": 1529440954.249999}\n",
      "\u001b[0m\n",
      "\u001b[31m[06/19/2018 20:42:36 INFO 140219966605120] Serializing to /opt/ml/model/model_algo-1\u001b[0m\n",
      "\u001b[31m[06/19/2018 20:42:36 INFO 140219966605120] Saved checkpoint to \"/opt/ml/model/model_algo-1-0000.params\"\u001b[0m\n",
      "\u001b[31m#metrics {\"Metrics\": {\"model.serialize.time\": {\"count\": 1, \"max\": 277.10580825805664, \"sum\": 277.10580825805664, \"min\": 277.10580825805664}}, \"EndTime\": 1529440956.31144, \"Dimensions\": {\"Host\": \"algo-1\", \"Operation\": \"training\", \"Algorithm\": \"AWS/DeepAR\"}, \"StartTime\": 1529440956.03429}\n",
      "\u001b[0m\n",
      "\u001b[31m[06/19/2018 20:42:36 INFO 140219966605120] Successfully created prediction graph and serialized the model.\u001b[0m\n",
      "\u001b[31m[06/19/2018 20:42:36 INFO 140219966605120] Evaluating model accuracy on testset using 100 samples\u001b[0m\n",
      "\u001b[31m#metrics {\"Metrics\": {\"model.bind.time\": {\"count\": 1, \"max\": 0.034809112548828125, \"sum\": 0.034809112548828125, \"min\": 0.034809112548828125}}, \"EndTime\": 1529440956.312714, \"Dimensions\": {\"Host\": \"algo-1\", \"Operation\": \"training\", \"Algorithm\": \"AWS/DeepAR\"}, \"StartTime\": 1529440956.311497}\n",
      "\u001b[0m\n",
      "\u001b[31m#metrics {\"Metrics\": {\"model.score.time\": {\"count\": 1, \"max\": 2601.2630462646484, \"sum\": 2601.2630462646484, \"min\": 2601.2630462646484}}, \"EndTime\": 1529440958.913946, \"Dimensions\": {\"Host\": \"algo-1\", \"Operation\": \"training\", \"Algorithm\": \"AWS/DeepAR\"}, \"StartTime\": 1529440956.312765}\n",
      "\u001b[0m\n",
      "\u001b[31m[06/19/2018 20:42:38 INFO 140219966605120] #test_score (algo-1, wQuantileLoss[0.7]): 0.652862\u001b[0m\n",
      "\u001b[31m[06/19/2018 20:42:38 INFO 140219966605120] #test_score (algo-1, wQuantileLoss[0.6]): 0.683281\u001b[0m\n",
      "\u001b[31m[06/19/2018 20:42:38 INFO 140219966605120] #test_score (algo-1, mean_wQuantileLoss): 0.524078\u001b[0m\n",
      "\u001b[31m[06/19/2018 20:42:38 INFO 140219966605120] #test_score (algo-1, wQuantileLoss[0.1]): 0.167038\u001b[0m\n",
      "\u001b[31m[06/19/2018 20:42:38 INFO 140219966605120] #test_score (algo-1, RMSE): 163385.450711\u001b[0m\n",
      "\u001b[31m[06/19/2018 20:42:38 INFO 140219966605120] #test_score (algo-1, wQuantileLoss[0.3]): 0.531348\u001b[0m\n",
      "\u001b[31m[06/19/2018 20:42:38 INFO 140219966605120] #test_score (algo-1, wQuantileLoss[0.9]): 0.415429\u001b[0m\n",
      "\u001b[31m[06/19/2018 20:42:38 INFO 140219966605120] #test_score (algo-1, wQuantileLoss[0.2]): 0.375207\u001b[0m\n",
      "\u001b[31m[06/19/2018 20:42:38 INFO 140219966605120] #test_score (algo-1, wQuantileLoss[0.8]): 0.584092\u001b[0m\n",
      "\u001b[31m[06/19/2018 20:42:38 INFO 140219966605120] #test_score (algo-1, wQuantileLoss[0.5]): 0.683401\u001b[0m\n",
      "\u001b[31m[06/19/2018 20:42:38 INFO 140219966605120] #test_score (algo-1, wQuantileLoss[0.4]): 0.624042\u001b[0m\n",
      "\u001b[31m[06/19/2018 20:42:38 INFO 140219966605120] #quality_metric: host=algo-1, test mean_wQuantileLoss <loss>=0.524078011513\u001b[0m\n",
      "\u001b[31m[06/19/2018 20:42:38 INFO 140219966605120] #quality_metric: host=algo-1, test RMSE <loss>=163385.450711\u001b[0m\n",
      "\u001b[31m#metrics {\"Metrics\": {\"totaltime\": {\"count\": 1, \"max\": 56932.24096298218, \"sum\": 56932.24096298218, \"min\": 56932.24096298218}, \"setuptime\": {\"count\": 1, \"max\": 9.048938751220703, \"sum\": 9.048938751220703, \"min\": 9.048938751220703}}, \"EndTime\": 1529440959.347993, \"Dimensions\": {\"Host\": \"algo-1\", \"Operation\": \"training\", \"Algorithm\": \"AWS/DeepAR\"}, \"StartTime\": 1529440958.914027}\n",
      "\u001b[0m\n",
      "===== Job Complete =====\n",
      "Billable seconds: 168\n"
     ]
    }
   ],
   "source": [
    "data_channels = {\n",
    "    \"train\": \"s3://{}/train/\".format(s3_data_path),\n",
    "    \"test\": \"s3://{}/test/\".format(s3_data_path)\n",
    "}\n",
    "\n",
    "estimator.fit(inputs=data_channels)"
   ]
  },
  {
   "cell_type": "markdown",
   "metadata": {},
   "source": [
    "Create endpoint and predictor\n",
    "Now that we have trained a model, we can use it to perform predictions by deploying it to an endpoint.\n",
    "\n",
    "Note: remember to delete the enpoint after running this experiment. A cell at the very bottom of this notebook will do that: make sure you run it at the end."
   ]
  },
  {
   "cell_type": "code",
   "execution_count": 42,
   "metadata": {},
   "outputs": [
    {
     "name": "stderr",
     "output_type": "stream",
     "text": [
      "INFO:sagemaker:Creating endpoint with name test-demo-deepar-2018-06-19-20-36-53-657\n"
     ]
    },
    {
     "name": "stdout",
     "output_type": "stream",
     "text": [
      "------------------------------------------------------------------------------------------------------!"
     ]
    }
   ],
   "source": [
    "job_name = estimator.latest_training_job.name\n",
    "\n",
    "endpoint_name = sagemaker_session.endpoint_from_job(\n",
    "    job_name=job_name,\n",
    "    initial_instance_count=1,\n",
    "    instance_type='ml.m4.xlarge',\n",
    "    deployment_image=image_name,\n",
    "    role=role\n",
    ")"
   ]
  },
  {
   "cell_type": "code",
   "execution_count": 43,
   "metadata": {},
   "outputs": [],
   "source": [
    "class DeepARPredictor(sagemaker.predictor.RealTimePredictor):\n",
    "\n",
    "    def set_prediction_parameters(self, freq, prediction_length):\n",
    "        \"\"\"Set the time frequency and prediction length parameters. This method **must** be called\n",
    "        before being able to use `predict`.\n",
    "        \n",
    "        Parameters:\n",
    "        freq -- string indicating the time frequency\n",
    "        prediction_length -- integer, number of predicted time points\n",
    "        \n",
    "        Return value: none.\n",
    "        \"\"\"\n",
    "        self.freq = freq\n",
    "        self.prediction_length = prediction_length\n",
    "        \n",
    "    def predict(self, ts, cat=None, encoding=\"utf-8\", num_samples=100, quantiles=[\"0.1\", \"0.5\", \"0.9\"]):\n",
    "        \"\"\"Requests the prediction of for the time series listed in `ts`, each with the (optional)\n",
    "        corresponding category listed in `cat`.\n",
    "        \n",
    "        Parameters:\n",
    "        ts -- list of `pandas.Series` objects, the time series to predict\n",
    "        cat -- list of integers (default: None)\n",
    "        encoding -- string, encoding to use for the request (default: \"utf-8\")\n",
    "        num_samples -- integer, number of samples to compute at prediction time (default: 100)\n",
    "        quantiles -- list of strings specifying the quantiles to compute (default: [\"0.1\", \"0.5\", \"0.9\"])\n",
    "        \n",
    "        Return value: list of `pandas.DataFrame` objects, each containing the predictions\n",
    "        \"\"\"\n",
    "        prediction_times = [x.index[-1]+1 for x in ts]\n",
    "        req = self.__encode_request(ts, cat, encoding, num_samples, quantiles)\n",
    "        res = super(DeepARPredictor, self).predict(req)\n",
    "        return self.__decode_response(res, prediction_times, encoding)\n",
    "    \n",
    "    def __encode_request(self, ts, cat, encoding, num_samples, quantiles):\n",
    "        instances = [series_to_obj(ts[k], cat[k] if cat else None) for k in range(len(ts))]\n",
    "        configuration = {\"num_samples\": num_samples, \"output_types\": [\"quantiles\"], \"quantiles\": quantiles}\n",
    "        http_request_data = {\"instances\": instances, \"configuration\": configuration}\n",
    "        return json.dumps(http_request_data).encode(encoding)\n",
    "    \n",
    "    def __decode_response(self, response, prediction_times, encoding):\n",
    "        response_data = json.loads(response.decode(encoding))\n",
    "        list_of_df = []\n",
    "        for k in range(len(prediction_times)):\n",
    "            prediction_index = pd.DatetimeIndex(start=prediction_times[k], freq=self.freq, periods=self.prediction_length)\n",
    "            list_of_df.append(pd.DataFrame(data=response_data['predictions'][k]['quantiles'], index=prediction_index))\n",
    "        return list_of_df"
   ]
  },
  {
   "cell_type": "code",
   "execution_count": 44,
   "metadata": {},
   "outputs": [],
   "source": [
    "predictor = DeepARPredictor(\n",
    "    endpoint=endpoint_name,\n",
    "    sagemaker_session=sagemaker_session,\n",
    "    content_type=\"application/json\"\n",
    ")\n",
    "predictor.set_prediction_parameters(freq, prediction_length)"
   ]
  },
  {
   "cell_type": "code",
   "execution_count": 45,
   "metadata": {},
   "outputs": [],
   "source": [
    "#traindat = pd.Series(traindat)"
   ]
  },
  {
   "cell_type": "code",
   "execution_count": 46,
   "metadata": {},
   "outputs": [],
   "source": [
    "list_of_df  = predictor.predict(time_series_training)\n",
    "actual_data = time_series"
   ]
  },
  {
   "cell_type": "code",
   "execution_count": 47,
   "metadata": {},
   "outputs": [
    {
     "data": {
      "image/png": "[encoded data removed]",
      "text/plain": [
       "<Figure size 864x432 with 1 Axes>"
      ]
     },
     "metadata": {},
     "output_type": "display_data"
    }
   ],
   "source": [
    "for k in range(len(list_of_df)):\n",
    "    plt.figure(figsize=(12,6))\n",
    "    actual_data[k][-prediction_length-context_length:].plot(label='target')\n",
    "    p10 = list_of_df[k]['0.1']\n",
    "    p90 = list_of_df[k]['0.9']\n",
    "    plt.fill_between(p10.index, p10, p90, color='y', alpha=0.5, label='80% confidence interval')\n",
    "    list_of_df[k]['0.5'].plot(label='prediction median')\n",
    "    plt.legend()\n",
    "    plt.show()"
   ]
  },
  {
   "cell_type": "markdown",
   "metadata": {},
   "source": [
    "## Created hyperparameter tuning job on the GUI, but attempting to do with code below."
   ]
  },
  {
   "cell_type": "code",
   "execution_count": null,
   "metadata": {},
   "outputs": [],
   "source": [
    "s3_input_train = 's3://{}/{}/train'.format(bucket, prefix)\n",
    "s3_input_validation ='s3://{}/{}/validation/'.format(bucket, prefix)"
   ]
  },
  {
   "cell_type": "code",
   "execution_count": 706,
   "metadata": {},
   "outputs": [
    {
     "ename": "NameError",
     "evalue": "name 'number' is not defined",
     "output_type": "error",
     "traceback": [
      "\u001b[0;31m---------------------------------------------------------------------------\u001b[0m",
      "\u001b[0;31mNameError\u001b[0m                                 Traceback (most recent call last)",
      "\u001b[0;32m<ipython-input-706-596473968352>\u001b[0m in \u001b[0;36m<module>\u001b[0;34m()\u001b[0m\n\u001b[1;32m     28\u001b[0m       },\n\u001b[1;32m     29\u001b[0m       \"ResourceLimits\": { \n\u001b[0;32m---> 30\u001b[0;31m          \u001b[0;34m\"MaxNumberOfTrainingJobs\"\u001b[0m\u001b[0;34m:\u001b[0m \u001b[0mnumber\u001b[0m\u001b[0;34m,\u001b[0m\u001b[0;34m\u001b[0m\u001b[0m\n\u001b[0m\u001b[1;32m     31\u001b[0m          \u001b[0;34m\"MaxParallelTrainingJobs\"\u001b[0m\u001b[0;34m:\u001b[0m \u001b[0mnumber\u001b[0m\u001b[0;34m\u001b[0m\u001b[0m\n\u001b[1;32m     32\u001b[0m       },\n",
      "\u001b[0;31mNameError\u001b[0m: name 'number' is not defined"
     ]
    }
   ],
   "source": [
    "tuning_job_config = {\n",
    "   \"HyperParameterTuningJobConfig\": { \n",
    "      \"HyperParameterTuningJobObjective\": { \n",
    "         \"MetricName\": \"string\",\n",
    "         \"Type\": \"string\"\n",
    "      },\n",
    "      \"ParameterRanges\": { \n",
    "         \"CategoricalParameterRanges\": [ \n",
    "            { \n",
    "               \"Name\": \"string\",\n",
    "               \"Values\": [ \"string\" ]\n",
    "            }\n",
    "         ],\n",
    "         \"ContinuousParameterRanges\": [ \n",
    "            { \n",
    "               \"MaxValue\": \"string\",\n",
    "               \"MinValue\": \"string\",\n",
    "               \"Name\": \"string\"\n",
    "            }\n",
    "         ],\n",
    "         \"IntegerParameterRanges\": [ \n",
    "            { \n",
    "               \"MaxValue\": \"string\",\n",
    "               \"MinValue\": \"string\",\n",
    "               \"Name\": \"string\"\n",
    "            }\n",
    "         ]\n",
    "      },\n",
    "      \"ResourceLimits\": { \n",
    "         \"MaxNumberOfTrainingJobs\": number,\n",
    "         \"MaxParallelTrainingJobs\": number\n",
    "      },\n",
    "      \"Strategy\": \"string\"\n",
    "   },\n",
    "   \"HyperParameterTuningJobName\": \"string\",\n",
    "   \"Tags\": [ \n",
    "      { \n",
    "         \"Key\": \"string\",\n",
    "         \"Value\": \"string\"\n",
    "      }\n",
    "   ],\n",
    "   \"TrainingJobDefinition\": { \n",
    "      \"AlgorithmSpecification\": { \n",
    "         \"MetricDefinitions\": [ \n",
    "            { \n",
    "               \"Name\": \"string\",\n",
    "               \"Regex\": \"string\"\n",
    "            }\n",
    "         ],\n",
    "         \"TrainingImage\": \"string\",\n",
    "         \"TrainingInputMode\": \"string\"\n",
    "      },\n",
    "      \"InputDataConfig\": [ \n",
    "         { \n",
    "            \"ChannelName\": \"string\",\n",
    "            \"CompressionType\": \"string\",\n",
    "            \"ContentType\": \"string\",\n",
    "            \"DataSource\": { \n",
    "               \"S3DataSource\": { \n",
    "                  \"S3DataDistributionType\": \"string\",\n",
    "                  \"S3DataType\": \"string\",\n",
    "                  \"S3Uri\": \"string\"\n",
    "               }\n",
    "            },\n",
    "            \"RecordWrapperType\": \"string\"\n",
    "         }\n",
    "      ],\n",
    "      \"OutputDataConfig\": { \n",
    "         \"KmsKeyId\": \"string\",\n",
    "         \"S3OutputPath\": \"string\"\n",
    "      },\n",
    "      \"ResourceConfig\": { \n",
    "         \"InstanceCount\": number,\n",
    "         \"InstanceType\": \"string\",\n",
    "         \"VolumeKmsKeyId\": \"string\",\n",
    "         \"VolumeSizeInGB\": number\n",
    "      },\n",
    "      \"RoleArn\": \"string\",\n",
    "      \"StaticHyperParameters\": { \n",
    "         \"string\" : \"string\" \n",
    "      },\n",
    "      \"StoppingCondition\": { \n",
    "         \"MaxRuntimeInSeconds\": number\n",
    "      },\n",
    "      \"VpcConfig\": { \n",
    "         \"SecurityGroupIds\": [ \"string\" ],\n",
    "         \"Subnets\": [ \"string\" ]\n",
    "      }\n",
    "   }\n",
    "}"
   ]
  },
  {
   "cell_type": "code",
   "execution_count": 704,
   "metadata": {},
   "outputs": [],
   "source": [
    "smclient = boto3.Session().client('sagemaker')"
   ]
  },
  {
   "cell_type": "code",
   "execution_count": 705,
   "metadata": {},
   "outputs": [
    {
     "ename": "NameError",
     "evalue": "name 'tuning_job_name' is not defined",
     "output_type": "error",
     "traceback": [
      "\u001b[0;31m---------------------------------------------------------------------------\u001b[0m",
      "\u001b[0;31mNameError\u001b[0m                                 Traceback (most recent call last)",
      "\u001b[0;32m<ipython-input-705-85ec1923f517>\u001b[0m in \u001b[0;36m<module>\u001b[0;34m()\u001b[0m\n\u001b[0;32m----> 1\u001b[0;31m smclient.create_hyper_parameter_tuning_job(HyperParameterTuningJobName = tuning_job_name,\n\u001b[0m\u001b[1;32m      2\u001b[0m                                             \u001b[0mHyperParameterTuningJobConfig\u001b[0m \u001b[0;34m=\u001b[0m \u001b[0mtuning_job_config\u001b[0m\u001b[0;34m,\u001b[0m\u001b[0;34m\u001b[0m\u001b[0m\n\u001b[1;32m      3\u001b[0m                                             TrainingJobDefinition = training_job_definition)\n",
      "\u001b[0;31mNameError\u001b[0m: name 'tuning_job_name' is not defined"
     ]
    }
   ],
   "source": [
    "smclient.create_hyper_parameter_tuning_job(HyperParameterTuningJobName = tuning_job_name,\n",
    "                                            HyperParameterTuningJobConfig = tuning_job_config,\n",
    "                                            TrainingJobDefinition = training_job_definition)\n"
   ]
  },
  {
   "cell_type": "markdown",
   "metadata": {},
   "source": [
    "### Query a trained model by using the model's endpoint. The endpoint takes the following JSON request format."
   ]
  },
  {
   "cell_type": "code",
   "execution_count": null,
   "metadata": {},
   "outputs": [],
   "source": [
    "\n",
    "{\n",
    " \"instances\": [\n",
    "  { \"start\": \"2009-11-01 00:00:00\", \"target\": [4.0, 10.0, 50.0, 100.0, 113.0], \"cat\": 0},\n",
    "  { \"start\": \"2012-01-30\", \"target\": [1.0], \"cat\": 2 },\n",
    "  { \"start\": \"1999-01-30\", \"target\": [2.0, 1.0], \"cat\": 1 }\n",
    " ],\n",
    " \"configuration\": {\n",
    "  \"num_samples\": 50,\n",
    "  \"output_types\": [\"mean\", \"quantiles\", \"samples\"],\n",
    "  \"quantiles\": [\"0.5\", \"0.9\"]\n",
    " }\n",
    "}"
   ]
  },
  {
   "cell_type": "code",
   "execution_count": 128,
   "metadata": {},
   "outputs": [
    {
     "name": "stderr",
     "output_type": "stream",
     "text": [
      "INFO:sagemaker:Deleting endpoint with name: test-demo-deepar-2018-06-19-17-29-48-394\n"
     ]
    }
   ],
   "source": [
    "sagemaker_session.delete_endpoint(endpoint_name)"
   ]
  },
  {
   "cell_type": "code",
   "execution_count": null,
   "metadata": {},
   "outputs": [],
   "source": []
  },
  {
   "cell_type": "code",
   "execution_count": null,
   "metadata": {},
   "outputs": [],
   "source": []
  }
 ],
 "metadata": {
  "kernelspec": {
   "display_name": "conda_python3",
   "language": "python",
   "name": "conda_python3"
  },
  "language_info": {
   "codemirror_mode": {
    "name": "ipython",
    "version": 3
   },
   "file_extension": ".py",
   "mimetype": "text/x-python",
   "name": "python",
   "nbconvert_exporter": "python",
   "pygments_lexer": "ipython3",
   "version": "3.6.4"
  },
  "notice": "Copyright 2017 Amazon.com, Inc. or its affiliates. All Rights Reserved.  Licensed under the Apache License, Version 2.0 (the \"License\"). You may not use this file except in compliance with the License. A copy of the License is located at http://aws.amazon.com/apache2.0/ or in the \"license\" file accompanying this file. This file is distributed on an \"AS IS\" BASIS, WITHOUT WARRANTIES OR CONDITIONS OF ANY KIND, either express or implied. See the License for the specific language governing permissions and limitations under the License."
 },
 "nbformat": 4,
 "nbformat_minor": 2
}
