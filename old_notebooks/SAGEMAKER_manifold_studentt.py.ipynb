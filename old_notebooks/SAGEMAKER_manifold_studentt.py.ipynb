{
 "cells": [
  {
   "cell_type": "markdown",
   "metadata": {
    "nbpresent": {
     "id": "42b5e80b-ad1d-4335-a1f7-10a91127e3dc"
    }
   },
   "source": [
    "# Time series forecasting with DeepAR\n",
    "\n",
    "## ***This is using the hourly aggregated data across VMs***\n",
    "DeepAR is a supervised learning algorithm for forecasting scalar time series. \n",
    "\n",
    "\n",
    "Let's start by specifying:\n",
    "\n",
    "- The S3 bucket and prefix that you want to use for training and model data.  This should be within the same region as the Notebook Instance, training, and hosting.\n",
    "- The IAM role arn used to give training and hosting access to your data. See the documentation for how to create these.  Note, if more than one role is required for notebook instances, training, and/or hosting, please replace the boto regexp with a the appropriate full IAM role arn string(s)."
   ]
  },
  {
   "cell_type": "code",
   "execution_count": 48,
   "metadata": {
    "isConfigCell": true
   },
   "outputs": [],
   "source": [
    "bucket = 'sagemaker-testtimeseries'\n",
    "prefix = 'sagemaker/test-demo-deepar'\n",
    " \n",
    "# Define IAM role\n",
    "import boto3\n",
    "import re\n",
    "from sagemaker import get_execution_role\n",
    "\n",
    "role = get_execution_role()"
   ]
  },
  {
   "cell_type": "code",
   "execution_count": 2,
   "metadata": {},
   "outputs": [
    {
     "data": {
      "text/plain": [
       "'arn:aws:iam::945416147148:role/service-role/AmazonSageMaker-ExecutionRole-20180616T095406'"
      ]
     },
     "execution_count": 2,
     "metadata": {},
     "output_type": "execute_result"
    }
   ],
   "source": [
    "role"
   ]
  },
  {
   "cell_type": "markdown",
   "metadata": {
    "nbpresent": {
     "id": "b2548d66-6f8f-426f-9cda-7a3cd1459abd"
    }
   },
   "source": [
    "Now we'll import the Python libraries we'll need."
   ]
  },
  {
   "cell_type": "code",
   "execution_count": 3,
   "metadata": {
    "nbpresent": {
     "id": "bb88eea9-27f3-4e47-9133-663911ea09a9"
    }
   },
   "outputs": [],
   "source": [
    "import pandas as pd\n",
    "import numpy as np\n",
    "import matplotlib.pyplot as plt\n",
    "import io\n",
    "import os\n",
    "import time\n",
    "import json\n",
    "import glob\n",
    "import sagemaker.amazon.common as smac\n",
    "import sagemaker\n",
    "from sagemaker.predictor import csv_serializer, json_deserializer\n",
    "import boto3\n",
    "import  s3fs\n",
    "import  sagemaker\n",
    "from sagemaker import get_execution_role"
   ]
  },
  {
   "cell_type": "code",
   "execution_count": 4,
   "metadata": {},
   "outputs": [],
   "source": [
    "sagemaker_session = sagemaker.Session()\n",
    "role = get_execution_role()\n",
    "\n",
    "s3_data_path = \"{}/{}/data\".format(bucket, prefix)\n",
    "s3_output_path = \"{}/{}/output\".format(bucket, prefix)"
   ]
  },
  {
   "cell_type": "code",
   "execution_count": 5,
   "metadata": {},
   "outputs": [],
   "source": [
    "\n",
    "containers  = {\n",
    "    'us-west-2': '156387875391.dkr.ecr.us-west-2.amazonaws.com/forecasting-deepar:latest'\n",
    "}\n",
    "image_name = containers[boto3.Session().region_name]"
   ]
  },
  {
   "cell_type": "code",
   "execution_count": 6,
   "metadata": {},
   "outputs": [
    {
     "data": {
      "text/plain": [
       "'arn:aws:iam::945416147148:role/service-role/AmazonSageMaker-ExecutionRole-20180616T095406'"
      ]
     },
     "execution_count": 6,
     "metadata": {},
     "output_type": "execute_result"
    }
   ],
   "source": [
    "role"
   ]
  },
  {
   "cell_type": "markdown",
   "metadata": {
    "nbpresent": {
     "id": "142777ae-c072-448e-b941-72bc75735d01"
    }
   },
   "source": [
    "---\n",
    "## Data\n",
    "\n",
    "Let's download the data.  More information about this dataset can be found [here](https://rdrr.io/github/robjhyndman/fpp/man/gasoline.html)."
   ]
  },
  {
   "cell_type": "code",
   "execution_count": 7,
   "metadata": {
    "nbpresent": {
     "id": "78105bc7-ce5d-4003-84f6-4dc5700c5945"
    }
   },
   "outputs": [],
   "source": [
    "#!wget http://gwa.ewi.tudelft.nl/fileadmin/pds/trace-archives/grid-workloads-archive/datasets/gwa-t-12/rnd.zip"
   ]
  },
  {
   "cell_type": "code",
   "execution_count": 8,
   "metadata": {},
   "outputs": [],
   "source": [
    "#import zipfile\n",
    "#with zipfile.ZipFile(\"rnd.zip\",\"r\") as zip_ref:\n",
    "#    zip_ref.extractall(\"targetdir\")"
   ]
  },
  {
   "cell_type": "markdown",
   "metadata": {
    "nbpresent": {
     "id": "b472326f-3584-4b61-aecc-04b35486a1ab"
    }
   },
   "source": [
    "And take a look at it."
   ]
  },
  {
   "cell_type": "code",
   "execution_count": 9,
   "metadata": {
    "nbpresent": {
     "id": "f8976dad-6897-4c7e-8c95-ae2f53070ef5"
    }
   },
   "outputs": [
    {
     "name": "stderr",
     "output_type": "stream",
     "text": [
      "/home/ec2-user/anaconda3/envs/python3/lib/python3.6/site-packages/ipykernel/__main__.py:3: ParserWarning: Falling back to the 'python' engine because the 'c' engine does not support regex separators (separators > 1 char and different from '\\s+' are interpreted as regex); you can avoid this warning by specifying engine='python'.\n",
      "  app.launch_new_instance()\n"
     ]
    }
   ],
   "source": [
    "all_files = glob.glob(os.path.join('targetdir/rnd/2013-7/', \"1*.csv\"))     # advisable to use os.path.join as this makes concatenation OS independent\n",
    "\n",
    "df_from_each_file = (pd.read_csv(f, sep = ';\\t') for f in all_files)\n",
    "concatenated_df   = pd.concat(df_from_each_file)"
   ]
  },
  {
   "cell_type": "code",
   "execution_count": 10,
   "metadata": {},
   "outputs": [
    {
     "name": "stderr",
     "output_type": "stream",
     "text": [
      "/home/ec2-user/anaconda3/envs/python3/lib/python3.6/site-packages/ipykernel/__main__.py:2: ParserWarning: Falling back to the 'python' engine because the 'c' engine does not support regex separators (separators > 1 char and different from '\\s+' are interpreted as regex); you can avoid this warning by specifying engine='python'.\n",
      "  from ipykernel import kernelapp as app\n"
     ]
    }
   ],
   "source": [
    "all_files = glob.glob(os.path.join('targetdir/rnd/2013-8/', \"1*.csv\"))     # advisable to use os.path.join as this makes concatenation OS independent\n",
    "df_from_each_file = (pd.read_csv(f, sep = ';\\t') for f in all_files)\n",
    "concatenated_df8   = pd.concat(df_from_each_file)"
   ]
  },
  {
   "cell_type": "code",
   "execution_count": 11,
   "metadata": {},
   "outputs": [
    {
     "name": "stderr",
     "output_type": "stream",
     "text": [
      "/home/ec2-user/anaconda3/envs/python3/lib/python3.6/site-packages/ipykernel/__main__.py:3: ParserWarning: Falling back to the 'python' engine because the 'c' engine does not support regex separators (separators > 1 char and different from '\\s+' are interpreted as regex); you can avoid this warning by specifying engine='python'.\n",
      "  app.launch_new_instance()\n"
     ]
    }
   ],
   "source": [
    "all_files = glob.glob(os.path.join('targetdir/rnd/2013-9/', \"1*.csv\"))     # advisable to use os.path.join as this makes concatenation OS independent\n",
    "\n",
    "df_from_each_file = (pd.read_csv(f, sep = ';\\t') for f in all_files)\n",
    "concatenated_df9   = pd.concat(df_from_each_file)"
   ]
  },
  {
   "cell_type": "code",
   "execution_count": null,
   "metadata": {},
   "outputs": [],
   "source": []
  },
  {
   "cell_type": "code",
   "execution_count": 12,
   "metadata": {},
   "outputs": [],
   "source": [
    "newdat = concatenated_df.append(concatenated_df8)\n",
    "newerdat = newdat.append(concatenated_df9)\n",
    "concatenated_df = newerdat"
   ]
  },
  {
   "cell_type": "code",
   "execution_count": 13,
   "metadata": {},
   "outputs": [
    {
     "name": "stdout",
     "output_type": "stream",
     "text": [
      "<class 'pandas.core.frame.DataFrame'>\n",
      "Int64Index: 2692928 entries, 0 to 11506\n",
      "Data columns (total 11 columns):\n",
      "Timestamp [ms]                           int64\n",
      "CPU cores                                int64\n",
      "CPU capacity provisioned [MHZ]           float64\n",
      "CPU usage [MHZ]                          float64\n",
      "CPU usage [%]                            float64\n",
      "Memory capacity provisioned [KB]         float64\n",
      "Memory usage [KB]                        float64\n",
      "Disk read throughput [KB/s]              float64\n",
      "Disk write throughput [KB/s]             float64\n",
      "Network received throughput [KB/s]       float64\n",
      "Network transmitted throughput [KB/s]    float64\n",
      "dtypes: float64(9), int64(2)\n",
      "memory usage: 246.5 MB\n"
     ]
    }
   ],
   "source": [
    "concatenated_df.info()"
   ]
  },
  {
   "cell_type": "code",
   "execution_count": null,
   "metadata": {},
   "outputs": [],
   "source": []
  },
  {
   "cell_type": "code",
   "execution_count": null,
   "metadata": {},
   "outputs": [],
   "source": []
  },
  {
   "cell_type": "code",
   "execution_count": null,
   "metadata": {},
   "outputs": [],
   "source": []
  },
  {
   "cell_type": "code",
   "execution_count": null,
   "metadata": {},
   "outputs": [],
   "source": []
  },
  {
   "cell_type": "code",
   "execution_count": 14,
   "metadata": {},
   "outputs": [],
   "source": [
    "concatenated_df['Timestamp'] = pd.to_datetime(concatenated_df['Timestamp [ms]'], unit = 's')\n",
    "#concatenated_df.apply(pd.to_numeric, errors='ignore')\n",
    "concatenated_df.describe()\n",
    "concatenated_df['weekday'] = concatenated_df['Timestamp'].dt.dayofweek\n",
    "\n",
    "\n",
    "concatenated_df['weekend'] = ((concatenated_df.weekday) // 5 == 1).astype(float)\n",
    "# Feature engineering with the date\n",
    "concatenated_df['month']=concatenated_df.Timestamp.dt.month \n",
    "concatenated_df['day']=concatenated_df.Timestamp.dt.day\n",
    "concatenated_df.set_index('Timestamp',inplace=True)\n",
    "concatenated_df[\"CPU usage prev\"] = concatenated_df['CPU usage [%]'].shift(1)\n",
    "concatenated_df[\"CPU_diff\"] = concatenated_df['CPU usage [%]'] - concatenated_df[\"CPU usage prev\"]\n",
    "concatenated_df[\"received_prev\"] = concatenated_df['Network received throughput [KB/s]'].shift(1)\n",
    "concatenated_df[\"received_diff\"] = concatenated_df['Network received throughput [KB/s]']- concatenated_df[\"received_prev\"]\n",
    "\n",
    "concatenated_df[\"transmitted_prev\"] = concatenated_df['Network transmitted throughput [KB/s]'].shift(1)\n",
    "concatenated_df[\"transmitted_diff\"] = concatenated_df['Network transmitted throughput [KB/s]']- concatenated_df[\"transmitted_prev\"]\n",
    "\n",
    "hourlydat = concatenated_df.resample('H').sum()"
   ]
  },
  {
   "cell_type": "code",
   "execution_count": 15,
   "metadata": {},
   "outputs": [
    {
     "data": {
      "image/png": "[encoded data removed]",
      "text/plain": [
       "<Figure size 720x360 with 1 Axes>"
      ]
     },
     "metadata": {},
     "output_type": "display_data"
    }
   ],
   "source": [
    "cpu = concatenated_df[['CPU usage [MHZ]']]\n",
    "cpu.plot(alpha=0.5, style='-', figsize=(10, 5))\n",
    "plt.legend(loc='upper right');\n",
    "#cpu.resample('H').sum().plot(style=':', figsize=(10, 5))\n",
    "#cpu.asfreq('H').plot(style='--');\n",
    "plt.legend(loc='upper right');"
   ]
  },
  {
   "cell_type": "code",
   "execution_count": 16,
   "metadata": {},
   "outputs": [],
   "source": [
    "hourlydat[\"start\"] = hourlydat.index\n",
    "hourlydat['target'] = hourlydat['CPU usage [MHZ]']\n",
    "jsondat=pd.DataFrame(hourlydat['start'])\n",
    "jsondat['start'] = hourlydat.index\n",
    "result = pd.concat([hourlydat['start'], hourlydat['target']], axis=1)\n",
    "result = result.reset_index()\n",
    "result.drop('Timestamp', axis=1, inplace=True)\n",
    "#result.start = result.start.astype(str)\n",
    "#result.set_index('start',inplace=True)\n",
    "#result"
   ]
  },
  {
   "cell_type": "code",
   "execution_count": 17,
   "metadata": {},
   "outputs": [],
   "source": [
    "result.set_index('start',inplace=True)\n",
    "result.index = pd.to_datetime(result.index) "
   ]
  },
  {
   "cell_type": "code",
   "execution_count": 18,
   "metadata": {},
   "outputs": [],
   "source": [
    "# remove two july days for even dataset\n",
    "result = result[2:]"
   ]
  },
  {
   "cell_type": "code",
   "execution_count": 19,
   "metadata": {},
   "outputs": [],
   "source": [
    "start = result.index.min()\n",
    "end = result.index.max()\n",
    "index = pd.date_range(start, end, freq='D')\n",
    "index = index.map(lambda t: t.strftime('%Y-%m-%d'))\n",
    "makingjson = pd.DataFrame(index=index, columns=['target'])\n",
    "makingjson.index.name = 'date'\n",
    "\n",
    "for day in index:\n",
    "    makingjson.loc[day, 'target'] = result.loc[day, 'target'].tolist()\n"
   ]
  },
  {
   "cell_type": "code",
   "execution_count": 20,
   "metadata": {},
   "outputs": [],
   "source": [
    "def series_to_obj(ts, cat=None):\n",
    "    obj = {\"start\": str(ts.index[0]), \"target\": list(ts)}\n",
    "    if cat is not None:\n",
    "        obj[\"cat\"] = cat\n",
    "    return obj\n",
    "\n",
    "def series_to_jsonline(ts, cat=None):\n",
    "    return json.dumps(series_to_obj(ts, cat))"
   ]
  },
  {
   "cell_type": "code",
   "execution_count": 21,
   "metadata": {},
   "outputs": [],
   "source": [
    "makingjson = makingjson.reset_index(drop=False)\n"
   ]
  },
  {
   "cell_type": "code",
   "execution_count": 22,
   "metadata": {},
   "outputs": [],
   "source": [
    "makingjson.columns = ['start', 'target']"
   ]
  },
  {
   "cell_type": "code",
   "execution_count": 23,
   "metadata": {},
   "outputs": [
    {
     "data": {
      "text/html": [
       "<div>\n",
       "<style scoped>\n",
       "    .dataframe tbody tr th:only-of-type {\n",
       "        vertical-align: middle;\n",
       "    }\n",
       "\n",
       "    .dataframe tbody tr th {\n",
       "        vertical-align: top;\n",
       "    }\n",
       "\n",
       "    .dataframe thead th {\n",
       "        text-align: right;\n",
       "    }\n",
       "</style>\n",
       "<table border=\"1\" class=\"dataframe\">\n",
       "  <thead>\n",
       "    <tr style=\"text-align: right;\">\n",
       "      <th></th>\n",
       "      <th>start</th>\n",
       "      <th>target</th>\n",
       "    </tr>\n",
       "  </thead>\n",
       "  <tbody>\n",
       "    <tr>\n",
       "      <th>0</th>\n",
       "      <td>2013-07-01</td>\n",
       "      <td>[574199.4713140074, 504223.53358262416, 602037...</td>\n",
       "    </tr>\n",
       "    <tr>\n",
       "      <th>1</th>\n",
       "      <td>2013-07-02</td>\n",
       "      <td>[650204.8214047799, 653213.9708218395, 565570....</td>\n",
       "    </tr>\n",
       "    <tr>\n",
       "      <th>2</th>\n",
       "      <td>2013-07-03</td>\n",
       "      <td>[992436.0216913229, 952792.0524644597, 924735....</td>\n",
       "    </tr>\n",
       "    <tr>\n",
       "      <th>3</th>\n",
       "      <td>2013-07-04</td>\n",
       "      <td>[221054.54960393056, 231642.20276966706, 22931...</td>\n",
       "    </tr>\n",
       "    <tr>\n",
       "      <th>4</th>\n",
       "      <td>2013-07-05</td>\n",
       "      <td>[133744.91281717448, 137004.83592266572, 13975...</td>\n",
       "    </tr>\n",
       "  </tbody>\n",
       "</table>\n",
       "</div>"
      ],
      "text/plain": [
       "        start                                             target\n",
       "0  2013-07-01  [574199.4713140074, 504223.53358262416, 602037...\n",
       "1  2013-07-02  [650204.8214047799, 653213.9708218395, 565570....\n",
       "2  2013-07-03  [992436.0216913229, 952792.0524644597, 924735....\n",
       "3  2013-07-04  [221054.54960393056, 231642.20276966706, 22931...\n",
       "4  2013-07-05  [133744.91281717448, 137004.83592266572, 13975..."
      ]
     },
     "execution_count": 23,
     "metadata": {},
     "output_type": "execute_result"
    }
   ],
   "source": [
    "makingjson.head()"
   ]
  },
  {
   "cell_type": "code",
   "execution_count": 24,
   "metadata": {},
   "outputs": [
    {
     "data": {
      "text/plain": [
       "18.2"
      ]
     },
     "execution_count": 24,
     "metadata": {},
     "output_type": "execute_result"
    }
   ],
   "source": [
    "len(makingjson)*.2"
   ]
  },
  {
   "cell_type": "code",
   "execution_count": 25,
   "metadata": {},
   "outputs": [],
   "source": [
    "traindat = makingjson[:-round(len(makingjson)*.2)]"
   ]
  },
  {
   "cell_type": "code",
   "execution_count": 26,
   "metadata": {},
   "outputs": [],
   "source": [
    "#makingjson.to_json('test.json', orient='records', lines=True)\n"
   ]
  },
  {
   "cell_type": "code",
   "execution_count": 27,
   "metadata": {},
   "outputs": [],
   "source": [
    "#traindat.to_json('train.json', orient='records', lines=True)\n"
   ]
  },
  {
   "cell_type": "code",
   "execution_count": 28,
   "metadata": {},
   "outputs": [],
   "source": [
    "t0  = '2013-07-01 00:00:00'\n",
    "data_length = 2182\n",
    "num_ts = 90\n",
    "period = 24\n",
    "freq= \"H\""
   ]
  },
  {
   "cell_type": "code",
   "execution_count": 29,
   "metadata": {},
   "outputs": [
    {
     "data": {
      "text/plain": [
       "DatetimeIndex(['2013-07-01 00:00:00', '2013-07-01 01:00:00',\n",
       "               '2013-07-01 02:00:00', '2013-07-01 03:00:00',\n",
       "               '2013-07-01 04:00:00', '2013-07-01 05:00:00',\n",
       "               '2013-07-01 06:00:00', '2013-07-01 07:00:00',\n",
       "               '2013-07-01 08:00:00', '2013-07-01 09:00:00',\n",
       "               ...\n",
       "               '2013-09-29 12:00:00', '2013-09-29 13:00:00',\n",
       "               '2013-09-29 14:00:00', '2013-09-29 15:00:00',\n",
       "               '2013-09-29 16:00:00', '2013-09-29 17:00:00',\n",
       "               '2013-09-29 18:00:00', '2013-09-29 19:00:00',\n",
       "               '2013-09-29 20:00:00', '2013-09-29 21:00:00'],\n",
       "              dtype='datetime64[ns]', length=2182, freq='H')"
      ]
     },
     "execution_count": 29,
     "metadata": {},
     "output_type": "execute_result"
    }
   ],
   "source": [
    "index = pd.DatetimeIndex(start=t0, freq=freq, periods=data_length)\n",
    "index\n",
    "data = result['target']\n",
    "index"
   ]
  },
  {
   "cell_type": "code",
   "execution_count": 30,
   "metadata": {},
   "outputs": [],
   "source": [
    "freq = 'H'\n",
    "prediction_length = 48\n",
    "context_length = 24"
   ]
  },
  {
   "cell_type": "code",
   "execution_count": 31,
   "metadata": {},
   "outputs": [],
   "source": [
    "time_series = []\n",
    "time_series.append(pd.Series(data=data, index=index))"
   ]
  },
  {
   "cell_type": "code",
   "execution_count": 32,
   "metadata": {},
   "outputs": [
    {
     "data": {
      "image/png": "[encoded data removed]",
      "text/plain": [
       "<Figure size 432x288 with 1 Axes>"
      ]
     },
     "metadata": {},
     "output_type": "display_data"
    }
   ],
   "source": [
    "time_series[0].plot()\n",
    "plt.show()"
   ]
  },
  {
   "cell_type": "code",
   "execution_count": 33,
   "metadata": {},
   "outputs": [],
   "source": [
    "time_series_training = []\n",
    "for ts in time_series:\n",
    "    time_series_training.append(ts[:-prediction_length])"
   ]
  },
  {
   "cell_type": "code",
   "execution_count": 34,
   "metadata": {},
   "outputs": [],
   "source": [
    "encoding = \"utf-8\"\n",
    "s3filesystem = s3fs.S3FileSystem()\n",
    "\n",
    "with s3filesystem.open(s3_data_path + \"/train/train.json\", 'wb') as fp:\n",
    "    for ts in time_series_training:\n",
    "        fp.write(series_to_jsonline(ts).encode(encoding))\n",
    "        fp.write('\\n'.encode(encoding))\n"
   ]
  },
  {
   "cell_type": "code",
   "execution_count": 35,
   "metadata": {},
   "outputs": [],
   "source": [
    "with s3filesystem.open(s3_data_path + \"/test/test.json\", 'wb') as fp:\n",
    "    for ts in time_series:\n",
    "        fp.write(series_to_jsonline(ts).encode(encoding))\n",
    "        fp.write('\\n'.encode(encoding))"
   ]
  },
  {
   "cell_type": "code",
   "execution_count": 36,
   "metadata": {},
   "outputs": [
    {
     "data": {
      "text/plain": [
       "'sagemaker-testtimeseries/sagemaker/test-demo-deepar/data'"
      ]
     },
     "execution_count": 36,
     "metadata": {},
     "output_type": "execute_result"
    }
   ],
   "source": [
    "s3_data_path"
   ]
  },
  {
   "cell_type": "code",
   "execution_count": 37,
   "metadata": {},
   "outputs": [],
   "source": [
    "estimator = sagemaker.estimator.Estimator(\n",
    "    sagemaker_session=sagemaker_session,\n",
    "    image_name=image_name,\n",
    "    role=role,\n",
    "    train_instance_count=1,\n",
    "    train_instance_type='ml.c4.xlarge',\n",
    "    base_job_name='test-demo-deepar',\n",
    "    output_path=\"s3://\" + s3_output_path\n",
    ")"
   ]
  },
  {
   "cell_type": "code",
   "execution_count": 49,
   "metadata": {},
   "outputs": [],
   "source": [
    "# student t under estimates with these parameters\n",
    "hyperparameters  = {\n",
    "    \"time_freq\": freq,\n",
    "    \"context_length\": context_length,\n",
    "    \"prediction_length\": prediction_length,\n",
    "    \"num_cells\": \"40\",\n",
    "    \"num_layers\": \"3\",\n",
    "    \"likelihood\": \"student-t\",\n",
    "    \"epochs\": \"50\",\n",
    "    \"mini_batch_size\": \"32\",\n",
    "    \"learning_rate\": \"0.001\",\n",
    "    \"dropout_rate\": \"0.05\",\n",
    "    \"early_stopping_patience\": \"10\"\n",
    "}"
   ]
  },
  {
   "cell_type": "code",
   "execution_count": 50,
   "metadata": {},
   "outputs": [],
   "source": [
    "estimator.set_hyperparameters(**hyperparameters)"
   ]
  },
  {
   "cell_type": "code",
   "execution_count": 51,
   "metadata": {},
   "outputs": [
    {
     "name": "stderr",
     "output_type": "stream",
     "text": [
      "INFO:sagemaker:Creating training-job with name: test-demo-deepar-2018-06-19-21-00-53-953\n"
     ]
    },
    {
     "name": "stdout",
     "output_type": "stream",
     "text": [
      ".........................\n",
      "\u001b[31mArguments: train\u001b[0m\n",
      "\u001b[31m[06/19/2018 21:04:52 INFO 140583306606400] Reading default configuration from /opt/amazon/lib/python2.7/site-packages/algorithm/default-input.json: {u'dropout_rate': u'0.10', u'cardinality': u'', u'test_quantiles': u'[0.1, 0.2, 0.3, 0.4, 0.5, 0.6, 0.7, 0.8, 0.9]', u'_tuning_objective_metric': u'', u'_num_gpus': u'auto', u'learning_rate': u'0.001', u'num_cells': u'40', u'num_layers': u'2', u'embedding_dimension': u'', u'_kvstore': u'auto', u'_num_kv_servers': u'auto', u'mini_batch_size': u'32', u'likelihood': u'student-t', u'early_stopping_patience': u''}\u001b[0m\n",
      "\u001b[31m[06/19/2018 21:04:52 INFO 140583306606400] Reading provided configuration from /opt/ml/input/config/hyperparameters.json: {u'dropout_rate': u'0.05', u'learning_rate': u'0.001', u'num_cells': u'40', u'prediction_length': u'48', u'epochs': u'50', u'time_freq': u'H', u'context_length': u'24', u'num_layers': u'3', u'mini_batch_size': u'32', u'likelihood': u'student-t', u'early_stopping_patience': u'10'}\u001b[0m\n",
      "\u001b[31m[06/19/2018 21:04:52 INFO 140583306606400] Final configuration: {u'dropout_rate': u'0.05', u'test_quantiles': u'[0.1, 0.2, 0.3, 0.4, 0.5, 0.6, 0.7, 0.8, 0.9]', u'_tuning_objective_metric': u'', u'learning_rate': u'0.001', u'num_layers': u'3', u'epochs': u'50', u'embedding_dimension': u'', u'num_cells': u'40', u'_num_kv_servers': u'auto', u'cardinality': u'', u'likelihood': u'student-t', u'mini_batch_size': u'32', u'_num_gpus': u'auto', u'prediction_length': u'48', u'time_freq': u'H', u'context_length': u'24', u'_kvstore': u'auto', u'early_stopping_patience': u'10'}\u001b[0m\n",
      "\u001b[31m[06/19/2018 21:04:52 INFO 140583306606400] Detected entry point for worker worker\u001b[0m\n",
      "\u001b[31m[06/19/2018 21:04:52 INFO 140583306606400] nvidia-smi took: 0.0251979827881 secs to identify 0 gpus\u001b[0m\n",
      "\u001b[31m[06/19/2018 21:04:52 INFO 140583306606400] Number of GPUs being used: 0\u001b[0m\n",
      "\u001b[31m[06/19/2018 21:04:52 WARNING 140583306606400] Dataset contains very few time-series which may not be sufficient for good accuracy\u001b[0m\n",
      "\u001b[31m[06/19/2018 21:04:52 INFO 140583306606400] Training set statistics:\u001b[0m\n",
      "\u001b[31m[06/19/2018 21:04:52 INFO 140583306606400] Real timeseries\u001b[0m\n",
      "\u001b[31m[06/19/2018 21:04:52 INFO 140583306606400] number of timeseries: 1\u001b[0m\n",
      "\u001b[31m[06/19/2018 21:04:52 INFO 140583306606400] number of observations: 2134\u001b[0m\n",
      "\u001b[31m[06/19/2018 21:04:52 INFO 140583306606400] mean target length: 2134\u001b[0m\n",
      "\u001b[31m[06/19/2018 21:04:52 INFO 140583306606400] min/mean/max target: 0.0/442131.373946/2017685.125\u001b[0m\n",
      "\u001b[31m[06/19/2018 21:04:52 INFO 140583306606400] mean abs(target): 442131.373946\u001b[0m\n",
      "\u001b[31m[06/19/2018 21:04:52 INFO 140583306606400] Small number of time-series. Doing 10 number of passes over dataset per epoch.\u001b[0m\n",
      "\u001b[31m[06/19/2018 21:04:52 INFO 140583306606400] Test set statistics:\u001b[0m\n",
      "\u001b[31m[06/19/2018 21:04:52 INFO 140583306606400] Real timeseries\u001b[0m\n",
      "\u001b[31m[06/19/2018 21:04:52 INFO 140583306606400] number of timeseries: 1\u001b[0m\n",
      "\u001b[31m[06/19/2018 21:04:52 INFO 140583306606400] number of observations: 2182\u001b[0m\n",
      "\u001b[31m[06/19/2018 21:04:52 INFO 140583306606400] mean target length: 2182\u001b[0m\n",
      "\u001b[31m[06/19/2018 21:04:52 INFO 140583306606400] min/mean/max target: 0.0/436158.944088/2017685.125\u001b[0m\n",
      "\u001b[31m[06/19/2018 21:04:52 INFO 140583306606400] mean abs(target): 436158.944088\u001b[0m\n",
      "\u001b[31m[06/19/2018 21:04:52 INFO 140583306606400] Create Store: local\u001b[0m\n",
      "\u001b[31m#metrics {\"Metrics\": {\"get_graph.time\": {\"count\": 1, \"max\": 235.68105697631836, \"sum\": 235.68105697631836, \"min\": 235.68105697631836}}, \"EndTime\": 1529442293.123587, \"Dimensions\": {\"Host\": \"algo-1\", \"Operation\": \"training\", \"Algorithm\": \"AWS/DeepAR\"}, \"StartTime\": 1529442292.885969}\n",
      "\u001b[0m\n",
      "\u001b[31m[06/19/2018 21:04:53 INFO 140583306606400] Number of GPUs being used: 0\u001b[0m\n",
      "\u001b[31m#metrics {\"Metrics\": {\"initialize.time\": {\"count\": 1, \"max\": 540.3521060943604, \"sum\": 540.3521060943604, \"min\": 540.3521060943604}}, \"EndTime\": 1529442293.426386, \"Dimensions\": {\"Host\": \"algo-1\", \"Operation\": \"training\", \"Algorithm\": \"AWS/DeepAR\"}, \"StartTime\": 1529442293.123658}\n",
      "\u001b[0m\n",
      "\u001b[31m[06/19/2018 21:04:53 INFO 140583306606400] Using early stopping with patience 10\u001b[0m\n",
      "\u001b[31m[06/19/2018 21:04:53 INFO 140583306606400] Epoch[0] Batch[0] avg_epoch_loss=15.875957\u001b[0m\n",
      "\u001b[31m[06/19/2018 21:04:54 INFO 140583306606400] Epoch[0] Batch[5] avg_epoch_loss=15.250643\u001b[0m\n",
      "\u001b[31m[06/19/2018 21:04:54 INFO 140583306606400] Epoch[0] Batch [5]#011Speed: 306.51 samples/sec#011loss=15.250643\u001b[0m\n",
      "\u001b[31m[06/19/2018 21:04:54 INFO 140583306606400] processed a total of 317 examples\u001b[0m\n",
      "\u001b[31m#metrics {\"Metrics\": {\"epochs\": {\"count\": 1, \"max\": 50, \"sum\": 50.0, \"min\": 50}, \"update.time\": {\"count\": 1, \"max\": 1108.616828918457, \"sum\": 1108.616828918457, \"min\": 1108.616828918457}}, \"EndTime\": 1529442294.552443, \"Dimensions\": {\"Host\": \"algo-1\", \"Operation\": \"training\", \"Algorithm\": \"AWS/DeepAR\"}, \"StartTime\": 1529442293.426475}\n",
      "\u001b[0m\n",
      "\u001b[31m[06/19/2018 21:04:54 INFO 140583306606400] #throughput_metric: host=algo-1, train throughput=285.910907926 records/second\u001b[0m\n",
      "\u001b[31m[06/19/2018 21:04:54 INFO 140583306606400] #progress_metric: host=algo-1, completed 2 % of epochs\u001b[0m\n",
      "\u001b[31m[06/19/2018 21:04:54 INFO 140583306606400] best epoch loss so far\u001b[0m\n",
      "\u001b[31m[06/19/2018 21:04:54 INFO 140583306606400] Saved checkpoint to \"/opt/ml/model/state_ca20743d-b24a-4de4-813f-1015042e41d1-0000.params\"\u001b[0m\n",
      "\u001b[31m#metrics {\"Metrics\": {\"state.serialize.time\": {\"count\": 1, \"max\": 32.74202346801758, \"sum\": 32.74202346801758, \"min\": 32.74202346801758}}, \"EndTime\": 1529442294.58563, \"Dimensions\": {\"Host\": \"algo-1\", \"Operation\": \"training\", \"Algorithm\": \"AWS/DeepAR\"}, \"StartTime\": 1529442294.552525}\n",
      "\u001b[0m\n",
      "\u001b[31m[06/19/2018 21:04:54 INFO 140583306606400] Epoch[1] Batch[0] avg_epoch_loss=14.241843\u001b[0m\n",
      "\u001b[31m[06/19/2018 21:04:55 INFO 140583306606400] Epoch[1] Batch[5] avg_epoch_loss=14.173074\u001b[0m\n",
      "\u001b[31m[06/19/2018 21:04:55 INFO 140583306606400] Epoch[1] Batch [5]#011Speed: 321.56 samples/sec#011loss=14.173074\u001b[0m\n",
      "\u001b[31m[06/19/2018 21:04:55 INFO 140583306606400] processed a total of 309 examples\u001b[0m\n",
      "\u001b[31m#metrics {\"Metrics\": {\"update.time\": {\"count\": 1, \"max\": 966.0060405731201, \"sum\": 966.0060405731201, \"min\": 966.0060405731201}}, \"EndTime\": 1529442295.563943, \"Dimensions\": {\"Host\": \"algo-1\", \"Operation\": \"training\", \"Algorithm\": \"AWS/DeepAR\"}, \"StartTime\": 1529442294.585689}\n",
      "\u001b[0m\n",
      "\u001b[31m[06/19/2018 21:04:55 INFO 140583306606400] #throughput_metric: host=algo-1, train throughput=319.839043 records/second\u001b[0m\n",
      "\u001b[31m[06/19/2018 21:04:55 INFO 140583306606400] #progress_metric: host=algo-1, completed 4 % of epochs\u001b[0m\n",
      "\u001b[31m[06/19/2018 21:04:55 INFO 140583306606400] best epoch loss so far\u001b[0m\n",
      "\u001b[31m[06/19/2018 21:04:55 INFO 140583306606400] Saved checkpoint to \"/opt/ml/model/state_b78c48a8-819b-48fb-a547-9b63262ce804-0000.params\"\u001b[0m\n",
      "\u001b[31m#metrics {\"Metrics\": {\"state.serialize.time\": {\"count\": 1, \"max\": 33.943891525268555, \"sum\": 33.943891525268555, \"min\": 33.943891525268555}}, \"EndTime\": 1529442295.598285, \"Dimensions\": {\"Host\": \"algo-1\", \"Operation\": \"training\", \"Algorithm\": \"AWS/DeepAR\"}, \"StartTime\": 1529442295.564013}\n",
      "\u001b[0m\n",
      "\u001b[31m[06/19/2018 21:04:55 INFO 140583306606400] Epoch[2] Batch[0] avg_epoch_loss=13.922909\u001b[0m\n",
      "\u001b[31m[06/19/2018 21:04:56 INFO 140583306606400] Epoch[2] Batch[5] avg_epoch_loss=13.915772\u001b[0m\n",
      "\u001b[31m[06/19/2018 21:04:56 INFO 140583306606400] Epoch[2] Batch [5]#011Speed: 332.82 samples/sec#011loss=13.915772\u001b[0m\n",
      "\u001b[31m[06/19/2018 21:04:56 INFO 140583306606400] Epoch[2] Batch[10] avg_epoch_loss=13.956267\u001b[0m\n",
      "\u001b[31m[06/19/2018 21:04:56 INFO 140583306606400] Epoch[2] Batch [10]#011Speed: 358.35 samples/sec#011loss=14.004860\u001b[0m\n",
      "\u001b[31m[06/19/2018 21:04:56 INFO 140583306606400] processed a total of 358 examples\u001b[0m\n",
      "\u001b[31m#metrics {\"Metrics\": {\"update.time\": {\"count\": 1, \"max\": 1101.835012435913, \"sum\": 1101.835012435913, \"min\": 1101.835012435913}}, \"EndTime\": 1529442296.712361, \"Dimensions\": {\"Host\": \"algo-1\", \"Operation\": \"training\", \"Algorithm\": \"AWS/DeepAR\"}, \"StartTime\": 1529442295.598337}\n",
      "\u001b[0m\n",
      "\u001b[31m[06/19/2018 21:04:56 INFO 140583306606400] #throughput_metric: host=algo-1, train throughput=324.881597085 records/second\u001b[0m\n",
      "\u001b[31m[06/19/2018 21:04:56 INFO 140583306606400] #progress_metric: host=algo-1, completed 6 % of epochs\u001b[0m\n",
      "\u001b[31m[06/19/2018 21:04:56 INFO 140583306606400] best epoch loss so far\u001b[0m\n",
      "\u001b[31m[06/19/2018 21:04:56 INFO 140583306606400] Saved checkpoint to \"/opt/ml/model/state_25da498f-7e5e-4fc5-9721-4e35f49d5620-0000.params\"\u001b[0m\n",
      "\u001b[31m#metrics {\"Metrics\": {\"state.serialize.time\": {\"count\": 1, \"max\": 29.80208396911621, \"sum\": 29.80208396911621, \"min\": 29.80208396911621}}, \"EndTime\": 1529442296.742621, \"Dimensions\": {\"Host\": \"algo-1\", \"Operation\": \"training\", \"Algorithm\": \"AWS/DeepAR\"}, \"StartTime\": 1529442296.712431}\n",
      "\u001b[0m\n",
      "\u001b[31m[06/19/2018 21:04:56 INFO 140583306606400] Epoch[3] Batch[0] avg_epoch_loss=13.804983\u001b[0m\n",
      "\u001b[31m[06/19/2018 21:04:57 INFO 140583306606400] Epoch[3] Batch[5] avg_epoch_loss=13.971395\u001b[0m\n",
      "\u001b[31m[06/19/2018 21:04:57 INFO 140583306606400] Epoch[3] Batch [5]#011Speed: 331.66 samples/sec#011loss=13.971395\u001b[0m\n",
      "\u001b[31m[06/19/2018 21:04:57 INFO 140583306606400] processed a total of 309 examples\u001b[0m\n",
      "\u001b[31m#metrics {\"Metrics\": {\"update.time\": {\"count\": 1, \"max\": 924.9229431152344, \"sum\": 924.9229431152344, \"min\": 924.9229431152344}}, \"EndTime\": 1529442297.679725, \"Dimensions\": {\"Host\": \"algo-1\", \"Operation\": \"training\", \"Algorithm\": \"AWS/DeepAR\"}, \"StartTime\": 1529442296.742677}\n",
      "\u001b[0m\n",
      "\u001b[31m[06/19/2018 21:04:57 INFO 140583306606400] #throughput_metric: host=algo-1, train throughput=334.036421219 records/second\u001b[0m\n",
      "\u001b[31m[06/19/2018 21:04:57 INFO 140583306606400] #progress_metric: host=algo-1, completed 8 % of epochs\u001b[0m\n",
      "\u001b[31m[06/19/2018 21:04:57 INFO 140583306606400] best epoch loss so far\u001b[0m\n",
      "\u001b[31m[06/19/2018 21:04:57 INFO 140583306606400] Saved checkpoint to \"/opt/ml/model/state_f02287c0-6538-4ef4-8aef-613a97ae37fe-0000.params\"\u001b[0m\n",
      "\u001b[31m#metrics {\"Metrics\": {\"state.serialize.time\": {\"count\": 1, \"max\": 29.97279167175293, \"sum\": 29.97279167175293, \"min\": 29.97279167175293}}, \"EndTime\": 1529442297.710191, \"Dimensions\": {\"Host\": \"algo-1\", \"Operation\": \"training\", \"Algorithm\": \"AWS/DeepAR\"}, \"StartTime\": 1529442297.679788}\n",
      "\u001b[0m\n",
      "\u001b[31m[06/19/2018 21:04:57 INFO 140583306606400] Epoch[4] Batch[0] avg_epoch_loss=14.014051\u001b[0m\n",
      "\u001b[31m[06/19/2018 21:04:58 INFO 140583306606400] Epoch[4] Batch[5] avg_epoch_loss=13.898365\u001b[0m\n",
      "\u001b[31m[06/19/2018 21:04:58 INFO 140583306606400] Epoch[4] Batch [5]#011Speed: 328.98 samples/sec#011loss=13.898365\u001b[0m\n",
      "\u001b[31m[06/19/2018 21:04:58 INFO 140583306606400] Epoch[4] Batch[10] avg_epoch_loss=13.874287\u001b[0m\n",
      "\u001b[31m[06/19/2018 21:04:58 INFO 140583306606400] Epoch[4] Batch [10]#011Speed: 359.06 samples/sec#011loss=13.845393\u001b[0m\n",
      "\u001b[31m[06/19/2018 21:04:58 INFO 140583306606400] processed a total of 328 examples\u001b[0m\n",
      "\u001b[31m#metrics {\"Metrics\": {\"update.time\": {\"count\": 1, \"max\": 1012.4309062957764, \"sum\": 1012.4309062957764, \"min\": 1012.4309062957764}}, \"EndTime\": 1529442298.73484, \"Dimensions\": {\"Host\": \"algo-1\", \"Operation\": \"training\", \"Algorithm\": \"AWS/DeepAR\"}, \"StartTime\": 1529442297.710247}\n",
      "\u001b[0m\n",
      "\u001b[31m[06/19/2018 21:04:58 INFO 140583306606400] #throughput_metric: host=algo-1, train throughput=323.938778701 records/second\u001b[0m\n",
      "\u001b[31m[06/19/2018 21:04:58 INFO 140583306606400] #progress_metric: host=algo-1, completed 10 % of epochs\u001b[0m\n",
      "\u001b[31m[06/19/2018 21:04:58 INFO 140583306606400] best epoch loss so far\u001b[0m\n",
      "\u001b[31m[06/19/2018 21:04:58 INFO 140583306606400] Saved checkpoint to \"/opt/ml/model/state_b7fe0c39-4971-48d1-83c9-b5b56a306546-0000.params\"\u001b[0m\n",
      "\u001b[31m#metrics {\"Metrics\": {\"state.serialize.time\": {\"count\": 1, \"max\": 29.881954193115234, \"sum\": 29.881954193115234, \"min\": 29.881954193115234}}, \"EndTime\": 1529442298.765196, \"Dimensions\": {\"Host\": \"algo-1\", \"Operation\": \"training\", \"Algorithm\": \"AWS/DeepAR\"}, \"StartTime\": 1529442298.73491}\n",
      "\u001b[0m\n",
      "\u001b[31m[06/19/2018 21:04:58 INFO 140583306606400] Epoch[5] Batch[0] avg_epoch_loss=13.832990\u001b[0m\n",
      "\u001b[31m[06/19/2018 21:04:59 INFO 140583306606400] Epoch[5] Batch[5] avg_epoch_loss=13.848497\u001b[0m\n",
      "\u001b[31m[06/19/2018 21:04:59 INFO 140583306606400] Epoch[5] Batch [5]#011Speed: 353.39 samples/sec#011loss=13.848497\u001b[0m\n",
      "\u001b[31m[06/19/2018 21:04:59 INFO 140583306606400] Epoch[5] Batch[10] avg_epoch_loss=13.838579\u001b[0m\n",
      "\u001b[31m[06/19/2018 21:04:59 INFO 140583306606400] Epoch[5] Batch [10]#011Speed: 351.10 samples/sec#011loss=13.826677\u001b[0m\n",
      "\u001b[31m[06/19/2018 21:04:59 INFO 140583306606400] processed a total of 335 examples\u001b[0m\n",
      "\u001b[31m#metrics {\"Metrics\": {\"update.time\": {\"count\": 1, \"max\": 999.7789859771729, \"sum\": 999.7789859771729, \"min\": 999.7789859771729}}, \"EndTime\": 1529442299.777261, \"Dimensions\": {\"Host\": \"algo-1\", \"Operation\": \"training\", \"Algorithm\": \"AWS/DeepAR\"}, \"StartTime\": 1529442298.765244}\n",
      "\u001b[0m\n",
      "\u001b[31m[06/19/2018 21:04:59 INFO 140583306606400] #throughput_metric: host=algo-1, train throughput=335.038821427 records/second\u001b[0m\n",
      "\u001b[31m[06/19/2018 21:04:59 INFO 140583306606400] #progress_metric: host=algo-1, completed 12 % of epochs\u001b[0m\n",
      "\u001b[31m[06/19/2018 21:04:59 INFO 140583306606400] best epoch loss so far\u001b[0m\n",
      "\u001b[31m[06/19/2018 21:04:59 INFO 140583306606400] Saved checkpoint to \"/opt/ml/model/state_c6b78f86-3d5a-4d3c-8675-e5d1dadc8ac9-0000.params\"\u001b[0m\n",
      "\u001b[31m#metrics {\"Metrics\": {\"state.serialize.time\": {\"count\": 1, \"max\": 31.297922134399414, \"sum\": 31.297922134399414, \"min\": 31.297922134399414}}, \"EndTime\": 1529442299.808958, \"Dimensions\": {\"Host\": \"algo-1\", \"Operation\": \"training\", \"Algorithm\": \"AWS/DeepAR\"}, \"StartTime\": 1529442299.777334}\n",
      "\u001b[0m\n",
      "\u001b[31m[06/19/2018 21:04:59 INFO 140583306606400] Epoch[6] Batch[0] avg_epoch_loss=13.633935\u001b[0m\n",
      "\u001b[31m[06/19/2018 21:05:00 INFO 140583306606400] Epoch[6] Batch[5] avg_epoch_loss=13.698034\u001b[0m\n",
      "\u001b[31m[06/19/2018 21:05:00 INFO 140583306606400] Epoch[6] Batch [5]#011Speed: 302.36 samples/sec#011loss=13.698034\u001b[0m\n",
      "\u001b[31m[06/19/2018 21:05:00 INFO 140583306606400] processed a total of 290 examples\u001b[0m\n",
      "\u001b[31m#metrics {\"Metrics\": {\"update.time\": {\"count\": 1, \"max\": 968.8880443572998, \"sum\": 968.8880443572998, \"min\": 968.8880443572998}}, \"EndTime\": 1529442300.790043, \"Dimensions\": {\"Host\": \"algo-1\", \"Operation\": \"training\", \"Algorithm\": \"AWS/DeepAR\"}, \"StartTime\": 1529442299.809024}\n",
      "\u001b[0m\n",
      "\u001b[31m[06/19/2018 21:05:00 INFO 140583306606400] #throughput_metric: host=algo-1, train throughput=299.282876447 records/second\u001b[0m\n",
      "\u001b[31m[06/19/2018 21:05:00 INFO 140583306606400] #progress_metric: host=algo-1, completed 14 % of epochs\u001b[0m\n",
      "\u001b[31m[06/19/2018 21:05:00 INFO 140583306606400] best epoch loss so far\u001b[0m\n",
      "\u001b[31m[06/19/2018 21:05:00 INFO 140583306606400] Saved checkpoint to \"/opt/ml/model/state_62b1c4bd-bf7d-4937-95ce-bf23a99cf868-0000.params\"\u001b[0m\n",
      "\u001b[31m#metrics {\"Metrics\": {\"state.serialize.time\": {\"count\": 1, \"max\": 29.93607521057129, \"sum\": 29.93607521057129, \"min\": 29.93607521057129}}, \"EndTime\": 1529442300.820386, \"Dimensions\": {\"Host\": \"algo-1\", \"Operation\": \"training\", \"Algorithm\": \"AWS/DeepAR\"}, \"StartTime\": 1529442300.790108}\n",
      "\u001b[0m\n",
      "\u001b[31m[06/19/2018 21:05:00 INFO 140583306606400] Epoch[7] Batch[0] avg_epoch_loss=13.579939\u001b[0m\n",
      "\u001b[31m[06/19/2018 21:05:01 INFO 140583306606400] Epoch[7] Batch[5] avg_epoch_loss=13.617184\u001b[0m\n",
      "\u001b[31m[06/19/2018 21:05:01 INFO 140583306606400] Epoch[7] Batch [5]#011Speed: 352.50 samples/sec#011loss=13.617184\u001b[0m\n",
      "\u001b[31m[06/19/2018 21:05:01 INFO 140583306606400] Epoch[7] Batch[10] avg_epoch_loss=13.610793\u001b[0m\n",
      "\u001b[31m[06/19/2018 21:05:01 INFO 140583306606400] Epoch[7] Batch [10]#011Speed: 329.81 samples/sec#011loss=13.603124\u001b[0m\n",
      "\u001b[31m[06/19/2018 21:05:01 INFO 140583306606400] processed a total of 326 examples\u001b[0m\n",
      "\u001b[31m#metrics {\"Metrics\": {\"update.time\": {\"count\": 1, \"max\": 1020.6449031829834, \"sum\": 1020.6449031829834, \"min\": 1020.6449031829834}}, \"EndTime\": 1529442301.854073, \"Dimensions\": {\"Host\": \"algo-1\", \"Operation\": \"training\", \"Algorithm\": \"AWS/DeepAR\"}, \"StartTime\": 1529442300.820438}\n",
      "\u001b[0m\n",
      "\u001b[31m[06/19/2018 21:05:01 INFO 140583306606400] #throughput_metric: host=algo-1, train throughput=319.372697333 records/second\u001b[0m\n",
      "\u001b[31m[06/19/2018 21:05:01 INFO 140583306606400] #progress_metric: host=algo-1, completed 16 % of epochs\u001b[0m\n",
      "\u001b[31m[06/19/2018 21:05:01 INFO 140583306606400] best epoch loss so far\u001b[0m\n",
      "\u001b[31m[06/19/2018 21:05:01 INFO 140583306606400] Saved checkpoint to \"/opt/ml/model/state_654f0e46-2a93-4e3c-bf7f-81f368ea92b2-0000.params\"\u001b[0m\n",
      "\u001b[31m#metrics {\"Metrics\": {\"state.serialize.time\": {\"count\": 1, \"max\": 35.88294982910156, \"sum\": 35.88294982910156, \"min\": 35.88294982910156}}, \"EndTime\": 1529442301.890434, \"Dimensions\": {\"Host\": \"algo-1\", \"Operation\": \"training\", \"Algorithm\": \"AWS/DeepAR\"}, \"StartTime\": 1529442301.854143}\n",
      "\u001b[0m\n",
      "\u001b[31m[06/19/2018 21:05:02 INFO 140583306606400] Epoch[8] Batch[0] avg_epoch_loss=13.569779\u001b[0m\n",
      "\u001b[31m[06/19/2018 21:05:02 INFO 140583306606400] Epoch[8] Batch[5] avg_epoch_loss=13.574044\u001b[0m\n",
      "\u001b[31m[06/19/2018 21:05:02 INFO 140583306606400] Epoch[8] Batch [5]#011Speed: 316.59 samples/sec#011loss=13.574044\u001b[0m\n",
      "\u001b[31m[06/19/2018 21:05:02 INFO 140583306606400] processed a total of 299 examples\u001b[0m\n",
      "\u001b[31m#metrics {\"Metrics\": {\"update.time\": {\"count\": 1, \"max\": 980.518102645874, \"sum\": 980.518102645874, \"min\": 980.518102645874}}, \"EndTime\": 1529442302.894064, \"Dimensions\": {\"Host\": \"algo-1\", \"Operation\": \"training\", \"Algorithm\": \"AWS/DeepAR\"}, \"StartTime\": 1529442301.89051}\n",
      "\u001b[0m\n",
      "\u001b[31m[06/19/2018 21:05:02 INFO 140583306606400] #throughput_metric: host=algo-1, train throughput=304.907537004 records/second\u001b[0m\n",
      "\u001b[31m[06/19/2018 21:05:02 INFO 140583306606400] #progress_metric: host=algo-1, completed 18 % of epochs\u001b[0m\n",
      "\u001b[31m[06/19/2018 21:05:02 INFO 140583306606400] best epoch loss so far\u001b[0m\n",
      "\u001b[31m[06/19/2018 21:05:02 INFO 140583306606400] Saved checkpoint to \"/opt/ml/model/state_5d829664-90e8-463f-a549-f2640cacb747-0000.params\"\u001b[0m\n",
      "\u001b[31m#metrics {\"Metrics\": {\"state.serialize.time\": {\"count\": 1, \"max\": 45.67909240722656, \"sum\": 45.67909240722656, \"min\": 45.67909240722656}}, \"EndTime\": 1529442302.940142, \"Dimensions\": {\"Host\": \"algo-1\", \"Operation\": \"training\", \"Algorithm\": \"AWS/DeepAR\"}, \"StartTime\": 1529442302.894134}\n",
      "\u001b[0m\n",
      "\u001b[31m[06/19/2018 21:05:03 INFO 140583306606400] Epoch[9] Batch[0] avg_epoch_loss=13.417925\u001b[0m\n"
     ]
    },
    {
     "name": "stdout",
     "output_type": "stream",
     "text": [
      "\u001b[31m[06/19/2018 21:05:03 INFO 140583306606400] Epoch[9] Batch[5] avg_epoch_loss=13.484985\u001b[0m\n",
      "\u001b[31m[06/19/2018 21:05:03 INFO 140583306606400] Epoch[9] Batch [5]#011Speed: 318.28 samples/sec#011loss=13.484985\u001b[0m\n",
      "\u001b[31m[06/19/2018 21:05:03 INFO 140583306606400] processed a total of 303 examples\u001b[0m\n",
      "\u001b[31m#metrics {\"Metrics\": {\"update.time\": {\"count\": 1, \"max\": 939.3298625946045, \"sum\": 939.3298625946045, \"min\": 939.3298625946045}}, \"EndTime\": 1529442303.894599, \"Dimensions\": {\"Host\": \"algo-1\", \"Operation\": \"training\", \"Algorithm\": \"AWS/DeepAR\"}, \"StartTime\": 1529442302.940193}\n",
      "\u001b[0m\n",
      "\u001b[31m[06/19/2018 21:05:03 INFO 140583306606400] #throughput_metric: host=algo-1, train throughput=322.513006352 records/second\u001b[0m\n",
      "\u001b[31m[06/19/2018 21:05:03 INFO 140583306606400] #progress_metric: host=algo-1, completed 20 % of epochs\u001b[0m\n",
      "\u001b[31m[06/19/2018 21:05:03 INFO 140583306606400] best epoch loss so far\u001b[0m\n",
      "\u001b[31m[06/19/2018 21:05:03 INFO 140583306606400] Saved checkpoint to \"/opt/ml/model/state_8ad1f0ed-bec3-4c8f-be56-b2f2c2a58510-0000.params\"\u001b[0m\n",
      "\u001b[31m#metrics {\"Metrics\": {\"state.serialize.time\": {\"count\": 1, \"max\": 30.256986618041992, \"sum\": 30.256986618041992, \"min\": 30.256986618041992}}, \"EndTime\": 1529442303.925418, \"Dimensions\": {\"Host\": \"algo-1\", \"Operation\": \"training\", \"Algorithm\": \"AWS/DeepAR\"}, \"StartTime\": 1529442303.894729}\n",
      "\u001b[0m\n",
      "\u001b[31m[06/19/2018 21:05:04 INFO 140583306606400] Epoch[10] Batch[0] avg_epoch_loss=13.391928\u001b[0m\n",
      "\u001b[31m[06/19/2018 21:05:04 INFO 140583306606400] Epoch[10] Batch[5] avg_epoch_loss=13.478226\u001b[0m\n",
      "\u001b[31m[06/19/2018 21:05:04 INFO 140583306606400] Epoch[10] Batch [5]#011Speed: 304.03 samples/sec#011loss=13.478226\u001b[0m\n",
      "\u001b[31m[06/19/2018 21:05:04 INFO 140583306606400] Epoch[10] Batch[10] avg_epoch_loss=13.447264\u001b[0m\n",
      "\u001b[31m[06/19/2018 21:05:04 INFO 140583306606400] Epoch[10] Batch [10]#011Speed: 361.06 samples/sec#011loss=13.410108\u001b[0m\n",
      "\u001b[31m[06/19/2018 21:05:04 INFO 140583306606400] processed a total of 321 examples\u001b[0m\n",
      "\u001b[31m#metrics {\"Metrics\": {\"update.time\": {\"count\": 1, \"max\": 1060.9731674194336, \"sum\": 1060.9731674194336, \"min\": 1060.9731674194336}}, \"EndTime\": 1529442304.999481, \"Dimensions\": {\"Host\": \"algo-1\", \"Operation\": \"training\", \"Algorithm\": \"AWS/DeepAR\"}, \"StartTime\": 1529442303.925473}\n",
      "\u001b[0m\n",
      "\u001b[31m[06/19/2018 21:05:04 INFO 140583306606400] #throughput_metric: host=algo-1, train throughput=302.522236663 records/second\u001b[0m\n",
      "\u001b[31m[06/19/2018 21:05:04 INFO 140583306606400] #progress_metric: host=algo-1, completed 22 % of epochs\u001b[0m\n",
      "\u001b[31m[06/19/2018 21:05:04 INFO 140583306606400] best epoch loss so far\u001b[0m\n",
      "\u001b[31m[06/19/2018 21:05:05 INFO 140583306606400] Saved checkpoint to \"/opt/ml/model/state_1f257f24-e6b3-4d49-b6ba-beef1dd16aeb-0000.params\"\u001b[0m\n",
      "\u001b[31m#metrics {\"Metrics\": {\"state.serialize.time\": {\"count\": 1, \"max\": 37.451982498168945, \"sum\": 37.451982498168945, \"min\": 37.451982498168945}}, \"EndTime\": 1529442305.037354, \"Dimensions\": {\"Host\": \"algo-1\", \"Operation\": \"training\", \"Algorithm\": \"AWS/DeepAR\"}, \"StartTime\": 1529442304.999555}\n",
      "\u001b[0m\n",
      "\u001b[31m[06/19/2018 21:05:05 INFO 140583306606400] Epoch[11] Batch[0] avg_epoch_loss=13.462058\u001b[0m\n",
      "\u001b[31m[06/19/2018 21:05:05 INFO 140583306606400] Epoch[11] Batch[5] avg_epoch_loss=13.319970\u001b[0m\n",
      "\u001b[31m[06/19/2018 21:05:05 INFO 140583306606400] Epoch[11] Batch [5]#011Speed: 347.48 samples/sec#011loss=13.319970\u001b[0m\n",
      "\u001b[31m[06/19/2018 21:05:06 INFO 140583306606400] Epoch[11] Batch[10] avg_epoch_loss=13.341839\u001b[0m\n",
      "\u001b[31m[06/19/2018 21:05:06 INFO 140583306606400] Epoch[11] Batch [10]#011Speed: 359.50 samples/sec#011loss=13.368081\u001b[0m\n",
      "\u001b[31m[06/19/2018 21:05:06 INFO 140583306606400] processed a total of 347 examples\u001b[0m\n",
      "\u001b[31m#metrics {\"Metrics\": {\"update.time\": {\"count\": 1, \"max\": 986.577033996582, \"sum\": 986.577033996582, \"min\": 986.577033996582}}, \"EndTime\": 1529442306.037127, \"Dimensions\": {\"Host\": \"algo-1\", \"Operation\": \"training\", \"Algorithm\": \"AWS/DeepAR\"}, \"StartTime\": 1529442305.037406}\n",
      "\u001b[0m\n",
      "\u001b[31m[06/19/2018 21:05:06 INFO 140583306606400] #throughput_metric: host=algo-1, train throughput=351.686550224 records/second\u001b[0m\n",
      "\u001b[31m[06/19/2018 21:05:06 INFO 140583306606400] #progress_metric: host=algo-1, completed 24 % of epochs\u001b[0m\n",
      "\u001b[31m[06/19/2018 21:05:06 INFO 140583306606400] best epoch loss so far\u001b[0m\n",
      "\u001b[31m[06/19/2018 21:05:06 INFO 140583306606400] Saved checkpoint to \"/opt/ml/model/state_f96ec84d-3686-4ee9-b1bc-80ab09085dbc-0000.params\"\u001b[0m\n",
      "\u001b[31m#metrics {\"Metrics\": {\"state.serialize.time\": {\"count\": 1, \"max\": 31.76593780517578, \"sum\": 31.76593780517578, \"min\": 31.76593780517578}}, \"EndTime\": 1529442306.069335, \"Dimensions\": {\"Host\": \"algo-1\", \"Operation\": \"training\", \"Algorithm\": \"AWS/DeepAR\"}, \"StartTime\": 1529442306.037193}\n",
      "\u001b[0m\n",
      "\u001b[31m[06/19/2018 21:05:06 INFO 140583306606400] Epoch[12] Batch[0] avg_epoch_loss=13.141031\u001b[0m\n",
      "\u001b[31m[06/19/2018 21:05:06 INFO 140583306606400] Epoch[12] Batch[5] avg_epoch_loss=13.269869\u001b[0m\n",
      "\u001b[31m[06/19/2018 21:05:06 INFO 140583306606400] Epoch[12] Batch [5]#011Speed: 311.20 samples/sec#011loss=13.269869\u001b[0m\n",
      "\u001b[31m[06/19/2018 21:05:07 INFO 140583306606400] processed a total of 303 examples\u001b[0m\n",
      "\u001b[31m#metrics {\"Metrics\": {\"update.time\": {\"count\": 1, \"max\": 978.8310527801514, \"sum\": 978.8310527801514, \"min\": 978.8310527801514}}, \"EndTime\": 1529442307.060665, \"Dimensions\": {\"Host\": \"algo-1\", \"Operation\": \"training\", \"Algorithm\": \"AWS/DeepAR\"}, \"StartTime\": 1529442306.069392}\n",
      "\u001b[0m\n",
      "\u001b[31m[06/19/2018 21:05:07 INFO 140583306606400] #throughput_metric: host=algo-1, train throughput=309.517777116 records/second\u001b[0m\n",
      "\u001b[31m[06/19/2018 21:05:07 INFO 140583306606400] #progress_metric: host=algo-1, completed 26 % of epochs\u001b[0m\n",
      "\u001b[31m[06/19/2018 21:05:07 INFO 140583306606400] best epoch loss so far\u001b[0m\n",
      "\u001b[31m[06/19/2018 21:05:07 INFO 140583306606400] Saved checkpoint to \"/opt/ml/model/state_83251d41-3c15-4453-a5d9-3c73be5425d6-0000.params\"\u001b[0m\n",
      "\u001b[31m#metrics {\"Metrics\": {\"state.serialize.time\": {\"count\": 1, \"max\": 29.039859771728516, \"sum\": 29.039859771728516, \"min\": 29.039859771728516}}, \"EndTime\": 1529442307.090169, \"Dimensions\": {\"Host\": \"algo-1\", \"Operation\": \"training\", \"Algorithm\": \"AWS/DeepAR\"}, \"StartTime\": 1529442307.060738}\n",
      "\u001b[0m\n",
      "\u001b[31m[06/19/2018 21:05:07 INFO 140583306606400] Epoch[13] Batch[0] avg_epoch_loss=13.067228\u001b[0m\n",
      "\u001b[31m[06/19/2018 21:05:07 INFO 140583306606400] Epoch[13] Batch[5] avg_epoch_loss=13.075566\u001b[0m\n",
      "\u001b[31m[06/19/2018 21:05:07 INFO 140583306606400] Epoch[13] Batch [5]#011Speed: 337.42 samples/sec#011loss=13.075566\u001b[0m\n",
      "\u001b[31m[06/19/2018 21:05:08 INFO 140583306606400] processed a total of 306 examples\u001b[0m\n",
      "\u001b[31m#metrics {\"Metrics\": {\"update.time\": {\"count\": 1, \"max\": 914.8070812225342, \"sum\": 914.8070812225342, \"min\": 914.8070812225342}}, \"EndTime\": 1529442308.017833, \"Dimensions\": {\"Host\": \"algo-1\", \"Operation\": \"training\", \"Algorithm\": \"AWS/DeepAR\"}, \"StartTime\": 1529442307.090226}\n",
      "\u001b[0m\n",
      "\u001b[31m[06/19/2018 21:05:08 INFO 140583306606400] #throughput_metric: host=algo-1, train throughput=334.462061976 records/second\u001b[0m\n",
      "\u001b[31m[06/19/2018 21:05:08 INFO 140583306606400] #progress_metric: host=algo-1, completed 28 % of epochs\u001b[0m\n",
      "\u001b[31m[06/19/2018 21:05:08 INFO 140583306606400] best epoch loss so far\u001b[0m\n",
      "\u001b[31m[06/19/2018 21:05:08 INFO 140583306606400] Saved checkpoint to \"/opt/ml/model/state_5c2ffd59-c8cc-4a34-8e30-6ac8a0cd6edc-0000.params\"\u001b[0m\n",
      "\u001b[31m#metrics {\"Metrics\": {\"state.serialize.time\": {\"count\": 1, \"max\": 29.34098243713379, \"sum\": 29.34098243713379, \"min\": 29.34098243713379}}, \"EndTime\": 1529442308.047594, \"Dimensions\": {\"Host\": \"algo-1\", \"Operation\": \"training\", \"Algorithm\": \"AWS/DeepAR\"}, \"StartTime\": 1529442308.017899}\n",
      "\u001b[0m\n",
      "\u001b[31m[06/19/2018 21:05:08 INFO 140583306606400] Epoch[14] Batch[0] avg_epoch_loss=13.087457\u001b[0m\n",
      "\u001b[31m[06/19/2018 21:05:08 INFO 140583306606400] Epoch[14] Batch[5] avg_epoch_loss=13.086252\u001b[0m\n",
      "\u001b[31m[06/19/2018 21:05:08 INFO 140583306606400] Epoch[14] Batch [5]#011Speed: 328.26 samples/sec#011loss=13.086252\u001b[0m\n",
      "\u001b[31m[06/19/2018 21:05:08 INFO 140583306606400] processed a total of 308 examples\u001b[0m\n",
      "\u001b[31m#metrics {\"Metrics\": {\"update.time\": {\"count\": 1, \"max\": 930.7498931884766, \"sum\": 930.7498931884766, \"min\": 930.7498931884766}}, \"EndTime\": 1529442308.991689, \"Dimensions\": {\"Host\": \"algo-1\", \"Operation\": \"training\", \"Algorithm\": \"AWS/DeepAR\"}, \"StartTime\": 1529442308.047658}\n",
      "\u001b[0m\n",
      "\u001b[31m[06/19/2018 21:05:08 INFO 140583306606400] #throughput_metric: host=algo-1, train throughput=330.883249313 records/second\u001b[0m\n",
      "\u001b[31m[06/19/2018 21:05:08 INFO 140583306606400] #progress_metric: host=algo-1, completed 30 % of epochs\u001b[0m\n",
      "\u001b[31m[06/19/2018 21:05:08 INFO 140583306606400] loss did not improve for 1 epochs\u001b[0m\n",
      "\u001b[31m[06/19/2018 21:05:09 INFO 140583306606400] Epoch[15] Batch[0] avg_epoch_loss=12.922814\u001b[0m\n",
      "\u001b[31m[06/19/2018 21:05:09 INFO 140583306606400] Epoch[15] Batch[5] avg_epoch_loss=13.009192\u001b[0m\n",
      "\u001b[31m[06/19/2018 21:05:09 INFO 140583306606400] Epoch[15] Batch [5]#011Speed: 345.14 samples/sec#011loss=13.009192\u001b[0m\n",
      "\u001b[31m[06/19/2018 21:05:09 INFO 140583306606400] processed a total of 301 examples\u001b[0m\n",
      "\u001b[31m#metrics {\"Metrics\": {\"update.time\": {\"count\": 1, \"max\": 915.9030914306641, \"sum\": 915.9030914306641, \"min\": 915.9030914306641}}, \"EndTime\": 1529442309.920894, \"Dimensions\": {\"Host\": \"algo-1\", \"Operation\": \"training\", \"Algorithm\": \"AWS/DeepAR\"}, \"StartTime\": 1529442308.991749}\n",
      "\u001b[0m\n",
      "\u001b[31m[06/19/2018 21:05:09 INFO 140583306606400] #throughput_metric: host=algo-1, train throughput=328.599324158 records/second\u001b[0m\n",
      "\u001b[31m[06/19/2018 21:05:09 INFO 140583306606400] #progress_metric: host=algo-1, completed 32 % of epochs\u001b[0m\n",
      "\u001b[31m[06/19/2018 21:05:09 INFO 140583306606400] best epoch loss so far\u001b[0m\n",
      "\u001b[31m[06/19/2018 21:05:09 INFO 140583306606400] Saved checkpoint to \"/opt/ml/model/state_f4710550-e2a6-43dd-a19f-3b3e0f7fca0a-0000.params\"\u001b[0m\n",
      "\u001b[31m#metrics {\"Metrics\": {\"state.serialize.time\": {\"count\": 1, \"max\": 37.43886947631836, \"sum\": 37.43886947631836, \"min\": 37.43886947631836}}, \"EndTime\": 1529442309.958744, \"Dimensions\": {\"Host\": \"algo-1\", \"Operation\": \"training\", \"Algorithm\": \"AWS/DeepAR\"}, \"StartTime\": 1529442309.920967}\n",
      "\u001b[0m\n",
      "\u001b[31m[06/19/2018 21:05:10 INFO 140583306606400] Epoch[16] Batch[0] avg_epoch_loss=12.875409\u001b[0m\n",
      "\u001b[31m[06/19/2018 21:05:10 INFO 140583306606400] Epoch[16] Batch[5] avg_epoch_loss=12.903156\u001b[0m\n",
      "\u001b[31m[06/19/2018 21:05:10 INFO 140583306606400] Epoch[16] Batch [5]#011Speed: 344.51 samples/sec#011loss=12.903156\u001b[0m\n",
      "\u001b[31m[06/19/2018 21:05:11 INFO 140583306606400] Epoch[16] Batch[10] avg_epoch_loss=12.914274\u001b[0m\n",
      "\u001b[31m[06/19/2018 21:05:11 INFO 140583306606400] Epoch[16] Batch [10]#011Speed: 326.54 samples/sec#011loss=12.927616\u001b[0m\n",
      "\u001b[31m[06/19/2018 21:05:11 INFO 140583306606400] processed a total of 330 examples\u001b[0m\n",
      "\u001b[31m#metrics {\"Metrics\": {\"update.time\": {\"count\": 1, \"max\": 1035.2129936218262, \"sum\": 1035.2129936218262, \"min\": 1035.2129936218262}}, \"EndTime\": 1529442311.006258, \"Dimensions\": {\"Host\": \"algo-1\", \"Operation\": \"training\", \"Algorithm\": \"AWS/DeepAR\"}, \"StartTime\": 1529442309.958811}\n",
      "\u001b[0m\n",
      "\u001b[31m[06/19/2018 21:05:11 INFO 140583306606400] #throughput_metric: host=algo-1, train throughput=318.743853085 records/second\u001b[0m\n",
      "\u001b[31m[06/19/2018 21:05:11 INFO 140583306606400] #progress_metric: host=algo-1, completed 34 % of epochs\u001b[0m\n",
      "\u001b[31m[06/19/2018 21:05:11 INFO 140583306606400] best epoch loss so far\u001b[0m\n",
      "\u001b[31m[06/19/2018 21:05:11 INFO 140583306606400] Saved checkpoint to \"/opt/ml/model/state_d39c7d8b-7a9a-46b6-ab1a-8e1807c61bf9-0000.params\"\u001b[0m\n",
      "\u001b[31m#metrics {\"Metrics\": {\"state.serialize.time\": {\"count\": 1, \"max\": 36.477088928222656, \"sum\": 36.477088928222656, \"min\": 36.477088928222656}}, \"EndTime\": 1529442311.04314, \"Dimensions\": {\"Host\": \"algo-1\", \"Operation\": \"training\", \"Algorithm\": \"AWS/DeepAR\"}, \"StartTime\": 1529442311.006326}\n",
      "\u001b[0m\n",
      "\u001b[31m[06/19/2018 21:05:11 INFO 140583306606400] Epoch[17] Batch[0] avg_epoch_loss=12.943115\u001b[0m\n",
      "\u001b[31m[06/19/2018 21:05:11 INFO 140583306606400] Epoch[17] Batch[5] avg_epoch_loss=12.822468\u001b[0m\n",
      "\u001b[31m[06/19/2018 21:05:11 INFO 140583306606400] Epoch[17] Batch [5]#011Speed: 338.25 samples/sec#011loss=12.822468\u001b[0m\n",
      "\u001b[31m[06/19/2018 21:05:12 INFO 140583306606400] Epoch[17] Batch[10] avg_epoch_loss=12.902668\u001b[0m\n",
      "\u001b[31m[06/19/2018 21:05:12 INFO 140583306606400] Epoch[17] Batch [10]#011Speed: 351.25 samples/sec#011loss=12.998909\u001b[0m\n",
      "\u001b[31m[06/19/2018 21:05:12 INFO 140583306606400] processed a total of 329 examples\u001b[0m\n",
      "\u001b[31m#metrics {\"Metrics\": {\"update.time\": {\"count\": 1, \"max\": 1012.066125869751, \"sum\": 1012.066125869751, \"min\": 1012.066125869751}}, \"EndTime\": 1529442312.067422, \"Dimensions\": {\"Host\": \"algo-1\", \"Operation\": \"training\", \"Algorithm\": \"AWS/DeepAR\"}, \"StartTime\": 1529442311.043206}\n",
      "\u001b[0m\n",
      "\u001b[31m[06/19/2018 21:05:12 INFO 140583306606400] #throughput_metric: host=algo-1, train throughput=325.047709433 records/second\u001b[0m\n",
      "\u001b[31m[06/19/2018 21:05:12 INFO 140583306606400] #progress_metric: host=algo-1, completed 36 % of epochs\u001b[0m\n",
      "\u001b[31m[06/19/2018 21:05:12 INFO 140583306606400] best epoch loss so far\u001b[0m\n",
      "\u001b[31m[06/19/2018 21:05:12 INFO 140583306606400] Saved checkpoint to \"/opt/ml/model/state_8b758c63-30d8-47f4-bd7f-9494767814b0-0000.params\"\u001b[0m\n",
      "\u001b[31m#metrics {\"Metrics\": {\"state.serialize.time\": {\"count\": 1, \"max\": 29.256105422973633, \"sum\": 29.256105422973633, \"min\": 29.256105422973633}}, \"EndTime\": 1529442312.097151, \"Dimensions\": {\"Host\": \"algo-1\", \"Operation\": \"training\", \"Algorithm\": \"AWS/DeepAR\"}, \"StartTime\": 1529442312.067481}\n",
      "\u001b[0m\n",
      "\u001b[31m[06/19/2018 21:05:12 INFO 140583306606400] Epoch[18] Batch[0] avg_epoch_loss=12.788270\u001b[0m\n",
      "\u001b[31m[06/19/2018 21:05:12 INFO 140583306606400] Epoch[18] Batch[5] avg_epoch_loss=12.880205\u001b[0m\n",
      "\u001b[31m[06/19/2018 21:05:12 INFO 140583306606400] Epoch[18] Batch [5]#011Speed: 328.61 samples/sec#011loss=12.880205\u001b[0m\n",
      "\u001b[31m[06/19/2018 21:05:13 INFO 140583306606400] processed a total of 305 examples\u001b[0m\n",
      "\u001b[31m#metrics {\"Metrics\": {\"update.time\": {\"count\": 1, \"max\": 947.1950531005859, \"sum\": 947.1950531005859, \"min\": 947.1950531005859}}, \"EndTime\": 1529442313.058286, \"Dimensions\": {\"Host\": \"algo-1\", \"Operation\": \"training\", \"Algorithm\": \"AWS/DeepAR\"}, \"StartTime\": 1529442312.097207}\n",
      "\u001b[0m\n",
      "\u001b[31m[06/19/2018 21:05:13 INFO 140583306606400] #throughput_metric: host=algo-1, train throughput=321.970062179 records/second\u001b[0m\n",
      "\u001b[31m[06/19/2018 21:05:13 INFO 140583306606400] #progress_metric: host=algo-1, completed 38 % of epochs\u001b[0m\n",
      "\u001b[31m[06/19/2018 21:05:13 INFO 140583306606400] best epoch loss so far\u001b[0m\n",
      "\u001b[31m[06/19/2018 21:05:13 INFO 140583306606400] Saved checkpoint to \"/opt/ml/model/state_c4e685db-0d32-4c78-bf5a-7f2d973cf23d-0000.params\"\u001b[0m\n",
      "\u001b[31m#metrics {\"Metrics\": {\"state.serialize.time\": {\"count\": 1, \"max\": 30.506134033203125, \"sum\": 30.506134033203125, \"min\": 30.506134033203125}}, \"EndTime\": 1529442313.089252, \"Dimensions\": {\"Host\": \"algo-1\", \"Operation\": \"training\", \"Algorithm\": \"AWS/DeepAR\"}, \"StartTime\": 1529442313.058353}\n",
      "\u001b[0m\n",
      "\u001b[31m[06/19/2018 21:05:13 INFO 140583306606400] Epoch[19] Batch[0] avg_epoch_loss=12.653576\u001b[0m\n"
     ]
    },
    {
     "name": "stdout",
     "output_type": "stream",
     "text": [
      "\u001b[31m[06/19/2018 21:05:13 INFO 140583306606400] Epoch[19] Batch[5] avg_epoch_loss=12.764702\u001b[0m\n",
      "\u001b[31m[06/19/2018 21:05:13 INFO 140583306606400] Epoch[19] Batch [5]#011Speed: 337.90 samples/sec#011loss=12.764702\u001b[0m\n",
      "\u001b[31m[06/19/2018 21:05:14 INFO 140583306606400] processed a total of 304 examples\u001b[0m\n",
      "\u001b[31m#metrics {\"Metrics\": {\"update.time\": {\"count\": 1, \"max\": 908.4780216217041, \"sum\": 908.4780216217041, \"min\": 908.4780216217041}}, \"EndTime\": 1529442314.011022, \"Dimensions\": {\"Host\": \"algo-1\", \"Operation\": \"training\", \"Algorithm\": \"AWS/DeepAR\"}, \"StartTime\": 1529442313.089304}\n",
      "\u001b[0m\n",
      "\u001b[31m[06/19/2018 21:05:14 INFO 140583306606400] #throughput_metric: host=algo-1, train throughput=334.57405524 records/second\u001b[0m\n",
      "\u001b[31m[06/19/2018 21:05:14 INFO 140583306606400] #progress_metric: host=algo-1, completed 40 % of epochs\u001b[0m\n",
      "\u001b[31m[06/19/2018 21:05:14 INFO 140583306606400] best epoch loss so far\u001b[0m\n",
      "\u001b[31m[06/19/2018 21:05:14 INFO 140583306606400] Saved checkpoint to \"/opt/ml/model/state_8b57f884-0b89-4d14-881f-13644ad8634f-0000.params\"\u001b[0m\n",
      "\u001b[31m#metrics {\"Metrics\": {\"state.serialize.time\": {\"count\": 1, \"max\": 29.434919357299805, \"sum\": 29.434919357299805, \"min\": 29.434919357299805}}, \"EndTime\": 1529442314.040985, \"Dimensions\": {\"Host\": \"algo-1\", \"Operation\": \"training\", \"Algorithm\": \"AWS/DeepAR\"}, \"StartTime\": 1529442314.011123}\n",
      "\u001b[0m\n",
      "\u001b[31m[06/19/2018 21:05:14 INFO 140583306606400] Epoch[20] Batch[0] avg_epoch_loss=12.877181\u001b[0m\n",
      "\u001b[31m[06/19/2018 21:05:14 INFO 140583306606400] Epoch[20] Batch[5] avg_epoch_loss=12.759096\u001b[0m\n",
      "\u001b[31m[06/19/2018 21:05:14 INFO 140583306606400] Epoch[20] Batch [5]#011Speed: 340.27 samples/sec#011loss=12.759096\u001b[0m\n",
      "\u001b[31m[06/19/2018 21:05:15 INFO 140583306606400] Epoch[20] Batch[10] avg_epoch_loss=12.777969\u001b[0m\n",
      "\u001b[31m[06/19/2018 21:05:15 INFO 140583306606400] Epoch[20] Batch [10]#011Speed: 337.74 samples/sec#011loss=12.800617\u001b[0m\n",
      "\u001b[31m[06/19/2018 21:05:15 INFO 140583306606400] processed a total of 335 examples\u001b[0m\n",
      "\u001b[31m#metrics {\"Metrics\": {\"update.time\": {\"count\": 1, \"max\": 1032.9291820526123, \"sum\": 1032.9291820526123, \"min\": 1032.9291820526123}}, \"EndTime\": 1529442315.086761, \"Dimensions\": {\"Host\": \"algo-1\", \"Operation\": \"training\", \"Algorithm\": \"AWS/DeepAR\"}, \"StartTime\": 1529442314.04104}\n",
      "\u001b[0m\n",
      "\u001b[31m[06/19/2018 21:05:15 INFO 140583306606400] #throughput_metric: host=algo-1, train throughput=324.287160706 records/second\u001b[0m\n",
      "\u001b[31m[06/19/2018 21:05:15 INFO 140583306606400] #progress_metric: host=algo-1, completed 42 % of epochs\u001b[0m\n",
      "\u001b[31m[06/19/2018 21:05:15 INFO 140583306606400] best epoch loss so far\u001b[0m\n",
      "\u001b[31m[06/19/2018 21:05:15 INFO 140583306606400] Saved checkpoint to \"/opt/ml/model/state_5de143a8-6a59-4aff-a3ab-e52358d74ac6-0000.params\"\u001b[0m\n",
      "\u001b[31m#metrics {\"Metrics\": {\"state.serialize.time\": {\"count\": 1, \"max\": 45.433998107910156, \"sum\": 45.433998107910156, \"min\": 45.433998107910156}}, \"EndTime\": 1529442315.132613, \"Dimensions\": {\"Host\": \"algo-1\", \"Operation\": \"training\", \"Algorithm\": \"AWS/DeepAR\"}, \"StartTime\": 1529442315.086834}\n",
      "\u001b[0m\n",
      "\u001b[31m[06/19/2018 21:05:15 INFO 140583306606400] Epoch[21] Batch[0] avg_epoch_loss=12.776826\u001b[0m\n",
      "\u001b[31m[06/19/2018 21:05:15 INFO 140583306606400] Epoch[21] Batch[5] avg_epoch_loss=12.713315\u001b[0m\n",
      "\u001b[31m[06/19/2018 21:05:15 INFO 140583306606400] Epoch[21] Batch [5]#011Speed: 346.10 samples/sec#011loss=12.713315\u001b[0m\n",
      "\u001b[31m[06/19/2018 21:05:16 INFO 140583306606400] Epoch[21] Batch[10] avg_epoch_loss=12.766253\u001b[0m\n",
      "\u001b[31m[06/19/2018 21:05:16 INFO 140583306606400] Epoch[21] Batch [10]#011Speed: 359.10 samples/sec#011loss=12.829778\u001b[0m\n",
      "\u001b[31m[06/19/2018 21:05:16 INFO 140583306606400] processed a total of 336 examples\u001b[0m\n",
      "\u001b[31m#metrics {\"Metrics\": {\"update.time\": {\"count\": 1, \"max\": 990.4968738555908, \"sum\": 990.4968738555908, \"min\": 990.4968738555908}}, \"EndTime\": 1529442316.139147, \"Dimensions\": {\"Host\": \"algo-1\", \"Operation\": \"training\", \"Algorithm\": \"AWS/DeepAR\"}, \"StartTime\": 1529442315.132677}\n",
      "\u001b[0m\n",
      "\u001b[31m[06/19/2018 21:05:16 INFO 140583306606400] #throughput_metric: host=algo-1, train throughput=339.184251568 records/second\u001b[0m\n",
      "\u001b[31m[06/19/2018 21:05:16 INFO 140583306606400] #progress_metric: host=algo-1, completed 44 % of epochs\u001b[0m\n",
      "\u001b[31m[06/19/2018 21:05:16 INFO 140583306606400] best epoch loss so far\u001b[0m\n",
      "\u001b[31m[06/19/2018 21:05:16 INFO 140583306606400] Saved checkpoint to \"/opt/ml/model/state_89cb7280-ac02-436a-a33a-012926bd7cfa-0000.params\"\u001b[0m\n",
      "\u001b[31m#metrics {\"Metrics\": {\"state.serialize.time\": {\"count\": 1, \"max\": 29.964923858642578, \"sum\": 29.964923858642578, \"min\": 29.964923858642578}}, \"EndTime\": 1529442316.169522, \"Dimensions\": {\"Host\": \"algo-1\", \"Operation\": \"training\", \"Algorithm\": \"AWS/DeepAR\"}, \"StartTime\": 1529442316.139209}\n",
      "\u001b[0m\n",
      "\u001b[31m[06/19/2018 21:05:16 INFO 140583306606400] Epoch[22] Batch[0] avg_epoch_loss=12.630653\u001b[0m\n",
      "\u001b[31m[06/19/2018 21:05:16 INFO 140583306606400] Epoch[22] Batch[5] avg_epoch_loss=12.685615\u001b[0m\n",
      "\u001b[31m[06/19/2018 21:05:16 INFO 140583306606400] Epoch[22] Batch [5]#011Speed: 339.84 samples/sec#011loss=12.685615\u001b[0m\n",
      "\u001b[31m[06/19/2018 21:05:17 INFO 140583306606400] Epoch[22] Batch[10] avg_epoch_loss=12.670281\u001b[0m\n",
      "\u001b[31m[06/19/2018 21:05:17 INFO 140583306606400] Epoch[22] Batch [10]#011Speed: 327.98 samples/sec#011loss=12.651880\u001b[0m\n",
      "\u001b[31m[06/19/2018 21:05:17 INFO 140583306606400] processed a total of 328 examples\u001b[0m\n",
      "\u001b[31m#metrics {\"Metrics\": {\"update.time\": {\"count\": 1, \"max\": 1039.0911102294922, \"sum\": 1039.0911102294922, \"min\": 1039.0911102294922}}, \"EndTime\": 1529442317.220788, \"Dimensions\": {\"Host\": \"algo-1\", \"Operation\": \"training\", \"Algorithm\": \"AWS/DeepAR\"}, \"StartTime\": 1529442316.169573}\n",
      "\u001b[0m\n",
      "\u001b[31m[06/19/2018 21:05:17 INFO 140583306606400] #throughput_metric: host=algo-1, train throughput=315.629485176 records/second\u001b[0m\n",
      "\u001b[31m[06/19/2018 21:05:17 INFO 140583306606400] #progress_metric: host=algo-1, completed 46 % of epochs\u001b[0m\n",
      "\u001b[31m[06/19/2018 21:05:17 INFO 140583306606400] best epoch loss so far\u001b[0m\n",
      "\u001b[31m[06/19/2018 21:05:17 INFO 140583306606400] Saved checkpoint to \"/opt/ml/model/state_eaa25082-6f8d-453c-877b-e0b7397ddc68-0000.params\"\u001b[0m\n",
      "\u001b[31m#metrics {\"Metrics\": {\"state.serialize.time\": {\"count\": 1, \"max\": 39.37387466430664, \"sum\": 39.37387466430664, \"min\": 39.37387466430664}}, \"EndTime\": 1529442317.26056, \"Dimensions\": {\"Host\": \"algo-1\", \"Operation\": \"training\", \"Algorithm\": \"AWS/DeepAR\"}, \"StartTime\": 1529442317.220858}\n",
      "\u001b[0m\n",
      "\u001b[31m[06/19/2018 21:05:17 INFO 140583306606400] Epoch[23] Batch[0] avg_epoch_loss=12.799823\u001b[0m\n",
      "\u001b[31m[06/19/2018 21:05:17 INFO 140583306606400] Epoch[23] Batch[5] avg_epoch_loss=12.729052\u001b[0m\n",
      "\u001b[31m[06/19/2018 21:05:17 INFO 140583306606400] Epoch[23] Batch [5]#011Speed: 352.99 samples/sec#011loss=12.729052\u001b[0m\n",
      "\u001b[31m[06/19/2018 21:05:18 INFO 140583306606400] processed a total of 315 examples\u001b[0m\n",
      "\u001b[31m#metrics {\"Metrics\": {\"update.time\": {\"count\": 1, \"max\": 926.5549182891846, \"sum\": 926.5549182891846, \"min\": 926.5549182891846}}, \"EndTime\": 1529442318.199458, \"Dimensions\": {\"Host\": \"algo-1\", \"Operation\": \"training\", \"Algorithm\": \"AWS/DeepAR\"}, \"StartTime\": 1529442317.260631}\n",
      "\u001b[0m\n",
      "\u001b[31m[06/19/2018 21:05:18 INFO 140583306606400] #throughput_metric: host=algo-1, train throughput=339.926457648 records/second\u001b[0m\n",
      "\u001b[31m[06/19/2018 21:05:18 INFO 140583306606400] #progress_metric: host=algo-1, completed 48 % of epochs\u001b[0m\n",
      "\u001b[31m[06/19/2018 21:05:18 INFO 140583306606400] loss did not improve for 1 epochs\u001b[0m\n",
      "\u001b[31m[06/19/2018 21:05:18 INFO 140583306606400] Epoch[24] Batch[0] avg_epoch_loss=12.773295\u001b[0m\n",
      "\u001b[31m[06/19/2018 21:05:18 INFO 140583306606400] Epoch[24] Batch[5] avg_epoch_loss=12.693944\u001b[0m\n",
      "\u001b[31m[06/19/2018 21:05:18 INFO 140583306606400] Epoch[24] Batch [5]#011Speed: 338.59 samples/sec#011loss=12.693944\u001b[0m\n",
      "\u001b[31m[06/19/2018 21:05:19 INFO 140583306606400] Epoch[24] Batch[10] avg_epoch_loss=12.700912\u001b[0m\n",
      "\u001b[31m[06/19/2018 21:05:19 INFO 140583306606400] Epoch[24] Batch [10]#011Speed: 337.74 samples/sec#011loss=12.709273\u001b[0m\n",
      "\u001b[31m[06/19/2018 21:05:19 INFO 140583306606400] processed a total of 326 examples\u001b[0m\n",
      "\u001b[31m#metrics {\"Metrics\": {\"update.time\": {\"count\": 1, \"max\": 1027.6200771331787, \"sum\": 1027.6200771331787, \"min\": 1027.6200771331787}}, \"EndTime\": 1529442319.240006, \"Dimensions\": {\"Host\": \"algo-1\", \"Operation\": \"training\", \"Algorithm\": \"AWS/DeepAR\"}, \"StartTime\": 1529442318.199538}\n",
      "\u001b[0m\n",
      "\u001b[31m[06/19/2018 21:05:19 INFO 140583306606400] #throughput_metric: host=algo-1, train throughput=317.204821603 records/second\u001b[0m\n",
      "\u001b[31m[06/19/2018 21:05:19 INFO 140583306606400] #progress_metric: host=algo-1, completed 50 % of epochs\u001b[0m\n",
      "\u001b[31m[06/19/2018 21:05:19 INFO 140583306606400] loss did not improve for 2 epochs\u001b[0m\n",
      "\u001b[31m[06/19/2018 21:05:19 INFO 140583306606400] Epoch[25] Batch[0] avg_epoch_loss=12.469651\u001b[0m\n",
      "\u001b[31m[06/19/2018 21:05:19 INFO 140583306606400] Epoch[25] Batch[5] avg_epoch_loss=12.654720\u001b[0m\n",
      "\u001b[31m[06/19/2018 21:05:19 INFO 140583306606400] Epoch[25] Batch [5]#011Speed: 358.32 samples/sec#011loss=12.654720\u001b[0m\n",
      "\u001b[31m[06/19/2018 21:05:20 INFO 140583306606400] Epoch[25] Batch[10] avg_epoch_loss=12.652158\u001b[0m\n",
      "\u001b[31m[06/19/2018 21:05:20 INFO 140583306606400] Epoch[25] Batch [10]#011Speed: 343.52 samples/sec#011loss=12.649085\u001b[0m\n",
      "\u001b[31m[06/19/2018 21:05:20 INFO 140583306606400] processed a total of 325 examples\u001b[0m\n",
      "\u001b[31m#metrics {\"Metrics\": {\"update.time\": {\"count\": 1, \"max\": 1003.4990310668945, \"sum\": 1003.4990310668945, \"min\": 1003.4990310668945}}, \"EndTime\": 1529442320.256051, \"Dimensions\": {\"Host\": \"algo-1\", \"Operation\": \"training\", \"Algorithm\": \"AWS/DeepAR\"}, \"StartTime\": 1529442319.240077}\n",
      "\u001b[0m\n",
      "\u001b[31m[06/19/2018 21:05:20 INFO 140583306606400] #throughput_metric: host=algo-1, train throughput=323.83446572 records/second\u001b[0m\n",
      "\u001b[31m[06/19/2018 21:05:20 INFO 140583306606400] #progress_metric: host=algo-1, completed 52 % of epochs\u001b[0m\n",
      "\u001b[31m[06/19/2018 21:05:20 INFO 140583306606400] best epoch loss so far\u001b[0m\n",
      "\u001b[31m[06/19/2018 21:05:20 INFO 140583306606400] Saved checkpoint to \"/opt/ml/model/state_f0fd73ce-5b3a-4b85-97b5-253e19776682-0000.params\"\u001b[0m\n",
      "\u001b[31m#metrics {\"Metrics\": {\"state.serialize.time\": {\"count\": 1, \"max\": 30.193090438842773, \"sum\": 30.193090438842773, \"min\": 30.193090438842773}}, \"EndTime\": 1529442320.286627, \"Dimensions\": {\"Host\": \"algo-1\", \"Operation\": \"training\", \"Algorithm\": \"AWS/DeepAR\"}, \"StartTime\": 1529442320.256118}\n",
      "\u001b[0m\n",
      "\u001b[31m[06/19/2018 21:05:20 INFO 140583306606400] Epoch[26] Batch[0] avg_epoch_loss=12.474346\u001b[0m\n",
      "\u001b[31m[06/19/2018 21:05:20 INFO 140583306606400] Epoch[26] Batch[5] avg_epoch_loss=12.610839\u001b[0m\n",
      "\u001b[31m[06/19/2018 21:05:20 INFO 140583306606400] Epoch[26] Batch [5]#011Speed: 338.33 samples/sec#011loss=12.610839\u001b[0m\n",
      "\u001b[31m[06/19/2018 21:05:21 INFO 140583306606400] processed a total of 289 examples\u001b[0m\n",
      "\u001b[31m#metrics {\"Metrics\": {\"update.time\": {\"count\": 1, \"max\": 955.5048942565918, \"sum\": 955.5048942565918, \"min\": 955.5048942565918}}, \"EndTime\": 1529442321.254353, \"Dimensions\": {\"Host\": \"algo-1\", \"Operation\": \"training\", \"Algorithm\": \"AWS/DeepAR\"}, \"StartTime\": 1529442320.286686}\n",
      "\u001b[0m\n",
      "\u001b[31m[06/19/2018 21:05:21 INFO 140583306606400] #throughput_metric: host=algo-1, train throughput=302.415186301 records/second\u001b[0m\n",
      "\u001b[31m[06/19/2018 21:05:21 INFO 140583306606400] #progress_metric: host=algo-1, completed 54 % of epochs\u001b[0m\n",
      "\u001b[31m[06/19/2018 21:05:21 INFO 140583306606400] best epoch loss so far\u001b[0m\n",
      "\u001b[31m[06/19/2018 21:05:21 INFO 140583306606400] Saved checkpoint to \"/opt/ml/model/state_56a0b125-fa2c-4c46-968c-f37357acec8d-0000.params\"\u001b[0m\n",
      "\u001b[31m#metrics {\"Metrics\": {\"state.serialize.time\": {\"count\": 1, \"max\": 32.64307975769043, \"sum\": 32.64307975769043, \"min\": 32.64307975769043}}, \"EndTime\": 1529442321.287399, \"Dimensions\": {\"Host\": \"algo-1\", \"Operation\": \"training\", \"Algorithm\": \"AWS/DeepAR\"}, \"StartTime\": 1529442321.254433}\n",
      "\u001b[0m\n",
      "\u001b[31m[06/19/2018 21:05:21 INFO 140583306606400] Epoch[27] Batch[0] avg_epoch_loss=12.688361\u001b[0m\n",
      "\u001b[31m[06/19/2018 21:05:21 INFO 140583306606400] Epoch[27] Batch[5] avg_epoch_loss=12.710099\u001b[0m\n",
      "\u001b[31m[06/19/2018 21:05:21 INFO 140583306606400] Epoch[27] Batch [5]#011Speed: 329.12 samples/sec#011loss=12.710099\u001b[0m\n",
      "\u001b[31m[06/19/2018 21:05:22 INFO 140583306606400] processed a total of 317 examples\u001b[0m\n",
      "\u001b[31m#metrics {\"Metrics\": {\"update.time\": {\"count\": 1, \"max\": 989.7220134735107, \"sum\": 989.7220134735107, \"min\": 989.7220134735107}}, \"EndTime\": 1529442322.289312, \"Dimensions\": {\"Host\": \"algo-1\", \"Operation\": \"training\", \"Algorithm\": \"AWS/DeepAR\"}, \"StartTime\": 1529442321.287463}\n",
      "\u001b[0m\n",
      "\u001b[31m[06/19/2018 21:05:22 INFO 140583306606400] #throughput_metric: host=algo-1, train throughput=320.254771265 records/second\u001b[0m\n",
      "\u001b[31m[06/19/2018 21:05:22 INFO 140583306606400] #progress_metric: host=algo-1, completed 56 % of epochs\u001b[0m\n",
      "\u001b[31m[06/19/2018 21:05:22 INFO 140583306606400] loss did not improve for 1 epochs\u001b[0m\n",
      "\u001b[31m[06/19/2018 21:05:22 INFO 140583306606400] Epoch[28] Batch[0] avg_epoch_loss=12.393848\u001b[0m\n",
      "\u001b[31m[06/19/2018 21:05:22 INFO 140583306606400] Epoch[28] Batch[5] avg_epoch_loss=12.651231\u001b[0m\n",
      "\u001b[31m[06/19/2018 21:05:22 INFO 140583306606400] Epoch[28] Batch [5]#011Speed: 347.99 samples/sec#011loss=12.651231\u001b[0m\n"
     ]
    },
    {
     "name": "stdout",
     "output_type": "stream",
     "text": [
      "\u001b[31m[06/19/2018 21:05:23 INFO 140583306606400] Epoch[28] Batch[10] avg_epoch_loss=12.572952\u001b[0m\n",
      "\u001b[31m[06/19/2018 21:05:23 INFO 140583306606400] Epoch[28] Batch [10]#011Speed: 316.87 samples/sec#011loss=12.479017\u001b[0m\n",
      "\u001b[31m[06/19/2018 21:05:23 INFO 140583306606400] processed a total of 346 examples\u001b[0m\n",
      "\u001b[31m#metrics {\"Metrics\": {\"update.time\": {\"count\": 1, \"max\": 1061.427116394043, \"sum\": 1061.427116394043, \"min\": 1061.427116394043}}, \"EndTime\": 1529442323.366801, \"Dimensions\": {\"Host\": \"algo-1\", \"Operation\": \"training\", \"Algorithm\": \"AWS/DeepAR\"}, \"StartTime\": 1529442322.289391}\n",
      "\u001b[0m\n",
      "\u001b[31m[06/19/2018 21:05:23 INFO 140583306606400] #throughput_metric: host=algo-1, train throughput=325.942469346 records/second\u001b[0m\n",
      "\u001b[31m[06/19/2018 21:05:23 INFO 140583306606400] #progress_metric: host=algo-1, completed 58 % of epochs\u001b[0m\n",
      "\u001b[31m[06/19/2018 21:05:23 INFO 140583306606400] best epoch loss so far\u001b[0m\n",
      "\u001b[31m[06/19/2018 21:05:23 INFO 140583306606400] Saved checkpoint to \"/opt/ml/model/state_424e9247-81b9-4fda-966d-9afc1e17e882-0000.params\"\u001b[0m\n",
      "\u001b[31m#metrics {\"Metrics\": {\"state.serialize.time\": {\"count\": 1, \"max\": 30.004024505615234, \"sum\": 30.004024505615234, \"min\": 30.004024505615234}}, \"EndTime\": 1529442323.397287, \"Dimensions\": {\"Host\": \"algo-1\", \"Operation\": \"training\", \"Algorithm\": \"AWS/DeepAR\"}, \"StartTime\": 1529442323.366872}\n",
      "\u001b[0m\n",
      "\u001b[31m[06/19/2018 21:05:23 INFO 140583306606400] Epoch[29] Batch[0] avg_epoch_loss=12.482491\u001b[0m\n",
      "\u001b[31m[06/19/2018 21:05:23 INFO 140583306606400] Epoch[29] Batch[5] avg_epoch_loss=12.474055\u001b[0m\n",
      "\u001b[31m[06/19/2018 21:05:23 INFO 140583306606400] Epoch[29] Batch [5]#011Speed: 321.27 samples/sec#011loss=12.474055\u001b[0m\n",
      "\u001b[31m[06/19/2018 21:05:24 INFO 140583306606400] processed a total of 311 examples\u001b[0m\n",
      "\u001b[31m#metrics {\"Metrics\": {\"update.time\": {\"count\": 1, \"max\": 947.4008083343506, \"sum\": 947.4008083343506, \"min\": 947.4008083343506}}, \"EndTime\": 1529442324.357477, \"Dimensions\": {\"Host\": \"algo-1\", \"Operation\": \"training\", \"Algorithm\": \"AWS/DeepAR\"}, \"StartTime\": 1529442323.397339}\n",
      "\u001b[0m\n",
      "\u001b[31m[06/19/2018 21:05:24 INFO 140583306606400] #throughput_metric: host=algo-1, train throughput=328.227402966 records/second\u001b[0m\n",
      "\u001b[31m[06/19/2018 21:05:24 INFO 140583306606400] #progress_metric: host=algo-1, completed 60 % of epochs\u001b[0m\n",
      "\u001b[31m[06/19/2018 21:05:24 INFO 140583306606400] best epoch loss so far\u001b[0m\n",
      "\u001b[31m[06/19/2018 21:05:24 INFO 140583306606400] Saved checkpoint to \"/opt/ml/model/state_e0f16a64-9b18-4769-9735-abcd99ebd461-0000.params\"\u001b[0m\n",
      "\u001b[31m#metrics {\"Metrics\": {\"state.serialize.time\": {\"count\": 1, \"max\": 33.02812576293945, \"sum\": 33.02812576293945, \"min\": 33.02812576293945}}, \"EndTime\": 1529442324.390925, \"Dimensions\": {\"Host\": \"algo-1\", \"Operation\": \"training\", \"Algorithm\": \"AWS/DeepAR\"}, \"StartTime\": 1529442324.357555}\n",
      "\u001b[0m\n",
      "\u001b[31m[06/19/2018 21:05:24 INFO 140583306606400] Epoch[30] Batch[0] avg_epoch_loss=12.567487\u001b[0m\n",
      "\u001b[31m[06/19/2018 21:05:24 INFO 140583306606400] Epoch[30] Batch[5] avg_epoch_loss=12.523025\u001b[0m\n",
      "\u001b[31m[06/19/2018 21:05:24 INFO 140583306606400] Epoch[30] Batch [5]#011Speed: 344.08 samples/sec#011loss=12.523025\u001b[0m\n",
      "\u001b[31m[06/19/2018 21:05:25 INFO 140583306606400] Epoch[30] Batch[10] avg_epoch_loss=12.591174\u001b[0m\n",
      "\u001b[31m[06/19/2018 21:05:25 INFO 140583306606400] Epoch[30] Batch [10]#011Speed: 341.49 samples/sec#011loss=12.672952\u001b[0m\n",
      "\u001b[31m[06/19/2018 21:05:25 INFO 140583306606400] processed a total of 321 examples\u001b[0m\n",
      "\u001b[31m#metrics {\"Metrics\": {\"update.time\": {\"count\": 1, \"max\": 1021.8238830566406, \"sum\": 1021.8238830566406, \"min\": 1021.8238830566406}}, \"EndTime\": 1529442325.425055, \"Dimensions\": {\"Host\": \"algo-1\", \"Operation\": \"training\", \"Algorithm\": \"AWS/DeepAR\"}, \"StartTime\": 1529442324.390989}\n",
      "\u001b[0m\n",
      "\u001b[31m[06/19/2018 21:05:25 INFO 140583306606400] #throughput_metric: host=algo-1, train throughput=314.111540413 records/second\u001b[0m\n",
      "\u001b[31m[06/19/2018 21:05:25 INFO 140583306606400] #progress_metric: host=algo-1, completed 62 % of epochs\u001b[0m\n",
      "\u001b[31m[06/19/2018 21:05:25 INFO 140583306606400] loss did not improve for 1 epochs\u001b[0m\n",
      "\u001b[31m[06/19/2018 21:05:25 INFO 140583306606400] Epoch[31] Batch[0] avg_epoch_loss=12.654254\u001b[0m\n",
      "\u001b[31m[06/19/2018 21:05:26 INFO 140583306606400] Epoch[31] Batch[5] avg_epoch_loss=12.761369\u001b[0m\n",
      "\u001b[31m[06/19/2018 21:05:26 INFO 140583306606400] Epoch[31] Batch [5]#011Speed: 327.35 samples/sec#011loss=12.761369\u001b[0m\n",
      "\u001b[31m[06/19/2018 21:05:26 INFO 140583306606400] Epoch[31] Batch[10] avg_epoch_loss=12.685167\u001b[0m\n",
      "\u001b[31m[06/19/2018 21:05:26 INFO 140583306606400] Epoch[31] Batch [10]#011Speed: 352.87 samples/sec#011loss=12.593725\u001b[0m\n",
      "\u001b[31m[06/19/2018 21:05:26 INFO 140583306606400] processed a total of 339 examples\u001b[0m\n",
      "\u001b[31m#metrics {\"Metrics\": {\"update.time\": {\"count\": 1, \"max\": 1025.1219272613525, \"sum\": 1025.1219272613525, \"min\": 1025.1219272613525}}, \"EndTime\": 1529442326.466651, \"Dimensions\": {\"Host\": \"algo-1\", \"Operation\": \"training\", \"Algorithm\": \"AWS/DeepAR\"}, \"StartTime\": 1529442325.425127}\n",
      "\u001b[0m\n",
      "\u001b[31m[06/19/2018 21:05:26 INFO 140583306606400] #throughput_metric: host=algo-1, train throughput=330.655918507 records/second\u001b[0m\n",
      "\u001b[31m[06/19/2018 21:05:26 INFO 140583306606400] #progress_metric: host=algo-1, completed 64 % of epochs\u001b[0m\n",
      "\u001b[31m[06/19/2018 21:05:26 INFO 140583306606400] loss did not improve for 2 epochs\u001b[0m\n",
      "\u001b[31m[06/19/2018 21:05:26 INFO 140583306606400] Epoch[32] Batch[0] avg_epoch_loss=12.659348\u001b[0m\n",
      "\u001b[31m[06/19/2018 21:05:27 INFO 140583306606400] Epoch[32] Batch[5] avg_epoch_loss=12.586636\u001b[0m\n",
      "\u001b[31m[06/19/2018 21:05:27 INFO 140583306606400] Epoch[32] Batch [5]#011Speed: 347.22 samples/sec#011loss=12.586636\u001b[0m\n",
      "\u001b[31m[06/19/2018 21:05:27 INFO 140583306606400] processed a total of 318 examples\u001b[0m\n",
      "\u001b[31m#metrics {\"Metrics\": {\"update.time\": {\"count\": 1, \"max\": 950.9799480438232, \"sum\": 950.9799480438232, \"min\": 950.9799480438232}}, \"EndTime\": 1529442327.430736, \"Dimensions\": {\"Host\": \"algo-1\", \"Operation\": \"training\", \"Algorithm\": \"AWS/DeepAR\"}, \"StartTime\": 1529442326.466726}\n",
      "\u001b[0m\n",
      "\u001b[31m[06/19/2018 21:05:27 INFO 140583306606400] #throughput_metric: host=algo-1, train throughput=334.353516796 records/second\u001b[0m\n",
      "\u001b[31m[06/19/2018 21:05:27 INFO 140583306606400] #progress_metric: host=algo-1, completed 66 % of epochs\u001b[0m\n",
      "\u001b[31m[06/19/2018 21:05:27 INFO 140583306606400] loss did not improve for 3 epochs\u001b[0m\n",
      "\u001b[31m[06/19/2018 21:05:27 INFO 140583306606400] Epoch[33] Batch[0] avg_epoch_loss=12.151886\u001b[0m\n",
      "\u001b[31m[06/19/2018 21:05:27 INFO 140583306606400] Epoch[33] Batch[5] avg_epoch_loss=12.456932\u001b[0m\n",
      "\u001b[31m[06/19/2018 21:05:27 INFO 140583306606400] Epoch[33] Batch [5]#011Speed: 345.79 samples/sec#011loss=12.456932\u001b[0m\n",
      "\u001b[31m[06/19/2018 21:05:28 INFO 140583306606400] Epoch[33] Batch[10] avg_epoch_loss=12.528425\u001b[0m\n",
      "\u001b[31m[06/19/2018 21:05:28 INFO 140583306606400] Epoch[33] Batch [10]#011Speed: 349.16 samples/sec#011loss=12.614217\u001b[0m\n",
      "\u001b[31m[06/19/2018 21:05:28 INFO 140583306606400] processed a total of 323 examples\u001b[0m\n",
      "\u001b[31m#metrics {\"Metrics\": {\"update.time\": {\"count\": 1, \"max\": 1001.6930103302002, \"sum\": 1001.6930103302002, \"min\": 1001.6930103302002}}, \"EndTime\": 1529442328.445501, \"Dimensions\": {\"Host\": \"algo-1\", \"Operation\": \"training\", \"Algorithm\": \"AWS/DeepAR\"}, \"StartTime\": 1529442327.430808}\n",
      "\u001b[0m\n",
      "\u001b[31m[06/19/2018 21:05:28 INFO 140583306606400] #throughput_metric: host=algo-1, train throughput=322.421236636 records/second\u001b[0m\n",
      "\u001b[31m[06/19/2018 21:05:28 INFO 140583306606400] #progress_metric: host=algo-1, completed 68 % of epochs\u001b[0m\n",
      "\u001b[31m[06/19/2018 21:05:28 INFO 140583306606400] loss did not improve for 4 epochs\u001b[0m\n",
      "\u001b[31m[06/19/2018 21:05:28 INFO 140583306606400] Epoch[34] Batch[0] avg_epoch_loss=12.390516\u001b[0m\n",
      "\u001b[31m[06/19/2018 21:05:29 INFO 140583306606400] Epoch[34] Batch[5] avg_epoch_loss=12.483746\u001b[0m\n",
      "\u001b[31m[06/19/2018 21:05:29 INFO 140583306606400] Epoch[34] Batch [5]#011Speed: 351.86 samples/sec#011loss=12.483746\u001b[0m\n",
      "\u001b[31m[06/19/2018 21:05:29 INFO 140583306606400] Epoch[34] Batch[10] avg_epoch_loss=12.470734\u001b[0m\n",
      "\u001b[31m[06/19/2018 21:05:29 INFO 140583306606400] Epoch[34] Batch [10]#011Speed: 329.21 samples/sec#011loss=12.455119\u001b[0m\n",
      "\u001b[31m[06/19/2018 21:05:29 INFO 140583306606400] processed a total of 335 examples\u001b[0m\n",
      "\u001b[31m#metrics {\"Metrics\": {\"update.time\": {\"count\": 1, \"max\": 1033.4651470184326, \"sum\": 1033.4651470184326, \"min\": 1033.4651470184326}}, \"EndTime\": 1529442329.495179, \"Dimensions\": {\"Host\": \"algo-1\", \"Operation\": \"training\", \"Algorithm\": \"AWS/DeepAR\"}, \"StartTime\": 1529442328.44557}\n",
      "\u001b[0m\n",
      "\u001b[31m[06/19/2018 21:05:29 INFO 140583306606400] #throughput_metric: host=algo-1, train throughput=324.117130351 records/second\u001b[0m\n",
      "\u001b[31m[06/19/2018 21:05:29 INFO 140583306606400] #progress_metric: host=algo-1, completed 70 % of epochs\u001b[0m\n",
      "\u001b[31m[06/19/2018 21:05:29 INFO 140583306606400] best epoch loss so far\u001b[0m\n",
      "\u001b[31m[06/19/2018 21:05:29 INFO 140583306606400] Saved checkpoint to \"/opt/ml/model/state_09b5e4bd-7358-4144-b910-e951072d8a6a-0000.params\"\u001b[0m\n",
      "\u001b[31m#metrics {\"Metrics\": {\"state.serialize.time\": {\"count\": 1, \"max\": 46.01001739501953, \"sum\": 46.01001739501953, \"min\": 46.01001739501953}}, \"EndTime\": 1529442329.541598, \"Dimensions\": {\"Host\": \"algo-1\", \"Operation\": \"training\", \"Algorithm\": \"AWS/DeepAR\"}, \"StartTime\": 1529442329.495256}\n",
      "\u001b[0m\n",
      "\u001b[31m[06/19/2018 21:05:29 INFO 140583306606400] Epoch[35] Batch[0] avg_epoch_loss=12.508583\u001b[0m\n",
      "\u001b[31m[06/19/2018 21:05:30 INFO 140583306606400] Epoch[35] Batch[5] avg_epoch_loss=12.433828\u001b[0m\n",
      "\u001b[31m[06/19/2018 21:05:30 INFO 140583306606400] Epoch[35] Batch [5]#011Speed: 359.70 samples/sec#011loss=12.433828\u001b[0m\n",
      "\u001b[31m[06/19/2018 21:05:30 INFO 140583306606400] Epoch[35] Batch[10] avg_epoch_loss=12.520701\u001b[0m\n",
      "\u001b[31m[06/19/2018 21:05:30 INFO 140583306606400] Epoch[35] Batch [10]#011Speed: 357.52 samples/sec#011loss=12.624949\u001b[0m\n",
      "\u001b[31m[06/19/2018 21:05:30 INFO 140583306606400] processed a total of 341 examples\u001b[0m\n",
      "\u001b[31m#metrics {\"Metrics\": {\"update.time\": {\"count\": 1, \"max\": 986.3049983978271, \"sum\": 986.3049983978271, \"min\": 986.3049983978271}}, \"EndTime\": 1529442330.540342, \"Dimensions\": {\"Host\": \"algo-1\", \"Operation\": \"training\", \"Algorithm\": \"AWS/DeepAR\"}, \"StartTime\": 1529442329.541702}\n",
      "\u001b[0m\n",
      "\u001b[31m[06/19/2018 21:05:30 INFO 140583306606400] #throughput_metric: host=algo-1, train throughput=345.70049361 records/second\u001b[0m\n",
      "\u001b[31m[06/19/2018 21:05:30 INFO 140583306606400] #progress_metric: host=algo-1, completed 72 % of epochs\u001b[0m\n",
      "\u001b[31m[06/19/2018 21:05:30 INFO 140583306606400] loss did not improve for 1 epochs\u001b[0m\n",
      "\u001b[31m[06/19/2018 21:05:30 INFO 140583306606400] Epoch[36] Batch[0] avg_epoch_loss=12.385230\u001b[0m\n",
      "\u001b[31m[06/19/2018 21:05:31 INFO 140583306606400] Epoch[36] Batch[5] avg_epoch_loss=12.472723\u001b[0m\n",
      "\u001b[31m[06/19/2018 21:05:31 INFO 140583306606400] Epoch[36] Batch [5]#011Speed: 345.49 samples/sec#011loss=12.472723\u001b[0m\n",
      "\u001b[31m[06/19/2018 21:05:31 INFO 140583306606400] Epoch[36] Batch[10] avg_epoch_loss=12.450203\u001b[0m\n",
      "\u001b[31m[06/19/2018 21:05:31 INFO 140583306606400] Epoch[36] Batch [10]#011Speed: 322.10 samples/sec#011loss=12.423178\u001b[0m\n",
      "\u001b[31m[06/19/2018 21:05:31 INFO 140583306606400] processed a total of 361 examples\u001b[0m\n",
      "\u001b[31m#metrics {\"Metrics\": {\"update.time\": {\"count\": 1, \"max\": 1116.3370609283447, \"sum\": 1116.3370609283447, \"min\": 1116.3370609283447}}, \"EndTime\": 1529442331.669298, \"Dimensions\": {\"Host\": \"algo-1\", \"Operation\": \"training\", \"Algorithm\": \"AWS/DeepAR\"}, \"StartTime\": 1529442330.540402}\n",
      "\u001b[0m\n",
      "\u001b[31m[06/19/2018 21:05:31 INFO 140583306606400] #throughput_metric: host=algo-1, train throughput=323.348924219 records/second\u001b[0m\n",
      "\u001b[31m[06/19/2018 21:05:31 INFO 140583306606400] #progress_metric: host=algo-1, completed 74 % of epochs\u001b[0m\n",
      "\u001b[31m[06/19/2018 21:05:31 INFO 140583306606400] best epoch loss so far\u001b[0m\n",
      "\u001b[31m[06/19/2018 21:05:31 INFO 140583306606400] Saved checkpoint to \"/opt/ml/model/state_eb67c4b5-68a7-482e-ab34-764681177b7f-0000.params\"\u001b[0m\n",
      "\u001b[31m#metrics {\"Metrics\": {\"state.serialize.time\": {\"count\": 1, \"max\": 30.334949493408203, \"sum\": 30.334949493408203, \"min\": 30.334949493408203}}, \"EndTime\": 1529442331.700089, \"Dimensions\": {\"Host\": \"algo-1\", \"Operation\": \"training\", \"Algorithm\": \"AWS/DeepAR\"}, \"StartTime\": 1529442331.669364}\n",
      "\u001b[0m\n",
      "\u001b[31m[06/19/2018 21:05:31 INFO 140583306606400] Epoch[37] Batch[0] avg_epoch_loss=12.470418\u001b[0m\n",
      "\u001b[31m[06/19/2018 21:05:32 INFO 140583306606400] Epoch[37] Batch[5] avg_epoch_loss=12.496844\u001b[0m\n",
      "\u001b[31m[06/19/2018 21:05:32 INFO 140583306606400] Epoch[37] Batch [5]#011Speed: 319.78 samples/sec#011loss=12.496844\u001b[0m\n",
      "\u001b[31m[06/19/2018 21:05:32 INFO 140583306606400] processed a total of 265 examples\u001b[0m\n",
      "\u001b[31m#metrics {\"Metrics\": {\"update.time\": {\"count\": 1, \"max\": 851.1550426483154, \"sum\": 851.1550426483154, \"min\": 851.1550426483154}}, \"EndTime\": 1529442332.564042, \"Dimensions\": {\"Host\": \"algo-1\", \"Operation\": \"training\", \"Algorithm\": \"AWS/DeepAR\"}, \"StartTime\": 1529442331.700141}\n",
      "\u001b[0m\n",
      "\u001b[31m[06/19/2018 21:05:32 INFO 140583306606400] #throughput_metric: host=algo-1, train throughput=311.304659079 records/second\u001b[0m\n",
      "\u001b[31m[06/19/2018 21:05:32 INFO 140583306606400] #progress_metric: host=algo-1, completed 76 % of epochs\u001b[0m\n",
      "\u001b[31m[06/19/2018 21:05:32 INFO 140583306606400] best epoch loss so far\u001b[0m\n",
      "\u001b[31m[06/19/2018 21:05:32 INFO 140583306606400] Saved checkpoint to \"/opt/ml/model/state_2938179e-c277-4190-927f-b234ff7b6100-0000.params\"\u001b[0m\n",
      "\u001b[31m#metrics {\"Metrics\": {\"state.serialize.time\": {\"count\": 1, \"max\": 29.150009155273438, \"sum\": 29.150009155273438, \"min\": 29.150009155273438}}, \"EndTime\": 1529442332.593712, \"Dimensions\": {\"Host\": \"algo-1\", \"Operation\": \"training\", \"Algorithm\": \"AWS/DeepAR\"}, \"StartTime\": 1529442332.564105}\n",
      "\u001b[0m\n",
      "\u001b[31m[06/19/2018 21:05:32 INFO 140583306606400] Epoch[38] Batch[0] avg_epoch_loss=12.543055\u001b[0m\n",
      "\u001b[31m[06/19/2018 21:05:33 INFO 140583306606400] Epoch[38] Batch[5] avg_epoch_loss=12.533002\u001b[0m\n",
      "\u001b[31m[06/19/2018 21:05:33 INFO 140583306606400] Epoch[38] Batch [5]#011Speed: 344.94 samples/sec#011loss=12.533002\u001b[0m\n"
     ]
    },
    {
     "name": "stdout",
     "output_type": "stream",
     "text": [
      "\u001b[31m[06/19/2018 21:05:33 INFO 140583306606400] Epoch[38] Batch[10] avg_epoch_loss=12.537939\u001b[0m\n",
      "\u001b[31m[06/19/2018 21:05:33 INFO 140583306606400] Epoch[38] Batch [10]#011Speed: 338.56 samples/sec#011loss=12.543863\u001b[0m\n",
      "\u001b[31m[06/19/2018 21:05:33 INFO 140583306606400] processed a total of 335 examples\u001b[0m\n",
      "\u001b[31m#metrics {\"Metrics\": {\"update.time\": {\"count\": 1, \"max\": 1030.5919647216797, \"sum\": 1030.5919647216797, \"min\": 1030.5919647216797}}, \"EndTime\": 1529442333.637148, \"Dimensions\": {\"Host\": \"algo-1\", \"Operation\": \"training\", \"Algorithm\": \"AWS/DeepAR\"}, \"StartTime\": 1529442332.593777}\n",
      "\u001b[0m\n",
      "\u001b[31m[06/19/2018 21:05:33 INFO 140583306606400] #throughput_metric: host=algo-1, train throughput=325.03191466 records/second\u001b[0m\n",
      "\u001b[31m[06/19/2018 21:05:33 INFO 140583306606400] #progress_metric: host=algo-1, completed 78 % of epochs\u001b[0m\n",
      "\u001b[31m[06/19/2018 21:05:33 INFO 140583306606400] loss did not improve for 1 epochs\u001b[0m\n",
      "\u001b[31m[06/19/2018 21:05:33 INFO 140583306606400] Epoch[39] Batch[0] avg_epoch_loss=12.533126\u001b[0m\n",
      "\u001b[31m[06/19/2018 21:05:34 INFO 140583306606400] Epoch[39] Batch[5] avg_epoch_loss=12.459287\u001b[0m\n",
      "\u001b[31m[06/19/2018 21:05:34 INFO 140583306606400] Epoch[39] Batch [5]#011Speed: 341.56 samples/sec#011loss=12.459287\u001b[0m\n",
      "\u001b[31m[06/19/2018 21:05:34 INFO 140583306606400] processed a total of 288 examples\u001b[0m\n",
      "\u001b[31m#metrics {\"Metrics\": {\"update.time\": {\"count\": 1, \"max\": 822.8421211242676, \"sum\": 822.8421211242676, \"min\": 822.8421211242676}}, \"EndTime\": 1529442334.472656, \"Dimensions\": {\"Host\": \"algo-1\", \"Operation\": \"training\", \"Algorithm\": \"AWS/DeepAR\"}, \"StartTime\": 1529442333.637199}\n",
      "\u001b[0m\n",
      "\u001b[31m[06/19/2018 21:05:34 INFO 140583306606400] #throughput_metric: host=algo-1, train throughput=349.96430766 records/second\u001b[0m\n",
      "\u001b[31m[06/19/2018 21:05:34 INFO 140583306606400] #progress_metric: host=algo-1, completed 80 % of epochs\u001b[0m\n",
      "\u001b[31m[06/19/2018 21:05:34 INFO 140583306606400] loss did not improve for 2 epochs\u001b[0m\n",
      "\u001b[31m[06/19/2018 21:05:34 INFO 140583306606400] Epoch[40] Batch[0] avg_epoch_loss=12.359066\u001b[0m\n",
      "\u001b[31m[06/19/2018 21:05:35 INFO 140583306606400] Epoch[40] Batch[5] avg_epoch_loss=12.517132\u001b[0m\n",
      "\u001b[31m[06/19/2018 21:05:35 INFO 140583306606400] Epoch[40] Batch [5]#011Speed: 350.47 samples/sec#011loss=12.517132\u001b[0m\n",
      "\u001b[31m[06/19/2018 21:05:35 INFO 140583306606400] Epoch[40] Batch[10] avg_epoch_loss=12.510343\u001b[0m\n",
      "\u001b[31m[06/19/2018 21:05:35 INFO 140583306606400] Epoch[40] Batch [10]#011Speed: 352.82 samples/sec#011loss=12.502197\u001b[0m\n",
      "\u001b[31m[06/19/2018 21:05:35 INFO 140583306606400] processed a total of 358 examples\u001b[0m\n",
      "\u001b[31m#metrics {\"Metrics\": {\"update.time\": {\"count\": 1, \"max\": 1067.2941207885742, \"sum\": 1067.2941207885742, \"min\": 1067.2941207885742}}, \"EndTime\": 1529442335.555682, \"Dimensions\": {\"Host\": \"algo-1\", \"Operation\": \"training\", \"Algorithm\": \"AWS/DeepAR\"}, \"StartTime\": 1529442334.472724}\n",
      "\u001b[0m\n",
      "\u001b[31m[06/19/2018 21:05:35 INFO 140583306606400] #throughput_metric: host=algo-1, train throughput=335.395022372 records/second\u001b[0m\n",
      "\u001b[31m[06/19/2018 21:05:35 INFO 140583306606400] #progress_metric: host=algo-1, completed 82 % of epochs\u001b[0m\n",
      "\u001b[31m[06/19/2018 21:05:35 INFO 140583306606400] loss did not improve for 3 epochs\u001b[0m\n",
      "\u001b[31m[06/19/2018 21:05:35 INFO 140583306606400] Epoch[41] Batch[0] avg_epoch_loss=12.219635\u001b[0m\n",
      "\u001b[31m[06/19/2018 21:05:36 INFO 140583306606400] Epoch[41] Batch[5] avg_epoch_loss=12.519686\u001b[0m\n",
      "\u001b[31m[06/19/2018 21:05:36 INFO 140583306606400] Epoch[41] Batch [5]#011Speed: 321.16 samples/sec#011loss=12.519686\u001b[0m\n",
      "\u001b[31m[06/19/2018 21:05:36 INFO 140583306606400] processed a total of 285 examples\u001b[0m\n",
      "\u001b[31m#metrics {\"Metrics\": {\"update.time\": {\"count\": 1, \"max\": 869.3740367889404, \"sum\": 869.3740367889404, \"min\": 869.3740367889404}}, \"EndTime\": 1529442336.437936, \"Dimensions\": {\"Host\": \"algo-1\", \"Operation\": \"training\", \"Algorithm\": \"AWS/DeepAR\"}, \"StartTime\": 1529442335.555751}\n",
      "\u001b[0m\n",
      "\u001b[31m[06/19/2018 21:05:36 INFO 140583306606400] #throughput_metric: host=algo-1, train throughput=327.782162368 records/second\u001b[0m\n",
      "\u001b[31m[06/19/2018 21:05:36 INFO 140583306606400] #progress_metric: host=algo-1, completed 84 % of epochs\u001b[0m\n",
      "\u001b[31m[06/19/2018 21:05:36 INFO 140583306606400] loss did not improve for 4 epochs\u001b[0m\n",
      "\u001b[31m[06/19/2018 21:05:36 INFO 140583306606400] Epoch[42] Batch[0] avg_epoch_loss=12.434654\u001b[0m\n",
      "\u001b[31m[06/19/2018 21:05:37 INFO 140583306606400] Epoch[42] Batch[5] avg_epoch_loss=12.444948\u001b[0m\n",
      "\u001b[31m[06/19/2018 21:05:37 INFO 140583306606400] Epoch[42] Batch [5]#011Speed: 338.65 samples/sec#011loss=12.444948\u001b[0m\n",
      "\u001b[31m[06/19/2018 21:05:37 INFO 140583306606400] Epoch[42] Batch[10] avg_epoch_loss=12.401368\u001b[0m\n",
      "\u001b[31m[06/19/2018 21:05:37 INFO 140583306606400] Epoch[42] Batch [10]#011Speed: 353.99 samples/sec#011loss=12.349071\u001b[0m\n",
      "\u001b[31m[06/19/2018 21:05:37 INFO 140583306606400] processed a total of 331 examples\u001b[0m\n",
      "\u001b[31m#metrics {\"Metrics\": {\"update.time\": {\"count\": 1, \"max\": 1004.7798156738281, \"sum\": 1004.7798156738281, \"min\": 1004.7798156738281}}, \"EndTime\": 1529442337.455886, \"Dimensions\": {\"Host\": \"algo-1\", \"Operation\": \"training\", \"Algorithm\": \"AWS/DeepAR\"}, \"StartTime\": 1529442336.438007}\n",
      "\u001b[0m\n",
      "\u001b[31m[06/19/2018 21:05:37 INFO 140583306606400] #throughput_metric: host=algo-1, train throughput=329.390626405 records/second\u001b[0m\n",
      "\u001b[31m[06/19/2018 21:05:37 INFO 140583306606400] #progress_metric: host=algo-1, completed 86 % of epochs\u001b[0m\n",
      "\u001b[31m[06/19/2018 21:05:37 INFO 140583306606400] best epoch loss so far\u001b[0m\n",
      "\u001b[31m[06/19/2018 21:05:37 INFO 140583306606400] Saved checkpoint to \"/opt/ml/model/state_2ae0f2a2-420e-4338-85ec-e0d5ef9dac98-0000.params\"\u001b[0m\n",
      "\u001b[31m#metrics {\"Metrics\": {\"state.serialize.time\": {\"count\": 1, \"max\": 30.031919479370117, \"sum\": 30.031919479370117, \"min\": 30.031919479370117}}, \"EndTime\": 1529442337.486378, \"Dimensions\": {\"Host\": \"algo-1\", \"Operation\": \"training\", \"Algorithm\": \"AWS/DeepAR\"}, \"StartTime\": 1529442337.455956}\n",
      "\u001b[0m\n",
      "\u001b[31m[06/19/2018 21:05:37 INFO 140583306606400] Epoch[43] Batch[0] avg_epoch_loss=12.314823\u001b[0m\n",
      "\u001b[31m[06/19/2018 21:05:38 INFO 140583306606400] Epoch[43] Batch[5] avg_epoch_loss=12.439798\u001b[0m\n",
      "\u001b[31m[06/19/2018 21:05:38 INFO 140583306606400] Epoch[43] Batch [5]#011Speed: 329.61 samples/sec#011loss=12.439798\u001b[0m\n",
      "\u001b[31m[06/19/2018 21:05:38 INFO 140583306606400] processed a total of 313 examples\u001b[0m\n",
      "\u001b[31m#metrics {\"Metrics\": {\"update.time\": {\"count\": 1, \"max\": 934.7259998321533, \"sum\": 934.7259998321533, \"min\": 934.7259998321533}}, \"EndTime\": 1529442338.434036, \"Dimensions\": {\"Host\": \"algo-1\", \"Operation\": \"training\", \"Algorithm\": \"AWS/DeepAR\"}, \"StartTime\": 1529442337.486432}\n",
      "\u001b[0m\n",
      "\u001b[31m[06/19/2018 21:05:38 INFO 140583306606400] #throughput_metric: host=algo-1, train throughput=334.819483954 records/second\u001b[0m\n",
      "\u001b[31m[06/19/2018 21:05:38 INFO 140583306606400] #progress_metric: host=algo-1, completed 88 % of epochs\u001b[0m\n",
      "\u001b[31m[06/19/2018 21:05:38 INFO 140583306606400] loss did not improve for 1 epochs\u001b[0m\n",
      "\u001b[31m[06/19/2018 21:05:38 INFO 140583306606400] Epoch[44] Batch[0] avg_epoch_loss=12.470516\u001b[0m\n",
      "\u001b[31m[06/19/2018 21:05:38 INFO 140583306606400] Epoch[44] Batch[5] avg_epoch_loss=12.496932\u001b[0m\n",
      "\u001b[31m[06/19/2018 21:05:38 INFO 140583306606400] Epoch[44] Batch [5]#011Speed: 346.90 samples/sec#011loss=12.496932\u001b[0m\n",
      "\u001b[31m[06/19/2018 21:05:39 INFO 140583306606400] Epoch[44] Batch[10] avg_epoch_loss=12.467420\u001b[0m\n",
      "\u001b[31m[06/19/2018 21:05:39 INFO 140583306606400] Epoch[44] Batch [10]#011Speed: 357.53 samples/sec#011loss=12.432006\u001b[0m\n",
      "\u001b[31m[06/19/2018 21:05:39 INFO 140583306606400] processed a total of 341 examples\u001b[0m\n",
      "\u001b[31m#metrics {\"Metrics\": {\"update.time\": {\"count\": 1, \"max\": 989.0491962432861, \"sum\": 989.0491962432861, \"min\": 989.0491962432861}}, \"EndTime\": 1529442339.439119, \"Dimensions\": {\"Host\": \"algo-1\", \"Operation\": \"training\", \"Algorithm\": \"AWS/DeepAR\"}, \"StartTime\": 1529442338.434106}\n",
      "\u001b[0m\n",
      "\u001b[31m[06/19/2018 21:05:39 INFO 140583306606400] #throughput_metric: host=algo-1, train throughput=344.732024921 records/second\u001b[0m\n",
      "\u001b[31m[06/19/2018 21:05:39 INFO 140583306606400] #progress_metric: host=algo-1, completed 90 % of epochs\u001b[0m\n",
      "\u001b[31m[06/19/2018 21:05:39 INFO 140583306606400] loss did not improve for 2 epochs\u001b[0m\n",
      "\u001b[31m[06/19/2018 21:05:39 INFO 140583306606400] Epoch[45] Batch[0] avg_epoch_loss=12.389185\u001b[0m\n",
      "\u001b[31m[06/19/2018 21:05:40 INFO 140583306606400] Epoch[45] Batch[5] avg_epoch_loss=12.457587\u001b[0m\n",
      "\u001b[31m[06/19/2018 21:05:40 INFO 140583306606400] Epoch[45] Batch [5]#011Speed: 326.12 samples/sec#011loss=12.457587\u001b[0m\n",
      "\u001b[31m[06/19/2018 21:05:40 INFO 140583306606400] Epoch[45] Batch[10] avg_epoch_loss=12.401787\u001b[0m\n",
      "\u001b[31m[06/19/2018 21:05:40 INFO 140583306606400] Epoch[45] Batch [10]#011Speed: 357.27 samples/sec#011loss=12.334828\u001b[0m\n",
      "\u001b[31m[06/19/2018 21:05:40 INFO 140583306606400] processed a total of 338 examples\u001b[0m\n",
      "\u001b[31m#metrics {\"Metrics\": {\"update.time\": {\"count\": 1, \"max\": 1018.5391902923584, \"sum\": 1018.5391902923584, \"min\": 1018.5391902923584}}, \"EndTime\": 1529442340.470564, \"Dimensions\": {\"Host\": \"algo-1\", \"Operation\": \"training\", \"Algorithm\": \"AWS/DeepAR\"}, \"StartTime\": 1529442339.439188}\n",
      "\u001b[0m\n",
      "\u001b[31m[06/19/2018 21:05:40 INFO 140583306606400] #throughput_metric: host=algo-1, train throughput=331.812703291 records/second\u001b[0m\n",
      "\u001b[31m[06/19/2018 21:05:40 INFO 140583306606400] #progress_metric: host=algo-1, completed 92 % of epochs\u001b[0m\n",
      "\u001b[31m[06/19/2018 21:05:40 INFO 140583306606400] loss did not improve for 3 epochs\u001b[0m\n",
      "\u001b[31m[06/19/2018 21:05:40 INFO 140583306606400] Epoch[46] Batch[0] avg_epoch_loss=12.508221\u001b[0m\n",
      "\u001b[31m[06/19/2018 21:05:41 INFO 140583306606400] Epoch[46] Batch[5] avg_epoch_loss=12.460219\u001b[0m\n",
      "\u001b[31m[06/19/2018 21:05:41 INFO 140583306606400] Epoch[46] Batch [5]#011Speed: 346.38 samples/sec#011loss=12.460219\u001b[0m\n",
      "\u001b[31m[06/19/2018 21:05:41 INFO 140583306606400] Epoch[46] Batch[10] avg_epoch_loss=12.456743\u001b[0m\n",
      "\u001b[31m[06/19/2018 21:05:41 INFO 140583306606400] Epoch[46] Batch [10]#011Speed: 356.36 samples/sec#011loss=12.452571\u001b[0m\n",
      "\u001b[31m[06/19/2018 21:05:41 INFO 140583306606400] processed a total of 348 examples\u001b[0m\n",
      "\u001b[31m#metrics {\"Metrics\": {\"update.time\": {\"count\": 1, \"max\": 991.2910461425781, \"sum\": 991.2910461425781, \"min\": 991.2910461425781}}, \"EndTime\": 1529442341.474809, \"Dimensions\": {\"Host\": \"algo-1\", \"Operation\": \"training\", \"Algorithm\": \"AWS/DeepAR\"}, \"StartTime\": 1529442340.470638}\n",
      "\u001b[0m\n",
      "\u001b[31m[06/19/2018 21:05:41 INFO 140583306606400] #throughput_metric: host=algo-1, train throughput=351.019519872 records/second\u001b[0m\n",
      "\u001b[31m[06/19/2018 21:05:41 INFO 140583306606400] #progress_metric: host=algo-1, completed 94 % of epochs\u001b[0m\n",
      "\u001b[31m[06/19/2018 21:05:41 INFO 140583306606400] loss did not improve for 4 epochs\u001b[0m\n",
      "\u001b[31m[06/19/2018 21:05:41 INFO 140583306606400] Epoch[47] Batch[0] avg_epoch_loss=12.415281\u001b[0m\n",
      "\u001b[31m[06/19/2018 21:05:42 INFO 140583306606400] Epoch[47] Batch[5] avg_epoch_loss=12.362254\u001b[0m\n",
      "\u001b[31m[06/19/2018 21:05:42 INFO 140583306606400] Epoch[47] Batch [5]#011Speed: 324.48 samples/sec#011loss=12.362254\u001b[0m\n",
      "\u001b[31m[06/19/2018 21:05:42 INFO 140583306606400] Epoch[47] Batch[10] avg_epoch_loss=12.380492\u001b[0m\n",
      "\u001b[31m[06/19/2018 21:05:42 INFO 140583306606400] Epoch[47] Batch [10]#011Speed: 353.47 samples/sec#011loss=12.402378\u001b[0m\n",
      "\u001b[31m[06/19/2018 21:05:42 INFO 140583306606400] processed a total of 331 examples\u001b[0m\n",
      "\u001b[31m#metrics {\"Metrics\": {\"update.time\": {\"count\": 1, \"max\": 1044.5408821105957, \"sum\": 1044.5408821105957, \"min\": 1044.5408821105957}}, \"EndTime\": 1529442342.535908, \"Dimensions\": {\"Host\": \"algo-1\", \"Operation\": \"training\", \"Algorithm\": \"AWS/DeepAR\"}, \"StartTime\": 1529442341.474881}\n",
      "\u001b[0m\n",
      "\u001b[31m[06/19/2018 21:05:42 INFO 140583306606400] #throughput_metric: host=algo-1, train throughput=316.844700946 records/second\u001b[0m\n",
      "\u001b[31m[06/19/2018 21:05:42 INFO 140583306606400] #progress_metric: host=algo-1, completed 96 % of epochs\u001b[0m\n",
      "\u001b[31m[06/19/2018 21:05:42 INFO 140583306606400] best epoch loss so far\u001b[0m\n",
      "\u001b[31m[06/19/2018 21:05:42 INFO 140583306606400] Saved checkpoint to \"/opt/ml/model/state_b370db89-6e26-47c9-b95a-7ab899dd38dc-0000.params\"\u001b[0m\n",
      "\u001b[31m#metrics {\"Metrics\": {\"state.serialize.time\": {\"count\": 1, \"max\": 35.57014465332031, \"sum\": 35.57014465332031, \"min\": 35.57014465332031}}, \"EndTime\": 1529442342.571911, \"Dimensions\": {\"Host\": \"algo-1\", \"Operation\": \"training\", \"Algorithm\": \"AWS/DeepAR\"}, \"StartTime\": 1529442342.536007}\n",
      "\u001b[0m\n",
      "\u001b[31m[06/19/2018 21:05:42 INFO 140583306606400] Epoch[48] Batch[0] avg_epoch_loss=12.458842\u001b[0m\n",
      "\u001b[31m[06/19/2018 21:05:43 INFO 140583306606400] Epoch[48] Batch[5] avg_epoch_loss=12.425282\u001b[0m\n",
      "\u001b[31m[06/19/2018 21:05:43 INFO 140583306606400] Epoch[48] Batch [5]#011Speed: 343.97 samples/sec#011loss=12.425282\u001b[0m\n"
     ]
    },
    {
     "name": "stdout",
     "output_type": "stream",
     "text": [
      "\u001b[31m[06/19/2018 21:05:43 INFO 140583306606400] Epoch[48] Batch[10] avg_epoch_loss=12.512419\u001b[0m\n",
      "\u001b[31m[06/19/2018 21:05:43 INFO 140583306606400] Epoch[48] Batch [10]#011Speed: 373.84 samples/sec#011loss=12.616984\u001b[0m\n",
      "\u001b[31m[06/19/2018 21:05:43 INFO 140583306606400] processed a total of 325 examples\u001b[0m\n",
      "\u001b[31m#metrics {\"Metrics\": {\"update.time\": {\"count\": 1, \"max\": 984.5750331878662, \"sum\": 984.5750331878662, \"min\": 984.5750331878662}}, \"EndTime\": 1529442343.568735, \"Dimensions\": {\"Host\": \"algo-1\", \"Operation\": \"training\", \"Algorithm\": \"AWS/DeepAR\"}, \"StartTime\": 1529442342.571965}\n",
      "\u001b[0m\n",
      "\u001b[31m[06/19/2018 21:05:43 INFO 140583306606400] #throughput_metric: host=algo-1, train throughput=330.057125369 records/second\u001b[0m\n",
      "\u001b[31m[06/19/2018 21:05:43 INFO 140583306606400] #progress_metric: host=algo-1, completed 98 % of epochs\u001b[0m\n",
      "\u001b[31m[06/19/2018 21:05:43 INFO 140583306606400] loss did not improve for 1 epochs\u001b[0m\n",
      "\u001b[31m[06/19/2018 21:05:43 INFO 140583306606400] Epoch[49] Batch[0] avg_epoch_loss=12.223332\u001b[0m\n",
      "\u001b[31m[06/19/2018 21:05:44 INFO 140583306606400] Epoch[49] Batch[5] avg_epoch_loss=12.452220\u001b[0m\n",
      "\u001b[31m[06/19/2018 21:05:44 INFO 140583306606400] Epoch[49] Batch [5]#011Speed: 346.34 samples/sec#011loss=12.452220\u001b[0m\n",
      "\u001b[31m[06/19/2018 21:05:44 INFO 140583306606400] Epoch[49] Batch[10] avg_epoch_loss=12.446611\u001b[0m\n",
      "\u001b[31m[06/19/2018 21:05:44 INFO 140583306606400] Epoch[49] Batch [10]#011Speed: 336.14 samples/sec#011loss=12.439880\u001b[0m\n",
      "\u001b[31m[06/19/2018 21:05:44 INFO 140583306606400] processed a total of 347 examples\u001b[0m\n",
      "\u001b[31m#metrics {\"Metrics\": {\"update.time\": {\"count\": 1, \"max\": 1019.3660259246826, \"sum\": 1019.3660259246826, \"min\": 1019.3660259246826}}, \"EndTime\": 1529442344.60063, \"Dimensions\": {\"Host\": \"algo-1\", \"Operation\": \"training\", \"Algorithm\": \"AWS/DeepAR\"}, \"StartTime\": 1529442343.568799}\n",
      "\u001b[0m\n",
      "\u001b[31m[06/19/2018 21:05:44 INFO 140583306606400] #throughput_metric: host=algo-1, train throughput=340.345884428 records/second\u001b[0m\n",
      "\u001b[31m[06/19/2018 21:05:44 INFO 140583306606400] #progress_metric: host=algo-1, completed 100 % of epochs\u001b[0m\n",
      "\u001b[31m[06/19/2018 21:05:44 INFO 140583306606400] loss did not improve for 2 epochs\u001b[0m\n",
      "\u001b[31m[06/19/2018 21:05:44 INFO 140583306606400] Loading parameters from best epoch (47)\u001b[0m\n",
      "\u001b[31m#metrics {\"Metrics\": {\"state.deserialize.time\": {\"count\": 1, \"max\": 17.860889434814453, \"sum\": 17.860889434814453, \"min\": 17.860889434814453}}, \"EndTime\": 1529442344.618917, \"Dimensions\": {\"Host\": \"algo-1\", \"Operation\": \"training\", \"Algorithm\": \"AWS/DeepAR\"}, \"StartTime\": 1529442344.600707}\n",
      "\u001b[0m\n",
      "\u001b[31m[06/19/2018 21:05:44 INFO 140583306606400] Final loss: 12.3804922971 (occured at epoch 47)\u001b[0m\n",
      "\u001b[31m[06/19/2018 21:05:44 INFO 140583306606400] #quality_metric: host=algo-1, train final_loss <loss>=12.3804922971\u001b[0m\n",
      "\u001b[31m[06/19/2018 21:05:44 INFO 140583306606400] Creating prediction graph.\u001b[0m\n",
      "\u001b[31m#metrics {\"Metrics\": {\"get_graph.time\": {\"count\": 1, \"max\": 2325.1709938049316, \"sum\": 2325.1709938049316, \"min\": 2325.1709938049316}}, \"EndTime\": 1529442346.944505, \"Dimensions\": {\"Host\": \"algo-1\", \"Operation\": \"training\", \"Algorithm\": \"AWS/DeepAR\"}, \"StartTime\": 1529442344.618986}\n",
      "\u001b[0m\n",
      "\u001b[31m[06/19/2018 21:05:48 INFO 140583306606400] Number of GPUs being used: 0\u001b[0m\n",
      "\u001b[31m#metrics {\"Metrics\": {\"finalize.time\": {\"count\": 1, \"max\": 4337.328910827637, \"sum\": 4337.328910827637, \"min\": 4337.328910827637}}, \"EndTime\": 1529442348.956633, \"Dimensions\": {\"Host\": \"algo-1\", \"Operation\": \"training\", \"Algorithm\": \"AWS/DeepAR\"}, \"StartTime\": 1529442346.944569}\n",
      "\u001b[0m\n",
      "\u001b[31m[06/19/2018 21:05:48 INFO 140583306606400] Serializing to /opt/ml/model/model_algo-1\u001b[0m\n",
      "\u001b[31m[06/19/2018 21:05:49 INFO 140583306606400] Saved checkpoint to \"/opt/ml/model/model_algo-1-0000.params\"\u001b[0m\n",
      "\u001b[31m#metrics {\"Metrics\": {\"model.serialize.time\": {\"count\": 1, \"max\": 325.869083404541, \"sum\": 325.869083404541, \"min\": 325.869083404541}}, \"EndTime\": 1529442349.282626, \"Dimensions\": {\"Host\": \"algo-1\", \"Operation\": \"training\", \"Algorithm\": \"AWS/DeepAR\"}, \"StartTime\": 1529442348.95671}\n",
      "\u001b[0m\n",
      "\u001b[31m[06/19/2018 21:05:49 INFO 140583306606400] Successfully created prediction graph and serialized the model.\u001b[0m\n",
      "\u001b[31m[06/19/2018 21:05:49 INFO 140583306606400] Evaluating model accuracy on testset using 100 samples\u001b[0m\n",
      "\u001b[31m#metrics {\"Metrics\": {\"model.bind.time\": {\"count\": 1, \"max\": 0.03314018249511719, \"sum\": 0.03314018249511719, \"min\": 0.03314018249511719}}, \"EndTime\": 1529442349.283905, \"Dimensions\": {\"Host\": \"algo-1\", \"Operation\": \"training\", \"Algorithm\": \"AWS/DeepAR\"}, \"StartTime\": 1529442349.282682}\n",
      "\u001b[0m\n",
      "\u001b[31m#metrics {\"Metrics\": {\"model.score.time\": {\"count\": 1, \"max\": 2610.037088394165, \"sum\": 2610.037088394165, \"min\": 2610.037088394165}}, \"EndTime\": 1529442351.893909, \"Dimensions\": {\"Host\": \"algo-1\", \"Operation\": \"training\", \"Algorithm\": \"AWS/DeepAR\"}, \"StartTime\": 1529442349.283963}\n",
      "\u001b[0m\n",
      "\u001b[31m[06/19/2018 21:05:51 INFO 140583306606400] #test_score (algo-1, wQuantileLoss[0.7]): 0.52829\u001b[0m\n",
      "\u001b[31m[06/19/2018 21:05:51 INFO 140583306606400] #test_score (algo-1, wQuantileLoss[0.6]): 0.637636\u001b[0m\n",
      "\u001b[31m[06/19/2018 21:05:51 INFO 140583306606400] #test_score (algo-1, mean_wQuantileLoss): 0.435059\u001b[0m\n",
      "\u001b[31m[06/19/2018 21:05:51 INFO 140583306606400] #test_score (algo-1, wQuantileLoss[0.1]): 0.222527\u001b[0m\n",
      "\u001b[31m[06/19/2018 21:05:51 INFO 140583306606400] #test_score (algo-1, RMSE): 98096.2283475\u001b[0m\n",
      "\u001b[31m[06/19/2018 21:05:51 INFO 140583306606400] #test_score (algo-1, wQuantileLoss[0.3]): 0.497542\u001b[0m\n",
      "\u001b[31m[06/19/2018 21:05:51 INFO 140583306606400] #test_score (algo-1, wQuantileLoss[0.9]): 0.124173\u001b[0m\n",
      "\u001b[31m[06/19/2018 21:05:51 INFO 140583306606400] #test_score (algo-1, wQuantileLoss[0.2]): 0.377141\u001b[0m\n",
      "\u001b[31m[06/19/2018 21:05:51 INFO 140583306606400] #test_score (algo-1, wQuantileLoss[0.8]): 0.302559\u001b[0m\n",
      "\u001b[31m[06/19/2018 21:05:51 INFO 140583306606400] #test_score (algo-1, wQuantileLoss[0.5]): 0.637124\u001b[0m\n",
      "\u001b[31m[06/19/2018 21:05:51 INFO 140583306606400] #test_score (algo-1, wQuantileLoss[0.4]): 0.588534\u001b[0m\n",
      "\u001b[31m[06/19/2018 21:05:51 INFO 140583306606400] #quality_metric: host=algo-1, test mean_wQuantileLoss <loss>=0.435058504343\u001b[0m\n",
      "\u001b[31m[06/19/2018 21:05:51 INFO 140583306606400] #quality_metric: host=algo-1, test RMSE <loss>=98096.2283475\u001b[0m\n",
      "\u001b[31m#metrics {\"Metrics\": {\"totaltime\": {\"count\": 1, \"max\": 59648.431062698364, \"sum\": 59648.431062698364, \"min\": 59648.431062698364}, \"setuptime\": {\"count\": 1, \"max\": 8.365154266357422, \"sum\": 8.365154266357422, \"min\": 8.365154266357422}}, \"EndTime\": 1529442352.371136, \"Dimensions\": {\"Host\": \"algo-1\", \"Operation\": \"training\", \"Algorithm\": \"AWS/DeepAR\"}, \"StartTime\": 1529442351.893972}\n",
      "\u001b[0m\n",
      "===== Job Complete =====\n",
      "Billable seconds: 168\n"
     ]
    }
   ],
   "source": [
    "data_channels = {\n",
    "    \"train\": \"s3://{}/train/\".format(s3_data_path),\n",
    "    \"test\": \"s3://{}/test/\".format(s3_data_path)\n",
    "}\n",
    "\n",
    "estimator.fit(inputs=data_channels)"
   ]
  },
  {
   "cell_type": "markdown",
   "metadata": {},
   "source": [
    "Create endpoint and predictor\n",
    "Now that we have trained a model, we can use it to perform predictions by deploying it to an endpoint.\n",
    "\n",
    "Note: remember to delete the enpoint after running this experiment. A cell at the very bottom of this notebook will do that: make sure you run it at the end."
   ]
  },
  {
   "cell_type": "code",
   "execution_count": 52,
   "metadata": {},
   "outputs": [
    {
     "name": "stderr",
     "output_type": "stream",
     "text": [
      "INFO:sagemaker:Creating model with name: test-demo-deepar-2018-06-19-21-00-53-953\n",
      "INFO:sagemaker:Creating endpoint-config with name test-demo-deepar-2018-06-19-21-00-53-953\n",
      "INFO:sagemaker:Creating endpoint with name test-demo-deepar-2018-06-19-21-00-53-953\n"
     ]
    },
    {
     "name": "stdout",
     "output_type": "stream",
     "text": [
      "-----------------------------------------------------------------------------------------!"
     ]
    }
   ],
   "source": [
    "job_name = estimator.latest_training_job.name\n",
    "\n",
    "endpoint_name = sagemaker_session.endpoint_from_job(\n",
    "    job_name=job_name,\n",
    "    initial_instance_count=1,\n",
    "    instance_type='ml.m4.xlarge',\n",
    "    deployment_image=image_name,\n",
    "    role=role\n",
    ")"
   ]
  },
  {
   "cell_type": "code",
   "execution_count": 53,
   "metadata": {},
   "outputs": [],
   "source": [
    "class DeepARPredictor(sagemaker.predictor.RealTimePredictor):\n",
    "\n",
    "    def set_prediction_parameters(self, freq, prediction_length):\n",
    "        \"\"\"Set the time frequency and prediction length parameters. This method **must** be called\n",
    "        before being able to use `predict`.\n",
    "        \n",
    "        Parameters:\n",
    "        freq -- string indicating the time frequency\n",
    "        prediction_length -- integer, number of predicted time points\n",
    "        \n",
    "        Return value: none.\n",
    "        \"\"\"\n",
    "        self.freq = freq\n",
    "        self.prediction_length = prediction_length\n",
    "        \n",
    "    def predict(self, ts, cat=None, encoding=\"utf-8\", num_samples=100, quantiles=[\"0.1\", \"0.5\", \"0.9\"]):\n",
    "        \"\"\"Requests the prediction of for the time series listed in `ts`, each with the (optional)\n",
    "        corresponding category listed in `cat`.\n",
    "        \n",
    "        Parameters:\n",
    "        ts -- list of `pandas.Series` objects, the time series to predict\n",
    "        cat -- list of integers (default: None)\n",
    "        encoding -- string, encoding to use for the request (default: \"utf-8\")\n",
    "        num_samples -- integer, number of samples to compute at prediction time (default: 100)\n",
    "        quantiles -- list of strings specifying the quantiles to compute (default: [\"0.1\", \"0.5\", \"0.9\"])\n",
    "        \n",
    "        Return value: list of `pandas.DataFrame` objects, each containing the predictions\n",
    "        \"\"\"\n",
    "        prediction_times = [x.index[-1]+1 for x in ts]\n",
    "        req = self.__encode_request(ts, cat, encoding, num_samples, quantiles)\n",
    "        res = super(DeepARPredictor, self).predict(req)\n",
    "        return self.__decode_response(res, prediction_times, encoding)\n",
    "    \n",
    "    def __encode_request(self, ts, cat, encoding, num_samples, quantiles):\n",
    "        instances = [series_to_obj(ts[k], cat[k] if cat else None) for k in range(len(ts))]\n",
    "        configuration = {\"num_samples\": num_samples, \"output_types\": [\"quantiles\"], \"quantiles\": quantiles}\n",
    "        http_request_data = {\"instances\": instances, \"configuration\": configuration}\n",
    "        return json.dumps(http_request_data).encode(encoding)\n",
    "    \n",
    "    def __decode_response(self, response, prediction_times, encoding):\n",
    "        response_data = json.loads(response.decode(encoding))\n",
    "        list_of_df = []\n",
    "        for k in range(len(prediction_times)):\n",
    "            prediction_index = pd.DatetimeIndex(start=prediction_times[k], freq=self.freq, periods=self.prediction_length)\n",
    "            list_of_df.append(pd.DataFrame(data=response_data['predictions'][k]['quantiles'], index=prediction_index))\n",
    "        return list_of_df"
   ]
  },
  {
   "cell_type": "code",
   "execution_count": 54,
   "metadata": {},
   "outputs": [],
   "source": [
    "predictor = DeepARPredictor(\n",
    "    endpoint=endpoint_name,\n",
    "    sagemaker_session=sagemaker_session,\n",
    "    content_type=\"application/json\"\n",
    ")\n",
    "predictor.set_prediction_parameters(freq, prediction_length)"
   ]
  },
  {
   "cell_type": "code",
   "execution_count": 55,
   "metadata": {},
   "outputs": [],
   "source": [
    "#traindat = pd.Series(traindat)"
   ]
  },
  {
   "cell_type": "code",
   "execution_count": 56,
   "metadata": {},
   "outputs": [],
   "source": [
    "list_of_df  = predictor.predict(time_series_training)\n",
    "actual_data = time_series"
   ]
  },
  {
   "cell_type": "code",
   "execution_count": 57,
   "metadata": {},
   "outputs": [
    {
     "data": {
      "image/png": "[encoded data removed]",
      "text/plain": [
       "<Figure size 864x432 with 1 Axes>"
      ]
     },
     "metadata": {},
     "output_type": "display_data"
    }
   ],
   "source": [
    "for k in range(len(list_of_df)):\n",
    "    plt.figure(figsize=(12,6))\n",
    "    actual_data[k][-prediction_length-context_length:].plot(label='target')\n",
    "    p10 = list_of_df[k]['0.1']\n",
    "    p90 = list_of_df[k]['0.9']\n",
    "    plt.fill_between(p10.index, p10, p90, color='y', alpha=0.5, label='80% confidence interval')\n",
    "    list_of_df[k]['0.5'].plot(label='prediction median')\n",
    "    plt.legend()\n",
    "    plt.show()"
   ]
  },
  {
   "cell_type": "markdown",
   "metadata": {},
   "source": [
    "## Created hyperparameter tuning job on the GUI, but attempting to do with code below."
   ]
  },
  {
   "cell_type": "code",
   "execution_count": null,
   "metadata": {},
   "outputs": [],
   "source": [
    "s3_input_train = 's3://{}/{}/train'.format(bucket, prefix)\n",
    "s3_input_validation ='s3://{}/{}/validation/'.format(bucket, prefix)"
   ]
  },
  {
   "cell_type": "code",
   "execution_count": 706,
   "metadata": {},
   "outputs": [
    {
     "ename": "NameError",
     "evalue": "name 'number' is not defined",
     "output_type": "error",
     "traceback": [
      "\u001b[0;31m---------------------------------------------------------------------------\u001b[0m",
      "\u001b[0;31mNameError\u001b[0m                                 Traceback (most recent call last)",
      "\u001b[0;32m<ipython-input-706-596473968352>\u001b[0m in \u001b[0;36m<module>\u001b[0;34m()\u001b[0m\n\u001b[1;32m     28\u001b[0m       },\n\u001b[1;32m     29\u001b[0m       \"ResourceLimits\": { \n\u001b[0;32m---> 30\u001b[0;31m          \u001b[0;34m\"MaxNumberOfTrainingJobs\"\u001b[0m\u001b[0;34m:\u001b[0m \u001b[0mnumber\u001b[0m\u001b[0;34m,\u001b[0m\u001b[0;34m\u001b[0m\u001b[0m\n\u001b[0m\u001b[1;32m     31\u001b[0m          \u001b[0;34m\"MaxParallelTrainingJobs\"\u001b[0m\u001b[0;34m:\u001b[0m \u001b[0mnumber\u001b[0m\u001b[0;34m\u001b[0m\u001b[0m\n\u001b[1;32m     32\u001b[0m       },\n",
      "\u001b[0;31mNameError\u001b[0m: name 'number' is not defined"
     ]
    }
   ],
   "source": [
    "tuning_job_config = {\n",
    "   \"HyperParameterTuningJobConfig\": { \n",
    "      \"HyperParameterTuningJobObjective\": { \n",
    "         \"MetricName\": \"string\",\n",
    "         \"Type\": \"string\"\n",
    "      },\n",
    "      \"ParameterRanges\": { \n",
    "         \"CategoricalParameterRanges\": [ \n",
    "            { \n",
    "               \"Name\": \"string\",\n",
    "               \"Values\": [ \"string\" ]\n",
    "            }\n",
    "         ],\n",
    "         \"ContinuousParameterRanges\": [ \n",
    "            { \n",
    "               \"MaxValue\": \"string\",\n",
    "               \"MinValue\": \"string\",\n",
    "               \"Name\": \"string\"\n",
    "            }\n",
    "         ],\n",
    "         \"IntegerParameterRanges\": [ \n",
    "            { \n",
    "               \"MaxValue\": \"string\",\n",
    "               \"MinValue\": \"string\",\n",
    "               \"Name\": \"string\"\n",
    "            }\n",
    "         ]\n",
    "      },\n",
    "      \"ResourceLimits\": { \n",
    "         \"MaxNumberOfTrainingJobs\": number,\n",
    "         \"MaxParallelTrainingJobs\": number\n",
    "      },\n",
    "      \"Strategy\": \"string\"\n",
    "   },\n",
    "   \"HyperParameterTuningJobName\": \"string\",\n",
    "   \"Tags\": [ \n",
    "      { \n",
    "         \"Key\": \"string\",\n",
    "         \"Value\": \"string\"\n",
    "      }\n",
    "   ],\n",
    "   \"TrainingJobDefinition\": { \n",
    "      \"AlgorithmSpecification\": { \n",
    "         \"MetricDefinitions\": [ \n",
    "            { \n",
    "               \"Name\": \"string\",\n",
    "               \"Regex\": \"string\"\n",
    "            }\n",
    "         ],\n",
    "         \"TrainingImage\": \"string\",\n",
    "         \"TrainingInputMode\": \"string\"\n",
    "      },\n",
    "      \"InputDataConfig\": [ \n",
    "         { \n",
    "            \"ChannelName\": \"string\",\n",
    "            \"CompressionType\": \"string\",\n",
    "            \"ContentType\": \"string\",\n",
    "            \"DataSource\": { \n",
    "               \"S3DataSource\": { \n",
    "                  \"S3DataDistributionType\": \"string\",\n",
    "                  \"S3DataType\": \"string\",\n",
    "                  \"S3Uri\": \"string\"\n",
    "               }\n",
    "            },\n",
    "            \"RecordWrapperType\": \"string\"\n",
    "         }\n",
    "      ],\n",
    "      \"OutputDataConfig\": { \n",
    "         \"KmsKeyId\": \"string\",\n",
    "         \"S3OutputPath\": \"string\"\n",
    "      },\n",
    "      \"ResourceConfig\": { \n",
    "         \"InstanceCount\": number,\n",
    "         \"InstanceType\": \"string\",\n",
    "         \"VolumeKmsKeyId\": \"string\",\n",
    "         \"VolumeSizeInGB\": number\n",
    "      },\n",
    "      \"RoleArn\": \"string\",\n",
    "      \"StaticHyperParameters\": { \n",
    "         \"string\" : \"string\" \n",
    "      },\n",
    "      \"StoppingCondition\": { \n",
    "         \"MaxRuntimeInSeconds\": number\n",
    "      },\n",
    "      \"VpcConfig\": { \n",
    "         \"SecurityGroupIds\": [ \"string\" ],\n",
    "         \"Subnets\": [ \"string\" ]\n",
    "      }\n",
    "   }\n",
    "}"
   ]
  },
  {
   "cell_type": "code",
   "execution_count": 704,
   "metadata": {},
   "outputs": [],
   "source": [
    "smclient = boto3.Session().client('sagemaker')"
   ]
  },
  {
   "cell_type": "code",
   "execution_count": 705,
   "metadata": {},
   "outputs": [
    {
     "ename": "NameError",
     "evalue": "name 'tuning_job_name' is not defined",
     "output_type": "error",
     "traceback": [
      "\u001b[0;31m---------------------------------------------------------------------------\u001b[0m",
      "\u001b[0;31mNameError\u001b[0m                                 Traceback (most recent call last)",
      "\u001b[0;32m<ipython-input-705-85ec1923f517>\u001b[0m in \u001b[0;36m<module>\u001b[0;34m()\u001b[0m\n\u001b[0;32m----> 1\u001b[0;31m smclient.create_hyper_parameter_tuning_job(HyperParameterTuningJobName = tuning_job_name,\n\u001b[0m\u001b[1;32m      2\u001b[0m                                             \u001b[0mHyperParameterTuningJobConfig\u001b[0m \u001b[0;34m=\u001b[0m \u001b[0mtuning_job_config\u001b[0m\u001b[0;34m,\u001b[0m\u001b[0;34m\u001b[0m\u001b[0m\n\u001b[1;32m      3\u001b[0m                                             TrainingJobDefinition = training_job_definition)\n",
      "\u001b[0;31mNameError\u001b[0m: name 'tuning_job_name' is not defined"
     ]
    }
   ],
   "source": [
    "smclient.create_hyper_parameter_tuning_job(HyperParameterTuningJobName = tuning_job_name,\n",
    "                                            HyperParameterTuningJobConfig = tuning_job_config,\n",
    "                                            TrainingJobDefinition = training_job_definition)\n"
   ]
  },
  {
   "cell_type": "markdown",
   "metadata": {},
   "source": [
    "### Query a trained model by using the model's endpoint. The endpoint takes the following JSON request format."
   ]
  },
  {
   "cell_type": "code",
   "execution_count": null,
   "metadata": {},
   "outputs": [],
   "source": [
    "\n",
    "{\n",
    " \"instances\": [\n",
    "  { \"start\": \"2009-11-01 00:00:00\", \"target\": [4.0, 10.0, 50.0, 100.0, 113.0], \"cat\": 0},\n",
    "  { \"start\": \"2012-01-30\", \"target\": [1.0], \"cat\": 2 },\n",
    "  { \"start\": \"1999-01-30\", \"target\": [2.0, 1.0], \"cat\": 1 }\n",
    " ],\n",
    " \"configuration\": {\n",
    "  \"num_samples\": 50,\n",
    "  \"output_types\": [\"mean\", \"quantiles\", \"samples\"],\n",
    "  \"quantiles\": [\"0.5\", \"0.9\"]\n",
    " }\n",
    "}"
   ]
  },
  {
   "cell_type": "code",
   "execution_count": 128,
   "metadata": {},
   "outputs": [
    {
     "name": "stderr",
     "output_type": "stream",
     "text": [
      "INFO:sagemaker:Deleting endpoint with name: test-demo-deepar-2018-06-19-17-29-48-394\n"
     ]
    }
   ],
   "source": [
    "sagemaker_session.delete_endpoint(endpoint_name)"
   ]
  },
  {
   "cell_type": "code",
   "execution_count": null,
   "metadata": {},
   "outputs": [],
   "source": []
  },
  {
   "cell_type": "code",
   "execution_count": null,
   "metadata": {},
   "outputs": [],
   "source": []
  }
 ],
 "metadata": {
  "kernelspec": {
   "display_name": "Python 3",
   "language": "python",
   "name": "python3"
  },
  "language_info": {
   "codemirror_mode": {
    "name": "ipython",
    "version": 3
   },
   "file_extension": ".py",
   "mimetype": "text/x-python",
   "name": "python",
   "nbconvert_exporter": "python",
   "pygments_lexer": "ipython3",
   "version": "3.6.4"
  },
  "notice": "Copyright 2017 Amazon.com, Inc. or its affiliates. All Rights Reserved.  Licensed under the Apache License, Version 2.0 (the \"License\"). You may not use this file except in compliance with the License. A copy of the License is located at http://aws.amazon.com/apache2.0/ or in the \"license\" file accompanying this file. This file is distributed on an \"AS IS\" BASIS, WITHOUT WARRANTIES OR CONDITIONS OF ANY KIND, either express or implied. See the License for the specific language governing permissions and limitations under the License."
 },
 "nbformat": 4,
 "nbformat_minor": 2
}
