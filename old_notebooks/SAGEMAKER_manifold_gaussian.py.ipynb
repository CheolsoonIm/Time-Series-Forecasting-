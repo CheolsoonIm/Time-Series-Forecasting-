{
 "cells": [
  {
   "cell_type": "markdown",
   "metadata": {
    "nbpresent": {
     "id": "42b5e80b-ad1d-4335-a1f7-10a91127e3dc"
    }
   },
   "source": [
    "# Time series forecasting with DeepAR\n",
    "\n",
    "## ***This is using the hourly aggregated data across VMs***\n",
    "DeepAR is a supervised learning algorithm for forecasting scalar time series. \n",
    "\n",
    "\n",
    "Let's start by specifying:\n",
    "\n",
    "- The S3 bucket and prefix that you want to use for training and model data.  This should be within the same region as the Notebook Instance, training, and hosting.\n",
    "- The IAM role arn used to give training and hosting access to your data. See the documentation for how to create these.  Note, if more than one role is required for notebook instances, training, and/or hosting, please replace the boto regexp with a the appropriate full IAM role arn string(s)."
   ]
  },
  {
   "cell_type": "code",
   "execution_count": 256,
   "metadata": {
    "isConfigCell": true
   },
   "outputs": [],
   "source": [
    "bucket = 'sagemaker-testtimeseries'\n",
    "prefix = 'sagemaker/test-demo-deepar'\n",
    " \n",
    "# Define IAM role\n",
    "import boto3\n",
    "import re\n",
    "from sagemaker import get_execution_role\n",
    "\n",
    "role = get_execution_role()"
   ]
  },
  {
   "cell_type": "code",
   "execution_count": 257,
   "metadata": {},
   "outputs": [
    {
     "data": {
      "text/plain": [
       "'arn:aws:iam::945416147148:role/service-role/AmazonSageMaker-ExecutionRole-20180616T095406'"
      ]
     },
     "execution_count": 257,
     "metadata": {},
     "output_type": "execute_result"
    }
   ],
   "source": [
    "role"
   ]
  },
  {
   "cell_type": "markdown",
   "metadata": {
    "nbpresent": {
     "id": "b2548d66-6f8f-426f-9cda-7a3cd1459abd"
    }
   },
   "source": [
    "Now we'll import the Python libraries we'll need."
   ]
  },
  {
   "cell_type": "code",
   "execution_count": 258,
   "metadata": {
    "nbpresent": {
     "id": "bb88eea9-27f3-4e47-9133-663911ea09a9"
    }
   },
   "outputs": [],
   "source": [
    "import pandas as pd\n",
    "import numpy as np\n",
    "import matplotlib.pyplot as plt\n",
    "import io\n",
    "import os\n",
    "import time\n",
    "import json\n",
    "import glob\n",
    "import sagemaker.amazon.common as smac\n",
    "import sagemaker\n",
    "from sagemaker.predictor import csv_serializer, json_deserializer\n",
    "import boto3\n",
    "import  s3fs\n",
    "import  sagemaker\n",
    "from sagemaker import get_execution_role"
   ]
  },
  {
   "cell_type": "code",
   "execution_count": 259,
   "metadata": {},
   "outputs": [],
   "source": [
    "sagemaker_session = sagemaker.Session()\n",
    "role = get_execution_role()\n",
    "\n",
    "s3_data_path = \"{}/{}/data\".format(bucket, prefix)\n",
    "s3_output_path = \"{}/{}/output\".format(bucket, prefix)"
   ]
  },
  {
   "cell_type": "code",
   "execution_count": 260,
   "metadata": {},
   "outputs": [],
   "source": [
    "\n",
    "containers  = {\n",
    "    'us-west-2': '156387875391.dkr.ecr.us-west-2.amazonaws.com/forecasting-deepar:latest'\n",
    "}\n",
    "image_name = containers[boto3.Session().region_name]"
   ]
  },
  {
   "cell_type": "code",
   "execution_count": 261,
   "metadata": {},
   "outputs": [
    {
     "data": {
      "text/plain": [
       "'arn:aws:iam::945416147148:role/service-role/AmazonSageMaker-ExecutionRole-20180616T095406'"
      ]
     },
     "execution_count": 261,
     "metadata": {},
     "output_type": "execute_result"
    }
   ],
   "source": [
    "role"
   ]
  },
  {
   "cell_type": "markdown",
   "metadata": {
    "nbpresent": {
     "id": "142777ae-c072-448e-b941-72bc75735d01"
    }
   },
   "source": [
    "---\n",
    "## Data\n",
    "\n",
    "Let's download the data.  More information about this dataset can be found [here](https://rdrr.io/github/robjhyndman/fpp/man/gasoline.html)."
   ]
  },
  {
   "cell_type": "code",
   "execution_count": 262,
   "metadata": {
    "nbpresent": {
     "id": "78105bc7-ce5d-4003-84f6-4dc5700c5945"
    }
   },
   "outputs": [],
   "source": [
    "#!wget http://gwa.ewi.tudelft.nl/fileadmin/pds/trace-archives/grid-workloads-archive/datasets/gwa-t-12/rnd.zip"
   ]
  },
  {
   "cell_type": "code",
   "execution_count": 263,
   "metadata": {},
   "outputs": [],
   "source": [
    "#import zipfile\n",
    "#with zipfile.ZipFile(\"rnd.zip\",\"r\") as zip_ref:\n",
    "#    zip_ref.extractall(\"targetdir\")"
   ]
  },
  {
   "cell_type": "markdown",
   "metadata": {
    "nbpresent": {
     "id": "b472326f-3584-4b61-aecc-04b35486a1ab"
    }
   },
   "source": [
    "And take a look at it."
   ]
  },
  {
   "cell_type": "code",
   "execution_count": 264,
   "metadata": {
    "nbpresent": {
     "id": "f8976dad-6897-4c7e-8c95-ae2f53070ef5"
    }
   },
   "outputs": [
    {
     "name": "stderr",
     "output_type": "stream",
     "text": [
      "/home/ec2-user/anaconda3/envs/python3/lib/python3.6/site-packages/ipykernel/__main__.py:3: ParserWarning: Falling back to the 'python' engine because the 'c' engine does not support regex separators (separators > 1 char and different from '\\s+' are interpreted as regex); you can avoid this warning by specifying engine='python'.\n",
      "  app.launch_new_instance()\n"
     ]
    }
   ],
   "source": [
    "all_files = glob.glob(os.path.join('targetdir/rnd/2013-7/', \"1*.csv\"))     # advisable to use os.path.join as this makes concatenation OS independent\n",
    "\n",
    "df_from_each_file = (pd.read_csv(f, sep = ';\\t') for f in all_files)\n",
    "concatenated_df   = pd.concat(df_from_each_file)"
   ]
  },
  {
   "cell_type": "code",
   "execution_count": 265,
   "metadata": {},
   "outputs": [
    {
     "name": "stderr",
     "output_type": "stream",
     "text": [
      "/home/ec2-user/anaconda3/envs/python3/lib/python3.6/site-packages/ipykernel/__main__.py:2: ParserWarning: Falling back to the 'python' engine because the 'c' engine does not support regex separators (separators > 1 char and different from '\\s+' are interpreted as regex); you can avoid this warning by specifying engine='python'.\n",
      "  from ipykernel import kernelapp as app\n"
     ]
    }
   ],
   "source": [
    "all_files = glob.glob(os.path.join('targetdir/rnd/2013-8/', \"1*.csv\"))     # advisable to use os.path.join as this makes concatenation OS independent\n",
    "df_from_each_file = (pd.read_csv(f, sep = ';\\t') for f in all_files)\n",
    "concatenated_df8   = pd.concat(df_from_each_file)"
   ]
  },
  {
   "cell_type": "code",
   "execution_count": 266,
   "metadata": {},
   "outputs": [
    {
     "name": "stderr",
     "output_type": "stream",
     "text": [
      "/home/ec2-user/anaconda3/envs/python3/lib/python3.6/site-packages/ipykernel/__main__.py:3: ParserWarning: Falling back to the 'python' engine because the 'c' engine does not support regex separators (separators > 1 char and different from '\\s+' are interpreted as regex); you can avoid this warning by specifying engine='python'.\n",
      "  app.launch_new_instance()\n"
     ]
    }
   ],
   "source": [
    "all_files = glob.glob(os.path.join('targetdir/rnd/2013-9/', \"1*.csv\"))     # advisable to use os.path.join as this makes concatenation OS independent\n",
    "\n",
    "df_from_each_file = (pd.read_csv(f, sep = ';\\t') for f in all_files)\n",
    "concatenated_df9   = pd.concat(df_from_each_file)"
   ]
  },
  {
   "cell_type": "code",
   "execution_count": 267,
   "metadata": {},
   "outputs": [],
   "source": [
    "newdat = concatenated_df.append(concatenated_df8)\n",
    "newerdat = newdat.append(concatenated_df9)\n",
    "concatenated_df = newerdat"
   ]
  },
  {
   "cell_type": "markdown",
   "metadata": {},
   "source": [
    "## This creates the hold out set "
   ]
  },
  {
   "cell_type": "code",
   "execution_count": 268,
   "metadata": {},
   "outputs": [
    {
     "name": "stderr",
     "output_type": "stream",
     "text": [
      "/home/ec2-user/anaconda3/envs/python3/lib/python3.6/site-packages/ipykernel/__main__.py:2: ParserWarning: Falling back to the 'python' engine because the 'c' engine does not support regex separators (separators > 1 char and different from '\\s+' are interpreted as regex); you can avoid this warning by specifying engine='python'.\n",
      "  from ipykernel import kernelapp as app\n",
      "/home/ec2-user/anaconda3/envs/python3/lib/python3.6/site-packages/ipykernel/__main__.py:7: ParserWarning: Falling back to the 'python' engine because the 'c' engine does not support regex separators (separators > 1 char and different from '\\s+' are interpreted as regex); you can avoid this warning by specifying engine='python'.\n",
      "/home/ec2-user/anaconda3/envs/python3/lib/python3.6/site-packages/ipykernel/__main__.py:12: ParserWarning: Falling back to the 'python' engine because the 'c' engine does not support regex separators (separators > 1 char and different from '\\s+' are interpreted as regex); you can avoid this warning by specifying engine='python'.\n"
     ]
    }
   ],
   "source": [
    "all_filesh = glob.glob(os.path.join('targetdir/rnd/2013-7/', \"36*.csv\"))     # advisable to use os.path.join as this makes concatenation OS independent\n",
    "df_from_each_fileh = (pd.read_csv(f, sep = ';\\t') for f in all_files)\n",
    "concatenated_dfh   = pd.concat(df_from_each_fileh)\n",
    "\n",
    "all_files = glob.glob(os.path.join('targetdir/rnd/2013-8/', \"35*.csv\"))     # advisable to use os.path.join as this makes concatenation OS independent\n",
    "\n",
    "df_from_each_file8h = (pd.read_csv(f, sep = ';\\t') for f in all_files)\n",
    "concatenated_df8h   = pd.concat(df_from_each_file8h)\n",
    "\n",
    "all_files = glob.glob(os.path.join('targetdir/rnd/2013-9/', \"35*.csv\"))     # advisable to use os.path.join as this makes concatenation OS independent\n",
    "\n",
    "df_from_each_fileh9h = (pd.read_csv(f, sep = ';\\t') for f in all_files)\n",
    "concatenated_df9h   = pd.concat(df_from_each_fileh9h)"
   ]
  },
  {
   "cell_type": "code",
   "execution_count": 269,
   "metadata": {},
   "outputs": [
    {
     "data": {
      "text/html": [
       "<div>\n",
       "<style scoped>\n",
       "    .dataframe tbody tr th:only-of-type {\n",
       "        vertical-align: middle;\n",
       "    }\n",
       "\n",
       "    .dataframe tbody tr th {\n",
       "        vertical-align: top;\n",
       "    }\n",
       "\n",
       "    .dataframe thead th {\n",
       "        text-align: right;\n",
       "    }\n",
       "</style>\n",
       "<table border=\"1\" class=\"dataframe\">\n",
       "  <thead>\n",
       "    <tr style=\"text-align: right;\">\n",
       "      <th></th>\n",
       "      <th>Timestamp [ms]</th>\n",
       "      <th>CPU cores</th>\n",
       "      <th>CPU capacity provisioned [MHZ]</th>\n",
       "      <th>CPU usage [MHZ]</th>\n",
       "      <th>CPU usage [%]</th>\n",
       "      <th>Memory capacity provisioned [KB]</th>\n",
       "      <th>Memory usage [KB]</th>\n",
       "      <th>Disk read throughput [KB/s]</th>\n",
       "      <th>Disk write throughput [KB/s]</th>\n",
       "      <th>Network received throughput [KB/s]</th>\n",
       "      <th>Network transmitted throughput [KB/s]</th>\n",
       "    </tr>\n",
       "  </thead>\n",
       "  <tbody>\n",
       "    <tr>\n",
       "      <th>0</th>\n",
       "      <td>1377986608</td>\n",
       "      <td>1</td>\n",
       "      <td>2599.999343</td>\n",
       "      <td>60.666651</td>\n",
       "      <td>2.333333</td>\n",
       "      <td>2097152.0</td>\n",
       "      <td>265636.533333</td>\n",
       "      <td>1.133333</td>\n",
       "      <td>8.800000</td>\n",
       "      <td>1.8</td>\n",
       "      <td>8.000000</td>\n",
       "    </tr>\n",
       "    <tr>\n",
       "      <th>1</th>\n",
       "      <td>1377986908</td>\n",
       "      <td>1</td>\n",
       "      <td>2599.999343</td>\n",
       "      <td>53.733320</td>\n",
       "      <td>2.066667</td>\n",
       "      <td>2097152.0</td>\n",
       "      <td>318765.600000</td>\n",
       "      <td>0.266667</td>\n",
       "      <td>10.133333</td>\n",
       "      <td>1.0</td>\n",
       "      <td>2.066667</td>\n",
       "    </tr>\n",
       "    <tr>\n",
       "      <th>2</th>\n",
       "      <td>1377987208</td>\n",
       "      <td>1</td>\n",
       "      <td>2599.999343</td>\n",
       "      <td>43.333322</td>\n",
       "      <td>1.666667</td>\n",
       "      <td>2097152.0</td>\n",
       "      <td>264239.200000</td>\n",
       "      <td>0.066667</td>\n",
       "      <td>7.466667</td>\n",
       "      <td>1.0</td>\n",
       "      <td>1.733333</td>\n",
       "    </tr>\n",
       "    <tr>\n",
       "      <th>3</th>\n",
       "      <td>1377987508</td>\n",
       "      <td>1</td>\n",
       "      <td>2599.999343</td>\n",
       "      <td>46.799988</td>\n",
       "      <td>1.800000</td>\n",
       "      <td>2097152.0</td>\n",
       "      <td>331347.733333</td>\n",
       "      <td>0.200000</td>\n",
       "      <td>8.066667</td>\n",
       "      <td>1.0</td>\n",
       "      <td>1.600000</td>\n",
       "    </tr>\n",
       "    <tr>\n",
       "      <th>4</th>\n",
       "      <td>1377987808</td>\n",
       "      <td>1</td>\n",
       "      <td>2599.999343</td>\n",
       "      <td>41.599989</td>\n",
       "      <td>1.600000</td>\n",
       "      <td>2097152.0</td>\n",
       "      <td>239072.800000</td>\n",
       "      <td>0.266667</td>\n",
       "      <td>7.333333</td>\n",
       "      <td>1.0</td>\n",
       "      <td>1.600000</td>\n",
       "    </tr>\n",
       "  </tbody>\n",
       "</table>\n",
       "</div>"
      ],
      "text/plain": [
       "   Timestamp [ms]  CPU cores  CPU capacity provisioned [MHZ]  CPU usage [MHZ]  \\\n",
       "0      1377986608          1                     2599.999343        60.666651   \n",
       "1      1377986908          1                     2599.999343        53.733320   \n",
       "2      1377987208          1                     2599.999343        43.333322   \n",
       "3      1377987508          1                     2599.999343        46.799988   \n",
       "4      1377987808          1                     2599.999343        41.599989   \n",
       "\n",
       "   CPU usage [%]  Memory capacity provisioned [KB]  Memory usage [KB]  \\\n",
       "0       2.333333                         2097152.0      265636.533333   \n",
       "1       2.066667                         2097152.0      318765.600000   \n",
       "2       1.666667                         2097152.0      264239.200000   \n",
       "3       1.800000                         2097152.0      331347.733333   \n",
       "4       1.600000                         2097152.0      239072.800000   \n",
       "\n",
       "   Disk read throughput [KB/s]  Disk write throughput [KB/s]  \\\n",
       "0                     1.133333                      8.800000   \n",
       "1                     0.266667                     10.133333   \n",
       "2                     0.066667                      7.466667   \n",
       "3                     0.200000                      8.066667   \n",
       "4                     0.266667                      7.333333   \n",
       "\n",
       "   Network received throughput [KB/s]  Network transmitted throughput [KB/s]  \n",
       "0                                 1.8                               8.000000  \n",
       "1                                 1.0                               2.066667  \n",
       "2                                 1.0                               1.733333  \n",
       "3                                 1.0                               1.600000  \n",
       "4                                 1.0                               1.600000  "
      ]
     },
     "execution_count": 269,
     "metadata": {},
     "output_type": "execute_result"
    }
   ],
   "source": [
    "concatenated_dfh.head()"
   ]
  },
  {
   "cell_type": "code",
   "execution_count": 270,
   "metadata": {},
   "outputs": [],
   "source": [
    "newdat_holdout = concatenated_dfh.append(concatenated_df8h)\n",
    "newerdat_holdout = newdat_holdout.append(concatenated_df9h)\n",
    "concatenated_df_holdout = newerdat_holdout"
   ]
  },
  {
   "cell_type": "markdown",
   "metadata": {},
   "source": [
    "## Look at TRAINING DATA"
   ]
  },
  {
   "cell_type": "code",
   "execution_count": 271,
   "metadata": {},
   "outputs": [
    {
     "name": "stdout",
     "output_type": "stream",
     "text": [
      "<class 'pandas.core.frame.DataFrame'>\n",
      "Int64Index: 2692928 entries, 0 to 11506\n",
      "Data columns (total 11 columns):\n",
      "Timestamp [ms]                           int64\n",
      "CPU cores                                int64\n",
      "CPU capacity provisioned [MHZ]           float64\n",
      "CPU usage [MHZ]                          float64\n",
      "CPU usage [%]                            float64\n",
      "Memory capacity provisioned [KB]         float64\n",
      "Memory usage [KB]                        float64\n",
      "Disk read throughput [KB/s]              float64\n",
      "Disk write throughput [KB/s]             float64\n",
      "Network received throughput [KB/s]       float64\n",
      "Network transmitted throughput [KB/s]    float64\n",
      "dtypes: float64(9), int64(2)\n",
      "memory usage: 246.5 MB\n"
     ]
    }
   ],
   "source": [
    "concatenated_df.info()"
   ]
  },
  {
   "cell_type": "code",
   "execution_count": 272,
   "metadata": {},
   "outputs": [],
   "source": [
    "# formatting training data, extra feature engineering here as well"
   ]
  },
  {
   "cell_type": "code",
   "execution_count": 273,
   "metadata": {},
   "outputs": [],
   "source": [
    "concatenated_df['Timestamp'] = pd.to_datetime(concatenated_df['Timestamp [ms]'], unit = 's')\n",
    "#concatenated_df.apply(pd.to_numeric, errors='ignore')\n",
    "concatenated_df.describe()\n",
    "concatenated_df['weekday'] = concatenated_df['Timestamp'].dt.dayofweek\n",
    "concatenated_df['weekend'] = ((concatenated_df.weekday) // 5 == 1).astype(float)\n",
    "# Feature engineering with the date\n",
    "concatenated_df['month']=concatenated_df.Timestamp.dt.month \n",
    "concatenated_df['day']=concatenated_df.Timestamp.dt.day\n",
    "concatenated_df.set_index('Timestamp',inplace=True)\n",
    "concatenated_df[\"CPU usage prev\"] = concatenated_df['CPU usage [%]'].shift(1)\n",
    "concatenated_df[\"CPU_diff\"] = concatenated_df['CPU usage [%]'] - concatenated_df[\"CPU usage prev\"]\n",
    "concatenated_df[\"received_prev\"] = concatenated_df['Network received throughput [KB/s]'].shift(1)\n",
    "concatenated_df[\"received_diff\"] = concatenated_df['Network received throughput [KB/s]']- concatenated_df[\"received_prev\"]\n",
    "concatenated_df[\"transmitted_prev\"] = concatenated_df['Network transmitted throughput [KB/s]'].shift(1)\n",
    "concatenated_df[\"transmitted_diff\"] = concatenated_df['Network transmitted throughput [KB/s]']- concatenated_df[\"transmitted_prev\"]\n",
    "hourlydat = concatenated_df.resample('H').sum()"
   ]
  },
  {
   "cell_type": "code",
   "execution_count": 274,
   "metadata": {},
   "outputs": [
    {
     "data": {
      "text/html": [
       "<div>\n",
       "<style scoped>\n",
       "    .dataframe tbody tr th:only-of-type {\n",
       "        vertical-align: middle;\n",
       "    }\n",
       "\n",
       "    .dataframe tbody tr th {\n",
       "        vertical-align: top;\n",
       "    }\n",
       "\n",
       "    .dataframe thead th {\n",
       "        text-align: right;\n",
       "    }\n",
       "</style>\n",
       "<table border=\"1\" class=\"dataframe\">\n",
       "  <thead>\n",
       "    <tr style=\"text-align: right;\">\n",
       "      <th></th>\n",
       "      <th>Timestamp [ms]</th>\n",
       "      <th>CPU cores</th>\n",
       "      <th>CPU capacity provisioned [MHZ]</th>\n",
       "      <th>CPU usage [MHZ]</th>\n",
       "      <th>CPU usage [%]</th>\n",
       "      <th>Memory capacity provisioned [KB]</th>\n",
       "      <th>Memory usage [KB]</th>\n",
       "      <th>Disk read throughput [KB/s]</th>\n",
       "      <th>Disk write throughput [KB/s]</th>\n",
       "      <th>Network received throughput [KB/s]</th>\n",
       "      <th>...</th>\n",
       "      <th>weekday</th>\n",
       "      <th>weekend</th>\n",
       "      <th>month</th>\n",
       "      <th>day</th>\n",
       "      <th>CPU usage prev</th>\n",
       "      <th>CPU_diff</th>\n",
       "      <th>received_prev</th>\n",
       "      <th>received_diff</th>\n",
       "      <th>transmitted_prev</th>\n",
       "      <th>transmitted_diff</th>\n",
       "    </tr>\n",
       "    <tr>\n",
       "      <th>Timestamp</th>\n",
       "      <th></th>\n",
       "      <th></th>\n",
       "      <th></th>\n",
       "      <th></th>\n",
       "      <th></th>\n",
       "      <th></th>\n",
       "      <th></th>\n",
       "      <th></th>\n",
       "      <th></th>\n",
       "      <th></th>\n",
       "      <th></th>\n",
       "      <th></th>\n",
       "      <th></th>\n",
       "      <th></th>\n",
       "      <th></th>\n",
       "      <th></th>\n",
       "      <th></th>\n",
       "      <th></th>\n",
       "      <th></th>\n",
       "      <th></th>\n",
       "      <th></th>\n",
       "    </tr>\n",
       "  </thead>\n",
       "  <tbody>\n",
       "    <tr>\n",
       "      <th>2013-06-30 22:00:00</th>\n",
       "      <td>1136538843912</td>\n",
       "      <td>2340</td>\n",
       "      <td>6.369575e+06</td>\n",
       "      <td>476340.921969</td>\n",
       "      <td>5145.283333</td>\n",
       "      <td>8.685556e+09</td>\n",
       "      <td>2.418750e+08</td>\n",
       "      <td>908.866667</td>\n",
       "      <td>8595.000000</td>\n",
       "      <td>5167.000000</td>\n",
       "      <td>...</td>\n",
       "      <td>4968</td>\n",
       "      <td>828.0</td>\n",
       "      <td>4968</td>\n",
       "      <td>24840</td>\n",
       "      <td>4986.916667</td>\n",
       "      <td>156.766667</td>\n",
       "      <td>5168.533333</td>\n",
       "      <td>-3.200000</td>\n",
       "      <td>4198.666667</td>\n",
       "      <td>180.733333</td>\n",
       "    </tr>\n",
       "    <tr>\n",
       "      <th>2013-06-30 23:00:00</th>\n",
       "      <td>1136541824229</td>\n",
       "      <td>2340</td>\n",
       "      <td>6.369575e+06</td>\n",
       "      <td>571026.165573</td>\n",
       "      <td>6062.533333</td>\n",
       "      <td>8.685601e+09</td>\n",
       "      <td>2.711897e+08</td>\n",
       "      <td>822.514286</td>\n",
       "      <td>9236.259524</td>\n",
       "      <td>5390.200000</td>\n",
       "      <td>...</td>\n",
       "      <td>4968</td>\n",
       "      <td>828.0</td>\n",
       "      <td>4968</td>\n",
       "      <td>24840</td>\n",
       "      <td>5752.783333</td>\n",
       "      <td>309.750000</td>\n",
       "      <td>5393.933333</td>\n",
       "      <td>-3.733333</td>\n",
       "      <td>4329.800000</td>\n",
       "      <td>-2.400000</td>\n",
       "    </tr>\n",
       "    <tr>\n",
       "      <th>2013-07-01 00:00:00</th>\n",
       "      <td>1136544805512</td>\n",
       "      <td>2340</td>\n",
       "      <td>6.369575e+06</td>\n",
       "      <td>574199.471314</td>\n",
       "      <td>6083.633333</td>\n",
       "      <td>8.685630e+09</td>\n",
       "      <td>2.775846e+08</td>\n",
       "      <td>539.733333</td>\n",
       "      <td>8601.000000</td>\n",
       "      <td>5327.600000</td>\n",
       "      <td>...</td>\n",
       "      <td>0</td>\n",
       "      <td>0.0</td>\n",
       "      <td>5796</td>\n",
       "      <td>828</td>\n",
       "      <td>6323.933333</td>\n",
       "      <td>-240.300000</td>\n",
       "      <td>5187.533333</td>\n",
       "      <td>140.066667</td>\n",
       "      <td>4478.600000</td>\n",
       "      <td>664.733333</td>\n",
       "    </tr>\n",
       "    <tr>\n",
       "      <th>2013-07-01 01:00:00</th>\n",
       "      <td>1136547786533</td>\n",
       "      <td>2340</td>\n",
       "      <td>6.369575e+06</td>\n",
       "      <td>504223.533583</td>\n",
       "      <td>5425.983333</td>\n",
       "      <td>8.685961e+09</td>\n",
       "      <td>2.619399e+08</td>\n",
       "      <td>519.266667</td>\n",
       "      <td>10896.195238</td>\n",
       "      <td>6160.666667</td>\n",
       "      <td>...</td>\n",
       "      <td>0</td>\n",
       "      <td>0.0</td>\n",
       "      <td>5796</td>\n",
       "      <td>828</td>\n",
       "      <td>5184.816667</td>\n",
       "      <td>241.166667</td>\n",
       "      <td>6303.733333</td>\n",
       "      <td>-143.066667</td>\n",
       "      <td>5081.533333</td>\n",
       "      <td>-663.800000</td>\n",
       "    </tr>\n",
       "    <tr>\n",
       "      <th>2013-07-01 02:00:00</th>\n",
       "      <td>1136550767940</td>\n",
       "      <td>2340</td>\n",
       "      <td>6.369575e+06</td>\n",
       "      <td>602037.700933</td>\n",
       "      <td>6364.083333</td>\n",
       "      <td>8.686550e+09</td>\n",
       "      <td>2.735084e+08</td>\n",
       "      <td>348.733333</td>\n",
       "      <td>8778.604762</td>\n",
       "      <td>5270.666667</td>\n",
       "      <td>...</td>\n",
       "      <td>0</td>\n",
       "      <td>0.0</td>\n",
       "      <td>5796</td>\n",
       "      <td>828</td>\n",
       "      <td>6363.833333</td>\n",
       "      <td>0.250000</td>\n",
       "      <td>5259.000000</td>\n",
       "      <td>11.666667</td>\n",
       "      <td>5177.933333</td>\n",
       "      <td>189.466667</td>\n",
       "    </tr>\n",
       "  </tbody>\n",
       "</table>\n",
       "<p>5 rows × 21 columns</p>\n",
       "</div>"
      ],
      "text/plain": [
       "                     Timestamp [ms]  CPU cores  \\\n",
       "Timestamp                                        \n",
       "2013-06-30 22:00:00   1136538843912       2340   \n",
       "2013-06-30 23:00:00   1136541824229       2340   \n",
       "2013-07-01 00:00:00   1136544805512       2340   \n",
       "2013-07-01 01:00:00   1136547786533       2340   \n",
       "2013-07-01 02:00:00   1136550767940       2340   \n",
       "\n",
       "                     CPU capacity provisioned [MHZ]  CPU usage [MHZ]  \\\n",
       "Timestamp                                                              \n",
       "2013-06-30 22:00:00                    6.369575e+06    476340.921969   \n",
       "2013-06-30 23:00:00                    6.369575e+06    571026.165573   \n",
       "2013-07-01 00:00:00                    6.369575e+06    574199.471314   \n",
       "2013-07-01 01:00:00                    6.369575e+06    504223.533583   \n",
       "2013-07-01 02:00:00                    6.369575e+06    602037.700933   \n",
       "\n",
       "                     CPU usage [%]  Memory capacity provisioned [KB]  \\\n",
       "Timestamp                                                              \n",
       "2013-06-30 22:00:00    5145.283333                      8.685556e+09   \n",
       "2013-06-30 23:00:00    6062.533333                      8.685601e+09   \n",
       "2013-07-01 00:00:00    6083.633333                      8.685630e+09   \n",
       "2013-07-01 01:00:00    5425.983333                      8.685961e+09   \n",
       "2013-07-01 02:00:00    6364.083333                      8.686550e+09   \n",
       "\n",
       "                     Memory usage [KB]  Disk read throughput [KB/s]  \\\n",
       "Timestamp                                                             \n",
       "2013-06-30 22:00:00       2.418750e+08                   908.866667   \n",
       "2013-06-30 23:00:00       2.711897e+08                   822.514286   \n",
       "2013-07-01 00:00:00       2.775846e+08                   539.733333   \n",
       "2013-07-01 01:00:00       2.619399e+08                   519.266667   \n",
       "2013-07-01 02:00:00       2.735084e+08                   348.733333   \n",
       "\n",
       "                     Disk write throughput [KB/s]  \\\n",
       "Timestamp                                           \n",
       "2013-06-30 22:00:00                   8595.000000   \n",
       "2013-06-30 23:00:00                   9236.259524   \n",
       "2013-07-01 00:00:00                   8601.000000   \n",
       "2013-07-01 01:00:00                  10896.195238   \n",
       "2013-07-01 02:00:00                   8778.604762   \n",
       "\n",
       "                     Network received throughput [KB/s]        ...         \\\n",
       "Timestamp                                                      ...          \n",
       "2013-06-30 22:00:00                         5167.000000        ...          \n",
       "2013-06-30 23:00:00                         5390.200000        ...          \n",
       "2013-07-01 00:00:00                         5327.600000        ...          \n",
       "2013-07-01 01:00:00                         6160.666667        ...          \n",
       "2013-07-01 02:00:00                         5270.666667        ...          \n",
       "\n",
       "                     weekday  weekend  month    day  CPU usage prev  \\\n",
       "Timestamp                                                             \n",
       "2013-06-30 22:00:00     4968    828.0   4968  24840     4986.916667   \n",
       "2013-06-30 23:00:00     4968    828.0   4968  24840     5752.783333   \n",
       "2013-07-01 00:00:00        0      0.0   5796    828     6323.933333   \n",
       "2013-07-01 01:00:00        0      0.0   5796    828     5184.816667   \n",
       "2013-07-01 02:00:00        0      0.0   5796    828     6363.833333   \n",
       "\n",
       "                       CPU_diff  received_prev  received_diff  \\\n",
       "Timestamp                                                       \n",
       "2013-06-30 22:00:00  156.766667    5168.533333      -3.200000   \n",
       "2013-06-30 23:00:00  309.750000    5393.933333      -3.733333   \n",
       "2013-07-01 00:00:00 -240.300000    5187.533333     140.066667   \n",
       "2013-07-01 01:00:00  241.166667    6303.733333    -143.066667   \n",
       "2013-07-01 02:00:00    0.250000    5259.000000      11.666667   \n",
       "\n",
       "                     transmitted_prev  transmitted_diff  \n",
       "Timestamp                                                \n",
       "2013-06-30 22:00:00       4198.666667        180.733333  \n",
       "2013-06-30 23:00:00       4329.800000         -2.400000  \n",
       "2013-07-01 00:00:00       4478.600000        664.733333  \n",
       "2013-07-01 01:00:00       5081.533333       -663.800000  \n",
       "2013-07-01 02:00:00       5177.933333        189.466667  \n",
       "\n",
       "[5 rows x 21 columns]"
      ]
     },
     "execution_count": 274,
     "metadata": {},
     "output_type": "execute_result"
    }
   ],
   "source": [
    "hourlydat.head()"
   ]
  },
  {
   "cell_type": "code",
   "execution_count": 275,
   "metadata": {},
   "outputs": [],
   "source": [
    "#formatting training data"
   ]
  },
  {
   "cell_type": "code",
   "execution_count": 276,
   "metadata": {},
   "outputs": [],
   "source": [
    "concatenated_df_holdout['Timestamp'] = pd.to_datetime(concatenated_df_holdout['Timestamp [ms]'], unit = 's')\n",
    "#concatenated_df.apply(pd.to_numeric, errors='ignore')\n",
    "concatenated_df_holdout.describe()\n",
    "concatenated_df_holdout['weekday'] = concatenated_df_holdout['Timestamp'].dt.dayofweek\n",
    "concatenated_df_holdout['weekend'] = ((concatenated_df_holdout.weekday) // 5 == 1).astype(float)\n",
    "# Feature engineering with the date\n",
    "concatenated_df_holdout['month']=concatenated_df_holdout.Timestamp.dt.month \n",
    "concatenated_df_holdout['day']=concatenated_df_holdout.Timestamp.dt.day\n",
    "concatenated_df_holdout.set_index('Timestamp',inplace=True)\n",
    "concatenated_df_holdout[\"CPU usage prev\"] = concatenated_df_holdout['CPU usage [%]'].shift(1)\n",
    "concatenated_df_holdout[\"CPU_diff\"] = concatenated_df_holdout['CPU usage [%]'] - concatenated_df_holdout[\"CPU usage prev\"]\n",
    "concatenated_df_holdout[\"received_prev\"] = concatenated_df_holdout['Network received throughput [KB/s]'].shift(1)\n",
    "concatenated_df_holdout[\"received_diff\"] = concatenated_df_holdout['Network received throughput [KB/s]']- concatenated_df_holdout[\"received_prev\"]\n",
    "concatenated_df_holdout[\"transmitted_prev\"] = concatenated_df_holdout['Network transmitted throughput [KB/s]'].shift(1)\n",
    "concatenated_df_holdout[\"transmitted_diff\"] = concatenated_df_holdout['Network transmitted throughput [KB/s]']- concatenated_df_holdout[\"transmitted_prev\"]\n",
    "hourlydat_holdout = concatenated_df_holdout.resample('H').sum()"
   ]
  },
  {
   "cell_type": "code",
   "execution_count": 277,
   "metadata": {},
   "outputs": [
    {
     "data": {
      "text/html": [
       "<div>\n",
       "<style scoped>\n",
       "    .dataframe tbody tr th:only-of-type {\n",
       "        vertical-align: middle;\n",
       "    }\n",
       "\n",
       "    .dataframe tbody tr th {\n",
       "        vertical-align: top;\n",
       "    }\n",
       "\n",
       "    .dataframe thead th {\n",
       "        text-align: right;\n",
       "    }\n",
       "</style>\n",
       "<table border=\"1\" class=\"dataframe\">\n",
       "  <thead>\n",
       "    <tr style=\"text-align: right;\">\n",
       "      <th></th>\n",
       "      <th>Timestamp [ms]</th>\n",
       "      <th>CPU cores</th>\n",
       "      <th>CPU capacity provisioned [MHZ]</th>\n",
       "      <th>CPU usage [MHZ]</th>\n",
       "      <th>CPU usage [%]</th>\n",
       "      <th>Memory capacity provisioned [KB]</th>\n",
       "      <th>Memory usage [KB]</th>\n",
       "      <th>Disk read throughput [KB/s]</th>\n",
       "      <th>Disk write throughput [KB/s]</th>\n",
       "      <th>Network received throughput [KB/s]</th>\n",
       "      <th>...</th>\n",
       "      <th>weekday</th>\n",
       "      <th>weekend</th>\n",
       "      <th>month</th>\n",
       "      <th>day</th>\n",
       "      <th>CPU usage prev</th>\n",
       "      <th>CPU_diff</th>\n",
       "      <th>received_prev</th>\n",
       "      <th>received_diff</th>\n",
       "      <th>transmitted_prev</th>\n",
       "      <th>transmitted_diff</th>\n",
       "    </tr>\n",
       "    <tr>\n",
       "      <th>Timestamp</th>\n",
       "      <th></th>\n",
       "      <th></th>\n",
       "      <th></th>\n",
       "      <th></th>\n",
       "      <th></th>\n",
       "      <th></th>\n",
       "      <th></th>\n",
       "      <th></th>\n",
       "      <th></th>\n",
       "      <th></th>\n",
       "      <th></th>\n",
       "      <th></th>\n",
       "      <th></th>\n",
       "      <th></th>\n",
       "      <th></th>\n",
       "      <th></th>\n",
       "      <th></th>\n",
       "      <th></th>\n",
       "      <th></th>\n",
       "      <th></th>\n",
       "      <th></th>\n",
       "    </tr>\n",
       "  </thead>\n",
       "  <tbody>\n",
       "    <tr>\n",
       "      <th>2013-07-31 22:00:00</th>\n",
       "      <td>181540897032</td>\n",
       "      <td>168</td>\n",
       "      <td>472007.901648</td>\n",
       "      <td>21019.199706</td>\n",
       "      <td>264.550000</td>\n",
       "      <td>244899888.0</td>\n",
       "      <td>3.181582e+07</td>\n",
       "      <td>0.0</td>\n",
       "      <td>207.671429</td>\n",
       "      <td>31704.500000</td>\n",
       "      <td>...</td>\n",
       "      <td>264</td>\n",
       "      <td>0.0</td>\n",
       "      <td>924</td>\n",
       "      <td>4092</td>\n",
       "      <td>249.850000</td>\n",
       "      <td>14.700000</td>\n",
       "      <td>29798.900000</td>\n",
       "      <td>1905.600000</td>\n",
       "      <td>43716.966667</td>\n",
       "      <td>3107.666667</td>\n",
       "    </tr>\n",
       "    <tr>\n",
       "      <th>2013-07-31 23:00:00</th>\n",
       "      <td>181541372232</td>\n",
       "      <td>168</td>\n",
       "      <td>472007.901648</td>\n",
       "      <td>22357.012837</td>\n",
       "      <td>316.700000</td>\n",
       "      <td>244899888.0</td>\n",
       "      <td>3.085377e+07</td>\n",
       "      <td>0.0</td>\n",
       "      <td>206.800000</td>\n",
       "      <td>67447.933333</td>\n",
       "      <td>...</td>\n",
       "      <td>264</td>\n",
       "      <td>0.0</td>\n",
       "      <td>924</td>\n",
       "      <td>4092</td>\n",
       "      <td>315.216667</td>\n",
       "      <td>1.483333</td>\n",
       "      <td>67266.666667</td>\n",
       "      <td>181.266667</td>\n",
       "      <td>82033.333333</td>\n",
       "      <td>290.866667</td>\n",
       "    </tr>\n",
       "    <tr>\n",
       "      <th>2013-08-01 00:00:00</th>\n",
       "      <td>181541847539</td>\n",
       "      <td>168</td>\n",
       "      <td>472007.901648</td>\n",
       "      <td>20814.889119</td>\n",
       "      <td>254.219048</td>\n",
       "      <td>244899888.0</td>\n",
       "      <td>2.939389e+07</td>\n",
       "      <td>0.0</td>\n",
       "      <td>207.685714</td>\n",
       "      <td>25759.138095</td>\n",
       "      <td>...</td>\n",
       "      <td>396</td>\n",
       "      <td>0.0</td>\n",
       "      <td>1056</td>\n",
       "      <td>132</td>\n",
       "      <td>254.019048</td>\n",
       "      <td>0.200000</td>\n",
       "      <td>25759.614286</td>\n",
       "      <td>-0.476190</td>\n",
       "      <td>40766.214286</td>\n",
       "      <td>1.057143</td>\n",
       "    </tr>\n",
       "    <tr>\n",
       "      <th>2013-08-01 01:00:00</th>\n",
       "      <td>181542322764</td>\n",
       "      <td>168</td>\n",
       "      <td>472007.901648</td>\n",
       "      <td>20415.654509</td>\n",
       "      <td>249.600000</td>\n",
       "      <td>244899888.0</td>\n",
       "      <td>3.084584e+07</td>\n",
       "      <td>0.0</td>\n",
       "      <td>206.085714</td>\n",
       "      <td>25159.423810</td>\n",
       "      <td>...</td>\n",
       "      <td>396</td>\n",
       "      <td>0.0</td>\n",
       "      <td>1056</td>\n",
       "      <td>132</td>\n",
       "      <td>249.650000</td>\n",
       "      <td>-0.050000</td>\n",
       "      <td>25140.990476</td>\n",
       "      <td>18.433333</td>\n",
       "      <td>39839.709524</td>\n",
       "      <td>16.766667</td>\n",
       "    </tr>\n",
       "    <tr>\n",
       "      <th>2013-08-01 02:00:00</th>\n",
       "      <td>181542797983</td>\n",
       "      <td>168</td>\n",
       "      <td>472007.901648</td>\n",
       "      <td>20211.603179</td>\n",
       "      <td>251.947619</td>\n",
       "      <td>244899888.0</td>\n",
       "      <td>3.130663e+07</td>\n",
       "      <td>0.0</td>\n",
       "      <td>221.533333</td>\n",
       "      <td>26012.738095</td>\n",
       "      <td>...</td>\n",
       "      <td>396</td>\n",
       "      <td>0.0</td>\n",
       "      <td>1056</td>\n",
       "      <td>132</td>\n",
       "      <td>252.314286</td>\n",
       "      <td>-0.366667</td>\n",
       "      <td>26072.080952</td>\n",
       "      <td>-59.342857</td>\n",
       "      <td>40129.600000</td>\n",
       "      <td>-97.957143</td>\n",
       "    </tr>\n",
       "  </tbody>\n",
       "</table>\n",
       "<p>5 rows × 21 columns</p>\n",
       "</div>"
      ],
      "text/plain": [
       "                     Timestamp [ms]  CPU cores  \\\n",
       "Timestamp                                        \n",
       "2013-07-31 22:00:00    181540897032        168   \n",
       "2013-07-31 23:00:00    181541372232        168   \n",
       "2013-08-01 00:00:00    181541847539        168   \n",
       "2013-08-01 01:00:00    181542322764        168   \n",
       "2013-08-01 02:00:00    181542797983        168   \n",
       "\n",
       "                     CPU capacity provisioned [MHZ]  CPU usage [MHZ]  \\\n",
       "Timestamp                                                              \n",
       "2013-07-31 22:00:00                   472007.901648     21019.199706   \n",
       "2013-07-31 23:00:00                   472007.901648     22357.012837   \n",
       "2013-08-01 00:00:00                   472007.901648     20814.889119   \n",
       "2013-08-01 01:00:00                   472007.901648     20415.654509   \n",
       "2013-08-01 02:00:00                   472007.901648     20211.603179   \n",
       "\n",
       "                     CPU usage [%]  Memory capacity provisioned [KB]  \\\n",
       "Timestamp                                                              \n",
       "2013-07-31 22:00:00     264.550000                       244899888.0   \n",
       "2013-07-31 23:00:00     316.700000                       244899888.0   \n",
       "2013-08-01 00:00:00     254.219048                       244899888.0   \n",
       "2013-08-01 01:00:00     249.600000                       244899888.0   \n",
       "2013-08-01 02:00:00     251.947619                       244899888.0   \n",
       "\n",
       "                     Memory usage [KB]  Disk read throughput [KB/s]  \\\n",
       "Timestamp                                                             \n",
       "2013-07-31 22:00:00       3.181582e+07                          0.0   \n",
       "2013-07-31 23:00:00       3.085377e+07                          0.0   \n",
       "2013-08-01 00:00:00       2.939389e+07                          0.0   \n",
       "2013-08-01 01:00:00       3.084584e+07                          0.0   \n",
       "2013-08-01 02:00:00       3.130663e+07                          0.0   \n",
       "\n",
       "                     Disk write throughput [KB/s]  \\\n",
       "Timestamp                                           \n",
       "2013-07-31 22:00:00                    207.671429   \n",
       "2013-07-31 23:00:00                    206.800000   \n",
       "2013-08-01 00:00:00                    207.685714   \n",
       "2013-08-01 01:00:00                    206.085714   \n",
       "2013-08-01 02:00:00                    221.533333   \n",
       "\n",
       "                     Network received throughput [KB/s]        ...         \\\n",
       "Timestamp                                                      ...          \n",
       "2013-07-31 22:00:00                        31704.500000        ...          \n",
       "2013-07-31 23:00:00                        67447.933333        ...          \n",
       "2013-08-01 00:00:00                        25759.138095        ...          \n",
       "2013-08-01 01:00:00                        25159.423810        ...          \n",
       "2013-08-01 02:00:00                        26012.738095        ...          \n",
       "\n",
       "                     weekday  weekend  month   day  CPU usage prev   CPU_diff  \\\n",
       "Timestamp                                                                       \n",
       "2013-07-31 22:00:00      264      0.0    924  4092      249.850000  14.700000   \n",
       "2013-07-31 23:00:00      264      0.0    924  4092      315.216667   1.483333   \n",
       "2013-08-01 00:00:00      396      0.0   1056   132      254.019048   0.200000   \n",
       "2013-08-01 01:00:00      396      0.0   1056   132      249.650000  -0.050000   \n",
       "2013-08-01 02:00:00      396      0.0   1056   132      252.314286  -0.366667   \n",
       "\n",
       "                     received_prev  received_diff  transmitted_prev  \\\n",
       "Timestamp                                                             \n",
       "2013-07-31 22:00:00   29798.900000    1905.600000      43716.966667   \n",
       "2013-07-31 23:00:00   67266.666667     181.266667      82033.333333   \n",
       "2013-08-01 00:00:00   25759.614286      -0.476190      40766.214286   \n",
       "2013-08-01 01:00:00   25140.990476      18.433333      39839.709524   \n",
       "2013-08-01 02:00:00   26072.080952     -59.342857      40129.600000   \n",
       "\n",
       "                     transmitted_diff  \n",
       "Timestamp                              \n",
       "2013-07-31 22:00:00       3107.666667  \n",
       "2013-07-31 23:00:00        290.866667  \n",
       "2013-08-01 00:00:00          1.057143  \n",
       "2013-08-01 01:00:00         16.766667  \n",
       "2013-08-01 02:00:00        -97.957143  \n",
       "\n",
       "[5 rows x 21 columns]"
      ]
     },
     "execution_count": 277,
     "metadata": {},
     "output_type": "execute_result"
    }
   ],
   "source": [
    "hourlydat_holdout.head()"
   ]
  },
  {
   "cell_type": "code",
   "execution_count": 278,
   "metadata": {},
   "outputs": [],
   "source": [
    "hourlydat[\"start\"] = hourlydat.index\n",
    "hourlydat['target'] = hourlydat['CPU usage [MHZ]']\n",
    "jsondat=pd.DataFrame(hourlydat['start'])\n",
    "jsondat['start'] = hourlydat.index\n",
    "result = pd.concat([hourlydat['start'], hourlydat['target']], axis=1)\n",
    "result = result.reset_index()\n",
    "result.drop('Timestamp', axis=1, inplace=True)\n",
    "#result.start = result.start.astype(str)\n",
    "#result.set_index('start',inplace=True)\n",
    "#result\n",
    "\n",
    "\n",
    "hourlydat_holdout[\"start\"] = hourlydat_holdout.index\n",
    "hourlydat_holdout['target'] = hourlydat_holdout['CPU usage [MHZ]']\n",
    "jsondat_holdout=pd.DataFrame(hourlydat_holdout['start'])\n",
    "jsondat_holdout['start'] = hourlydat_holdout.index\n",
    "result_holdout = pd.concat([hourlydat_holdout['start'], hourlydat_holdout['target']], axis=1)\n",
    "result_holdout = result_holdout.reset_index()\n",
    "result_holdout.drop('Timestamp', axis=1, inplace=True)\n",
    "#result.start = result.start.astype(str)\n",
    "#result.set_index('start',inplace=True)\n",
    "#result"
   ]
  },
  {
   "cell_type": "code",
   "execution_count": 279,
   "metadata": {},
   "outputs": [],
   "source": [
    "result.set_index('start',inplace=True)\n",
    "result.index = pd.to_datetime(result.index) \n",
    "\n",
    "result_holdout.set_index('start',inplace=True)\n",
    "result_holdout.index = pd.to_datetime(result_holdout.index) "
   ]
  },
  {
   "cell_type": "code",
   "execution_count": 280,
   "metadata": {},
   "outputs": [],
   "source": [
    "# remove two july days for even dataset\n",
    "result = result[2:]\n",
    "result_holdout = result_holdout[2:]"
   ]
  },
  {
   "cell_type": "code",
   "execution_count": 281,
   "metadata": {},
   "outputs": [],
   "source": [
    "start = result.index.min()\n",
    "end = result.index.max()\n",
    "index = pd.date_range(start, end, freq='D')\n",
    "index = index.map(lambda t: t.strftime('%Y-%m-%d'))\n",
    "makingjson = pd.DataFrame(index=index, columns=['target'])\n",
    "makingjson.index.name = 'date'\n",
    "\n",
    "for day in index:\n",
    "    makingjson.loc[day, 'target'] = result.loc[day, 'target'].tolist()\n",
    "\n",
    "    \n",
    "    "
   ]
  },
  {
   "cell_type": "code",
   "execution_count": 282,
   "metadata": {},
   "outputs": [],
   "source": [
    "def series_to_obj(ts, cat=None):\n",
    "    obj = {\"start\": str(ts.index[0]), \"target\": list(ts)}\n",
    "    if cat is not None:\n",
    "        obj[\"cat\"] = cat\n",
    "    return obj\n",
    "\n",
    "def series_to_jsonline(ts, cat=None):\n",
    "    return json.dumps(series_to_obj(ts, cat))"
   ]
  },
  {
   "cell_type": "code",
   "execution_count": 283,
   "metadata": {},
   "outputs": [],
   "source": [
    "makingjson = makingjson.reset_index(drop=False)\n"
   ]
  },
  {
   "cell_type": "code",
   "execution_count": 284,
   "metadata": {},
   "outputs": [],
   "source": [
    "makingjson.columns = ['start', 'target']"
   ]
  },
  {
   "cell_type": "code",
   "execution_count": 285,
   "metadata": {},
   "outputs": [
    {
     "data": {
      "text/html": [
       "<div>\n",
       "<style scoped>\n",
       "    .dataframe tbody tr th:only-of-type {\n",
       "        vertical-align: middle;\n",
       "    }\n",
       "\n",
       "    .dataframe tbody tr th {\n",
       "        vertical-align: top;\n",
       "    }\n",
       "\n",
       "    .dataframe thead th {\n",
       "        text-align: right;\n",
       "    }\n",
       "</style>\n",
       "<table border=\"1\" class=\"dataframe\">\n",
       "  <thead>\n",
       "    <tr style=\"text-align: right;\">\n",
       "      <th></th>\n",
       "      <th>start</th>\n",
       "      <th>target</th>\n",
       "    </tr>\n",
       "  </thead>\n",
       "  <tbody>\n",
       "    <tr>\n",
       "      <th>0</th>\n",
       "      <td>2013-07-01</td>\n",
       "      <td>[574199.4713140074, 504223.53358262416, 602037...</td>\n",
       "    </tr>\n",
       "    <tr>\n",
       "      <th>1</th>\n",
       "      <td>2013-07-02</td>\n",
       "      <td>[650204.8214047799, 653213.9708218395, 565570....</td>\n",
       "    </tr>\n",
       "    <tr>\n",
       "      <th>2</th>\n",
       "      <td>2013-07-03</td>\n",
       "      <td>[992436.0216913229, 952792.0524644597, 924735....</td>\n",
       "    </tr>\n",
       "    <tr>\n",
       "      <th>3</th>\n",
       "      <td>2013-07-04</td>\n",
       "      <td>[221054.54960393056, 231642.20276966706, 22931...</td>\n",
       "    </tr>\n",
       "    <tr>\n",
       "      <th>4</th>\n",
       "      <td>2013-07-05</td>\n",
       "      <td>[133744.91281717448, 137004.83592266572, 13975...</td>\n",
       "    </tr>\n",
       "  </tbody>\n",
       "</table>\n",
       "</div>"
      ],
      "text/plain": [
       "        start                                             target\n",
       "0  2013-07-01  [574199.4713140074, 504223.53358262416, 602037...\n",
       "1  2013-07-02  [650204.8214047799, 653213.9708218395, 565570....\n",
       "2  2013-07-03  [992436.0216913229, 952792.0524644597, 924735....\n",
       "3  2013-07-04  [221054.54960393056, 231642.20276966706, 22931...\n",
       "4  2013-07-05  [133744.91281717448, 137004.83592266572, 13975..."
      ]
     },
     "execution_count": 285,
     "metadata": {},
     "output_type": "execute_result"
    }
   ],
   "source": [
    "makingjson.head()"
   ]
  },
  {
   "cell_type": "code",
   "execution_count": 286,
   "metadata": {},
   "outputs": [
    {
     "data": {
      "text/plain": [
       "18.2"
      ]
     },
     "execution_count": 286,
     "metadata": {},
     "output_type": "execute_result"
    }
   ],
   "source": [
    "len(makingjson)*.2"
   ]
  },
  {
   "cell_type": "code",
   "execution_count": 287,
   "metadata": {},
   "outputs": [],
   "source": [
    "traindat = makingjson[:-round(len(makingjson)*.2)]"
   ]
  },
  {
   "cell_type": "code",
   "execution_count": 288,
   "metadata": {},
   "outputs": [],
   "source": [
    "#makingjson.to_json('test.json', orient='records', lines=True)\n"
   ]
  },
  {
   "cell_type": "code",
   "execution_count": 289,
   "metadata": {},
   "outputs": [],
   "source": [
    "#traindat.to_json('train.json', orient='records', lines=True)\n"
   ]
  },
  {
   "cell_type": "code",
   "execution_count": 290,
   "metadata": {},
   "outputs": [],
   "source": [
    "t0  = '2013-07-01 00:00:00'\n",
    "data_length = 2182\n",
    "num_ts = 90\n",
    "period = 24\n",
    "freq= \"H\""
   ]
  },
  {
   "cell_type": "code",
   "execution_count": 291,
   "metadata": {},
   "outputs": [
    {
     "data": {
      "text/plain": [
       "DatetimeIndex(['2013-07-01 00:00:00', '2013-07-01 01:00:00',\n",
       "               '2013-07-01 02:00:00', '2013-07-01 03:00:00',\n",
       "               '2013-07-01 04:00:00', '2013-07-01 05:00:00',\n",
       "               '2013-07-01 06:00:00', '2013-07-01 07:00:00',\n",
       "               '2013-07-01 08:00:00', '2013-07-01 09:00:00',\n",
       "               ...\n",
       "               '2013-09-29 12:00:00', '2013-09-29 13:00:00',\n",
       "               '2013-09-29 14:00:00', '2013-09-29 15:00:00',\n",
       "               '2013-09-29 16:00:00', '2013-09-29 17:00:00',\n",
       "               '2013-09-29 18:00:00', '2013-09-29 19:00:00',\n",
       "               '2013-09-29 20:00:00', '2013-09-29 21:00:00'],\n",
       "              dtype='datetime64[ns]', length=2182, freq='H')"
      ]
     },
     "execution_count": 291,
     "metadata": {},
     "output_type": "execute_result"
    }
   ],
   "source": [
    "index = pd.DatetimeIndex(start=t0, freq=freq, periods=data_length)\n",
    "index\n",
    "data = result['target']\n",
    "index"
   ]
  },
  {
   "cell_type": "code",
   "execution_count": 292,
   "metadata": {},
   "outputs": [],
   "source": [
    "freq = 'H'\n",
    "prediction_length = 48\n",
    "context_length = 24"
   ]
  },
  {
   "cell_type": "code",
   "execution_count": 293,
   "metadata": {},
   "outputs": [],
   "source": [
    "#training data"
   ]
  },
  {
   "cell_type": "code",
   "execution_count": 294,
   "metadata": {},
   "outputs": [],
   "source": [
    "time_series = []\n",
    "time_series.append(pd.Series(data=data, index=index))"
   ]
  },
  {
   "cell_type": "code",
   "execution_count": 295,
   "metadata": {},
   "outputs": [
    {
     "data": {
      "text/plain": [
       "[2013-07-01 00:00:00    574199.471314\n",
       " 2013-07-01 01:00:00    504223.533583\n",
       " 2013-07-01 02:00:00    602037.700933\n",
       " 2013-07-01 03:00:00    537590.567297\n",
       " 2013-07-01 04:00:00    563635.868481\n",
       " 2013-07-01 05:00:00    549744.252687\n",
       " 2013-07-01 06:00:00    557225.250067\n",
       " 2013-07-01 07:00:00    508624.305200\n",
       " 2013-07-01 08:00:00    513069.222741\n",
       " 2013-07-01 09:00:00    788451.581679\n",
       " 2013-07-01 10:00:00    795476.236748\n",
       " 2013-07-01 11:00:00    586740.465083\n",
       " 2013-07-01 12:00:00    490533.125078\n",
       " 2013-07-01 13:00:00    578417.119020\n",
       " 2013-07-01 14:00:00    193995.426659\n",
       " 2013-07-01 15:00:00    536768.447497\n",
       " 2013-07-01 16:00:00    642464.714314\n",
       " 2013-07-01 17:00:00    613274.455292\n",
       " 2013-07-01 18:00:00    611093.628699\n",
       " 2013-07-01 19:00:00    644672.937117\n",
       " 2013-07-01 20:00:00    901749.342492\n",
       " 2013-07-01 21:00:00    933468.409705\n",
       " 2013-07-01 22:00:00    646395.447334\n",
       " 2013-07-01 23:00:00    556884.310901\n",
       " 2013-07-02 00:00:00    650204.821405\n",
       " 2013-07-02 01:00:00    653213.970822\n",
       " 2013-07-02 02:00:00    565570.420138\n",
       " 2013-07-02 03:00:00    632436.410318\n",
       " 2013-07-02 04:00:00    529130.847486\n",
       " 2013-07-02 05:00:00    352491.459991\n",
       "                            ...      \n",
       " 2013-09-28 16:00:00    169784.437275\n",
       " 2013-09-28 17:00:00    169110.654652\n",
       " 2013-09-28 18:00:00    170383.504021\n",
       " 2013-09-28 19:00:00    170631.773545\n",
       " 2013-09-28 20:00:00    169057.922237\n",
       " 2013-09-28 21:00:00    168778.823808\n",
       " 2013-09-28 22:00:00    168559.251805\n",
       " 2013-09-28 23:00:00    167934.288527\n",
       " 2013-09-29 00:00:00    168625.829595\n",
       " 2013-09-29 01:00:00    168568.757181\n",
       " 2013-09-29 02:00:00    195294.652518\n",
       " 2013-09-29 03:00:00    168450.946903\n",
       " 2013-09-29 04:00:00    168691.893668\n",
       " 2013-09-29 05:00:00    169145.831233\n",
       " 2013-09-29 06:00:00    167443.601428\n",
       " 2013-09-29 07:00:00    167391.752533\n",
       " 2013-09-29 08:00:00    167671.167441\n",
       " 2013-09-29 09:00:00    167849.852927\n",
       " 2013-09-29 10:00:00    167754.945729\n",
       " 2013-09-29 11:00:00    167363.304923\n",
       " 2013-09-29 12:00:00    167977.602144\n",
       " 2013-09-29 13:00:00    167469.661076\n",
       " 2013-09-29 14:00:00    167441.606832\n",
       " 2013-09-29 15:00:00    167264.288132\n",
       " 2013-09-29 16:00:00    167686.839925\n",
       " 2013-09-29 17:00:00    167337.848395\n",
       " 2013-09-29 18:00:00    167949.616483\n",
       " 2013-09-29 19:00:00    170760.330987\n",
       " 2013-09-29 20:00:00    167866.347201\n",
       " 2013-09-29 21:00:00    167577.594944\n",
       " Freq: H, Name: target, Length: 2182, dtype: float64]"
      ]
     },
     "execution_count": 295,
     "metadata": {},
     "output_type": "execute_result"
    }
   ],
   "source": [
    "time_series"
   ]
  },
  {
   "cell_type": "code",
   "execution_count": 296,
   "metadata": {},
   "outputs": [],
   "source": [
    "time_series_training = []\n",
    "for ts in time_series:\n",
    "    time_series_training.append(ts[:-prediction_length])"
   ]
  },
  {
   "cell_type": "code",
   "execution_count": 297,
   "metadata": {},
   "outputs": [
    {
     "data": {
      "image/png": "[encoded data removed]",
      "text/plain": [
       "<Figure size 432x288 with 1 Axes>"
      ]
     },
     "metadata": {},
     "output_type": "display_data"
    }
   ],
   "source": [
    "time_series[0].plot()\n",
    "plt.show()"
   ]
  },
  {
   "cell_type": "code",
   "execution_count": 298,
   "metadata": {},
   "outputs": [],
   "source": [
    "# HOLD OUT DATA"
   ]
  },
  {
   "cell_type": "code",
   "execution_count": 299,
   "metadata": {},
   "outputs": [],
   "source": [
    "time_series_holdout = []\n",
    "time_series_holdout.append(pd.Series(data= result_holdout['target'], index=index))"
   ]
  },
  {
   "cell_type": "code",
   "execution_count": 300,
   "metadata": {},
   "outputs": [
    {
     "data": {
      "image/png": "[encoded data removed]",
      "text/plain": [
       "<Figure size 432x288 with 1 Axes>"
      ]
     },
     "metadata": {},
     "output_type": "display_data"
    }
   ],
   "source": [
    "time_series_holdout[0].plot()\n",
    "plt.show()"
   ]
  },
  {
   "cell_type": "code",
   "execution_count": 301,
   "metadata": {},
   "outputs": [],
   "source": [
    "encoding = \"utf-8\"\n",
    "s3filesystem = s3fs.S3FileSystem()\n",
    "\n",
    "with s3filesystem.open(s3_data_path + \"/train/train.json\", 'wb') as fp:\n",
    "    for ts in time_series_training:\n",
    "        fp.write(series_to_jsonline(ts).encode(encoding))\n",
    "        fp.write('\\n'.encode(encoding))\n"
   ]
  },
  {
   "cell_type": "code",
   "execution_count": 302,
   "metadata": {},
   "outputs": [],
   "source": [
    "with s3filesystem.open(s3_data_path + \"/test/test.json\", 'wb') as fp:\n",
    "    for ts in time_series:\n",
    "        fp.write(series_to_jsonline(ts).encode(encoding))\n",
    "        fp.write('\\n'.encode(encoding))"
   ]
  },
  {
   "cell_type": "code",
   "execution_count": 303,
   "metadata": {},
   "outputs": [],
   "source": [
    "with s3filesystem.open(s3_data_path + \"/holdout/houldout.json\", 'wb') as fp:\n",
    "    for ts in time_series_holdout:\n",
    "        fp.write(series_to_jsonline(ts).encode(encoding))\n",
    "        fp.write('\\n'.encode(encoding))"
   ]
  },
  {
   "cell_type": "code",
   "execution_count": 304,
   "metadata": {},
   "outputs": [
    {
     "data": {
      "text/plain": [
       "'sagemaker-testtimeseries/sagemaker/test-demo-deepar/data'"
      ]
     },
     "execution_count": 304,
     "metadata": {},
     "output_type": "execute_result"
    }
   ],
   "source": [
    "s3_data_path"
   ]
  },
  {
   "cell_type": "code",
   "execution_count": 305,
   "metadata": {},
   "outputs": [],
   "source": [
    "estimator = sagemaker.estimator.Estimator(\n",
    "    sagemaker_session=sagemaker_session,\n",
    "    image_name=image_name,\n",
    "    role=role,\n",
    "    train_instance_count=1,\n",
    "    train_instance_type='ml.c4.xlarge',\n",
    "    base_job_name='test-demo-deepar',\n",
    "    output_path=\"s3://\" + s3_output_path\n",
    ")"
   ]
  },
  {
   "cell_type": "code",
   "execution_count": 307,
   "metadata": {},
   "outputs": [],
   "source": [
    "# student t under estimates with these parameters, tuned from an earlier job\n",
    "hyperparameters  = {\n",
    "    \"time_freq\": freq,\n",
    "    \"context_length\": context_length,\n",
    "    \"prediction_length\": prediction_length,\n",
    "    \"num_cells\": \"48\",\n",
    "    \"num_layers\": \"3\",\n",
    "    \"likelihood\": \"gaussian\",\n",
    "    \"epochs\": \"20\",\n",
    "    \"mini_batch_size\": \"32\",\n",
    "    \"learning_rate\": \"0.001\",\n",
    "    \"dropout_rate\": \"0.05\",\n",
    "    \"early_stopping_patience\": \"10\"\n",
    "}"
   ]
  },
  {
   "cell_type": "code",
   "execution_count": 308,
   "metadata": {},
   "outputs": [],
   "source": [
    "estimator.set_hyperparameters(**hyperparameters)"
   ]
  },
  {
   "cell_type": "code",
   "execution_count": 309,
   "metadata": {},
   "outputs": [
    {
     "name": "stderr",
     "output_type": "stream",
     "text": [
      "INFO:sagemaker:Creating training-job with name: test-demo-deepar-2018-06-20-03-51-22-345\n"
     ]
    },
    {
     "name": "stdout",
     "output_type": "stream",
     "text": [
      "...................\n",
      "\u001b[31mArguments: train\u001b[0m\n",
      "\u001b[31m[06/20/2018 03:54:26 INFO 140039134000960] Reading default configuration from /opt/amazon/lib/python2.7/site-packages/algorithm/default-input.json: {u'dropout_rate': u'0.10', u'cardinality': u'', u'test_quantiles': u'[0.1, 0.2, 0.3, 0.4, 0.5, 0.6, 0.7, 0.8, 0.9]', u'_tuning_objective_metric': u'', u'_num_gpus': u'auto', u'learning_rate': u'0.001', u'num_cells': u'40', u'num_layers': u'2', u'embedding_dimension': u'', u'_kvstore': u'auto', u'_num_kv_servers': u'auto', u'mini_batch_size': u'32', u'likelihood': u'student-t', u'early_stopping_patience': u''}\u001b[0m\n",
      "\u001b[31m[06/20/2018 03:54:26 INFO 140039134000960] Reading provided configuration from /opt/ml/input/config/hyperparameters.json: {u'dropout_rate': u'0.05', u'learning_rate': u'0.001', u'num_cells': u'48', u'prediction_length': u'48', u'epochs': u'20', u'time_freq': u'H', u'context_length': u'24', u'num_layers': u'3', u'mini_batch_size': u'32', u'likelihood': u'gaussian', u'early_stopping_patience': u'10'}\u001b[0m\n",
      "\u001b[31m[06/20/2018 03:54:26 INFO 140039134000960] Final configuration: {u'dropout_rate': u'0.05', u'test_quantiles': u'[0.1, 0.2, 0.3, 0.4, 0.5, 0.6, 0.7, 0.8, 0.9]', u'_tuning_objective_metric': u'', u'learning_rate': u'0.001', u'num_layers': u'3', u'epochs': u'20', u'embedding_dimension': u'', u'num_cells': u'48', u'_num_kv_servers': u'auto', u'cardinality': u'', u'likelihood': u'gaussian', u'mini_batch_size': u'32', u'_num_gpus': u'auto', u'prediction_length': u'48', u'time_freq': u'H', u'context_length': u'24', u'_kvstore': u'auto', u'early_stopping_patience': u'10'}\u001b[0m\n",
      "\u001b[31m[06/20/2018 03:54:26 INFO 140039134000960] Detected entry point for worker worker\u001b[0m\n",
      "\u001b[31m[06/20/2018 03:54:26 INFO 140039134000960] nvidia-smi took: 0.02516913414 secs to identify 0 gpus\u001b[0m\n",
      "\u001b[31m[06/20/2018 03:54:26 INFO 140039134000960] Number of GPUs being used: 0\u001b[0m\n",
      "\u001b[31m[06/20/2018 03:54:26 WARNING 140039134000960] Dataset contains very few time-series which may not be sufficient for good accuracy\u001b[0m\n",
      "\u001b[31m[06/20/2018 03:54:26 INFO 140039134000960] Training set statistics:\u001b[0m\n",
      "\u001b[31m[06/20/2018 03:54:26 INFO 140039134000960] Real timeseries\u001b[0m\n",
      "\u001b[31m[06/20/2018 03:54:26 INFO 140039134000960] number of timeseries: 1\u001b[0m\n",
      "\u001b[31m[06/20/2018 03:54:26 INFO 140039134000960] number of observations: 2134\u001b[0m\n",
      "\u001b[31m[06/20/2018 03:54:26 INFO 140039134000960] mean target length: 2134\u001b[0m\n",
      "\u001b[31m[06/20/2018 03:54:26 INFO 140039134000960] min/mean/max target: 0.0/442131.373946/2017685.125\u001b[0m\n",
      "\u001b[31m[06/20/2018 03:54:26 INFO 140039134000960] mean abs(target): 442131.373946\u001b[0m\n",
      "\u001b[31m[06/20/2018 03:54:26 INFO 140039134000960] Small number of time-series. Doing 10 number of passes over dataset per epoch.\u001b[0m\n",
      "\u001b[31m[06/20/2018 03:54:26 INFO 140039134000960] Test set statistics:\u001b[0m\n",
      "\u001b[31m[06/20/2018 03:54:26 INFO 140039134000960] Real timeseries\u001b[0m\n",
      "\u001b[31m[06/20/2018 03:54:26 INFO 140039134000960] number of timeseries: 1\u001b[0m\n",
      "\u001b[31m[06/20/2018 03:54:26 INFO 140039134000960] number of observations: 2182\u001b[0m\n",
      "\u001b[31m[06/20/2018 03:54:26 INFO 140039134000960] mean target length: 2182\u001b[0m\n",
      "\u001b[31m[06/20/2018 03:54:26 INFO 140039134000960] min/mean/max target: 0.0/436158.944088/2017685.125\u001b[0m\n",
      "\u001b[31m[06/20/2018 03:54:26 INFO 140039134000960] mean abs(target): 436158.944088\u001b[0m\n",
      "\u001b[31m[06/20/2018 03:54:26 INFO 140039134000960] Create Store: local\u001b[0m\n",
      "\u001b[31m#metrics {\"Metrics\": {\"get_graph.time\": {\"count\": 1, \"max\": 202.69393920898438, \"sum\": 202.69393920898438, \"min\": 202.69393920898438}}, \"EndTime\": 1529466866.802734, \"Dimensions\": {\"Host\": \"algo-1\", \"Operation\": \"training\", \"Algorithm\": \"AWS/DeepAR\"}, \"StartTime\": 1529466866.598202}\n",
      "\u001b[0m\n",
      "\u001b[31m[06/20/2018 03:54:26 INFO 140039134000960] Number of GPUs being used: 0\u001b[0m\n",
      "\u001b[31m#metrics {\"Metrics\": {\"initialize.time\": {\"count\": 1, \"max\": 458.0121040344238, \"sum\": 458.0121040344238, \"min\": 458.0121040344238}}, \"EndTime\": 1529466867.056273, \"Dimensions\": {\"Host\": \"algo-1\", \"Operation\": \"training\", \"Algorithm\": \"AWS/DeepAR\"}, \"StartTime\": 1529466866.802832}\n",
      "\u001b[0m\n",
      "\u001b[31m[06/20/2018 03:54:27 INFO 140039134000960] Using early stopping with patience 10\u001b[0m\n",
      "\u001b[31m[06/20/2018 03:54:27 INFO 140039134000960] Epoch[0] Batch[0] avg_epoch_loss=18.024424\u001b[0m\n",
      "\u001b[31m[06/20/2018 03:54:27 INFO 140039134000960] Epoch[0] Batch[5] avg_epoch_loss=15.500222\u001b[0m\n",
      "\u001b[31m[06/20/2018 03:54:27 INFO 140039134000960] Epoch[0] Batch [5]#011Speed: 271.83 samples/sec#011loss=15.500222\u001b[0m\n",
      "\u001b[31m[06/20/2018 03:54:28 INFO 140039134000960] Epoch[0] Batch[10] avg_epoch_loss=14.974796\u001b[0m\n",
      "\u001b[31m[06/20/2018 03:54:28 INFO 140039134000960] Epoch[0] Batch [10]#011Speed: 327.18 samples/sec#011loss=14.344285\u001b[0m\n",
      "\u001b[31m[06/20/2018 03:54:28 INFO 140039134000960] processed a total of 351 examples\u001b[0m\n",
      "\u001b[31m#metrics {\"Metrics\": {\"epochs\": {\"count\": 1, \"max\": 20, \"sum\": 20.0, \"min\": 20}, \"update.time\": {\"count\": 1, \"max\": 1333.2371711730957, \"sum\": 1333.2371711730957, \"min\": 1333.2371711730957}}, \"EndTime\": 1529466868.406919, \"Dimensions\": {\"Host\": \"algo-1\", \"Operation\": \"training\", \"Algorithm\": \"AWS/DeepAR\"}, \"StartTime\": 1529466867.05633}\n",
      "\u001b[0m\n",
      "\u001b[31m[06/20/2018 03:54:28 INFO 140039134000960] #throughput_metric: host=algo-1, train throughput=263.242719613 records/second\u001b[0m\n",
      "\u001b[31m[06/20/2018 03:54:28 INFO 140039134000960] #progress_metric: host=algo-1, completed 5 % of epochs\u001b[0m\n",
      "\u001b[31m[06/20/2018 03:54:28 INFO 140039134000960] best epoch loss so far\u001b[0m\n",
      "\u001b[31m[06/20/2018 03:54:28 INFO 140039134000960] Saved checkpoint to \"/opt/ml/model/state_00a059b0-9e8c-4d4d-a37a-6050844c68f7-0000.params\"\u001b[0m\n",
      "\u001b[31m#metrics {\"Metrics\": {\"state.serialize.time\": {\"count\": 1, \"max\": 25.40898323059082, \"sum\": 25.40898323059082, \"min\": 25.40898323059082}}, \"EndTime\": 1529466868.43286, \"Dimensions\": {\"Host\": \"algo-1\", \"Operation\": \"training\", \"Algorithm\": \"AWS/DeepAR\"}, \"StartTime\": 1529466868.407013}\n",
      "\u001b[0m\n",
      "\u001b[31m[06/20/2018 03:54:28 INFO 140039134000960] Epoch[1] Batch[0] avg_epoch_loss=14.132118\u001b[0m\n",
      "\u001b[31m[06/20/2018 03:54:29 INFO 140039134000960] Epoch[1] Batch[5] avg_epoch_loss=14.260692\u001b[0m\n",
      "\u001b[31m[06/20/2018 03:54:29 INFO 140039134000960] Epoch[1] Batch [5]#011Speed: 308.13 samples/sec#011loss=14.260692\u001b[0m\n",
      "\u001b[31m[06/20/2018 03:54:29 INFO 140039134000960] Epoch[1] Batch[10] avg_epoch_loss=14.255137\u001b[0m\n",
      "\u001b[31m[06/20/2018 03:54:29 INFO 140039134000960] Epoch[1] Batch [10]#011Speed: 326.65 samples/sec#011loss=14.248471\u001b[0m\n",
      "\u001b[31m[06/20/2018 03:54:29 INFO 140039134000960] processed a total of 321 examples\u001b[0m\n",
      "\u001b[31m#metrics {\"Metrics\": {\"update.time\": {\"count\": 1, \"max\": 1104.0828227996826, \"sum\": 1104.0828227996826, \"min\": 1104.0828227996826}}, \"EndTime\": 1529466869.550496, \"Dimensions\": {\"Host\": \"algo-1\", \"Operation\": \"training\", \"Algorithm\": \"AWS/DeepAR\"}, \"StartTime\": 1529466868.432912}\n",
      "\u001b[0m\n",
      "\u001b[31m[06/20/2018 03:54:29 INFO 140039134000960] #throughput_metric: host=algo-1, train throughput=290.707418961 records/second\u001b[0m\n",
      "\u001b[31m[06/20/2018 03:54:29 INFO 140039134000960] #progress_metric: host=algo-1, completed 10 % of epochs\u001b[0m\n",
      "\u001b[31m[06/20/2018 03:54:29 INFO 140039134000960] best epoch loss so far\u001b[0m\n",
      "\u001b[31m[06/20/2018 03:54:29 INFO 140039134000960] Saved checkpoint to \"/opt/ml/model/state_60652e06-bad7-4c54-86bd-24d2308e9faf-0000.params\"\u001b[0m\n",
      "\u001b[31m#metrics {\"Metrics\": {\"state.serialize.time\": {\"count\": 1, \"max\": 24.682044982910156, \"sum\": 24.682044982910156, \"min\": 24.682044982910156}}, \"EndTime\": 1529466869.575674, \"Dimensions\": {\"Host\": \"algo-1\", \"Operation\": \"training\", \"Algorithm\": \"AWS/DeepAR\"}, \"StartTime\": 1529466869.550578}\n",
      "\u001b[0m\n",
      "\u001b[31m[06/20/2018 03:54:29 INFO 140039134000960] Epoch[2] Batch[0] avg_epoch_loss=14.178266\u001b[0m\n",
      "\u001b[31m[06/20/2018 03:54:30 INFO 140039134000960] Epoch[2] Batch[5] avg_epoch_loss=14.169321\u001b[0m\n",
      "\u001b[31m[06/20/2018 03:54:30 INFO 140039134000960] Epoch[2] Batch [5]#011Speed: 325.11 samples/sec#011loss=14.169321\u001b[0m\n",
      "\u001b[31m[06/20/2018 03:54:30 INFO 140039134000960] Epoch[2] Batch[10] avg_epoch_loss=14.131441\u001b[0m\n",
      "\u001b[31m[06/20/2018 03:54:30 INFO 140039134000960] Epoch[2] Batch [10]#011Speed: 329.53 samples/sec#011loss=14.085984\u001b[0m\n",
      "\u001b[31m[06/20/2018 03:54:30 INFO 140039134000960] processed a total of 336 examples\u001b[0m\n",
      "\u001b[31m#metrics {\"Metrics\": {\"update.time\": {\"count\": 1, \"max\": 1116.4710521697998, \"sum\": 1116.4710521697998, \"min\": 1116.4710521697998}}, \"EndTime\": 1529466870.705562, \"Dimensions\": {\"Host\": \"algo-1\", \"Operation\": \"training\", \"Algorithm\": \"AWS/DeepAR\"}, \"StartTime\": 1529466869.575732}\n",
      "\u001b[0m\n",
      "\u001b[31m[06/20/2018 03:54:30 INFO 140039134000960] #throughput_metric: host=algo-1, train throughput=300.914826793 records/second\u001b[0m\n",
      "\u001b[31m[06/20/2018 03:54:30 INFO 140039134000960] #progress_metric: host=algo-1, completed 15 % of epochs\u001b[0m\n",
      "\u001b[31m[06/20/2018 03:54:30 INFO 140039134000960] best epoch loss so far\u001b[0m\n",
      "\u001b[31m[06/20/2018 03:54:30 INFO 140039134000960] Saved checkpoint to \"/opt/ml/model/state_9c6f9736-7c30-427e-bcfc-846935c2efd3-0000.params\"\u001b[0m\n",
      "\u001b[31m#metrics {\"Metrics\": {\"state.serialize.time\": {\"count\": 1, \"max\": 24.194955825805664, \"sum\": 24.194955825805664, \"min\": 24.194955825805664}}, \"EndTime\": 1529466870.730186, \"Dimensions\": {\"Host\": \"algo-1\", \"Operation\": \"training\", \"Algorithm\": \"AWS/DeepAR\"}, \"StartTime\": 1529466870.705637}\n",
      "\u001b[0m\n",
      "\u001b[31m[06/20/2018 03:54:30 INFO 140039134000960] Epoch[3] Batch[0] avg_epoch_loss=14.079450\u001b[0m\n",
      "\u001b[31m[06/20/2018 03:54:31 INFO 140039134000960] Epoch[3] Batch[5] avg_epoch_loss=14.026891\u001b[0m\n",
      "\u001b[31m[06/20/2018 03:54:31 INFO 140039134000960] Epoch[3] Batch [5]#011Speed: 295.34 samples/sec#011loss=14.026891\u001b[0m\n",
      "\u001b[31m[06/20/2018 03:54:31 INFO 140039134000960] processed a total of 305 examples\u001b[0m\n",
      "\u001b[31m#metrics {\"Metrics\": {\"update.time\": {\"count\": 1, \"max\": 1050.4438877105713, \"sum\": 1050.4438877105713, \"min\": 1050.4438877105713}}, \"EndTime\": 1529466871.793334, \"Dimensions\": {\"Host\": \"algo-1\", \"Operation\": \"training\", \"Algorithm\": \"AWS/DeepAR\"}, \"StartTime\": 1529466870.730252}\n",
      "\u001b[0m\n",
      "\u001b[31m[06/20/2018 03:54:31 INFO 140039134000960] #throughput_metric: host=algo-1, train throughput=290.324054479 records/second\u001b[0m\n",
      "\u001b[31m[06/20/2018 03:54:31 INFO 140039134000960] #progress_metric: host=algo-1, completed 20 % of epochs\u001b[0m\n",
      "\u001b[31m[06/20/2018 03:54:31 INFO 140039134000960] best epoch loss so far\u001b[0m\n",
      "\u001b[31m[06/20/2018 03:54:31 INFO 140039134000960] Saved checkpoint to \"/opt/ml/model/state_fb88232f-8e96-4033-b416-e758c0fb0a82-0000.params\"\u001b[0m\n",
      "\u001b[31m#metrics {\"Metrics\": {\"state.serialize.time\": {\"count\": 1, \"max\": 25.86078643798828, \"sum\": 25.86078643798828, \"min\": 25.86078643798828}}, \"EndTime\": 1529466871.81964, \"Dimensions\": {\"Host\": \"algo-1\", \"Operation\": \"training\", \"Algorithm\": \"AWS/DeepAR\"}, \"StartTime\": 1529466871.793403}\n",
      "\u001b[0m\n",
      "\u001b[31m[06/20/2018 03:54:31 INFO 140039134000960] Epoch[4] Batch[0] avg_epoch_loss=14.119870\u001b[0m\n",
      "\u001b[31m[06/20/2018 03:54:32 INFO 140039134000960] Epoch[4] Batch[5] avg_epoch_loss=13.982442\u001b[0m\n",
      "\u001b[31m[06/20/2018 03:54:32 INFO 140039134000960] Epoch[4] Batch [5]#011Speed: 320.44 samples/sec#011loss=13.982442\u001b[0m\n",
      "\u001b[31m[06/20/2018 03:54:32 INFO 140039134000960] Epoch[4] Batch[10] avg_epoch_loss=13.980183\u001b[0m\n",
      "\u001b[31m[06/20/2018 03:54:32 INFO 140039134000960] Epoch[4] Batch [10]#011Speed: 328.47 samples/sec#011loss=13.977472\u001b[0m\n",
      "\u001b[31m[06/20/2018 03:54:32 INFO 140039134000960] processed a total of 331 examples\u001b[0m\n",
      "\u001b[31m#metrics {\"Metrics\": {\"update.time\": {\"count\": 1, \"max\": 1119.2538738250732, \"sum\": 1119.2538738250732, \"min\": 1119.2538738250732}}, \"EndTime\": 1529466872.953436, \"Dimensions\": {\"Host\": \"algo-1\", \"Operation\": \"training\", \"Algorithm\": \"AWS/DeepAR\"}, \"StartTime\": 1529466871.819706}\n",
      "\u001b[0m\n",
      "\u001b[31m[06/20/2018 03:54:32 INFO 140039134000960] #throughput_metric: host=algo-1, train throughput=295.682275778 records/second\u001b[0m\n",
      "\u001b[31m[06/20/2018 03:54:32 INFO 140039134000960] #progress_metric: host=algo-1, completed 25 % of epochs\u001b[0m\n",
      "\u001b[31m[06/20/2018 03:54:32 INFO 140039134000960] best epoch loss so far\u001b[0m\n",
      "\u001b[31m[06/20/2018 03:54:32 INFO 140039134000960] Saved checkpoint to \"/opt/ml/model/state_cc971515-3d6b-45ae-b9f1-141effa55cb6-0000.params\"\u001b[0m\n",
      "\u001b[31m#metrics {\"Metrics\": {\"state.serialize.time\": {\"count\": 1, \"max\": 30.267000198364258, \"sum\": 30.267000198364258, \"min\": 30.267000198364258}}, \"EndTime\": 1529466872.984179, \"Dimensions\": {\"Host\": \"algo-1\", \"Operation\": \"training\", \"Algorithm\": \"AWS/DeepAR\"}, \"StartTime\": 1529466872.953512}\n",
      "\u001b[0m\n",
      "\u001b[31m[06/20/2018 03:54:33 INFO 140039134000960] Epoch[5] Batch[0] avg_epoch_loss=13.740964\u001b[0m\n",
      "\u001b[31m[06/20/2018 03:54:33 INFO 140039134000960] Epoch[5] Batch[5] avg_epoch_loss=13.951306\u001b[0m\n",
      "\u001b[31m[06/20/2018 03:54:33 INFO 140039134000960] Epoch[5] Batch [5]#011Speed: 316.28 samples/sec#011loss=13.951306\u001b[0m\n",
      "\u001b[31m[06/20/2018 03:54:34 INFO 140039134000960] processed a total of 305 examples\u001b[0m\n",
      "\u001b[31m#metrics {\"Metrics\": {\"update.time\": {\"count\": 1, \"max\": 1035.8829498291016, \"sum\": 1035.8829498291016, \"min\": 1035.8829498291016}}, \"EndTime\": 1529466874.033113, \"Dimensions\": {\"Host\": \"algo-1\", \"Operation\": \"training\", \"Algorithm\": \"AWS/DeepAR\"}, \"StartTime\": 1529466872.984239}\n",
      "\u001b[0m\n",
      "\u001b[31m[06/20/2018 03:54:34 INFO 140039134000960] #throughput_metric: host=algo-1, train throughput=294.401540607 records/second\u001b[0m\n",
      "\u001b[31m[06/20/2018 03:54:34 INFO 140039134000960] #progress_metric: host=algo-1, completed 30 % of epochs\u001b[0m\n",
      "\u001b[31m[06/20/2018 03:54:34 INFO 140039134000960] best epoch loss so far\u001b[0m\n",
      "\u001b[31m[06/20/2018 03:54:34 INFO 140039134000960] Saved checkpoint to \"/opt/ml/model/state_f2feb453-c663-4709-89ba-23f7b869e136-0000.params\"\u001b[0m\n",
      "\u001b[31m#metrics {\"Metrics\": {\"state.serialize.time\": {\"count\": 1, \"max\": 23.10013771057129, \"sum\": 23.10013771057129, \"min\": 23.10013771057129}}, \"EndTime\": 1529466874.056668, \"Dimensions\": {\"Host\": \"algo-1\", \"Operation\": \"training\", \"Algorithm\": \"AWS/DeepAR\"}, \"StartTime\": 1529466874.033191}\n",
      "\u001b[0m\n",
      "\u001b[31m[06/20/2018 03:54:34 INFO 140039134000960] Epoch[6] Batch[0] avg_epoch_loss=13.830771\u001b[0m\n",
      "\u001b[31m[06/20/2018 03:54:34 INFO 140039134000960] Epoch[6] Batch[5] avg_epoch_loss=13.930517\u001b[0m\n",
      "\u001b[31m[06/20/2018 03:54:34 INFO 140039134000960] Epoch[6] Batch [5]#011Speed: 317.02 samples/sec#011loss=13.930517\u001b[0m\n",
      "\u001b[31m[06/20/2018 03:54:35 INFO 140039134000960] processed a total of 294 examples\u001b[0m\n",
      "\u001b[31m#metrics {\"Metrics\": {\"update.time\": {\"count\": 1, \"max\": 1008.4109306335449, \"sum\": 1008.4109306335449, \"min\": 1008.4109306335449}}, \"EndTime\": 1529466875.078302, \"Dimensions\": {\"Host\": \"algo-1\", \"Operation\": \"training\", \"Algorithm\": \"AWS/DeepAR\"}, \"StartTime\": 1529466874.056737}\n",
      "\u001b[0m\n",
      "\u001b[31m[06/20/2018 03:54:35 INFO 140039134000960] #throughput_metric: host=algo-1, train throughput=291.519483838 records/second\u001b[0m\n",
      "\u001b[31m[06/20/2018 03:54:35 INFO 140039134000960] #progress_metric: host=algo-1, completed 35 % of epochs\u001b[0m\n",
      "\u001b[31m[06/20/2018 03:54:35 INFO 140039134000960] loss did not improve for 1 epochs\u001b[0m\n",
      "\u001b[31m[06/20/2018 03:54:35 INFO 140039134000960] Epoch[7] Batch[0] avg_epoch_loss=13.854418\u001b[0m\n",
      "\u001b[31m[06/20/2018 03:54:35 INFO 140039134000960] Epoch[7] Batch[5] avg_epoch_loss=13.852348\u001b[0m\n",
      "\u001b[31m[06/20/2018 03:54:35 INFO 140039134000960] Epoch[7] Batch [5]#011Speed: 320.33 samples/sec#011loss=13.852348\u001b[0m\n",
      "\u001b[31m[06/20/2018 03:54:36 INFO 140039134000960] Epoch[7] Batch[10] avg_epoch_loss=13.878755\u001b[0m\n",
      "\u001b[31m[06/20/2018 03:54:36 INFO 140039134000960] Epoch[7] Batch [10]#011Speed: 313.26 samples/sec#011loss=13.910444\u001b[0m\n",
      "\u001b[31m[06/20/2018 03:54:36 INFO 140039134000960] processed a total of 345 examples\u001b[0m\n",
      "\u001b[31m#metrics {\"Metrics\": {\"update.time\": {\"count\": 1, \"max\": 1098.9208221435547, \"sum\": 1098.9208221435547, \"min\": 1098.9208221435547}}, \"EndTime\": 1529466876.191092, \"Dimensions\": {\"Host\": \"algo-1\", \"Operation\": \"training\", \"Algorithm\": \"AWS/DeepAR\"}, \"StartTime\": 1529466875.078369}\n",
      "\u001b[0m\n",
      "\u001b[31m[06/20/2018 03:54:36 INFO 140039134000960] #throughput_metric: host=algo-1, train throughput=313.916918369 records/second\u001b[0m\n",
      "\u001b[31m[06/20/2018 03:54:36 INFO 140039134000960] #progress_metric: host=algo-1, completed 40 % of epochs\u001b[0m\n",
      "\u001b[31m[06/20/2018 03:54:36 INFO 140039134000960] best epoch loss so far\u001b[0m\n",
      "\u001b[31m[06/20/2018 03:54:36 INFO 140039134000960] Saved checkpoint to \"/opt/ml/model/state_8197a486-568c-4c3d-a654-37b2cd2a0d06-0000.params\"\u001b[0m\n",
      "\u001b[31m#metrics {\"Metrics\": {\"state.serialize.time\": {\"count\": 1, \"max\": 27.019977569580078, \"sum\": 27.019977569580078, \"min\": 27.019977569580078}}, \"EndTime\": 1529466876.21884, \"Dimensions\": {\"Host\": \"algo-1\", \"Operation\": \"training\", \"Algorithm\": \"AWS/DeepAR\"}, \"StartTime\": 1529466876.191153}\n",
      "\u001b[0m\n",
      "\u001b[31m[06/20/2018 03:54:36 INFO 140039134000960] Epoch[8] Batch[0] avg_epoch_loss=13.766969\u001b[0m\n",
      "\u001b[31m[06/20/2018 03:54:36 INFO 140039134000960] Epoch[8] Batch[5] avg_epoch_loss=13.776291\u001b[0m\n",
      "\u001b[31m[06/20/2018 03:54:36 INFO 140039134000960] Epoch[8] Batch [5]#011Speed: 316.39 samples/sec#011loss=13.776291\u001b[0m\n",
      "\u001b[31m[06/20/2018 03:54:37 INFO 140039134000960] processed a total of 315 examples\u001b[0m\n",
      "\u001b[31m#metrics {\"Metrics\": {\"update.time\": {\"count\": 1, \"max\": 1009.5639228820801, \"sum\": 1009.5639228820801, \"min\": 1009.5639228820801}}, \"EndTime\": 1529466877.243886, \"Dimensions\": {\"Host\": \"algo-1\", \"Operation\": \"training\", \"Algorithm\": \"AWS/DeepAR\"}, \"StartTime\": 1529466876.218908}\n",
      "\u001b[0m\n",
      "\u001b[31m[06/20/2018 03:54:37 INFO 140039134000960] #throughput_metric: host=algo-1, train throughput=311.985253731 records/second\u001b[0m\n",
      "\u001b[31m[06/20/2018 03:54:37 INFO 140039134000960] #progress_metric: host=algo-1, completed 45 % of epochs\u001b[0m\n",
      "\u001b[31m[06/20/2018 03:54:37 INFO 140039134000960] best epoch loss so far\u001b[0m\n",
      "\u001b[31m[06/20/2018 03:54:37 INFO 140039134000960] Saved checkpoint to \"/opt/ml/model/state_a2b4c6ca-4b5b-40c4-a339-cab2f7b9102f-0000.params\"\u001b[0m\n",
      "\u001b[31m#metrics {\"Metrics\": {\"state.serialize.time\": {\"count\": 1, \"max\": 24.22499656677246, \"sum\": 24.22499656677246, \"min\": 24.22499656677246}}, \"EndTime\": 1529466877.268542, \"Dimensions\": {\"Host\": \"algo-1\", \"Operation\": \"training\", \"Algorithm\": \"AWS/DeepAR\"}, \"StartTime\": 1529466877.243951}\n",
      "\u001b[0m\n",
      "\u001b[31m[06/20/2018 03:54:37 INFO 140039134000960] Epoch[9] Batch[0] avg_epoch_loss=13.657935\u001b[0m\n",
      "\u001b[31m[06/20/2018 03:54:37 INFO 140039134000960] Epoch[9] Batch[5] avg_epoch_loss=13.673449\u001b[0m\n",
      "\u001b[31m[06/20/2018 03:54:37 INFO 140039134000960] Epoch[9] Batch [5]#011Speed: 308.16 samples/sec#011loss=13.673449\u001b[0m\n",
      "\u001b[31m[06/20/2018 03:54:38 INFO 140039134000960] processed a total of 294 examples\u001b[0m\n",
      "\u001b[31m#metrics {\"Metrics\": {\"update.time\": {\"count\": 1, \"max\": 1017.042875289917, \"sum\": 1017.042875289917, \"min\": 1017.042875289917}}, \"EndTime\": 1529466878.299057, \"Dimensions\": {\"Host\": \"algo-1\", \"Operation\": \"training\", \"Algorithm\": \"AWS/DeepAR\"}, \"StartTime\": 1529466877.268595}\n",
      "\u001b[0m\n",
      "\u001b[31m[06/20/2018 03:54:38 INFO 140039134000960] #throughput_metric: host=algo-1, train throughput=289.043477283 records/second\u001b[0m\n",
      "\u001b[31m[06/20/2018 03:54:38 INFO 140039134000960] #progress_metric: host=algo-1, completed 50 % of epochs\u001b[0m\n",
      "\u001b[31m[06/20/2018 03:54:38 INFO 140039134000960] best epoch loss so far\u001b[0m\n",
      "\u001b[31m[06/20/2018 03:54:38 INFO 140039134000960] Saved checkpoint to \"/opt/ml/model/state_9b2d3eee-0ff3-4415-94d5-6558e42621cc-0000.params\"\u001b[0m\n",
      "\u001b[31m#metrics {\"Metrics\": {\"state.serialize.time\": {\"count\": 1, \"max\": 30.01093864440918, \"sum\": 30.01093864440918, \"min\": 30.01093864440918}}, \"EndTime\": 1529466878.329474, \"Dimensions\": {\"Host\": \"algo-1\", \"Operation\": \"training\", \"Algorithm\": \"AWS/DeepAR\"}, \"StartTime\": 1529466878.299127}\n",
      "\u001b[0m\n",
      "\u001b[31m[06/20/2018 03:54:38 INFO 140039134000960] Epoch[10] Batch[0] avg_epoch_loss=13.473429\u001b[0m\n",
      "\u001b[31m[06/20/2018 03:54:38 INFO 140039134000960] Epoch[10] Batch[5] avg_epoch_loss=13.652561\u001b[0m\n",
      "\u001b[31m[06/20/2018 03:54:38 INFO 140039134000960] Epoch[10] Batch [5]#011Speed: 316.47 samples/sec#011loss=13.652561\u001b[0m\n",
      "\u001b[31m[06/20/2018 03:54:39 INFO 140039134000960] Epoch[10] Batch[10] avg_epoch_loss=13.637508\u001b[0m\n",
      "\u001b[31m[06/20/2018 03:54:39 INFO 140039134000960] Epoch[10] Batch [10]#011Speed: 326.64 samples/sec#011loss=13.619445\u001b[0m\n",
      "\u001b[31m[06/20/2018 03:54:39 INFO 140039134000960] processed a total of 328 examples\u001b[0m\n",
      "\u001b[31m#metrics {\"Metrics\": {\"update.time\": {\"count\": 1, \"max\": 1094.836950302124, \"sum\": 1094.836950302124, \"min\": 1094.836950302124}}, \"EndTime\": 1529466879.437905, \"Dimensions\": {\"Host\": \"algo-1\", \"Operation\": \"training\", \"Algorithm\": \"AWS/DeepAR\"}, \"StartTime\": 1529466878.329537}\n",
      "\u001b[0m\n",
      "\u001b[31m[06/20/2018 03:54:39 INFO 140039134000960] #throughput_metric: host=algo-1, train throughput=299.553219823 records/second\u001b[0m\n",
      "\u001b[31m[06/20/2018 03:54:39 INFO 140039134000960] #progress_metric: host=algo-1, completed 55 % of epochs\u001b[0m\n",
      "\u001b[31m[06/20/2018 03:54:39 INFO 140039134000960] best epoch loss so far\u001b[0m\n",
      "\u001b[31m[06/20/2018 03:54:39 INFO 140039134000960] Saved checkpoint to \"/opt/ml/model/state_772d0735-d194-411e-8bda-d4a8e2178a83-0000.params\"\u001b[0m\n",
      "\u001b[31m#metrics {\"Metrics\": {\"state.serialize.time\": {\"count\": 1, \"max\": 28.017044067382812, \"sum\": 28.017044067382812, \"min\": 28.017044067382812}}, \"EndTime\": 1529466879.466338, \"Dimensions\": {\"Host\": \"algo-1\", \"Operation\": \"training\", \"Algorithm\": \"AWS/DeepAR\"}, \"StartTime\": 1529466879.437997}\n",
      "\u001b[0m\n",
      "\u001b[31m[06/20/2018 03:54:39 INFO 140039134000960] Epoch[11] Batch[0] avg_epoch_loss=13.441621\u001b[0m\n"
     ]
    },
    {
     "name": "stdout",
     "output_type": "stream",
     "text": [
      "\u001b[31m[06/20/2018 03:54:40 INFO 140039134000960] Epoch[11] Batch[5] avg_epoch_loss=13.562003\u001b[0m\n",
      "\u001b[31m[06/20/2018 03:54:40 INFO 140039134000960] Epoch[11] Batch [5]#011Speed: 316.47 samples/sec#011loss=13.562003\u001b[0m\n",
      "\u001b[31m[06/20/2018 03:54:40 INFO 140039134000960] processed a total of 306 examples\u001b[0m\n",
      "\u001b[31m#metrics {\"Metrics\": {\"update.time\": {\"count\": 1, \"max\": 1003.5579204559326, \"sum\": 1003.5579204559326, \"min\": 1003.5579204559326}}, \"EndTime\": 1529466880.483306, \"Dimensions\": {\"Host\": \"algo-1\", \"Operation\": \"training\", \"Algorithm\": \"AWS/DeepAR\"}, \"StartTime\": 1529466879.466399}\n",
      "\u001b[0m\n",
      "\u001b[31m[06/20/2018 03:54:40 INFO 140039134000960] #throughput_metric: host=algo-1, train throughput=304.879862147 records/second\u001b[0m\n",
      "\u001b[31m[06/20/2018 03:54:40 INFO 140039134000960] #progress_metric: host=algo-1, completed 60 % of epochs\u001b[0m\n",
      "\u001b[31m[06/20/2018 03:54:40 INFO 140039134000960] best epoch loss so far\u001b[0m\n",
      "\u001b[31m[06/20/2018 03:54:40 INFO 140039134000960] Saved checkpoint to \"/opt/ml/model/state_85fdaa80-6d02-4fd8-b9b0-584d3ed88f7e-0000.params\"\u001b[0m\n",
      "\u001b[31m#metrics {\"Metrics\": {\"state.serialize.time\": {\"count\": 1, \"max\": 24.22809600830078, \"sum\": 24.22809600830078, \"min\": 24.22809600830078}}, \"EndTime\": 1529466880.50798, \"Dimensions\": {\"Host\": \"algo-1\", \"Operation\": \"training\", \"Algorithm\": \"AWS/DeepAR\"}, \"StartTime\": 1529466880.483384}\n",
      "\u001b[0m\n",
      "\u001b[31m[06/20/2018 03:54:40 INFO 140039134000960] Epoch[12] Batch[0] avg_epoch_loss=13.439059\u001b[0m\n",
      "\u001b[31m[06/20/2018 03:54:41 INFO 140039134000960] Epoch[12] Batch[5] avg_epoch_loss=13.461857\u001b[0m\n",
      "\u001b[31m[06/20/2018 03:54:41 INFO 140039134000960] Epoch[12] Batch [5]#011Speed: 317.06 samples/sec#011loss=13.461857\u001b[0m\n",
      "\u001b[31m[06/20/2018 03:54:41 INFO 140039134000960] Epoch[12] Batch[10] avg_epoch_loss=13.415872\u001b[0m\n",
      "\u001b[31m[06/20/2018 03:54:41 INFO 140039134000960] Epoch[12] Batch [10]#011Speed: 301.42 samples/sec#011loss=13.360690\u001b[0m\n",
      "\u001b[31m[06/20/2018 03:54:41 INFO 140039134000960] processed a total of 348 examples\u001b[0m\n",
      "\u001b[31m#metrics {\"Metrics\": {\"update.time\": {\"count\": 1, \"max\": 1125.8761882781982, \"sum\": 1125.8761882781982, \"min\": 1125.8761882781982}}, \"EndTime\": 1529466881.646493, \"Dimensions\": {\"Host\": \"algo-1\", \"Operation\": \"training\", \"Algorithm\": \"AWS/DeepAR\"}, \"StartTime\": 1529466880.508041}\n",
      "\u001b[0m\n",
      "\u001b[31m[06/20/2018 03:54:41 INFO 140039134000960] #throughput_metric: host=algo-1, train throughput=309.063607971 records/second\u001b[0m\n",
      "\u001b[31m[06/20/2018 03:54:41 INFO 140039134000960] #progress_metric: host=algo-1, completed 65 % of epochs\u001b[0m\n",
      "\u001b[31m[06/20/2018 03:54:41 INFO 140039134000960] best epoch loss so far\u001b[0m\n",
      "\u001b[31m[06/20/2018 03:54:41 INFO 140039134000960] Saved checkpoint to \"/opt/ml/model/state_3133353a-6010-4f1a-a180-00d0b159c6f6-0000.params\"\u001b[0m\n",
      "\u001b[31m#metrics {\"Metrics\": {\"state.serialize.time\": {\"count\": 1, \"max\": 31.8300724029541, \"sum\": 31.8300724029541, \"min\": 31.8300724029541}}, \"EndTime\": 1529466881.678722, \"Dimensions\": {\"Host\": \"algo-1\", \"Operation\": \"training\", \"Algorithm\": \"AWS/DeepAR\"}, \"StartTime\": 1529466881.646566}\n",
      "\u001b[0m\n",
      "\u001b[31m[06/20/2018 03:54:41 INFO 140039134000960] Epoch[13] Batch[0] avg_epoch_loss=13.306431\u001b[0m\n",
      "\u001b[31m[06/20/2018 03:54:42 INFO 140039134000960] Epoch[13] Batch[5] avg_epoch_loss=13.341633\u001b[0m\n",
      "\u001b[31m[06/20/2018 03:54:42 INFO 140039134000960] Epoch[13] Batch [5]#011Speed: 275.12 samples/sec#011loss=13.341633\u001b[0m\n",
      "\u001b[31m[06/20/2018 03:54:42 INFO 140039134000960] processed a total of 303 examples\u001b[0m\n",
      "\u001b[31m#metrics {\"Metrics\": {\"update.time\": {\"count\": 1, \"max\": 1063.716173171997, \"sum\": 1063.716173171997, \"min\": 1063.716173171997}}, \"EndTime\": 1529466882.755376, \"Dimensions\": {\"Host\": \"algo-1\", \"Operation\": \"training\", \"Algorithm\": \"AWS/DeepAR\"}, \"StartTime\": 1529466881.678791}\n",
      "\u001b[0m\n",
      "\u001b[31m[06/20/2018 03:54:42 INFO 140039134000960] #throughput_metric: host=algo-1, train throughput=284.822587257 records/second\u001b[0m\n",
      "\u001b[31m[06/20/2018 03:54:42 INFO 140039134000960] #progress_metric: host=algo-1, completed 70 % of epochs\u001b[0m\n",
      "\u001b[31m[06/20/2018 03:54:42 INFO 140039134000960] best epoch loss so far\u001b[0m\n",
      "\u001b[31m[06/20/2018 03:54:42 INFO 140039134000960] Saved checkpoint to \"/opt/ml/model/state_e80e2167-3526-4ff1-84c2-d78f9a66e134-0000.params\"\u001b[0m\n",
      "\u001b[31m#metrics {\"Metrics\": {\"state.serialize.time\": {\"count\": 1, \"max\": 24.276018142700195, \"sum\": 24.276018142700195, \"min\": 24.276018142700195}}, \"EndTime\": 1529466882.780114, \"Dimensions\": {\"Host\": \"algo-1\", \"Operation\": \"training\", \"Algorithm\": \"AWS/DeepAR\"}, \"StartTime\": 1529466882.755445}\n",
      "\u001b[0m\n",
      "\u001b[31m[06/20/2018 03:54:42 INFO 140039134000960] Epoch[14] Batch[0] avg_epoch_loss=13.386042\u001b[0m\n",
      "\u001b[31m[06/20/2018 03:54:43 INFO 140039134000960] Epoch[14] Batch[5] avg_epoch_loss=13.295326\u001b[0m\n",
      "\u001b[31m[06/20/2018 03:54:43 INFO 140039134000960] Epoch[14] Batch [5]#011Speed: 282.02 samples/sec#011loss=13.295326\u001b[0m\n",
      "\u001b[31m[06/20/2018 03:54:43 INFO 140039134000960] processed a total of 316 examples\u001b[0m\n",
      "\u001b[31m#metrics {\"Metrics\": {\"update.time\": {\"count\": 1, \"max\": 1045.625925064087, \"sum\": 1045.625925064087, \"min\": 1045.625925064087}}, \"EndTime\": 1529466883.838958, \"Dimensions\": {\"Host\": \"algo-1\", \"Operation\": \"training\", \"Algorithm\": \"AWS/DeepAR\"}, \"StartTime\": 1529466882.780169}\n",
      "\u001b[0m\n",
      "\u001b[31m[06/20/2018 03:54:43 INFO 140039134000960] #throughput_metric: host=algo-1, train throughput=302.183560887 records/second\u001b[0m\n",
      "\u001b[31m[06/20/2018 03:54:43 INFO 140039134000960] #progress_metric: host=algo-1, completed 75 % of epochs\u001b[0m\n",
      "\u001b[31m[06/20/2018 03:54:43 INFO 140039134000960] best epoch loss so far\u001b[0m\n",
      "\u001b[31m[06/20/2018 03:54:43 INFO 140039134000960] Saved checkpoint to \"/opt/ml/model/state_d52bfb0b-d7ac-453f-838c-5614293b4881-0000.params\"\u001b[0m\n",
      "\u001b[31m#metrics {\"Metrics\": {\"state.serialize.time\": {\"count\": 1, \"max\": 24.377107620239258, \"sum\": 24.377107620239258, \"min\": 24.377107620239258}}, \"EndTime\": 1529466883.863749, \"Dimensions\": {\"Host\": \"algo-1\", \"Operation\": \"training\", \"Algorithm\": \"AWS/DeepAR\"}, \"StartTime\": 1529466883.839019}\n",
      "\u001b[0m\n",
      "\u001b[31m[06/20/2018 03:54:43 INFO 140039134000960] Epoch[15] Batch[0] avg_epoch_loss=13.153126\u001b[0m\n",
      "\u001b[31m[06/20/2018 03:54:44 INFO 140039134000960] Epoch[15] Batch[5] avg_epoch_loss=13.187877\u001b[0m\n",
      "\u001b[31m[06/20/2018 03:54:44 INFO 140039134000960] Epoch[15] Batch [5]#011Speed: 306.03 samples/sec#011loss=13.187877\u001b[0m\n",
      "\u001b[31m[06/20/2018 03:54:44 INFO 140039134000960] Epoch[15] Batch[10] avg_epoch_loss=13.180099\u001b[0m\n",
      "\u001b[31m[06/20/2018 03:54:44 INFO 140039134000960] Epoch[15] Batch [10]#011Speed: 329.17 samples/sec#011loss=13.170766\u001b[0m\n",
      "\u001b[31m[06/20/2018 03:54:44 INFO 140039134000960] processed a total of 322 examples\u001b[0m\n",
      "\u001b[31m#metrics {\"Metrics\": {\"update.time\": {\"count\": 1, \"max\": 1096.7419147491455, \"sum\": 1096.7419147491455, \"min\": 1096.7419147491455}}, \"EndTime\": 1529466884.973974, \"Dimensions\": {\"Host\": \"algo-1\", \"Operation\": \"training\", \"Algorithm\": \"AWS/DeepAR\"}, \"StartTime\": 1529466883.863803}\n",
      "\u001b[0m\n",
      "\u001b[31m[06/20/2018 03:54:44 INFO 140039134000960] #throughput_metric: host=algo-1, train throughput=293.568795975 records/second\u001b[0m\n",
      "\u001b[31m[06/20/2018 03:54:44 INFO 140039134000960] #progress_metric: host=algo-1, completed 80 % of epochs\u001b[0m\n",
      "\u001b[31m[06/20/2018 03:54:44 INFO 140039134000960] best epoch loss so far\u001b[0m\n",
      "\u001b[31m[06/20/2018 03:54:44 INFO 140039134000960] Saved checkpoint to \"/opt/ml/model/state_be831bb3-e740-4fd2-9c12-91acd2d8e87c-0000.params\"\u001b[0m\n",
      "\u001b[31m#metrics {\"Metrics\": {\"state.serialize.time\": {\"count\": 1, \"max\": 24.607181549072266, \"sum\": 24.607181549072266, \"min\": 24.607181549072266}}, \"EndTime\": 1529466884.999028, \"Dimensions\": {\"Host\": \"algo-1\", \"Operation\": \"training\", \"Algorithm\": \"AWS/DeepAR\"}, \"StartTime\": 1529466884.974043}\n",
      "\u001b[0m\n",
      "\u001b[31m[06/20/2018 03:54:45 INFO 140039134000960] Epoch[16] Batch[0] avg_epoch_loss=13.053660\u001b[0m\n",
      "\u001b[31m[06/20/2018 03:54:45 INFO 140039134000960] Epoch[16] Batch[5] avg_epoch_loss=13.146049\u001b[0m\n",
      "\u001b[31m[06/20/2018 03:54:45 INFO 140039134000960] Epoch[16] Batch [5]#011Speed: 317.87 samples/sec#011loss=13.146049\u001b[0m\n",
      "\u001b[31m[06/20/2018 03:54:46 INFO 140039134000960] processed a total of 315 examples\u001b[0m\n",
      "\u001b[31m#metrics {\"Metrics\": {\"update.time\": {\"count\": 1, \"max\": 1007.3490142822266, \"sum\": 1007.3490142822266, \"min\": 1007.3490142822266}}, \"EndTime\": 1529466886.019541, \"Dimensions\": {\"Host\": \"algo-1\", \"Operation\": \"training\", \"Algorithm\": \"AWS/DeepAR\"}, \"StartTime\": 1529466884.999108}\n",
      "\u001b[0m\n",
      "\u001b[31m[06/20/2018 03:54:46 INFO 140039134000960] #throughput_metric: host=algo-1, train throughput=312.666872081 records/second\u001b[0m\n",
      "\u001b[31m[06/20/2018 03:54:46 INFO 140039134000960] #progress_metric: host=algo-1, completed 85 % of epochs\u001b[0m\n",
      "\u001b[31m[06/20/2018 03:54:46 INFO 140039134000960] best epoch loss so far\u001b[0m\n",
      "\u001b[31m[06/20/2018 03:54:46 INFO 140039134000960] Saved checkpoint to \"/opt/ml/model/state_78678557-02d2-4e80-b25f-a8f190445284-0000.params\"\u001b[0m\n",
      "\u001b[31m#metrics {\"Metrics\": {\"state.serialize.time\": {\"count\": 1, \"max\": 24.62911605834961, \"sum\": 24.62911605834961, \"min\": 24.62911605834961}}, \"EndTime\": 1529466886.044631, \"Dimensions\": {\"Host\": \"algo-1\", \"Operation\": \"training\", \"Algorithm\": \"AWS/DeepAR\"}, \"StartTime\": 1529466886.019619}\n",
      "\u001b[0m\n",
      "\u001b[31m[06/20/2018 03:54:46 INFO 140039134000960] Epoch[17] Batch[0] avg_epoch_loss=13.137001\u001b[0m\n",
      "\u001b[31m[06/20/2018 03:54:46 INFO 140039134000960] Epoch[17] Batch[5] avg_epoch_loss=13.065680\u001b[0m\n",
      "\u001b[31m[06/20/2018 03:54:46 INFO 140039134000960] Epoch[17] Batch [5]#011Speed: 295.50 samples/sec#011loss=13.065680\u001b[0m\n",
      "\u001b[31m[06/20/2018 03:54:47 INFO 140039134000960] Epoch[17] Batch[10] avg_epoch_loss=13.048469\u001b[0m\n",
      "\u001b[31m[06/20/2018 03:54:47 INFO 140039134000960] Epoch[17] Batch [10]#011Speed: 307.50 samples/sec#011loss=13.027817\u001b[0m\n",
      "\u001b[31m[06/20/2018 03:54:47 INFO 140039134000960] processed a total of 341 examples\u001b[0m\n",
      "\u001b[31m#metrics {\"Metrics\": {\"update.time\": {\"count\": 1, \"max\": 1165.8689975738525, \"sum\": 1165.8689975738525, \"min\": 1165.8689975738525}}, \"EndTime\": 1529466887.223794, \"Dimensions\": {\"Host\": \"algo-1\", \"Operation\": \"training\", \"Algorithm\": \"AWS/DeepAR\"}, \"StartTime\": 1529466886.044693}\n",
      "\u001b[0m\n",
      "\u001b[31m[06/20/2018 03:54:47 INFO 140039134000960] #throughput_metric: host=algo-1, train throughput=292.459854643 records/second\u001b[0m\n",
      "\u001b[31m[06/20/2018 03:54:47 INFO 140039134000960] #progress_metric: host=algo-1, completed 90 % of epochs\u001b[0m\n",
      "\u001b[31m[06/20/2018 03:54:47 INFO 140039134000960] best epoch loss so far\u001b[0m\n",
      "\u001b[31m[06/20/2018 03:54:47 INFO 140039134000960] Saved checkpoint to \"/opt/ml/model/state_05003592-ff77-4c6c-bd91-fe8724eae8cf-0000.params\"\u001b[0m\n",
      "\u001b[31m#metrics {\"Metrics\": {\"state.serialize.time\": {\"count\": 1, \"max\": 24.528026580810547, \"sum\": 24.528026580810547, \"min\": 24.528026580810547}}, \"EndTime\": 1529466887.248749, \"Dimensions\": {\"Host\": \"algo-1\", \"Operation\": \"training\", \"Algorithm\": \"AWS/DeepAR\"}, \"StartTime\": 1529466887.223864}\n",
      "\u001b[0m\n",
      "\u001b[31m[06/20/2018 03:54:47 INFO 140039134000960] Epoch[18] Batch[0] avg_epoch_loss=13.027797\u001b[0m\n",
      "\u001b[31m[06/20/2018 03:54:47 INFO 140039134000960] Epoch[18] Batch[5] avg_epoch_loss=12.983409\u001b[0m\n",
      "\u001b[31m[06/20/2018 03:54:47 INFO 140039134000960] Epoch[18] Batch [5]#011Speed: 312.09 samples/sec#011loss=12.983409\u001b[0m\n",
      "\u001b[31m[06/20/2018 03:54:48 INFO 140039134000960] processed a total of 306 examples\u001b[0m\n",
      "\u001b[31m#metrics {\"Metrics\": {\"update.time\": {\"count\": 1, \"max\": 1006.0148239135742, \"sum\": 1006.0148239135742, \"min\": 1006.0148239135742}}, \"EndTime\": 1529466888.267654, \"Dimensions\": {\"Host\": \"algo-1\", \"Operation\": \"training\", \"Algorithm\": \"AWS/DeepAR\"}, \"StartTime\": 1529466887.248808}\n",
      "\u001b[0m\n",
      "\u001b[31m[06/20/2018 03:54:48 INFO 140039134000960] #throughput_metric: host=algo-1, train throughput=304.138393171 records/second\u001b[0m\n",
      "\u001b[31m[06/20/2018 03:54:48 INFO 140039134000960] #progress_metric: host=algo-1, completed 95 % of epochs\u001b[0m\n",
      "\u001b[31m[06/20/2018 03:54:48 INFO 140039134000960] best epoch loss so far\u001b[0m\n",
      "\u001b[31m[06/20/2018 03:54:48 INFO 140039134000960] Saved checkpoint to \"/opt/ml/model/state_ab79088c-4905-4e1c-90cc-842a7aec494e-0000.params\"\u001b[0m\n",
      "\u001b[31m#metrics {\"Metrics\": {\"state.serialize.time\": {\"count\": 1, \"max\": 24.25098419189453, \"sum\": 24.25098419189453, \"min\": 24.25098419189453}}, \"EndTime\": 1529466888.292351, \"Dimensions\": {\"Host\": \"algo-1\", \"Operation\": \"training\", \"Algorithm\": \"AWS/DeepAR\"}, \"StartTime\": 1529466888.267724}\n",
      "\u001b[0m\n",
      "\u001b[31m[06/20/2018 03:54:48 INFO 140039134000960] Epoch[19] Batch[0] avg_epoch_loss=12.800953\u001b[0m\n",
      "\u001b[31m[06/20/2018 03:54:48 INFO 140039134000960] Epoch[19] Batch[5] avg_epoch_loss=12.974789\u001b[0m\n",
      "\u001b[31m[06/20/2018 03:54:48 INFO 140039134000960] Epoch[19] Batch [5]#011Speed: 308.24 samples/sec#011loss=12.974789\u001b[0m\n",
      "\u001b[31m[06/20/2018 03:54:49 INFO 140039134000960] processed a total of 287 examples\u001b[0m\n",
      "\u001b[31m#metrics {\"Metrics\": {\"update.time\": {\"count\": 1, \"max\": 928.7679195404053, \"sum\": 928.7679195404053, \"min\": 928.7679195404053}}, \"EndTime\": 1529466889.234454, \"Dimensions\": {\"Host\": \"algo-1\", \"Operation\": \"training\", \"Algorithm\": \"AWS/DeepAR\"}, \"StartTime\": 1529466888.292411}\n",
      "\u001b[0m\n",
      "\u001b[31m[06/20/2018 03:54:49 INFO 140039134000960] #throughput_metric: host=algo-1, train throughput=308.979887236 records/second\u001b[0m\n",
      "\u001b[31m[06/20/2018 03:54:49 INFO 140039134000960] #progress_metric: host=algo-1, completed 100 % of epochs\u001b[0m\n",
      "\u001b[31m[06/20/2018 03:54:49 INFO 140039134000960] loss did not improve for 1 epochs\u001b[0m\n",
      "\u001b[31m[06/20/2018 03:54:49 INFO 140039134000960] Loading parameters from best epoch (18)\u001b[0m\n",
      "\u001b[31m#metrics {\"Metrics\": {\"state.deserialize.time\": {\"count\": 1, \"max\": 10.977029800415039, \"sum\": 10.977029800415039, \"min\": 10.977029800415039}}, \"EndTime\": 1529466889.245881, \"Dimensions\": {\"Host\": \"algo-1\", \"Operation\": \"training\", \"Algorithm\": \"AWS/DeepAR\"}, \"StartTime\": 1529466889.234519}\n",
      "\u001b[0m\n",
      "\u001b[31m[06/20/2018 03:54:49 INFO 140039134000960] Final loss: 12.9561717033 (occured at epoch 18)\u001b[0m\n",
      "\u001b[31m[06/20/2018 03:54:49 INFO 140039134000960] #quality_metric: host=algo-1, train final_loss <loss>=12.9561717033\u001b[0m\n",
      "\u001b[31m[06/20/2018 03:54:49 INFO 140039134000960] Creating prediction graph.\u001b[0m\n"
     ]
    },
    {
     "name": "stdout",
     "output_type": "stream",
     "text": [
      "\u001b[31m#metrics {\"Metrics\": {\"get_graph.time\": {\"count\": 1, \"max\": 1816.169023513794, \"sum\": 1816.169023513794, \"min\": 1816.169023513794}}, \"EndTime\": 1529466891.062454, \"Dimensions\": {\"Host\": \"algo-1\", \"Operation\": \"training\", \"Algorithm\": \"AWS/DeepAR\"}, \"StartTime\": 1529466889.245936}\n",
      "\u001b[0m\n",
      "\u001b[31m[06/20/2018 03:54:52 INFO 140039134000960] Number of GPUs being used: 0\u001b[0m\n",
      "\u001b[31m#metrics {\"Metrics\": {\"finalize.time\": {\"count\": 1, \"max\": 3564.677953720093, \"sum\": 3564.677953720093, \"min\": 3564.677953720093}}, \"EndTime\": 1529466892.810938, \"Dimensions\": {\"Host\": \"algo-1\", \"Operation\": \"training\", \"Algorithm\": \"AWS/DeepAR\"}, \"StartTime\": 1529466891.062519}\n",
      "\u001b[0m\n",
      "\u001b[31m[06/20/2018 03:54:52 INFO 140039134000960] Serializing to /opt/ml/model/model_algo-1\u001b[0m\n",
      "\u001b[31m[06/20/2018 03:54:53 INFO 140039134000960] Saved checkpoint to \"/opt/ml/model/model_algo-1-0000.params\"\u001b[0m\n",
      "\u001b[31m#metrics {\"Metrics\": {\"model.serialize.time\": {\"count\": 1, \"max\": 274.03998374938965, \"sum\": 274.03998374938965, \"min\": 274.03998374938965}}, \"EndTime\": 1529466893.085099, \"Dimensions\": {\"Host\": \"algo-1\", \"Operation\": \"training\", \"Algorithm\": \"AWS/DeepAR\"}, \"StartTime\": 1529466892.811016}\n",
      "\u001b[0m\n",
      "\u001b[31m[06/20/2018 03:54:53 INFO 140039134000960] Successfully created prediction graph and serialized the model.\u001b[0m\n",
      "\u001b[31m[06/20/2018 03:54:53 INFO 140039134000960] Evaluating model accuracy on testset using 100 samples\u001b[0m\n",
      "\u001b[31m#metrics {\"Metrics\": {\"model.bind.time\": {\"count\": 1, \"max\": 0.03600120544433594, \"sum\": 0.03600120544433594, \"min\": 0.03600120544433594}}, \"EndTime\": 1529466893.086522, \"Dimensions\": {\"Host\": \"algo-1\", \"Operation\": \"training\", \"Algorithm\": \"AWS/DeepAR\"}, \"StartTime\": 1529466893.085155}\n",
      "\u001b[0m\n",
      "\u001b[31m#metrics {\"Metrics\": {\"model.score.time\": {\"count\": 1, \"max\": 2938.488006591797, \"sum\": 2938.488006591797, \"min\": 2938.488006591797}}, \"EndTime\": 1529466896.024974, \"Dimensions\": {\"Host\": \"algo-1\", \"Operation\": \"training\", \"Algorithm\": \"AWS/DeepAR\"}, \"StartTime\": 1529466893.086566}\n",
      "\u001b[0m\n",
      "\u001b[31m[06/20/2018 03:54:56 INFO 140039134000960] #test_score (algo-1, wQuantileLoss[0.7]): 0.531246\u001b[0m\n",
      "\u001b[31m[06/20/2018 03:54:56 INFO 140039134000960] #test_score (algo-1, wQuantileLoss[0.6]): 0.571741\u001b[0m\n",
      "\u001b[31m[06/20/2018 03:54:56 INFO 140039134000960] #test_score (algo-1, mean_wQuantileLoss): 0.47088\u001b[0m\n",
      "\u001b[31m[06/20/2018 03:54:56 INFO 140039134000960] #test_score (algo-1, wQuantileLoss[0.1]): 0.224093\u001b[0m\n",
      "\u001b[31m[06/20/2018 03:54:56 INFO 140039134000960] #test_score (algo-1, RMSE): 141624.863806\u001b[0m\n",
      "\u001b[31m[06/20/2018 03:54:56 INFO 140039134000960] #test_score (algo-1, wQuantileLoss[0.3]): 0.554378\u001b[0m\n",
      "\u001b[31m[06/20/2018 03:54:56 INFO 140039134000960] #test_score (algo-1, wQuantileLoss[0.9]): 0.281247\u001b[0m\n",
      "\u001b[31m[06/20/2018 03:54:56 INFO 140039134000960] #test_score (algo-1, wQuantileLoss[0.2]): 0.410709\u001b[0m\n",
      "\u001b[31m[06/20/2018 03:54:56 INFO 140039134000960] #test_score (algo-1, wQuantileLoss[0.8]): 0.429642\u001b[0m\n",
      "\u001b[31m[06/20/2018 03:54:56 INFO 140039134000960] #test_score (algo-1, wQuantileLoss[0.5]): 0.624471\u001b[0m\n",
      "\u001b[31m[06/20/2018 03:54:56 INFO 140039134000960] #test_score (algo-1, wQuantileLoss[0.4]): 0.610392\u001b[0m\n",
      "\u001b[31m[06/20/2018 03:54:56 INFO 140039134000960] #quality_metric: host=algo-1, test mean_wQuantileLoss <loss>=0.470879763365\u001b[0m\n",
      "\u001b[31m[06/20/2018 03:54:56 INFO 140039134000960] #quality_metric: host=algo-1, test RMSE <loss>=141624.863806\u001b[0m\n",
      "\u001b[31m#metrics {\"Metrics\": {\"totaltime\": {\"count\": 1, \"max\": 30009.39178466797, \"sum\": 30009.39178466797, \"min\": 30009.39178466797}, \"setuptime\": {\"count\": 1, \"max\": 9.51695442199707, \"sum\": 9.51695442199707, \"min\": 9.51695442199707}}, \"EndTime\": 1529466896.451871, \"Dimensions\": {\"Host\": \"algo-1\", \"Operation\": \"training\", \"Algorithm\": \"AWS/DeepAR\"}, \"StartTime\": 1529466896.025039}\n",
      "\u001b[0m\n",
      "===== Job Complete =====\n",
      "Billable seconds: 135\n"
     ]
    }
   ],
   "source": [
    "data_channels = {\n",
    "    \"train\": \"s3://{}/train/\".format(s3_data_path),\n",
    "    \"test\": \"s3://{}/test/\".format(s3_data_path)\n",
    "}\n",
    "\n",
    "estimator.fit(inputs=data_channels)"
   ]
  },
  {
   "cell_type": "markdown",
   "metadata": {},
   "source": [
    "Create endpoint and predictor\n",
    "Now that we have trained a model, we can use it to perform predictions by deploying it to an endpoint.\n",
    "\n",
    "Note: remember to delete the enpoint after running this experiment. A cell at the very bottom of this notebook will do that: make sure you run it at the end."
   ]
  },
  {
   "cell_type": "code",
   "execution_count": 310,
   "metadata": {},
   "outputs": [
    {
     "name": "stderr",
     "output_type": "stream",
     "text": [
      "INFO:sagemaker:Creating model with name: test-demo-deepar-2018-06-20-03-51-22-345\n",
      "INFO:sagemaker:Creating endpoint-config with name test-demo-deepar-2018-06-20-03-51-22-345\n",
      "INFO:sagemaker:Creating endpoint with name test-demo-deepar-2018-06-20-03-51-22-345\n"
     ]
    },
    {
     "name": "stdout",
     "output_type": "stream",
     "text": [
      "--------------------------------------------------------------------------!"
     ]
    }
   ],
   "source": [
    "job_name = estimator.latest_training_job.name\n",
    "\n",
    "endpoint_name = sagemaker_session.endpoint_from_job(\n",
    "    job_name=job_name,\n",
    "    initial_instance_count=1,\n",
    "    instance_type='ml.m4.xlarge',\n",
    "    deployment_image=image_name,\n",
    "    role=role\n",
    ")"
   ]
  },
  {
   "cell_type": "code",
   "execution_count": 311,
   "metadata": {},
   "outputs": [],
   "source": [
    "class DeepARPredictor(sagemaker.predictor.RealTimePredictor):\n",
    "\n",
    "    def set_prediction_parameters(self, freq, prediction_length):\n",
    "        \"\"\"Set the time frequency and prediction length parameters. This method **must** be called\n",
    "        before being able to use `predict`.\n",
    "        \n",
    "        Parameters:\n",
    "        freq -- string indicating the time frequency\n",
    "        prediction_length -- integer, number of predicted time points\n",
    "        \n",
    "        Return value: none.\n",
    "        \"\"\"\n",
    "        self.freq = freq\n",
    "        self.prediction_length = prediction_length\n",
    "        \n",
    "    def predict(self, ts, cat=None, encoding=\"utf-8\", num_samples=100, quantiles=[\"0.1\", \"0.5\", \"0.9\"]):\n",
    "        \"\"\"Requests the prediction of for the time series listed in `ts`, each with the (optional)\n",
    "        corresponding category listed in `cat`.\n",
    "        \n",
    "        Parameters:\n",
    "        ts -- list of `pandas.Series` objects, the time series to predict\n",
    "        cat -- list of integers (default: None)\n",
    "        encoding -- string, encoding to use for the request (default: \"utf-8\")\n",
    "        num_samples -- integer, number of samples to compute at prediction time (default: 100)\n",
    "        quantiles -- list of strings specifying the quantiles to compute (default: [\"0.1\", \"0.5\", \"0.9\"])\n",
    "        \n",
    "        Return value: list of `pandas.DataFrame` objects, each containing the predictions\n",
    "        \"\"\"\n",
    "        prediction_times = [x.index[-1]+1 for x in ts]\n",
    "        req = self.__encode_request(ts, cat, encoding, num_samples, quantiles)\n",
    "        res = super(DeepARPredictor, self).predict(req)\n",
    "        return self.__decode_response(res, prediction_times, encoding)\n",
    "    \n",
    "    def __encode_request(self, ts, cat, encoding, num_samples, quantiles):\n",
    "        instances = [series_to_obj(ts[k], cat[k] if cat else None) for k in range(len(ts))]\n",
    "        configuration = {\"num_samples\": num_samples, \"output_types\": [\"quantiles\"], \"quantiles\": quantiles}\n",
    "        http_request_data = {\"instances\": instances, \"configuration\": configuration}\n",
    "        return json.dumps(http_request_data).encode(encoding)\n",
    "    \n",
    "    def __decode_response(self, response, prediction_times, encoding):\n",
    "        response_data = json.loads(response.decode(encoding))\n",
    "        list_of_df = []\n",
    "        for k in range(len(prediction_times)):\n",
    "            prediction_index = pd.DatetimeIndex(start=prediction_times[k], freq=self.freq, periods=self.prediction_length)\n",
    "            list_of_df.append(pd.DataFrame(data=response_data['predictions'][k]['quantiles'], index=prediction_index))\n",
    "        return list_of_df"
   ]
  },
  {
   "cell_type": "code",
   "execution_count": 312,
   "metadata": {},
   "outputs": [],
   "source": [
    "predictor = DeepARPredictor(\n",
    "    endpoint=endpoint_name,\n",
    "    sagemaker_session=sagemaker_session,\n",
    "    content_type=\"application/json\"\n",
    ")\n",
    "predictor.set_prediction_parameters(freq, prediction_length)"
   ]
  },
  {
   "cell_type": "code",
   "execution_count": 313,
   "metadata": {},
   "outputs": [],
   "source": [
    "#traindat = pd.Series(traindat)"
   ]
  },
  {
   "cell_type": "code",
   "execution_count": 314,
   "metadata": {},
   "outputs": [],
   "source": [
    "list_of_df  = predictor.predict(time_series_training)\n",
    "actual_data = time_series"
   ]
  },
  {
   "cell_type": "code",
   "execution_count": 327,
   "metadata": {},
   "outputs": [
    {
     "data": {
      "image/png": "[encoded data removed]",
      "text/plain": [
       "<Figure size 864x432 with 1 Axes>"
      ]
     },
     "metadata": {},
     "output_type": "display_data"
    }
   ],
   "source": [
    "for k in range(len(list_of_df)):\n",
    "    plt.figure(figsize=(12,6))\n",
    "    actual_data[k][-prediction_length-context_length:].plot(label='target')\n",
    "    p10 = list_of_df[k]['0.1']\n",
    "    p90 = list_of_df[k]['0.9']\n",
    "    plt.fill_between(p10.index, p10, p90, color='y', alpha=0.5, label='80% confidence interval')\n",
    "    list_of_df[k]['0.5'].plot(label='prediction median')\n",
    "    plt.title(\"DeepAR Model Predictions\", fontsize = 20)\n",
    "    plt.ylabel(\"CPU usage [MHz]\", fontsize = 20)\n",
    "    plt.xlabel(\"Time in Hours\", fontsize = 20)\n",
    "    plt.yticks(fontsize=12);\n",
    "    plt.xticks(fontsize=12);\n",
    "    plt.legend()\n",
    "    plt.show()"
   ]
  },
  {
   "cell_type": "code",
   "execution_count": null,
   "metadata": {},
   "outputs": [],
   "source": []
  },
  {
   "cell_type": "code",
   "execution_count": null,
   "metadata": {},
   "outputs": [],
   "source": []
  },
  {
   "cell_type": "code",
   "execution_count": null,
   "metadata": {},
   "outputs": [],
   "source": []
  },
  {
   "cell_type": "code",
   "execution_count": 316,
   "metadata": {},
   "outputs": [],
   "source": [
    "### Trying to evaluate model with commands"
   ]
  },
  {
   "cell_type": "code",
   "execution_count": 187,
   "metadata": {},
   "outputs": [],
   "source": [
    "job_name = estimator.latest_training_job.name\n",
    "\n",
    "\n",
    "\n",
    "predictor = sagemaker.predictor.RealTimePredictor(\n",
    "    endpoint_name, \n",
    "    sagemaker_session=sagemaker_session, \n",
    "    content_type=\"application/json\")"
   ]
  },
  {
   "cell_type": "code",
   "execution_count": 197,
   "metadata": {},
   "outputs": [],
   "source": [
    "\n",
    "q1 = '0.1'         # compute p10 quantile\n",
    "q2 = '0.9'         # compute p90 quantile\n",
    "num_samples = 100  # predict 100 sample series\n",
    "    \n",
    "def buildPredictionData(year, data):\n",
    "    year_temps = data[str(year)]\n",
    "    s = {\"start\": \"2013-0{}-01 00:00:00\".format(year), \"target\": year_temps}\n",
    "    series = []\n",
    "    series.append(s)\n",
    "    configuration = {\n",
    "        \"output_types\": [\"mean\", \"quantiles\", \"samples\"],\n",
    "        \"num_samples\": num_samples,\n",
    "        \"quantiles\": [q1, q2]\n",
    "    }\n",
    "    http_data = {\n",
    "        \"instances\": series, \n",
    "        \"configuration\": configuration\n",
    "    }\n",
    "    return json.dumps(http_data)"
   ]
  },
  {
   "cell_type": "code",
   "execution_count": 198,
   "metadata": {},
   "outputs": [],
   "source": [
    "def getPredictedSeries(result):\n",
    "    import random\n",
    "    json_result = json.loads(result)\n",
    "    y_data      = json_result['predictions'][0]\n",
    "    y_mean      = y_data['mean']\n",
    "    y_q1        = y_data['quantiles'][q1]\n",
    "    y_q2        = y_data['quantiles'][q2]\n",
    "    y_sample    = y_data['samples'][random.randint(0, num_samples)]\n",
    "    return y_mean, y_q1, y_q2, y_sample"
   ]
  },
  {
   "cell_type": "code",
   "execution_count": 199,
   "metadata": {},
   "outputs": [],
   "source": [
    "\n",
    "def plotSeries(result, truth=False, truth_data=None, truth_label=None):\n",
    "    x = range(0,prediction_length)\n",
    "    y_mean, y_q1, y_q2, y_sample = getPredictedSeries(result)\n",
    "    plt.gcf().clear()\n",
    "    mean_label,   = plt.plot(x, y_mean, label='mean')\n",
    "    q1_label,     = plt.plot(x, y_q1, label=q1)\n",
    "    q2_label,     = plt.plot(x, y_q2, label=q2)\n",
    "    sample_label, = plt.plot(x, y_sample, label='sample')\n",
    "\n",
    "    if truth:\n",
    "        ground_truth, = plt.plot(x, truth_data, label=truth_label)\n",
    "        plt.legend(handles=[ground_truth, q2_label, mean_label, q1_label, sample_label])\n",
    "    else:\n",
    "        plt.legend(handles=[q2_label, mean_label, q1_label, sample_label])\n",
    "    plt.yticks(np.arange(5.0, 12.0, 0.5))\n",
    "    plt.show()"
   ]
  },
  {
   "cell_type": "code",
   "execution_count": 203,
   "metadata": {},
   "outputs": [
    {
     "ename": "TypeError",
     "evalue": "list indices must be integers or slices, not str",
     "output_type": "error",
     "traceback": [
      "\u001b[0;31m---------------------------------------------------------------------------\u001b[0m",
      "\u001b[0;31mTypeError\u001b[0m                                 Traceback (most recent call last)",
      "\u001b[0;32m<ipython-input-203-2ea2ff772cfc>\u001b[0m in \u001b[0;36m<module>\u001b[0;34m()\u001b[0m\n\u001b[1;32m      1\u001b[0m \u001b[0myear\u001b[0m \u001b[0;34m=\u001b[0m \u001b[0;36m7\u001b[0m\u001b[0;34m\u001b[0m\u001b[0m\n\u001b[1;32m      2\u001b[0m \u001b[0;34m\u001b[0m\u001b[0m\n\u001b[0;32m----> 3\u001b[0;31m \u001b[0mprediction_data\u001b[0m \u001b[0;34m=\u001b[0m \u001b[0mbuildPredictionData\u001b[0m\u001b[0;34m(\u001b[0m\u001b[0myear\u001b[0m\u001b[0;34m,\u001b[0m\u001b[0mtime_series_training\u001b[0m \u001b[0;34m)\u001b[0m\u001b[0;34m\u001b[0m\u001b[0m\n\u001b[0m\u001b[1;32m      4\u001b[0m \u001b[0mprint\u001b[0m\u001b[0;34m(\u001b[0m\u001b[0mprediction_data\u001b[0m\u001b[0;34m)\u001b[0m\u001b[0;34m\u001b[0m\u001b[0m\n\u001b[1;32m      5\u001b[0m \u001b[0;34m\u001b[0m\u001b[0m\n",
      "\u001b[0;32m<ipython-input-197-afc6960ac00e>\u001b[0m in \u001b[0;36mbuildPredictionData\u001b[0;34m(year, data)\u001b[0m\n\u001b[1;32m      5\u001b[0m \u001b[0;34m\u001b[0m\u001b[0m\n\u001b[1;32m      6\u001b[0m \u001b[0;32mdef\u001b[0m \u001b[0mbuildPredictionData\u001b[0m\u001b[0;34m(\u001b[0m\u001b[0myear\u001b[0m\u001b[0;34m,\u001b[0m \u001b[0mdata\u001b[0m\u001b[0;34m)\u001b[0m\u001b[0;34m:\u001b[0m\u001b[0;34m\u001b[0m\u001b[0m\n\u001b[0;32m----> 7\u001b[0;31m     \u001b[0myear_temps\u001b[0m \u001b[0;34m=\u001b[0m \u001b[0mdata\u001b[0m\u001b[0;34m[\u001b[0m\u001b[0mstr\u001b[0m\u001b[0;34m(\u001b[0m\u001b[0myear\u001b[0m\u001b[0;34m)\u001b[0m\u001b[0;34m]\u001b[0m\u001b[0;34m\u001b[0m\u001b[0m\n\u001b[0m\u001b[1;32m      8\u001b[0m     \u001b[0ms\u001b[0m \u001b[0;34m=\u001b[0m \u001b[0;34m{\u001b[0m\u001b[0;34m\"start\"\u001b[0m\u001b[0;34m:\u001b[0m \u001b[0;34m\"2013-0{}-01 00:00:00\"\u001b[0m\u001b[0;34m.\u001b[0m\u001b[0mformat\u001b[0m\u001b[0;34m(\u001b[0m\u001b[0myear\u001b[0m\u001b[0;34m)\u001b[0m\u001b[0;34m,\u001b[0m \u001b[0;34m\"target\"\u001b[0m\u001b[0;34m:\u001b[0m \u001b[0myear_temps\u001b[0m\u001b[0;34m}\u001b[0m\u001b[0;34m\u001b[0m\u001b[0m\n\u001b[1;32m      9\u001b[0m     \u001b[0mseries\u001b[0m \u001b[0;34m=\u001b[0m \u001b[0;34m[\u001b[0m\u001b[0;34m]\u001b[0m\u001b[0;34m\u001b[0m\u001b[0m\n",
      "\u001b[0;31mTypeError\u001b[0m: list indices must be integers or slices, not str"
     ]
    }
   ],
   "source": [
    "year = 7 \n",
    "\n",
    "prediction_data = buildPredictionData(year,time_series_training )\n",
    "print(prediction_data)\n",
    "\n",
    "result = predictor.predict(prediction_data).encode('utf-8')\n",
    "\n",
    "plotSeries(result, \n",
    "           truth=True, \n",
    "           truth_data=testSet[str(year)][-prediction_length:], \n",
    "           truth_label='truth')"
   ]
  },
  {
   "cell_type": "code",
   "execution_count": null,
   "metadata": {},
   "outputs": [],
   "source": []
  },
  {
   "cell_type": "code",
   "execution_count": null,
   "metadata": {},
   "outputs": [],
   "source": []
  },
  {
   "cell_type": "markdown",
   "metadata": {},
   "source": [
    "## Created hyperparameter tuning job on the GUI, but attempting to do with code below."
   ]
  },
  {
   "cell_type": "code",
   "execution_count": null,
   "metadata": {},
   "outputs": [],
   "source": [
    "s3_input_train = 's3://{}/{}/train'.format(bucket, prefix)\n",
    "s3_input_validation ='s3://{}/{}/holdout/'.format(bucket, prefix)"
   ]
  },
  {
   "cell_type": "code",
   "execution_count": 704,
   "metadata": {},
   "outputs": [],
   "source": [
    "smclient = boto3.Session().client('sagemaker')"
   ]
  },
  {
   "cell_type": "code",
   "execution_count": 705,
   "metadata": {},
   "outputs": [
    {
     "ename": "NameError",
     "evalue": "name 'tuning_job_name' is not defined",
     "output_type": "error",
     "traceback": [
      "\u001b[0;31m---------------------------------------------------------------------------\u001b[0m",
      "\u001b[0;31mNameError\u001b[0m                                 Traceback (most recent call last)",
      "\u001b[0;32m<ipython-input-705-85ec1923f517>\u001b[0m in \u001b[0;36m<module>\u001b[0;34m()\u001b[0m\n\u001b[0;32m----> 1\u001b[0;31m smclient.create_hyper_parameter_tuning_job(HyperParameterTuningJobName = tuning_job_name,\n\u001b[0m\u001b[1;32m      2\u001b[0m                                             \u001b[0mHyperParameterTuningJobConfig\u001b[0m \u001b[0;34m=\u001b[0m \u001b[0mtuning_job_config\u001b[0m\u001b[0;34m,\u001b[0m\u001b[0;34m\u001b[0m\u001b[0m\n\u001b[1;32m      3\u001b[0m                                             TrainingJobDefinition = training_job_definition)\n",
      "\u001b[0;31mNameError\u001b[0m: name 'tuning_job_name' is not defined"
     ]
    }
   ],
   "source": [
    "smclient.create_hyper_parameter_tuning_job(HyperParameterTuningJobName = tuning_job_name,\n",
    "                                            HyperParameterTuningJobConfig = tuning_job_config,\n",
    "                                            TrainingJobDefinition = training_job_definition)\n"
   ]
  },
  {
   "cell_type": "markdown",
   "metadata": {},
   "source": [
    "### Query a trained model by using the model's endpoint. The endpoint takes the following JSON request format."
   ]
  },
  {
   "cell_type": "code",
   "execution_count": null,
   "metadata": {},
   "outputs": [],
   "source": [
    "\n",
    "{\n",
    " \"instances\": [\n",
    "  { \"start\": \"2009-11-01 00:00:00\", \"target\": [4.0, 10.0, 50.0, 100.0, 113.0], \"cat\": 0},\n",
    "  { \"start\": \"2012-01-30\", \"target\": [1.0], \"cat\": 2 },\n",
    "  { \"start\": \"1999-01-30\", \"target\": [2.0, 1.0], \"cat\": 1 }\n",
    " ],\n",
    " \"configuration\": {\n",
    "  \"num_samples\": 50,\n",
    "  \"output_types\": [\"mean\", \"quantiles\", \"samples\"],\n",
    "  \"quantiles\": [\"0.5\", \"0.9\"]\n",
    " }\n",
    "}"
   ]
  },
  {
   "cell_type": "code",
   "execution_count": 128,
   "metadata": {},
   "outputs": [
    {
     "name": "stderr",
     "output_type": "stream",
     "text": [
      "INFO:sagemaker:Deleting endpoint with name: test-demo-deepar-2018-06-19-17-29-48-394\n"
     ]
    }
   ],
   "source": [
    "sagemaker_session.delete_endpoint(endpoint_name)"
   ]
  },
  {
   "cell_type": "code",
   "execution_count": null,
   "metadata": {},
   "outputs": [],
   "source": []
  },
  {
   "cell_type": "code",
   "execution_count": null,
   "metadata": {},
   "outputs": [],
   "source": []
  }
 ],
 "metadata": {
  "kernelspec": {
   "display_name": "conda_python3",
   "language": "python",
   "name": "conda_python3"
  },
  "language_info": {
   "codemirror_mode": {
    "name": "ipython",
    "version": 3
   },
   "file_extension": ".py",
   "mimetype": "text/x-python",
   "name": "python",
   "nbconvert_exporter": "python",
   "pygments_lexer": "ipython3",
   "version": "3.6.4"
  },
  "notice": "Copyright 2017 Amazon.com, Inc. or its affiliates. All Rights Reserved.  Licensed under the Apache License, Version 2.0 (the \"License\"). You may not use this file except in compliance with the License. A copy of the License is located at http://aws.amazon.com/apache2.0/ or in the \"license\" file accompanying this file. This file is distributed on an \"AS IS\" BASIS, WITHOUT WARRANTIES OR CONDITIONS OF ANY KIND, either express or implied. See the License for the specific language governing permissions and limitations under the License."
 },
 "nbformat": 4,
 "nbformat_minor": 2
}
