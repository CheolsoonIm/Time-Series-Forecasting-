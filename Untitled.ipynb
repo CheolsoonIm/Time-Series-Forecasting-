{
 "cells": [
  {
   "cell_type": "code",
   "execution_count": 1,
   "metadata": {},
   "outputs": [
    {
     "name": "stdout",
     "output_type": "stream",
     "text": [
      "Requirement already satisfied: sagemaker in /anaconda3/lib/python3.6/site-packages (1.4.2)\n",
      "Requirement already satisfied: urllib3>=1.2 in /anaconda3/lib/python3.6/site-packages (from sagemaker) (1.22)\n",
      "Requirement already satisfied: scipy>=1.0.0 in /anaconda3/lib/python3.6/site-packages (from sagemaker) (1.0.0)\n",
      "Requirement already satisfied: numpy>=1.9.0 in /anaconda3/lib/python3.6/site-packages (from sagemaker) (1.14.0)\n",
      "Requirement already satisfied: protobuf>=3.1 in /anaconda3/lib/python3.6/site-packages (from sagemaker) (3.5.2.post1)\n",
      "Requirement already satisfied: boto3>=1.4.8 in /anaconda3/lib/python3.6/site-packages (from sagemaker) (1.7.32)\n",
      "Requirement already satisfied: PyYAML>=3.2 in /anaconda3/lib/python3.6/site-packages (from sagemaker) (3.12)\n",
      "Requirement already satisfied: six>=1.9 in /anaconda3/lib/python3.6/site-packages (from protobuf>=3.1->sagemaker) (1.11.0)\n",
      "Requirement already satisfied: setuptools in /anaconda3/lib/python3.6/site-packages (from protobuf>=3.1->sagemaker) (39.2.0)\n",
      "Requirement already satisfied: s3transfer<0.2.0,>=0.1.10 in /anaconda3/lib/python3.6/site-packages (from boto3>=1.4.8->sagemaker) (0.1.13)\n",
      "Requirement already satisfied: botocore<1.11.0,>=1.10.32 in /anaconda3/lib/python3.6/site-packages (from boto3>=1.4.8->sagemaker) (1.10.32)\n",
      "Requirement already satisfied: jmespath<1.0.0,>=0.7.1 in /anaconda3/lib/python3.6/site-packages (from boto3>=1.4.8->sagemaker) (0.9.3)\n",
      "Requirement already satisfied: docutils>=0.10 in /anaconda3/lib/python3.6/site-packages (from botocore<1.11.0,>=1.10.32->boto3>=1.4.8->sagemaker) (0.14)\n",
      "Requirement already satisfied: python-dateutil<3.0.0,>=2.1 in /anaconda3/lib/python3.6/site-packages (from botocore<1.11.0,>=1.10.32->boto3>=1.4.8->sagemaker) (2.6.1)\n"
     ]
    }
   ],
   "source": [
    "!pip install sagemaker\n"
   ]
  },
  {
   "cell_type": "code",
   "execution_count": 2,
   "metadata": {},
   "outputs": [
    {
     "ename": "SyntaxError",
     "evalue": "invalid syntax (<ipython-input-2-a1f07e9a5b42>, line 1)",
     "output_type": "error",
     "traceback": [
      "\u001b[0;36m  File \u001b[0;32m\"<ipython-input-2-a1f07e9a5b42>\"\u001b[0;36m, line \u001b[0;32m1\u001b[0m\n\u001b[0;31m    tox tests/unit\u001b[0m\n\u001b[0m            ^\u001b[0m\n\u001b[0;31mSyntaxError\u001b[0m\u001b[0;31m:\u001b[0m invalid syntax\n"
     ]
    }
   ],
   "source": [
    "tox tests/unit\n"
   ]
  },
  {
   "cell_type": "code",
   "execution_count": 4,
   "metadata": {},
   "outputs": [
    {
     "name": "stdout",
     "output_type": "stream",
     "text": [
      "\u001b[31mDirectory '.[test]' is not installable. File 'setup.py' not found.\u001b[0m\r\n"
     ]
    }
   ],
   "source": [
    "!pip install --upgrade .[test]"
   ]
  },
  {
   "cell_type": "code",
   "execution_count": null,
   "metadata": {},
   "outputs": [],
   "source": []
  }
 ],
 "metadata": {
  "kernelspec": {
   "display_name": "Python 3",
   "language": "python",
   "name": "python3"
  },
  "language_info": {
   "codemirror_mode": {
    "name": "ipython",
    "version": 3
   },
   "file_extension": ".py",
   "mimetype": "text/x-python",
   "name": "python",
   "nbconvert_exporter": "python",
   "pygments_lexer": "ipython3",
   "version": "3.6.4"
  }
 },
 "nbformat": 4,
 "nbformat_minor": 2
}
