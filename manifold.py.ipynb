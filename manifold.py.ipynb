{
 "cells": [
  {
   "cell_type": "markdown",
   "metadata": {
    "nbpresent": {
     "id": "42b5e80b-ad1d-4335-a1f7-10a91127e3dc"
    }
   },
   "source": [
    "# Time series forecasting with DeepAR\n",
    "DeepAR is a supervised learning algorithm for forecasting scalar time series. \n",
    "\n",
    "\n",
    "Let's start by specifying:\n",
    "\n",
    "- The S3 bucket and prefix that you want to use for training and model data.  This should be within the same region as the Notebook Instance, training, and hosting.\n",
    "- The IAM role arn used to give training and hosting access to your data. See the documentation for how to create these.  Note, if more than one role is required for notebook instances, training, and/or hosting, please replace the boto regexp with a the appropriate full IAM role arn string(s)."
   ]
  },
  {
   "cell_type": "code",
   "execution_count": 52,
   "metadata": {
    "isConfigCell": true
   },
   "outputs": [],
   "source": [
    "bucket = 'sagemaker-testtimeseries'\n",
    "prefix = 'sagemaker/test-demo-deepar'\n",
    " \n",
    "# Define IAM role\n",
    "import boto3\n",
    "import re\n",
    "from sagemaker import get_execution_role\n",
    "\n",
    "role = get_execution_role()"
   ]
  },
  {
   "cell_type": "code",
   "execution_count": 53,
   "metadata": {},
   "outputs": [
    {
     "data": {
      "text/plain": [
       "'arn:aws:iam::945416147148:role/service-role/AmazonSageMaker-ExecutionRole-20180616T095406'"
      ]
     },
     "execution_count": 53,
     "metadata": {},
     "output_type": "execute_result"
    }
   ],
   "source": [
    "role"
   ]
  },
  {
   "cell_type": "markdown",
   "metadata": {
    "nbpresent": {
     "id": "b2548d66-6f8f-426f-9cda-7a3cd1459abd"
    }
   },
   "source": [
    "Now we'll import the Python libraries we'll need."
   ]
  },
  {
   "cell_type": "code",
   "execution_count": 54,
   "metadata": {
    "nbpresent": {
     "id": "bb88eea9-27f3-4e47-9133-663911ea09a9"
    }
   },
   "outputs": [],
   "source": [
    "import pandas as pd\n",
    "import numpy as np\n",
    "import matplotlib.pyplot as plt\n",
    "import io\n",
    "import os\n",
    "import time\n",
    "import json\n",
    "import glob\n",
    "import sagemaker.amazon.common as smac\n",
    "import sagemaker\n",
    "from sagemaker.predictor import csv_serializer, json_deserializer\n",
    "import boto3\n",
    "import  s3fs\n",
    "import  sagemaker\n",
    "from sagemaker import get_execution_role"
   ]
  },
  {
   "cell_type": "code",
   "execution_count": 55,
   "metadata": {},
   "outputs": [],
   "source": [
    "sagemaker_session = sagemaker.Session()\n",
    "role = get_execution_role()\n",
    "\n",
    "s3_data_path = \"{}/{}/data\".format(bucket, prefix)\n",
    "s3_output_path = \"{}/{}/output\".format(bucket, prefix)"
   ]
  },
  {
   "cell_type": "code",
   "execution_count": 56,
   "metadata": {},
   "outputs": [],
   "source": [
    "\n",
    "containers  = {\n",
    "    'us-west-2': '156387875391.dkr.ecr.us-west-2.amazonaws.com/forecasting-deepar:latest'\n",
    "}\n",
    "image_name = containers[boto3.Session().region_name]"
   ]
  },
  {
   "cell_type": "markdown",
   "metadata": {
    "nbpresent": {
     "id": "142777ae-c072-448e-b941-72bc75735d01"
    }
   },
   "source": [
    "---\n",
    "## Data\n",
    "\n",
    "Let's download the data.  More information about this dataset can be found [here](https://rdrr.io/github/robjhyndman/fpp/man/gasoline.html)."
   ]
  },
  {
   "cell_type": "code",
   "execution_count": 4,
   "metadata": {
    "nbpresent": {
     "id": "78105bc7-ce5d-4003-84f6-4dc5700c5945"
    }
   },
   "outputs": [
    {
     "name": "stdout",
     "output_type": "stream",
     "text": [
      "--2018-06-17 23:03:22--  http://gwa.ewi.tudelft.nl/fileadmin/pds/trace-archives/grid-workloads-archive/datasets/gwa-t-12/rnd.zip\n",
      "Resolving gwa.ewi.tudelft.nl (gwa.ewi.tudelft.nl)... 131.180.79.130\n",
      "Connecting to gwa.ewi.tudelft.nl (gwa.ewi.tudelft.nl)|131.180.79.130|:80... connected.\n",
      "HTTP request sent, awaiting response... 200 OK\n",
      "Length: 163099172 (156M) [application/zip]\n",
      "Saving to: ‘rnd.zip’\n",
      "\n",
      "rnd.zip             100%[===================>] 155.54M  7.47MB/s    in 22s     \n",
      "\n",
      "2018-06-17 23:03:45 (7.13 MB/s) - ‘rnd.zip’ saved [163099172/163099172]\n",
      "\n"
     ]
    }
   ],
   "source": [
    "!wget http://gwa.ewi.tudelft.nl/fileadmin/pds/trace-archives/grid-workloads-archive/datasets/gwa-t-12/rnd.zip"
   ]
  },
  {
   "cell_type": "code",
   "execution_count": 5,
   "metadata": {},
   "outputs": [],
   "source": [
    "import zipfile\n",
    "with zipfile.ZipFile(\"rnd.zip\",\"r\") as zip_ref:\n",
    "    zip_ref.extractall(\"targetdir\")"
   ]
  },
  {
   "cell_type": "markdown",
   "metadata": {
    "nbpresent": {
     "id": "b472326f-3584-4b61-aecc-04b35486a1ab"
    }
   },
   "source": [
    "And take a look at it."
   ]
  },
  {
   "cell_type": "code",
   "execution_count": 15,
   "metadata": {
    "nbpresent": {
     "id": "f8976dad-6897-4c7e-8c95-ae2f53070ef5"
    }
   },
   "outputs": [
    {
     "name": "stderr",
     "output_type": "stream",
     "text": [
      "/home/ec2-user/anaconda3/envs/python3/lib/python3.6/site-packages/ipykernel/__main__.py:3: ParserWarning: Falling back to the 'python' engine because the 'c' engine does not support regex separators (separators > 1 char and different from '\\s+' are interpreted as regex); you can avoid this warning by specifying engine='python'.\n",
      "  app.launch_new_instance()\n"
     ]
    }
   ],
   "source": [
    "all_files = glob.glob(os.path.join('targetdir/rnd/2013-7/', \"1*.csv\"))     # advisable to use os.path.join as this makes concatenation OS independent\n",
    "\n",
    "df_from_each_file = (pd.read_csv(f, sep = ';\\t') for f in all_files)\n",
    "concatenated_df   = pd.concat(df_from_each_file)"
   ]
  },
  {
   "cell_type": "code",
   "execution_count": 16,
   "metadata": {},
   "outputs": [
    {
     "name": "stderr",
     "output_type": "stream",
     "text": [
      "/home/ec2-user/anaconda3/envs/python3/lib/python3.6/site-packages/ipykernel/__main__.py:2: ParserWarning: Falling back to the 'python' engine because the 'c' engine does not support regex separators (separators > 1 char and different from '\\s+' are interpreted as regex); you can avoid this warning by specifying engine='python'.\n",
      "  from ipykernel import kernelapp as app\n"
     ]
    }
   ],
   "source": [
    "all_files = glob.glob(os.path.join('targetdir/rnd/2013-8/', \"1*.csv\"))     # advisable to use os.path.join as this makes concatenation OS independent\n",
    "df_from_each_file = (pd.read_csv(f, sep = ';\\t') for f in all_files)\n",
    "concatenated_df8   = pd.concat(df_from_each_file)"
   ]
  },
  {
   "cell_type": "code",
   "execution_count": 17,
   "metadata": {},
   "outputs": [
    {
     "name": "stderr",
     "output_type": "stream",
     "text": [
      "/home/ec2-user/anaconda3/envs/python3/lib/python3.6/site-packages/ipykernel/__main__.py:3: ParserWarning: Falling back to the 'python' engine because the 'c' engine does not support regex separators (separators > 1 char and different from '\\s+' are interpreted as regex); you can avoid this warning by specifying engine='python'.\n",
      "  app.launch_new_instance()\n"
     ]
    }
   ],
   "source": [
    "all_files = glob.glob(os.path.join('targetdir/rnd/2013-9/', \"1*.csv\"))     # advisable to use os.path.join as this makes concatenation OS independent\n",
    "\n",
    "df_from_each_file = (pd.read_csv(f, sep = ';\\t') for f in all_files)\n",
    "concatenated_df9   = pd.concat(df_from_each_file)"
   ]
  },
  {
   "cell_type": "code",
   "execution_count": 18,
   "metadata": {},
   "outputs": [],
   "source": [
    "newdat = concatenated_df.append(concatenated_df8)\n",
    "newerdat = newdat.append(concatenated_df9)\n",
    "concatenated_df = newerdat"
   ]
  },
  {
   "cell_type": "code",
   "execution_count": 19,
   "metadata": {},
   "outputs": [],
   "source": [
    "concatenated_df['Timestamp'] = pd.to_datetime(concatenated_df['Timestamp [ms]'], unit = 's')\n",
    "#concatenated_df.apply(pd.to_numeric, errors='ignore')\n",
    "concatenated_df.describe()\n",
    "concatenated_df['weekday'] = concatenated_df['Timestamp'].dt.dayofweek\n",
    "\n",
    "\n",
    "concatenated_df['weekend'] = ((concatenated_df.weekday) // 5 == 1).astype(float)\n",
    "# Feature engineering with the date\n",
    "concatenated_df['month']=concatenated_df.Timestamp.dt.month \n",
    "concatenated_df['day']=concatenated_df.Timestamp.dt.day\n",
    "concatenated_df.set_index('Timestamp',inplace=True)\n",
    "concatenated_df[\"CPU usage prev\"] = concatenated_df['CPU usage [%]'].shift(1)\n",
    "concatenated_df[\"CPU_diff\"] = concatenated_df['CPU usage [%]'] - concatenated_df[\"CPU usage prev\"]\n",
    "concatenated_df[\"received_prev\"] = concatenated_df['Network received throughput [KB/s]'].shift(1)\n",
    "concatenated_df[\"received_diff\"] = concatenated_df['Network received throughput [KB/s]']- concatenated_df[\"received_prev\"]\n",
    "\n",
    "concatenated_df[\"transmitted_prev\"] = concatenated_df['Network transmitted throughput [KB/s]'].shift(1)\n",
    "concatenated_df[\"transmitted_diff\"] = concatenated_df['Network transmitted throughput [KB/s]']- concatenated_df[\"transmitted_prev\"]\n",
    "\n",
    "hourlydat = concatenated_df.resample('H').sum()"
   ]
  },
  {
   "cell_type": "code",
   "execution_count": 296,
   "metadata": {},
   "outputs": [],
   "source": [
    "hourlydat[\"start\"] = hourlydat.index\n",
    "hourlydat['target'] = hourlydat['CPU usage [MHZ]']\n",
    "jsondat=pd.DataFrame(hourlydat['start'])\n",
    "jsondat['start'] = hourlydat.index\n",
    "result = pd.concat([hourlydat['start'], hourlydat['target']], axis=1)\n",
    "result = result.reset_index()\n",
    "result.drop('Timestamp', axis=1, inplace=True)\n",
    "#result.start = result.start.astype(str)\n",
    "#result.set_index('start',inplace=True)\n",
    "#result"
   ]
  },
  {
   "cell_type": "code",
   "execution_count": 297,
   "metadata": {},
   "outputs": [],
   "source": [
    "result.set_index('start',inplace=True)\n",
    "result.index = pd.to_datetime(result.index) "
   ]
  },
  {
   "cell_type": "code",
   "execution_count": 298,
   "metadata": {},
   "outputs": [],
   "source": [
    "# remove two july days for even dataset\n",
    "result = result[2:]"
   ]
  },
  {
   "cell_type": "code",
   "execution_count": 299,
   "metadata": {},
   "outputs": [],
   "source": [
    "start = result.index.min()\n",
    "end = result.index.max()\n",
    "index = pd.date_range(start, end, freq='D')\n",
    "index = index.map(lambda t: t.strftime('%Y-%m-%d'))\n",
    "makingjson = pd.DataFrame(index=index, columns=['target'])\n",
    "makingjson.index.name = 'date'\n",
    "\n",
    "for day in index:\n",
    "    makingjson.loc[day, 'target'] = result.loc[day, 'target'].tolist()\n"
   ]
  },
  {
   "cell_type": "code",
   "execution_count": 300,
   "metadata": {},
   "outputs": [],
   "source": [
    "def series_to_obj(ts, cat=None):\n",
    "    obj = {\"start\": str(ts.index[0]), \"target\": list(ts)}\n",
    "    if cat is not None:\n",
    "        obj[\"cat\"] = cat\n",
    "    return obj\n",
    "\n",
    "def series_to_jsonline(ts, cat=None):\n",
    "    return json.dumps(series_to_obj(ts, cat))"
   ]
  },
  {
   "cell_type": "code",
   "execution_count": 301,
   "metadata": {},
   "outputs": [],
   "source": [
    "makingjson = makingjson.reset_index(drop=False)\n"
   ]
  },
  {
   "cell_type": "code",
   "execution_count": 302,
   "metadata": {},
   "outputs": [],
   "source": [
    "makingjson.columns = ['start', 'target']"
   ]
  },
  {
   "cell_type": "code",
   "execution_count": 303,
   "metadata": {},
   "outputs": [
    {
     "data": {
      "text/html": [
       "<div>\n",
       "<style scoped>\n",
       "    .dataframe tbody tr th:only-of-type {\n",
       "        vertical-align: middle;\n",
       "    }\n",
       "\n",
       "    .dataframe tbody tr th {\n",
       "        vertical-align: top;\n",
       "    }\n",
       "\n",
       "    .dataframe thead th {\n",
       "        text-align: right;\n",
       "    }\n",
       "</style>\n",
       "<table border=\"1\" class=\"dataframe\">\n",
       "  <thead>\n",
       "    <tr style=\"text-align: right;\">\n",
       "      <th></th>\n",
       "      <th>start</th>\n",
       "      <th>target</th>\n",
       "    </tr>\n",
       "  </thead>\n",
       "  <tbody>\n",
       "    <tr>\n",
       "      <th>0</th>\n",
       "      <td>2013-07-01</td>\n",
       "      <td>[574199.4713140074, 504223.53358262416, 602037...</td>\n",
       "    </tr>\n",
       "    <tr>\n",
       "      <th>1</th>\n",
       "      <td>2013-07-02</td>\n",
       "      <td>[650204.8214047799, 653213.9708218395, 565570....</td>\n",
       "    </tr>\n",
       "    <tr>\n",
       "      <th>2</th>\n",
       "      <td>2013-07-03</td>\n",
       "      <td>[992436.0216913229, 952792.0524644597, 924735....</td>\n",
       "    </tr>\n",
       "    <tr>\n",
       "      <th>3</th>\n",
       "      <td>2013-07-04</td>\n",
       "      <td>[221054.54960393056, 231642.20276966706, 22931...</td>\n",
       "    </tr>\n",
       "    <tr>\n",
       "      <th>4</th>\n",
       "      <td>2013-07-05</td>\n",
       "      <td>[133744.91281717448, 137004.83592266572, 13975...</td>\n",
       "    </tr>\n",
       "  </tbody>\n",
       "</table>\n",
       "</div>"
      ],
      "text/plain": [
       "        start                                             target\n",
       "0  2013-07-01  [574199.4713140074, 504223.53358262416, 602037...\n",
       "1  2013-07-02  [650204.8214047799, 653213.9708218395, 565570....\n",
       "2  2013-07-03  [992436.0216913229, 952792.0524644597, 924735....\n",
       "3  2013-07-04  [221054.54960393056, 231642.20276966706, 22931...\n",
       "4  2013-07-05  [133744.91281717448, 137004.83592266572, 13975..."
      ]
     },
     "execution_count": 303,
     "metadata": {},
     "output_type": "execute_result"
    }
   ],
   "source": [
    "makingjson.head()"
   ]
  },
  {
   "cell_type": "code",
   "execution_count": 304,
   "metadata": {},
   "outputs": [
    {
     "data": {
      "text/plain": [
       "18.2"
      ]
     },
     "execution_count": 304,
     "metadata": {},
     "output_type": "execute_result"
    }
   ],
   "source": [
    "len(makingjson)*.2"
   ]
  },
  {
   "cell_type": "code",
   "execution_count": 305,
   "metadata": {},
   "outputs": [],
   "source": [
    "traindat = makingjson[:-round(len(makingjson)*.2)]"
   ]
  },
  {
   "cell_type": "code",
   "execution_count": 136,
   "metadata": {},
   "outputs": [],
   "source": [
    "#makingjson.to_json('test.json', orient='records', lines=True)\n"
   ]
  },
  {
   "cell_type": "code",
   "execution_count": 137,
   "metadata": {},
   "outputs": [],
   "source": [
    "#traindat.to_json('train.json', orient='records', lines=True)\n"
   ]
  },
  {
   "cell_type": "code",
   "execution_count": 338,
   "metadata": {},
   "outputs": [],
   "source": [
    "t0  = '2013-07-01 00:00:00'\n",
    "data_length = 2182\n",
    "num_ts = 90\n",
    "period = 24\n",
    "freq= \"H\""
   ]
  },
  {
   "cell_type": "code",
   "execution_count": 339,
   "metadata": {},
   "outputs": [
    {
     "data": {
      "text/plain": [
       "DatetimeIndex(['2013-07-01 00:00:00', '2013-07-01 01:00:00',\n",
       "               '2013-07-01 02:00:00', '2013-07-01 03:00:00',\n",
       "               '2013-07-01 04:00:00', '2013-07-01 05:00:00',\n",
       "               '2013-07-01 06:00:00', '2013-07-01 07:00:00',\n",
       "               '2013-07-01 08:00:00', '2013-07-01 09:00:00',\n",
       "               ...\n",
       "               '2013-09-29 12:00:00', '2013-09-29 13:00:00',\n",
       "               '2013-09-29 14:00:00', '2013-09-29 15:00:00',\n",
       "               '2013-09-29 16:00:00', '2013-09-29 17:00:00',\n",
       "               '2013-09-29 18:00:00', '2013-09-29 19:00:00',\n",
       "               '2013-09-29 20:00:00', '2013-09-29 21:00:00'],\n",
       "              dtype='datetime64[ns]', length=2182, freq='H')"
      ]
     },
     "execution_count": 339,
     "metadata": {},
     "output_type": "execute_result"
    }
   ],
   "source": [
    "index = pd.DatetimeIndex(start=t0, freq=freq, periods=data_length)\n",
    "index\n",
    "data = result['target']\n",
    "index"
   ]
  },
  {
   "cell_type": "code",
   "execution_count": 367,
   "metadata": {},
   "outputs": [],
   "source": [
    "freq = 'H'\n",
    "prediction_length = 48\n",
    "context_length = 24"
   ]
  },
  {
   "cell_type": "code",
   "execution_count": 368,
   "metadata": {},
   "outputs": [],
   "source": [
    "time_series = []\n",
    "time_series.append(pd.Series(data=data, index=index))"
   ]
  },
  {
   "cell_type": "code",
   "execution_count": 369,
   "metadata": {},
   "outputs": [
    {
     "data": {
      "image/png": "[encoded data removed]",
      "text/plain": [
       "<Figure size 432x288 with 1 Axes>"
      ]
     },
     "metadata": {},
     "output_type": "display_data"
    }
   ],
   "source": [
    "time_series[0].plot()\n",
    "plt.show()"
   ]
  },
  {
   "cell_type": "code",
   "execution_count": 370,
   "metadata": {},
   "outputs": [],
   "source": [
    "time_series_training = []\n",
    "for ts in time_series:\n",
    "    time_series_training.append(ts[:-prediction_length])"
   ]
  },
  {
   "cell_type": "code",
   "execution_count": 371,
   "metadata": {},
   "outputs": [],
   "source": [
    "encoding = \"utf-8\"\n",
    "s3filesystem = s3fs.S3FileSystem()\n",
    "\n",
    "with s3filesystem.open(s3_data_path + \"/train/train.json\", 'wb') as fp:\n",
    "    for ts in time_series_training:\n",
    "        fp.write(series_to_jsonline(ts).encode(encoding))\n",
    "        fp.write('\\n'.encode(encoding))\n"
   ]
  },
  {
   "cell_type": "code",
   "execution_count": 372,
   "metadata": {},
   "outputs": [],
   "source": [
    "with s3filesystem.open(s3_data_path + \"/test/test.json\", 'wb') as fp:\n",
    "    for ts in time_series:\n",
    "        fp.write(series_to_jsonline(ts).encode(encoding))\n",
    "        fp.write('\\n'.encode(encoding))"
   ]
  },
  {
   "cell_type": "code",
   "execution_count": 373,
   "metadata": {},
   "outputs": [
    {
     "data": {
      "text/plain": [
       "'sagemaker-testtimeseries/sagemaker/test-demo-deepar/data'"
      ]
     },
     "execution_count": 373,
     "metadata": {},
     "output_type": "execute_result"
    }
   ],
   "source": [
    "s3_data_path"
   ]
  },
  {
   "cell_type": "code",
   "execution_count": 374,
   "metadata": {},
   "outputs": [],
   "source": [
    "estimator = sagemaker.estimator.Estimator(\n",
    "    sagemaker_session=sagemaker_session,\n",
    "    image_name=image_name,\n",
    "    role=role,\n",
    "    train_instance_count=1,\n",
    "    train_instance_type='ml.c4.xlarge',\n",
    "    base_job_name='test-demo-deepar',\n",
    "    output_path=\"s3://\" + s3_output_path\n",
    ")"
   ]
  },
  {
   "cell_type": "code",
   "execution_count": 375,
   "metadata": {},
   "outputs": [],
   "source": [
    "\n",
    "hyperparameters  = {\n",
    "    \"time_freq\": freq,\n",
    "    \"context_length\": context_length,\n",
    "    \"prediction_length\": prediction_length,\n",
    "    \"num_cells\": \"40\",\n",
    "    \"num_layers\": \"3\",\n",
    "    \"likelihood\": \"gaussian\",\n",
    "    \"epochs\": \"50\",\n",
    "    \"mini_batch_size\": \"32\",\n",
    "    \"learning_rate\": \"0.001\",\n",
    "    \"dropout_rate\": \"0.05\",\n",
    "    \"early_stopping_patience\": \"10\"\n",
    "}"
   ]
  },
  {
   "cell_type": "code",
   "execution_count": 376,
   "metadata": {},
   "outputs": [],
   "source": [
    "estimator.set_hyperparameters(**hyperparameters)"
   ]
  },
  {
   "cell_type": "code",
   "execution_count": 377,
   "metadata": {},
   "outputs": [
    {
     "name": "stderr",
     "output_type": "stream",
     "text": [
      "INFO:sagemaker:Creating training-job with name: test-demo-deepar-2018-06-18-04-11-46-093\n"
     ]
    },
    {
     "name": "stdout",
     "output_type": "stream",
     "text": [
      "....................\n",
      "\u001b[31mArguments: train\u001b[0m\n",
      "\u001b[31m[06/18/2018 04:14:51 INFO 140163425154880] Reading default configuration from /opt/amazon/lib/python2.7/site-packages/algorithm/default-input.json: {u'dropout_rate': u'0.10', u'cardinality': u'', u'test_quantiles': u'[0.1, 0.2, 0.3, 0.4, 0.5, 0.6, 0.7, 0.8, 0.9]', u'_tuning_objective_metric': u'', u'_num_gpus': u'auto', u'learning_rate': u'0.001', u'num_cells': u'40', u'num_layers': u'2', u'embedding_dimension': u'', u'_kvstore': u'auto', u'_num_kv_servers': u'auto', u'mini_batch_size': u'32', u'likelihood': u'student-t', u'early_stopping_patience': u''}\u001b[0m\n",
      "\u001b[31m[06/18/2018 04:14:51 INFO 140163425154880] Reading provided configuration from /opt/ml/input/config/hyperparameters.json: {u'dropout_rate': u'0.05', u'learning_rate': u'0.001', u'num_cells': u'40', u'prediction_length': u'48', u'epochs': u'50', u'time_freq': u'H', u'context_length': u'24', u'num_layers': u'3', u'mini_batch_size': u'32', u'likelihood': u'gaussian', u'early_stopping_patience': u'10'}\u001b[0m\n",
      "\u001b[31m[06/18/2018 04:14:51 INFO 140163425154880] Final configuration: {u'dropout_rate': u'0.05', u'test_quantiles': u'[0.1, 0.2, 0.3, 0.4, 0.5, 0.6, 0.7, 0.8, 0.9]', u'_tuning_objective_metric': u'', u'learning_rate': u'0.001', u'num_layers': u'3', u'epochs': u'50', u'embedding_dimension': u'', u'num_cells': u'40', u'_num_kv_servers': u'auto', u'cardinality': u'', u'likelihood': u'gaussian', u'mini_batch_size': u'32', u'_num_gpus': u'auto', u'prediction_length': u'48', u'time_freq': u'H', u'context_length': u'24', u'_kvstore': u'auto', u'early_stopping_patience': u'10'}\u001b[0m\n",
      "\u001b[31m[06/18/2018 04:14:51 INFO 140163425154880] Detected entry point for worker worker\u001b[0m\n",
      "\u001b[31m[06/18/2018 04:14:51 INFO 140163425154880] nvidia-smi took: 0.0251531600952 secs to identify 0 gpus\u001b[0m\n",
      "\u001b[31m[06/18/2018 04:14:51 INFO 140163425154880] Number of GPUs being used: 0\u001b[0m\n",
      "\u001b[31m[06/18/2018 04:14:51 WARNING 140163425154880] Dataset contains very few time-series which may not be sufficient for good accuracy\u001b[0m\n",
      "\u001b[31m[06/18/2018 04:14:51 INFO 140163425154880] Training set statistics:\u001b[0m\n",
      "\u001b[31m[06/18/2018 04:14:51 INFO 140163425154880] Real timeseries\u001b[0m\n",
      "\u001b[31m[06/18/2018 04:14:51 INFO 140163425154880] number of timeseries: 1\u001b[0m\n",
      "\u001b[31m[06/18/2018 04:14:51 INFO 140163425154880] number of observations: 2134\u001b[0m\n",
      "\u001b[31m[06/18/2018 04:14:51 INFO 140163425154880] mean target length: 2134\u001b[0m\n",
      "\u001b[31m[06/18/2018 04:14:51 INFO 140163425154880] min/mean/max target: 0.0/442131.373946/2017685.125\u001b[0m\n",
      "\u001b[31m[06/18/2018 04:14:51 INFO 140163425154880] mean abs(target): 442131.373946\u001b[0m\n",
      "\u001b[31m[06/18/2018 04:14:51 INFO 140163425154880] Small number of time-series. Doing 10 number of passes over dataset per epoch.\u001b[0m\n",
      "\u001b[31m[06/18/2018 04:14:51 INFO 140163425154880] Test set statistics:\u001b[0m\n",
      "\u001b[31m[06/18/2018 04:14:51 INFO 140163425154880] Real timeseries\u001b[0m\n",
      "\u001b[31m[06/18/2018 04:14:51 INFO 140163425154880] number of timeseries: 1\u001b[0m\n",
      "\u001b[31m[06/18/2018 04:14:51 INFO 140163425154880] number of observations: 2182\u001b[0m\n",
      "\u001b[31m[06/18/2018 04:14:51 INFO 140163425154880] mean target length: 2182\u001b[0m\n",
      "\u001b[31m[06/18/2018 04:14:51 INFO 140163425154880] min/mean/max target: 0.0/436158.944088/2017685.125\u001b[0m\n",
      "\u001b[31m[06/18/2018 04:14:51 INFO 140163425154880] mean abs(target): 436158.944088\u001b[0m\n",
      "\u001b[31m[06/18/2018 04:14:51 INFO 140163425154880] Create Store: local\u001b[0m\n",
      "\u001b[31m#metrics {\"Metrics\": {\"get_graph.time\": {\"count\": 1, \"max\": 164.71600532531738, \"sum\": 164.71600532531738, \"min\": 164.71600532531738}}, \"EndTime\": 1529295291.912657, \"Dimensions\": {\"Host\": \"algo-1\", \"Operation\": \"training\", \"Algorithm\": \"AWS/DeepAR\"}, \"StartTime\": 1529295291.745971}\n",
      "\u001b[0m\n",
      "\u001b[31m[06/18/2018 04:14:51 INFO 140163425154880] Number of GPUs being used: 0\u001b[0m\n",
      "\u001b[31m#metrics {\"Metrics\": {\"initialize.time\": {\"count\": 1, \"max\": 432.79290199279785, \"sum\": 432.79290199279785, \"min\": 432.79290199279785}}, \"EndTime\": 1529295292.178844, \"Dimensions\": {\"Host\": \"algo-1\", \"Operation\": \"training\", \"Algorithm\": \"AWS/DeepAR\"}, \"StartTime\": 1529295291.912756}\n",
      "\u001b[0m\n",
      "\u001b[31m[06/18/2018 04:14:52 INFO 140163425154880] Using early stopping with patience 10\u001b[0m\n",
      "\u001b[31m[06/18/2018 04:14:52 INFO 140163425154880] Epoch[0] Batch[0] avg_epoch_loss=16.642609\u001b[0m\n",
      "\u001b[31m[06/18/2018 04:14:52 INFO 140163425154880] Epoch[0] Batch[5] avg_epoch_loss=15.366472\u001b[0m\n",
      "\u001b[31m[06/18/2018 04:14:52 INFO 140163425154880] Epoch[0] Batch [5]#011Speed: 341.87 samples/sec#011loss=15.366472\u001b[0m\n",
      "\u001b[31m[06/18/2018 04:14:53 INFO 140163425154880] Epoch[0] Batch[10] avg_epoch_loss=14.985559\u001b[0m\n",
      "\u001b[31m[06/18/2018 04:14:53 INFO 140163425154880] Epoch[0] Batch [10]#011Speed: 349.18 samples/sec#011loss=14.528463\u001b[0m\n",
      "\u001b[31m[06/18/2018 04:14:53 INFO 140163425154880] processed a total of 328 examples\u001b[0m\n",
      "\u001b[31m#metrics {\"Metrics\": {\"epochs\": {\"count\": 1, \"max\": 50, \"sum\": 50.0, \"min\": 50}, \"update.time\": {\"count\": 1, \"max\": 1153.4271240234375, \"sum\": 1153.4271240234375, \"min\": 1153.4271240234375}}, \"EndTime\": 1529295293.348932, \"Dimensions\": {\"Host\": \"algo-1\", \"Operation\": \"training\", \"Algorithm\": \"AWS/DeepAR\"}, \"StartTime\": 1529295292.178901}\n",
      "\u001b[0m\n",
      "\u001b[31m[06/18/2018 04:14:53 INFO 140163425154880] #throughput_metric: host=algo-1, train throughput=284.340609753 records/second\u001b[0m\n",
      "\u001b[31m[06/18/2018 04:14:53 INFO 140163425154880] #progress_metric: host=algo-1, completed 2 % of epochs\u001b[0m\n",
      "\u001b[31m[06/18/2018 04:14:53 INFO 140163425154880] best epoch loss so far\u001b[0m\n",
      "\u001b[31m[06/18/2018 04:14:53 INFO 140163425154880] Saved checkpoint to \"/opt/ml/model/state_de9b3e8a-1ff6-4af8-8d6a-6223c9a22322-0000.params\"\u001b[0m\n",
      "\u001b[31m#metrics {\"Metrics\": {\"state.serialize.time\": {\"count\": 1, \"max\": 37.66298294067383, \"sum\": 37.66298294067383, \"min\": 37.66298294067383}}, \"EndTime\": 1529295293.387029, \"Dimensions\": {\"Host\": \"algo-1\", \"Operation\": \"training\", \"Algorithm\": \"AWS/DeepAR\"}, \"StartTime\": 1529295293.349019}\n",
      "\u001b[0m\n",
      "\u001b[31m[06/18/2018 04:14:53 INFO 140163425154880] Epoch[1] Batch[0] avg_epoch_loss=14.377904\u001b[0m\n",
      "\u001b[31m[06/18/2018 04:14:54 INFO 140163425154880] Epoch[1] Batch[5] avg_epoch_loss=14.323746\u001b[0m\n",
      "\u001b[31m[06/18/2018 04:14:54 INFO 140163425154880] Epoch[1] Batch [5]#011Speed: 318.15 samples/sec#011loss=14.323746\u001b[0m\n",
      "\u001b[31m[06/18/2018 04:14:54 INFO 140163425154880] processed a total of 264 examples\u001b[0m\n",
      "\u001b[31m#metrics {\"Metrics\": {\"update.time\": {\"count\": 1, \"max\": 883.0180168151855, \"sum\": 883.0180168151855, \"min\": 883.0180168151855}}, \"EndTime\": 1529295294.286493, \"Dimensions\": {\"Host\": \"algo-1\", \"Operation\": \"training\", \"Algorithm\": \"AWS/DeepAR\"}, \"StartTime\": 1529295293.387084}\n",
      "\u001b[0m\n",
      "\u001b[31m[06/18/2018 04:14:54 INFO 140163425154880] #throughput_metric: host=algo-1, train throughput=298.939455444 records/second\u001b[0m\n",
      "\u001b[31m[06/18/2018 04:14:54 INFO 140163425154880] #progress_metric: host=algo-1, completed 4 % of epochs\u001b[0m\n",
      "\u001b[31m[06/18/2018 04:14:54 INFO 140163425154880] best epoch loss so far\u001b[0m\n",
      "\u001b[31m[06/18/2018 04:14:54 INFO 140163425154880] Saved checkpoint to \"/opt/ml/model/state_8b46f690-69a7-458c-a369-9246e6e8a901-0000.params\"\u001b[0m\n",
      "\u001b[31m#metrics {\"Metrics\": {\"state.serialize.time\": {\"count\": 1, \"max\": 31.15105628967285, \"sum\": 31.15105628967285, \"min\": 31.15105628967285}}, \"EndTime\": 1529295294.318066, \"Dimensions\": {\"Host\": \"algo-1\", \"Operation\": \"training\", \"Algorithm\": \"AWS/DeepAR\"}, \"StartTime\": 1529295294.286563}\n",
      "\u001b[0m\n",
      "\u001b[31m[06/18/2018 04:14:54 INFO 140163425154880] Epoch[2] Batch[0] avg_epoch_loss=14.213343\u001b[0m\n",
      "\u001b[31m[06/18/2018 04:14:54 INFO 140163425154880] Epoch[2] Batch[5] avg_epoch_loss=14.090883\u001b[0m\n",
      "\u001b[31m[06/18/2018 04:14:54 INFO 140163425154880] Epoch[2] Batch [5]#011Speed: 308.03 samples/sec#011loss=14.090883\u001b[0m\n",
      "\u001b[31m[06/18/2018 04:14:55 INFO 140163425154880] Epoch[2] Batch[10] avg_epoch_loss=14.084185\u001b[0m\n",
      "\u001b[31m[06/18/2018 04:14:55 INFO 140163425154880] Epoch[2] Batch [10]#011Speed: 311.04 samples/sec#011loss=14.076148\u001b[0m\n",
      "\u001b[31m[06/18/2018 04:14:55 INFO 140163425154880] processed a total of 351 examples\u001b[0m\n",
      "\u001b[31m#metrics {\"Metrics\": {\"update.time\": {\"count\": 1, \"max\": 1151.1259078979492, \"sum\": 1151.1259078979492, \"min\": 1151.1259078979492}}, \"EndTime\": 1529295295.48563, \"Dimensions\": {\"Host\": \"algo-1\", \"Operation\": \"training\", \"Algorithm\": \"AWS/DeepAR\"}, \"StartTime\": 1529295294.318134}\n",
      "\u001b[0m\n",
      "\u001b[31m[06/18/2018 04:14:55 INFO 140163425154880] #throughput_metric: host=algo-1, train throughput=304.890001696 records/second\u001b[0m\n",
      "\u001b[31m[06/18/2018 04:14:55 INFO 140163425154880] #progress_metric: host=algo-1, completed 6 % of epochs\u001b[0m\n",
      "\u001b[31m[06/18/2018 04:14:55 INFO 140163425154880] best epoch loss so far\u001b[0m\n",
      "\u001b[31m[06/18/2018 04:14:55 INFO 140163425154880] Saved checkpoint to \"/opt/ml/model/state_49ac1bec-f0f0-4ac8-819b-eec15cc6e290-0000.params\"\u001b[0m\n",
      "\u001b[31m#metrics {\"Metrics\": {\"state.serialize.time\": {\"count\": 1, \"max\": 30.27796745300293, \"sum\": 30.27796745300293, \"min\": 30.27796745300293}}, \"EndTime\": 1529295295.51631, \"Dimensions\": {\"Host\": \"algo-1\", \"Operation\": \"training\", \"Algorithm\": \"AWS/DeepAR\"}, \"StartTime\": 1529295295.485704}\n",
      "\u001b[0m\n",
      "\u001b[31m[06/18/2018 04:14:55 INFO 140163425154880] Epoch[3] Batch[0] avg_epoch_loss=14.210984\u001b[0m\n",
      "\u001b[31m[06/18/2018 04:14:56 INFO 140163425154880] Epoch[3] Batch[5] avg_epoch_loss=14.009499\u001b[0m\n",
      "\u001b[31m[06/18/2018 04:14:56 INFO 140163425154880] Epoch[3] Batch [5]#011Speed: 319.30 samples/sec#011loss=14.009499\u001b[0m\n",
      "\u001b[31m[06/18/2018 04:14:56 INFO 140163425154880] processed a total of 308 examples\u001b[0m\n",
      "\u001b[31m#metrics {\"Metrics\": {\"update.time\": {\"count\": 1, \"max\": 1002.467155456543, \"sum\": 1002.467155456543, \"min\": 1002.467155456543}}, \"EndTime\": 1529295296.535441, \"Dimensions\": {\"Host\": \"algo-1\", \"Operation\": \"training\", \"Algorithm\": \"AWS/DeepAR\"}, \"StartTime\": 1529295295.516379}\n",
      "\u001b[0m\n",
      "\u001b[31m[06/18/2018 04:14:56 INFO 140163425154880] #throughput_metric: host=algo-1, train throughput=307.203701343 records/second\u001b[0m\n",
      "\u001b[31m[06/18/2018 04:14:56 INFO 140163425154880] #progress_metric: host=algo-1, completed 8 % of epochs\u001b[0m\n",
      "\u001b[31m[06/18/2018 04:14:56 INFO 140163425154880] best epoch loss so far\u001b[0m\n",
      "\u001b[31m[06/18/2018 04:14:56 INFO 140163425154880] Saved checkpoint to \"/opt/ml/model/state_9c21da0a-f7ab-421f-a5b4-fe337245425a-0000.params\"\u001b[0m\n",
      "\u001b[31m#metrics {\"Metrics\": {\"state.serialize.time\": {\"count\": 1, \"max\": 24.693012237548828, \"sum\": 24.693012237548828, \"min\": 24.693012237548828}}, \"EndTime\": 1529295296.560569, \"Dimensions\": {\"Host\": \"algo-1\", \"Operation\": \"training\", \"Algorithm\": \"AWS/DeepAR\"}, \"StartTime\": 1529295296.53551}\n",
      "\u001b[0m\n",
      "\u001b[31m[06/18/2018 04:14:56 INFO 140163425154880] Epoch[4] Batch[0] avg_epoch_loss=13.816198\u001b[0m\n",
      "\u001b[31m[06/18/2018 04:14:57 INFO 140163425154880] Epoch[4] Batch[5] avg_epoch_loss=13.970042\u001b[0m\n",
      "\u001b[31m[06/18/2018 04:14:57 INFO 140163425154880] Epoch[4] Batch [5]#011Speed: 331.28 samples/sec#011loss=13.970042\u001b[0m\n",
      "\u001b[31m[06/18/2018 04:14:57 INFO 140163425154880] processed a total of 316 examples\u001b[0m\n",
      "\u001b[31m#metrics {\"Metrics\": {\"update.time\": {\"count\": 1, \"max\": 926.9599914550781, \"sum\": 926.9599914550781, \"min\": 926.9599914550781}}, \"EndTime\": 1529295297.502275, \"Dimensions\": {\"Host\": \"algo-1\", \"Operation\": \"training\", \"Algorithm\": \"AWS/DeepAR\"}, \"StartTime\": 1529295296.560634}\n",
      "\u001b[0m\n",
      "\u001b[31m[06/18/2018 04:14:57 INFO 140163425154880] #throughput_metric: host=algo-1, train throughput=340.851858033 records/second\u001b[0m\n",
      "\u001b[31m[06/18/2018 04:14:57 INFO 140163425154880] #progress_metric: host=algo-1, completed 10 % of epochs\u001b[0m\n",
      "\u001b[31m[06/18/2018 04:14:57 INFO 140163425154880] best epoch loss so far\u001b[0m\n",
      "\u001b[31m[06/18/2018 04:14:57 INFO 140163425154880] Saved checkpoint to \"/opt/ml/model/state_d007f7e5-5f8b-4042-9ec0-0c8f2479e78d-0000.params\"\u001b[0m\n",
      "\u001b[31m#metrics {\"Metrics\": {\"state.serialize.time\": {\"count\": 1, \"max\": 24.520158767700195, \"sum\": 24.520158767700195, \"min\": 24.520158767700195}}, \"EndTime\": 1529295297.527247, \"Dimensions\": {\"Host\": \"algo-1\", \"Operation\": \"training\", \"Algorithm\": \"AWS/DeepAR\"}, \"StartTime\": 1529295297.502352}\n",
      "\u001b[0m\n",
      "\u001b[31m[06/18/2018 04:14:57 INFO 140163425154880] Epoch[5] Batch[0] avg_epoch_loss=13.830631\u001b[0m\n",
      "\u001b[31m[06/18/2018 04:14:58 INFO 140163425154880] Epoch[5] Batch[5] avg_epoch_loss=13.858670\u001b[0m\n",
      "\u001b[31m[06/18/2018 04:14:58 INFO 140163425154880] Epoch[5] Batch [5]#011Speed: 345.96 samples/sec#011loss=13.858670\u001b[0m\n",
      "\u001b[31m[06/18/2018 04:14:58 INFO 140163425154880] Epoch[5] Batch[10] avg_epoch_loss=13.830093\u001b[0m\n",
      "\u001b[31m[06/18/2018 04:14:58 INFO 140163425154880] Epoch[5] Batch [10]#011Speed: 325.45 samples/sec#011loss=13.795801\u001b[0m\n",
      "\u001b[31m[06/18/2018 04:14:58 INFO 140163425154880] processed a total of 340 examples\u001b[0m\n",
      "\u001b[31m#metrics {\"Metrics\": {\"update.time\": {\"count\": 1, \"max\": 1038.9978885650635, \"sum\": 1038.9978885650635, \"min\": 1038.9978885650635}}, \"EndTime\": 1529295298.579303, \"Dimensions\": {\"Host\": \"algo-1\", \"Operation\": \"training\", \"Algorithm\": \"AWS/DeepAR\"}, \"StartTime\": 1529295297.527306}\n",
      "\u001b[0m\n",
      "\u001b[31m[06/18/2018 04:14:58 INFO 140163425154880] #throughput_metric: host=algo-1, train throughput=327.199651064 records/second\u001b[0m\n",
      "\u001b[31m[06/18/2018 04:14:58 INFO 140163425154880] #progress_metric: host=algo-1, completed 12 % of epochs\u001b[0m\n",
      "\u001b[31m[06/18/2018 04:14:58 INFO 140163425154880] best epoch loss so far\u001b[0m\n",
      "\u001b[31m[06/18/2018 04:14:58 INFO 140163425154880] Saved checkpoint to \"/opt/ml/model/state_a15d87bd-d0dd-4f3b-9b48-ec1a23b338d2-0000.params\"\u001b[0m\n",
      "\u001b[31m#metrics {\"Metrics\": {\"state.serialize.time\": {\"count\": 1, \"max\": 34.242868423461914, \"sum\": 34.242868423461914, \"min\": 34.242868423461914}}, \"EndTime\": 1529295298.614023, \"Dimensions\": {\"Host\": \"algo-1\", \"Operation\": \"training\", \"Algorithm\": \"AWS/DeepAR\"}, \"StartTime\": 1529295298.579392}\n",
      "\u001b[0m\n",
      "\u001b[31m[06/18/2018 04:14:58 INFO 140163425154880] Epoch[6] Batch[0] avg_epoch_loss=13.612164\u001b[0m\n",
      "\u001b[31m[06/18/2018 04:14:59 INFO 140163425154880] Epoch[6] Batch[5] avg_epoch_loss=13.684049\u001b[0m\n",
      "\u001b[31m[06/18/2018 04:14:59 INFO 140163425154880] Epoch[6] Batch [5]#011Speed: 346.16 samples/sec#011loss=13.684049\u001b[0m\n",
      "\u001b[31m[06/18/2018 04:14:59 INFO 140163425154880] processed a total of 315 examples\u001b[0m\n",
      "\u001b[31m#metrics {\"Metrics\": {\"update.time\": {\"count\": 1, \"max\": 962.1000289916992, \"sum\": 962.1000289916992, \"min\": 962.1000289916992}}, \"EndTime\": 1529295299.590701, \"Dimensions\": {\"Host\": \"algo-1\", \"Operation\": \"training\", \"Algorithm\": \"AWS/DeepAR\"}, \"StartTime\": 1529295298.614109}\n",
      "\u001b[0m\n",
      "\u001b[31m[06/18/2018 04:14:59 INFO 140163425154880] #throughput_metric: host=algo-1, train throughput=327.370735335 records/second\u001b[0m\n",
      "\u001b[31m[06/18/2018 04:14:59 INFO 140163425154880] #progress_metric: host=algo-1, completed 14 % of epochs\u001b[0m\n",
      "\u001b[31m[06/18/2018 04:14:59 INFO 140163425154880] best epoch loss so far\u001b[0m\n",
      "\u001b[31m[06/18/2018 04:14:59 INFO 140163425154880] Saved checkpoint to \"/opt/ml/model/state_a86ac90b-f9c3-4ff0-8a0e-da6d4b88c6a8-0000.params\"\u001b[0m\n",
      "\u001b[31m#metrics {\"Metrics\": {\"state.serialize.time\": {\"count\": 1, \"max\": 25.45022964477539, \"sum\": 25.45022964477539, \"min\": 25.45022964477539}}, \"EndTime\": 1529295299.616688, \"Dimensions\": {\"Host\": \"algo-1\", \"Operation\": \"training\", \"Algorithm\": \"AWS/DeepAR\"}, \"StartTime\": 1529295299.590776}\n",
      "\u001b[0m\n",
      "\u001b[31m[06/18/2018 04:14:59 INFO 140163425154880] Epoch[7] Batch[0] avg_epoch_loss=13.772822\u001b[0m\n",
      "\u001b[31m[06/18/2018 04:15:00 INFO 140163425154880] Epoch[7] Batch[5] avg_epoch_loss=13.740559\u001b[0m\n",
      "\u001b[31m[06/18/2018 04:15:00 INFO 140163425154880] Epoch[7] Batch [5]#011Speed: 293.27 samples/sec#011loss=13.740559\u001b[0m\n",
      "\u001b[31m[06/18/2018 04:15:00 INFO 140163425154880] Epoch[7] Batch[10] avg_epoch_loss=13.734642\u001b[0m\n",
      "\u001b[31m[06/18/2018 04:15:00 INFO 140163425154880] Epoch[7] Batch [10]#011Speed: 302.17 samples/sec#011loss=13.727541\u001b[0m\n",
      "\u001b[31m[06/18/2018 04:15:00 INFO 140163425154880] processed a total of 325 examples\u001b[0m\n",
      "\u001b[31m#metrics {\"Metrics\": {\"update.time\": {\"count\": 1, \"max\": 1155.0538539886475, \"sum\": 1155.0538539886475, \"min\": 1155.0538539886475}}, \"EndTime\": 1529295300.789436, \"Dimensions\": {\"Host\": \"algo-1\", \"Operation\": \"training\", \"Algorithm\": \"AWS/DeepAR\"}, \"StartTime\": 1529295299.616755}\n",
      "\u001b[0m\n",
      "\u001b[31m[06/18/2018 04:15:00 INFO 140163425154880] #throughput_metric: host=algo-1, train throughput=281.347015942 records/second\u001b[0m\n",
      "\u001b[31m[06/18/2018 04:15:00 INFO 140163425154880] #progress_metric: host=algo-1, completed 16 % of epochs\u001b[0m\n",
      "\u001b[31m[06/18/2018 04:15:00 INFO 140163425154880] best epoch loss so far\u001b[0m\n",
      "\u001b[31m[06/18/2018 04:15:00 INFO 140163425154880] Saved checkpoint to \"/opt/ml/model/state_027ecab3-c274-4d48-b571-d48f1d793be4-0000.params\"\u001b[0m\n",
      "\u001b[31m#metrics {\"Metrics\": {\"state.serialize.time\": {\"count\": 1, \"max\": 31.295061111450195, \"sum\": 31.295061111450195, \"min\": 31.295061111450195}}, \"EndTime\": 1529295300.821133, \"Dimensions\": {\"Host\": \"algo-1\", \"Operation\": \"training\", \"Algorithm\": \"AWS/DeepAR\"}, \"StartTime\": 1529295300.789504}\n",
      "\u001b[0m\n",
      "\u001b[31m[06/18/2018 04:15:00 INFO 140163425154880] Epoch[8] Batch[0] avg_epoch_loss=13.593696\u001b[0m\n",
      "\u001b[31m[06/18/2018 04:15:01 INFO 140163425154880] Epoch[8] Batch[5] avg_epoch_loss=13.699272\u001b[0m\n",
      "\u001b[31m[06/18/2018 04:15:01 INFO 140163425154880] Epoch[8] Batch [5]#011Speed: 313.91 samples/sec#011loss=13.699272\u001b[0m\n",
      "\u001b[31m[06/18/2018 04:15:01 INFO 140163425154880] processed a total of 301 examples\u001b[0m\n",
      "\u001b[31m#metrics {\"Metrics\": {\"update.time\": {\"count\": 1, \"max\": 999.971866607666, \"sum\": 999.971866607666, \"min\": 999.971866607666}}, \"EndTime\": 1529295301.839379, \"Dimensions\": {\"Host\": \"algo-1\", \"Operation\": \"training\", \"Algorithm\": \"AWS/DeepAR\"}, \"StartTime\": 1529295300.821224}\n",
      "\u001b[0m\n",
      "\u001b[31m[06/18/2018 04:15:01 INFO 140163425154880] #throughput_metric: host=algo-1, train throughput=300.977754807 records/second\u001b[0m\n",
      "\u001b[31m[06/18/2018 04:15:01 INFO 140163425154880] #progress_metric: host=algo-1, completed 18 % of epochs\u001b[0m\n",
      "\u001b[31m[06/18/2018 04:15:01 INFO 140163425154880] best epoch loss so far\u001b[0m\n",
      "\u001b[31m[06/18/2018 04:15:01 INFO 140163425154880] Saved checkpoint to \"/opt/ml/model/state_517fe619-bc00-4e9f-b506-5b2014aca5e9-0000.params\"\u001b[0m\n",
      "\u001b[31m#metrics {\"Metrics\": {\"state.serialize.time\": {\"count\": 1, \"max\": 33.06102752685547, \"sum\": 33.06102752685547, \"min\": 33.06102752685547}}, \"EndTime\": 1529295301.872882, \"Dimensions\": {\"Host\": \"algo-1\", \"Operation\": \"training\", \"Algorithm\": \"AWS/DeepAR\"}, \"StartTime\": 1529295301.839448}\n",
      "\u001b[0m\n",
      "\u001b[31m[06/18/2018 04:15:01 INFO 140163425154880] Epoch[9] Batch[0] avg_epoch_loss=13.634245\u001b[0m\n",
      "\u001b[31m[06/18/2018 04:15:02 INFO 140163425154880] Epoch[9] Batch[5] avg_epoch_loss=13.599690\u001b[0m\n",
      "\u001b[31m[06/18/2018 04:15:02 INFO 140163425154880] Epoch[9] Batch [5]#011Speed: 299.40 samples/sec#011loss=13.599690\u001b[0m\n",
      "\u001b[31m[06/18/2018 04:15:03 INFO 140163425154880] Epoch[9] Batch[10] avg_epoch_loss=13.596934\u001b[0m\n",
      "\u001b[31m[06/18/2018 04:15:03 INFO 140163425154880] Epoch[9] Batch [10]#011Speed: 290.74 samples/sec#011loss=13.593627\u001b[0m\n",
      "\u001b[31m[06/18/2018 04:15:03 INFO 140163425154880] processed a total of 352 examples\u001b[0m\n",
      "\u001b[31m#metrics {\"Metrics\": {\"update.time\": {\"count\": 1, \"max\": 1167.3619747161865, \"sum\": 1167.3619747161865, \"min\": 1167.3619747161865}}, \"EndTime\": 1529295303.061238, \"Dimensions\": {\"Host\": \"algo-1\", \"Operation\": \"training\", \"Algorithm\": \"AWS/DeepAR\"}, \"StartTime\": 1529295301.872952}\n",
      "\u001b[0m\n",
      "\u001b[31m[06/18/2018 04:15:03 INFO 140163425154880] #throughput_metric: host=algo-1, train throughput=301.50692872 records/second\u001b[0m\n",
      "\u001b[31m[06/18/2018 04:15:03 INFO 140163425154880] #progress_metric: host=algo-1, completed 20 % of epochs\u001b[0m\n",
      "\u001b[31m[06/18/2018 04:15:03 INFO 140163425154880] best epoch loss so far\u001b[0m\n",
      "\u001b[31m[06/18/2018 04:15:03 INFO 140163425154880] Saved checkpoint to \"/opt/ml/model/state_3d8db8f1-9b20-42c7-9652-bdd22dd524c9-0000.params\"\u001b[0m\n",
      "\u001b[31m#metrics {\"Metrics\": {\"state.serialize.time\": {\"count\": 1, \"max\": 27.447938919067383, \"sum\": 27.447938919067383, \"min\": 27.447938919067383}}, \"EndTime\": 1529295303.08915, \"Dimensions\": {\"Host\": \"algo-1\", \"Operation\": \"training\", \"Algorithm\": \"AWS/DeepAR\"}, \"StartTime\": 1529295303.061308}\n",
      "\u001b[0m\n",
      "\u001b[31m[06/18/2018 04:15:03 INFO 140163425154880] Epoch[10] Batch[0] avg_epoch_loss=13.410800\u001b[0m\n",
      "\u001b[31m[06/18/2018 04:15:03 INFO 140163425154880] Epoch[10] Batch[5] avg_epoch_loss=13.446508\u001b[0m\n",
      "\u001b[31m[06/18/2018 04:15:03 INFO 140163425154880] Epoch[10] Batch [5]#011Speed: 333.32 samples/sec#011loss=13.446508\u001b[0m\n",
      "\u001b[31m[06/18/2018 04:15:04 INFO 140163425154880] Epoch[10] Batch[10] avg_epoch_loss=13.465938\u001b[0m\n",
      "\u001b[31m[06/18/2018 04:15:04 INFO 140163425154880] Epoch[10] Batch [10]#011Speed: 335.93 samples/sec#011loss=13.489254\u001b[0m\n",
      "\u001b[31m[06/18/2018 04:15:04 INFO 140163425154880] processed a total of 329 examples\u001b[0m\n",
      "\u001b[31m#metrics {\"Metrics\": {\"update.time\": {\"count\": 1, \"max\": 1060.0531101226807, \"sum\": 1060.0531101226807, \"min\": 1060.0531101226807}}, \"EndTime\": 1529295304.168674, \"Dimensions\": {\"Host\": \"algo-1\", \"Operation\": \"training\", \"Algorithm\": \"AWS/DeepAR\"}, \"StartTime\": 1529295303.08922}\n",
      "\u001b[0m\n",
      "\u001b[31m[06/18/2018 04:15:04 INFO 140163425154880] #throughput_metric: host=algo-1, train throughput=310.328445398 records/second\u001b[0m\n",
      "\u001b[31m[06/18/2018 04:15:04 INFO 140163425154880] #progress_metric: host=algo-1, completed 22 % of epochs\u001b[0m\n",
      "\u001b[31m[06/18/2018 04:15:04 INFO 140163425154880] best epoch loss so far\u001b[0m\n",
      "\u001b[31m[06/18/2018 04:15:04 INFO 140163425154880] Saved checkpoint to \"/opt/ml/model/state_cebf8f98-a9d3-4cda-a1ca-2d2f2309b2fa-0000.params\"\u001b[0m\n",
      "\u001b[31m#metrics {\"Metrics\": {\"state.serialize.time\": {\"count\": 1, \"max\": 26.938915252685547, \"sum\": 26.938915252685547, \"min\": 26.938915252685547}}, \"EndTime\": 1529295304.196078, \"Dimensions\": {\"Host\": \"algo-1\", \"Operation\": \"training\", \"Algorithm\": \"AWS/DeepAR\"}, \"StartTime\": 1529295304.168748}\n",
      "\u001b[0m\n",
      "\u001b[31m[06/18/2018 04:15:04 INFO 140163425154880] Epoch[11] Batch[0] avg_epoch_loss=13.407147\u001b[0m\n",
      "\u001b[31m[06/18/2018 04:15:04 INFO 140163425154880] Epoch[11] Batch[5] avg_epoch_loss=13.399564\u001b[0m\n",
      "\u001b[31m[06/18/2018 04:15:04 INFO 140163425154880] Epoch[11] Batch [5]#011Speed: 316.26 samples/sec#011loss=13.399564\u001b[0m\n",
      "\u001b[31m[06/18/2018 04:15:05 INFO 140163425154880] processed a total of 312 examples\u001b[0m\n",
      "\u001b[31m#metrics {\"Metrics\": {\"update.time\": {\"count\": 1, \"max\": 1083.9459896087646, \"sum\": 1083.9459896087646, \"min\": 1083.9459896087646}}, \"EndTime\": 1529295305.299108, \"Dimensions\": {\"Host\": \"algo-1\", \"Operation\": \"training\", \"Algorithm\": \"AWS/DeepAR\"}, \"StartTime\": 1529295304.196156}\n",
      "\u001b[0m\n",
      "\u001b[31m[06/18/2018 04:15:05 INFO 140163425154880] #throughput_metric: host=algo-1, train throughput=287.796326625 records/second\u001b[0m\n",
      "\u001b[31m[06/18/2018 04:15:05 INFO 140163425154880] #progress_metric: host=algo-1, completed 24 % of epochs\u001b[0m\n",
      "\u001b[31m[06/18/2018 04:15:05 INFO 140163425154880] best epoch loss so far\u001b[0m\n",
      "\u001b[31m[06/18/2018 04:15:05 INFO 140163425154880] Saved checkpoint to \"/opt/ml/model/state_62e018b6-4d92-4aef-b23f-bd2be2d4022e-0000.params\"\u001b[0m\n",
      "\u001b[31m#metrics {\"Metrics\": {\"state.serialize.time\": {\"count\": 1, \"max\": 37.57190704345703, \"sum\": 37.57190704345703, \"min\": 37.57190704345703}}, \"EndTime\": 1529295305.337198, \"Dimensions\": {\"Host\": \"algo-1\", \"Operation\": \"training\", \"Algorithm\": \"AWS/DeepAR\"}, \"StartTime\": 1529295305.299226}\n",
      "\u001b[0m\n",
      "\u001b[31m[06/18/2018 04:15:05 INFO 140163425154880] Epoch[12] Batch[0] avg_epoch_loss=13.402860\u001b[0m\n"
     ]
    },
    {
     "name": "stdout",
     "output_type": "stream",
     "text": [
      "\u001b[31m[06/18/2018 04:15:05 INFO 140163425154880] Epoch[12] Batch[5] avg_epoch_loss=13.361826\u001b[0m\n",
      "\u001b[31m[06/18/2018 04:15:05 INFO 140163425154880] Epoch[12] Batch [5]#011Speed: 306.63 samples/sec#011loss=13.361826\u001b[0m\n",
      "\u001b[31m[06/18/2018 04:15:06 INFO 140163425154880] Epoch[12] Batch[10] avg_epoch_loss=13.355824\u001b[0m\n",
      "\u001b[31m[06/18/2018 04:15:06 INFO 140163425154880] Epoch[12] Batch [10]#011Speed: 334.59 samples/sec#011loss=13.348620\u001b[0m\n",
      "\u001b[31m[06/18/2018 04:15:06 INFO 140163425154880] processed a total of 329 examples\u001b[0m\n",
      "\u001b[31m#metrics {\"Metrics\": {\"update.time\": {\"count\": 1, \"max\": 1084.547996520996, \"sum\": 1084.547996520996, \"min\": 1084.547996520996}}, \"EndTime\": 1529295306.441253, \"Dimensions\": {\"Host\": \"algo-1\", \"Operation\": \"training\", \"Algorithm\": \"AWS/DeepAR\"}, \"StartTime\": 1529295305.337267}\n",
      "\u001b[0m\n",
      "\u001b[31m[06/18/2018 04:15:06 INFO 140163425154880] #throughput_metric: host=algo-1, train throughput=303.318907914 records/second\u001b[0m\n",
      "\u001b[31m[06/18/2018 04:15:06 INFO 140163425154880] #progress_metric: host=algo-1, completed 26 % of epochs\u001b[0m\n",
      "\u001b[31m[06/18/2018 04:15:06 INFO 140163425154880] best epoch loss so far\u001b[0m\n",
      "\u001b[31m[06/18/2018 04:15:06 INFO 140163425154880] Saved checkpoint to \"/opt/ml/model/state_805ce630-2283-4bf1-bb11-ef95261c5975-0000.params\"\u001b[0m\n",
      "\u001b[31m#metrics {\"Metrics\": {\"state.serialize.time\": {\"count\": 1, \"max\": 26.607036590576172, \"sum\": 26.607036590576172, \"min\": 26.607036590576172}}, \"EndTime\": 1529295306.468342, \"Dimensions\": {\"Host\": \"algo-1\", \"Operation\": \"training\", \"Algorithm\": \"AWS/DeepAR\"}, \"StartTime\": 1529295306.441335}\n",
      "\u001b[0m\n",
      "\u001b[31m[06/18/2018 04:15:06 INFO 140163425154880] Epoch[13] Batch[0] avg_epoch_loss=13.228210\u001b[0m\n",
      "\u001b[31m[06/18/2018 04:15:07 INFO 140163425154880] Epoch[13] Batch[5] avg_epoch_loss=13.233733\u001b[0m\n",
      "\u001b[31m[06/18/2018 04:15:07 INFO 140163425154880] Epoch[13] Batch [5]#011Speed: 306.88 samples/sec#011loss=13.233733\u001b[0m\n",
      "\u001b[31m[06/18/2018 04:15:07 INFO 140163425154880] Epoch[13] Batch[10] avg_epoch_loss=13.208962\u001b[0m\n",
      "\u001b[31m[06/18/2018 04:15:07 INFO 140163425154880] Epoch[13] Batch [10]#011Speed: 356.81 samples/sec#011loss=13.179237\u001b[0m\n",
      "\u001b[31m[06/18/2018 04:15:07 INFO 140163425154880] processed a total of 322 examples\u001b[0m\n",
      "\u001b[31m#metrics {\"Metrics\": {\"update.time\": {\"count\": 1, \"max\": 1087.8009796142578, \"sum\": 1087.8009796142578, \"min\": 1087.8009796142578}}, \"EndTime\": 1529295307.576739, \"Dimensions\": {\"Host\": \"algo-1\", \"Operation\": \"training\", \"Algorithm\": \"AWS/DeepAR\"}, \"StartTime\": 1529295306.468415}\n",
      "\u001b[0m\n",
      "\u001b[31m[06/18/2018 04:15:07 INFO 140163425154880] #throughput_metric: host=algo-1, train throughput=295.977918341 records/second\u001b[0m\n",
      "\u001b[31m[06/18/2018 04:15:07 INFO 140163425154880] #progress_metric: host=algo-1, completed 28 % of epochs\u001b[0m\n",
      "\u001b[31m[06/18/2018 04:15:07 INFO 140163425154880] best epoch loss so far\u001b[0m\n",
      "\u001b[31m[06/18/2018 04:15:07 INFO 140163425154880] Saved checkpoint to \"/opt/ml/model/state_5f67f527-758b-4c1e-baed-ebaca19fed87-0000.params\"\u001b[0m\n",
      "\u001b[31m#metrics {\"Metrics\": {\"state.serialize.time\": {\"count\": 1, \"max\": 26.337862014770508, \"sum\": 26.337862014770508, \"min\": 26.337862014770508}}, \"EndTime\": 1529295307.603579, \"Dimensions\": {\"Host\": \"algo-1\", \"Operation\": \"training\", \"Algorithm\": \"AWS/DeepAR\"}, \"StartTime\": 1529295307.576818}\n",
      "\u001b[0m\n",
      "\u001b[31m[06/18/2018 04:15:07 INFO 140163425154880] Epoch[14] Batch[0] avg_epoch_loss=13.214132\u001b[0m\n",
      "\u001b[31m[06/18/2018 04:15:08 INFO 140163425154880] Epoch[14] Batch[5] avg_epoch_loss=13.234381\u001b[0m\n",
      "\u001b[31m[06/18/2018 04:15:08 INFO 140163425154880] Epoch[14] Batch [5]#011Speed: 308.61 samples/sec#011loss=13.234381\u001b[0m\n",
      "\u001b[31m[06/18/2018 04:15:08 INFO 140163425154880] Epoch[14] Batch[10] avg_epoch_loss=13.246090\u001b[0m\n",
      "\u001b[31m[06/18/2018 04:15:08 INFO 140163425154880] Epoch[14] Batch [10]#011Speed: 349.65 samples/sec#011loss=13.260140\u001b[0m\n",
      "\u001b[31m[06/18/2018 04:15:08 INFO 140163425154880] processed a total of 323 examples\u001b[0m\n",
      "\u001b[31m#metrics {\"Metrics\": {\"update.time\": {\"count\": 1, \"max\": 1057.0051670074463, \"sum\": 1057.0051670074463, \"min\": 1057.0051670074463}}, \"EndTime\": 1529295308.67949, \"Dimensions\": {\"Host\": \"algo-1\", \"Operation\": \"training\", \"Algorithm\": \"AWS/DeepAR\"}, \"StartTime\": 1529295307.603649}\n",
      "\u001b[0m\n",
      "\u001b[31m[06/18/2018 04:15:08 INFO 140163425154880] #throughput_metric: host=algo-1, train throughput=305.545675324 records/second\u001b[0m\n",
      "\u001b[31m[06/18/2018 04:15:08 INFO 140163425154880] #progress_metric: host=algo-1, completed 30 % of epochs\u001b[0m\n",
      "\u001b[31m[06/18/2018 04:15:08 INFO 140163425154880] loss did not improve for 1 epochs\u001b[0m\n",
      "\u001b[31m[06/18/2018 04:15:08 INFO 140163425154880] Epoch[15] Batch[0] avg_epoch_loss=13.092116\u001b[0m\n",
      "\u001b[31m[06/18/2018 04:15:09 INFO 140163425154880] Epoch[15] Batch[5] avg_epoch_loss=13.162423\u001b[0m\n",
      "\u001b[31m[06/18/2018 04:15:09 INFO 140163425154880] Epoch[15] Batch [5]#011Speed: 312.41 samples/sec#011loss=13.162423\u001b[0m\n",
      "\u001b[31m[06/18/2018 04:15:09 INFO 140163425154880] Epoch[15] Batch[10] avg_epoch_loss=13.164466\u001b[0m\n",
      "\u001b[31m[06/18/2018 04:15:09 INFO 140163425154880] Epoch[15] Batch [10]#011Speed: 349.85 samples/sec#011loss=13.166917\u001b[0m\n",
      "\u001b[31m[06/18/2018 04:15:09 INFO 140163425154880] processed a total of 326 examples\u001b[0m\n",
      "\u001b[31m#metrics {\"Metrics\": {\"update.time\": {\"count\": 1, \"max\": 1050.8489608764648, \"sum\": 1050.8489608764648, \"min\": 1050.8489608764648}}, \"EndTime\": 1529295309.749655, \"Dimensions\": {\"Host\": \"algo-1\", \"Operation\": \"training\", \"Algorithm\": \"AWS/DeepAR\"}, \"StartTime\": 1529295308.679572}\n",
      "\u001b[0m\n",
      "\u001b[31m[06/18/2018 04:15:09 INFO 140163425154880] #throughput_metric: host=algo-1, train throughput=310.19052625 records/second\u001b[0m\n",
      "\u001b[31m[06/18/2018 04:15:09 INFO 140163425154880] #progress_metric: host=algo-1, completed 32 % of epochs\u001b[0m\n",
      "\u001b[31m[06/18/2018 04:15:09 INFO 140163425154880] best epoch loss so far\u001b[0m\n",
      "\u001b[31m[06/18/2018 04:15:09 INFO 140163425154880] Saved checkpoint to \"/opt/ml/model/state_4c4592b1-da3f-4b69-9fbe-325c930ff0e7-0000.params\"\u001b[0m\n",
      "\u001b[31m#metrics {\"Metrics\": {\"state.serialize.time\": {\"count\": 1, \"max\": 25.62713623046875, \"sum\": 25.62713623046875, \"min\": 25.62713623046875}}, \"EndTime\": 1529295309.775759, \"Dimensions\": {\"Host\": \"algo-1\", \"Operation\": \"training\", \"Algorithm\": \"AWS/DeepAR\"}, \"StartTime\": 1529295309.749735}\n",
      "\u001b[0m\n",
      "\u001b[31m[06/18/2018 04:15:09 INFO 140163425154880] Epoch[16] Batch[0] avg_epoch_loss=13.103957\u001b[0m\n",
      "\u001b[31m[06/18/2018 04:15:10 INFO 140163425154880] Epoch[16] Batch[5] avg_epoch_loss=13.194216\u001b[0m\n",
      "\u001b[31m[06/18/2018 04:15:10 INFO 140163425154880] Epoch[16] Batch [5]#011Speed: 323.90 samples/sec#011loss=13.194216\u001b[0m\n",
      "\u001b[31m[06/18/2018 04:15:10 INFO 140163425154880] processed a total of 306 examples\u001b[0m\n",
      "\u001b[31m#metrics {\"Metrics\": {\"update.time\": {\"count\": 1, \"max\": 932.715892791748, \"sum\": 932.715892791748, \"min\": 932.715892791748}}, \"EndTime\": 1529295310.724282, \"Dimensions\": {\"Host\": \"algo-1\", \"Operation\": \"training\", \"Algorithm\": \"AWS/DeepAR\"}, \"StartTime\": 1529295309.775824}\n",
      "\u001b[0m\n",
      "\u001b[31m[06/18/2018 04:15:10 INFO 140163425154880] #throughput_metric: host=algo-1, train throughput=328.040385462 records/second\u001b[0m\n",
      "\u001b[31m[06/18/2018 04:15:10 INFO 140163425154880] #progress_metric: host=algo-1, completed 34 % of epochs\u001b[0m\n",
      "\u001b[31m[06/18/2018 04:15:10 INFO 140163425154880] loss did not improve for 1 epochs\u001b[0m\n",
      "\u001b[31m[06/18/2018 04:15:10 INFO 140163425154880] Epoch[17] Batch[0] avg_epoch_loss=13.215448\u001b[0m\n",
      "\u001b[31m[06/18/2018 04:15:11 INFO 140163425154880] Epoch[17] Batch[5] avg_epoch_loss=13.175507\u001b[0m\n",
      "\u001b[31m[06/18/2018 04:15:11 INFO 140163425154880] Epoch[17] Batch [5]#011Speed: 316.76 samples/sec#011loss=13.175507\u001b[0m\n",
      "\u001b[31m[06/18/2018 04:15:11 INFO 140163425154880] processed a total of 280 examples\u001b[0m\n",
      "\u001b[31m#metrics {\"Metrics\": {\"update.time\": {\"count\": 1, \"max\": 898.7278938293457, \"sum\": 898.7278938293457, \"min\": 898.7278938293457}}, \"EndTime\": 1529295311.638629, \"Dimensions\": {\"Host\": \"algo-1\", \"Operation\": \"training\", \"Algorithm\": \"AWS/DeepAR\"}, \"StartTime\": 1529295310.724345}\n",
      "\u001b[0m\n",
      "\u001b[31m[06/18/2018 04:15:11 INFO 140163425154880] #throughput_metric: host=algo-1, train throughput=311.512302879 records/second\u001b[0m\n",
      "\u001b[31m[06/18/2018 04:15:11 INFO 140163425154880] #progress_metric: host=algo-1, completed 36 % of epochs\u001b[0m\n",
      "\u001b[31m[06/18/2018 04:15:11 INFO 140163425154880] best epoch loss so far\u001b[0m\n",
      "\u001b[31m[06/18/2018 04:15:11 INFO 140163425154880] Saved checkpoint to \"/opt/ml/model/state_f01195b7-c493-4392-be1e-4b0283f810bc-0000.params\"\u001b[0m\n",
      "\u001b[31m#metrics {\"Metrics\": {\"state.serialize.time\": {\"count\": 1, \"max\": 26.352882385253906, \"sum\": 26.352882385253906, \"min\": 26.352882385253906}}, \"EndTime\": 1529295311.665425, \"Dimensions\": {\"Host\": \"algo-1\", \"Operation\": \"training\", \"Algorithm\": \"AWS/DeepAR\"}, \"StartTime\": 1529295311.638706}\n",
      "\u001b[0m\n",
      "\u001b[31m[06/18/2018 04:15:11 INFO 140163425154880] Epoch[18] Batch[0] avg_epoch_loss=13.127731\u001b[0m\n",
      "\u001b[31m[06/18/2018 04:15:12 INFO 140163425154880] Epoch[18] Batch[5] avg_epoch_loss=13.062415\u001b[0m\n",
      "\u001b[31m[06/18/2018 04:15:12 INFO 140163425154880] Epoch[18] Batch [5]#011Speed: 327.02 samples/sec#011loss=13.062415\u001b[0m\n",
      "\u001b[31m[06/18/2018 04:15:12 INFO 140163425154880] processed a total of 315 examples\u001b[0m\n",
      "\u001b[31m#metrics {\"Metrics\": {\"update.time\": {\"count\": 1, \"max\": 977.2658348083496, \"sum\": 977.2658348083496, \"min\": 977.2658348083496}}, \"EndTime\": 1529295312.661039, \"Dimensions\": {\"Host\": \"algo-1\", \"Operation\": \"training\", \"Algorithm\": \"AWS/DeepAR\"}, \"StartTime\": 1529295311.665487}\n",
      "\u001b[0m\n",
      "\u001b[31m[06/18/2018 04:15:12 INFO 140163425154880] #throughput_metric: host=algo-1, train throughput=322.294830669 records/second\u001b[0m\n",
      "\u001b[31m[06/18/2018 04:15:12 INFO 140163425154880] #progress_metric: host=algo-1, completed 38 % of epochs\u001b[0m\n",
      "\u001b[31m[06/18/2018 04:15:12 INFO 140163425154880] best epoch loss so far\u001b[0m\n",
      "\u001b[31m[06/18/2018 04:15:12 INFO 140163425154880] Saved checkpoint to \"/opt/ml/model/state_33bc3d80-d895-47e4-aaa7-214f8c1a85ae-0000.params\"\u001b[0m\n",
      "\u001b[31m#metrics {\"Metrics\": {\"state.serialize.time\": {\"count\": 1, \"max\": 26.499032974243164, \"sum\": 26.499032974243164, \"min\": 26.499032974243164}}, \"EndTime\": 1529295312.68796, \"Dimensions\": {\"Host\": \"algo-1\", \"Operation\": \"training\", \"Algorithm\": \"AWS/DeepAR\"}, \"StartTime\": 1529295312.661106}\n",
      "\u001b[0m\n",
      "\u001b[31m[06/18/2018 04:15:12 INFO 140163425154880] Epoch[19] Batch[0] avg_epoch_loss=13.037738\u001b[0m\n",
      "\u001b[31m[06/18/2018 04:15:13 INFO 140163425154880] Epoch[19] Batch[5] avg_epoch_loss=13.121933\u001b[0m\n",
      "\u001b[31m[06/18/2018 04:15:13 INFO 140163425154880] Epoch[19] Batch [5]#011Speed: 300.09 samples/sec#011loss=13.121933\u001b[0m\n",
      "\u001b[31m[06/18/2018 04:15:13 INFO 140163425154880] processed a total of 304 examples\u001b[0m\n",
      "\u001b[31m#metrics {\"Metrics\": {\"update.time\": {\"count\": 1, \"max\": 1006.6549777984619, \"sum\": 1006.6549777984619, \"min\": 1006.6549777984619}}, \"EndTime\": 1529295313.712244, \"Dimensions\": {\"Host\": \"algo-1\", \"Operation\": \"training\", \"Algorithm\": \"AWS/DeepAR\"}, \"StartTime\": 1529295312.68803}\n",
      "\u001b[0m\n",
      "\u001b[31m[06/18/2018 04:15:13 INFO 140163425154880] #throughput_metric: host=algo-1, train throughput=301.955147266 records/second\u001b[0m\n",
      "\u001b[31m[06/18/2018 04:15:13 INFO 140163425154880] #progress_metric: host=algo-1, completed 40 % of epochs\u001b[0m\n",
      "\u001b[31m[06/18/2018 04:15:13 INFO 140163425154880] loss did not improve for 1 epochs\u001b[0m\n",
      "\u001b[31m[06/18/2018 04:15:13 INFO 140163425154880] Epoch[20] Batch[0] avg_epoch_loss=13.017207\u001b[0m\n",
      "\u001b[31m[06/18/2018 04:15:14 INFO 140163425154880] Epoch[20] Batch[5] avg_epoch_loss=12.991671\u001b[0m\n",
      "\u001b[31m[06/18/2018 04:15:14 INFO 140163425154880] Epoch[20] Batch [5]#011Speed: 324.79 samples/sec#011loss=12.991671\u001b[0m\n",
      "\u001b[31m[06/18/2018 04:15:14 INFO 140163425154880] Epoch[20] Batch[10] avg_epoch_loss=12.965787\u001b[0m\n",
      "\u001b[31m[06/18/2018 04:15:14 INFO 140163425154880] Epoch[20] Batch [10]#011Speed: 337.10 samples/sec#011loss=12.934726\u001b[0m\n",
      "\u001b[31m[06/18/2018 04:15:14 INFO 140163425154880] processed a total of 326 examples\u001b[0m\n",
      "\u001b[31m#metrics {\"Metrics\": {\"update.time\": {\"count\": 1, \"max\": 1047.105073928833, \"sum\": 1047.105073928833, \"min\": 1047.105073928833}}, \"EndTime\": 1529295314.776509, \"Dimensions\": {\"Host\": \"algo-1\", \"Operation\": \"training\", \"Algorithm\": \"AWS/DeepAR\"}, \"StartTime\": 1529295313.71232}\n",
      "\u001b[0m\n",
      "\u001b[31m[06/18/2018 04:15:14 INFO 140163425154880] #throughput_metric: host=algo-1, train throughput=311.302524014 records/second\u001b[0m\n",
      "\u001b[31m[06/18/2018 04:15:14 INFO 140163425154880] #progress_metric: host=algo-1, completed 42 % of epochs\u001b[0m\n",
      "\u001b[31m[06/18/2018 04:15:14 INFO 140163425154880] best epoch loss so far\u001b[0m\n",
      "\u001b[31m[06/18/2018 04:15:14 INFO 140163425154880] Saved checkpoint to \"/opt/ml/model/state_9b2970b2-0c94-40e3-bd9c-e139503f97a5-0000.params\"\u001b[0m\n",
      "\u001b[31m#metrics {\"Metrics\": {\"state.serialize.time\": {\"count\": 1, \"max\": 37.91403770446777, \"sum\": 37.91403770446777, \"min\": 37.91403770446777}}, \"EndTime\": 1529295314.814831, \"Dimensions\": {\"Host\": \"algo-1\", \"Operation\": \"training\", \"Algorithm\": \"AWS/DeepAR\"}, \"StartTime\": 1529295314.776584}\n",
      "\u001b[0m\n",
      "\u001b[31m[06/18/2018 04:15:14 INFO 140163425154880] Epoch[21] Batch[0] avg_epoch_loss=12.926404\u001b[0m\n",
      "\u001b[31m[06/18/2018 04:15:15 INFO 140163425154880] Epoch[21] Batch[5] avg_epoch_loss=13.004176\u001b[0m\n",
      "\u001b[31m[06/18/2018 04:15:15 INFO 140163425154880] Epoch[21] Batch [5]#011Speed: 284.35 samples/sec#011loss=13.004176\u001b[0m\n"
     ]
    },
    {
     "name": "stdout",
     "output_type": "stream",
     "text": [
      "\u001b[31m[06/18/2018 04:15:15 INFO 140163425154880] processed a total of 319 examples\u001b[0m\n",
      "\u001b[31m#metrics {\"Metrics\": {\"update.time\": {\"count\": 1, \"max\": 1002.5811195373535, \"sum\": 1002.5811195373535, \"min\": 1002.5811195373535}}, \"EndTime\": 1529295315.837882, \"Dimensions\": {\"Host\": \"algo-1\", \"Operation\": \"training\", \"Algorithm\": \"AWS/DeepAR\"}, \"StartTime\": 1529295314.814902}\n",
      "\u001b[0m\n",
      "\u001b[31m[06/18/2018 04:15:15 INFO 140163425154880] #throughput_metric: host=algo-1, train throughput=318.146739799 records/second\u001b[0m\n",
      "\u001b[31m[06/18/2018 04:15:15 INFO 140163425154880] #progress_metric: host=algo-1, completed 44 % of epochs\u001b[0m\n",
      "\u001b[31m[06/18/2018 04:15:15 INFO 140163425154880] loss did not improve for 1 epochs\u001b[0m\n",
      "\u001b[31m[06/18/2018 04:15:15 INFO 140163425154880] Epoch[22] Batch[0] avg_epoch_loss=12.883921\u001b[0m\n",
      "\u001b[31m[06/18/2018 04:15:16 INFO 140163425154880] Epoch[22] Batch[5] avg_epoch_loss=12.923693\u001b[0m\n",
      "\u001b[31m[06/18/2018 04:15:16 INFO 140163425154880] Epoch[22] Batch [5]#011Speed: 318.43 samples/sec#011loss=12.923693\u001b[0m\n",
      "\u001b[31m[06/18/2018 04:15:16 INFO 140163425154880] Epoch[22] Batch[10] avg_epoch_loss=12.877258\u001b[0m\n",
      "\u001b[31m[06/18/2018 04:15:16 INFO 140163425154880] Epoch[22] Batch [10]#011Speed: 336.06 samples/sec#011loss=12.821536\u001b[0m\n",
      "\u001b[31m[06/18/2018 04:15:16 INFO 140163425154880] processed a total of 335 examples\u001b[0m\n",
      "\u001b[31m#metrics {\"Metrics\": {\"update.time\": {\"count\": 1, \"max\": 1076.4870643615723, \"sum\": 1076.4870643615723, \"min\": 1076.4870643615723}}, \"EndTime\": 1529295316.930946, \"Dimensions\": {\"Host\": \"algo-1\", \"Operation\": \"training\", \"Algorithm\": \"AWS/DeepAR\"}, \"StartTime\": 1529295315.837949}\n",
      "\u001b[0m\n",
      "\u001b[31m[06/18/2018 04:15:16 INFO 140163425154880] #throughput_metric: host=algo-1, train throughput=311.164756395 records/second\u001b[0m\n",
      "\u001b[31m[06/18/2018 04:15:16 INFO 140163425154880] #progress_metric: host=algo-1, completed 46 % of epochs\u001b[0m\n",
      "\u001b[31m[06/18/2018 04:15:16 INFO 140163425154880] best epoch loss so far\u001b[0m\n",
      "\u001b[31m[06/18/2018 04:15:16 INFO 140163425154880] Saved checkpoint to \"/opt/ml/model/state_fa6dacf9-16cc-4220-95f6-ad296b6801aa-0000.params\"\u001b[0m\n",
      "\u001b[31m#metrics {\"Metrics\": {\"state.serialize.time\": {\"count\": 1, \"max\": 37.09292411804199, \"sum\": 37.09292411804199, \"min\": 37.09292411804199}}, \"EndTime\": 1529295316.968447, \"Dimensions\": {\"Host\": \"algo-1\", \"Operation\": \"training\", \"Algorithm\": \"AWS/DeepAR\"}, \"StartTime\": 1529295316.931023}\n",
      "\u001b[0m\n",
      "\u001b[31m[06/18/2018 04:15:17 INFO 140163425154880] Epoch[23] Batch[0] avg_epoch_loss=12.732528\u001b[0m\n",
      "\u001b[31m[06/18/2018 04:15:17 INFO 140163425154880] Epoch[23] Batch[5] avg_epoch_loss=12.993546\u001b[0m\n",
      "\u001b[31m[06/18/2018 04:15:17 INFO 140163425154880] Epoch[23] Batch [5]#011Speed: 290.09 samples/sec#011loss=12.993546\u001b[0m\n",
      "\u001b[31m[06/18/2018 04:15:18 INFO 140163425154880] Epoch[23] Batch[10] avg_epoch_loss=12.970298\u001b[0m\n",
      "\u001b[31m[06/18/2018 04:15:18 INFO 140163425154880] Epoch[23] Batch [10]#011Speed: 334.44 samples/sec#011loss=12.942401\u001b[0m\n",
      "\u001b[31m[06/18/2018 04:15:18 INFO 140163425154880] processed a total of 324 examples\u001b[0m\n",
      "\u001b[31m#metrics {\"Metrics\": {\"update.time\": {\"count\": 1, \"max\": 1111.5269660949707, \"sum\": 1111.5269660949707, \"min\": 1111.5269660949707}}, \"EndTime\": 1529295318.09876, \"Dimensions\": {\"Host\": \"algo-1\", \"Operation\": \"training\", \"Algorithm\": \"AWS/DeepAR\"}, \"StartTime\": 1529295316.968522}\n",
      "\u001b[0m\n",
      "\u001b[31m[06/18/2018 04:15:18 INFO 140163425154880] #throughput_metric: host=algo-1, train throughput=291.462083245 records/second\u001b[0m\n",
      "\u001b[31m[06/18/2018 04:15:18 INFO 140163425154880] #progress_metric: host=algo-1, completed 48 % of epochs\u001b[0m\n",
      "\u001b[31m[06/18/2018 04:15:18 INFO 140163425154880] loss did not improve for 1 epochs\u001b[0m\n",
      "\u001b[31m[06/18/2018 04:15:18 INFO 140163425154880] Epoch[24] Batch[0] avg_epoch_loss=13.007299\u001b[0m\n",
      "\u001b[31m[06/18/2018 04:15:18 INFO 140163425154880] Epoch[24] Batch[5] avg_epoch_loss=12.939325\u001b[0m\n",
      "\u001b[31m[06/18/2018 04:15:18 INFO 140163425154880] Epoch[24] Batch [5]#011Speed: 308.64 samples/sec#011loss=12.939325\u001b[0m\n",
      "\u001b[31m[06/18/2018 04:15:19 INFO 140163425154880] processed a total of 303 examples\u001b[0m\n",
      "\u001b[31m#metrics {\"Metrics\": {\"update.time\": {\"count\": 1, \"max\": 964.7319316864014, \"sum\": 964.7319316864014, \"min\": 964.7319316864014}}, \"EndTime\": 1529295319.084369, \"Dimensions\": {\"Host\": \"algo-1\", \"Operation\": \"training\", \"Algorithm\": \"AWS/DeepAR\"}, \"StartTime\": 1529295318.098836}\n",
      "\u001b[0m\n",
      "\u001b[31m[06/18/2018 04:15:19 INFO 140163425154880] #throughput_metric: host=algo-1, train throughput=314.038080209 records/second\u001b[0m\n",
      "\u001b[31m[06/18/2018 04:15:19 INFO 140163425154880] #progress_metric: host=algo-1, completed 50 % of epochs\u001b[0m\n",
      "\u001b[31m[06/18/2018 04:15:19 INFO 140163425154880] loss did not improve for 2 epochs\u001b[0m\n",
      "\u001b[31m[06/18/2018 04:15:19 INFO 140163425154880] Epoch[25] Batch[0] avg_epoch_loss=12.878876\u001b[0m\n",
      "\u001b[31m[06/18/2018 04:15:19 INFO 140163425154880] Epoch[25] Batch[5] avg_epoch_loss=12.840088\u001b[0m\n",
      "\u001b[31m[06/18/2018 04:15:19 INFO 140163425154880] Epoch[25] Batch [5]#011Speed: 316.67 samples/sec#011loss=12.840088\u001b[0m\n",
      "\u001b[31m[06/18/2018 04:15:20 INFO 140163425154880] Epoch[25] Batch[10] avg_epoch_loss=12.861063\u001b[0m\n",
      "\u001b[31m[06/18/2018 04:15:20 INFO 140163425154880] Epoch[25] Batch [10]#011Speed: 340.42 samples/sec#011loss=12.886232\u001b[0m\n",
      "\u001b[31m[06/18/2018 04:15:20 INFO 140163425154880] processed a total of 335 examples\u001b[0m\n",
      "\u001b[31m#metrics {\"Metrics\": {\"update.time\": {\"count\": 1, \"max\": 1055.143117904663, \"sum\": 1055.143117904663, \"min\": 1055.143117904663}}, \"EndTime\": 1529295320.156713, \"Dimensions\": {\"Host\": \"algo-1\", \"Operation\": \"training\", \"Algorithm\": \"AWS/DeepAR\"}, \"StartTime\": 1529295319.084448}\n",
      "\u001b[0m\n",
      "\u001b[31m[06/18/2018 04:15:20 INFO 140163425154880] #throughput_metric: host=algo-1, train throughput=317.461844936 records/second\u001b[0m\n",
      "\u001b[31m[06/18/2018 04:15:20 INFO 140163425154880] #progress_metric: host=algo-1, completed 52 % of epochs\u001b[0m\n",
      "\u001b[31m[06/18/2018 04:15:20 INFO 140163425154880] best epoch loss so far\u001b[0m\n",
      "\u001b[31m[06/18/2018 04:15:20 INFO 140163425154880] Saved checkpoint to \"/opt/ml/model/state_2912395c-2cdd-454a-9a05-64ca6214542c-0000.params\"\u001b[0m\n",
      "\u001b[31m#metrics {\"Metrics\": {\"state.serialize.time\": {\"count\": 1, \"max\": 27.083158493041992, \"sum\": 27.083158493041992, \"min\": 27.083158493041992}}, \"EndTime\": 1529295320.184274, \"Dimensions\": {\"Host\": \"algo-1\", \"Operation\": \"training\", \"Algorithm\": \"AWS/DeepAR\"}, \"StartTime\": 1529295320.15678}\n",
      "\u001b[0m\n",
      "\u001b[31m[06/18/2018 04:15:20 INFO 140163425154880] Epoch[26] Batch[0] avg_epoch_loss=12.830276\u001b[0m\n",
      "\u001b[31m[06/18/2018 04:15:20 INFO 140163425154880] Epoch[26] Batch[5] avg_epoch_loss=12.886859\u001b[0m\n",
      "\u001b[31m[06/18/2018 04:15:20 INFO 140163425154880] Epoch[26] Batch [5]#011Speed: 304.94 samples/sec#011loss=12.886859\u001b[0m\n",
      "\u001b[31m[06/18/2018 04:15:21 INFO 140163425154880] Epoch[26] Batch[10] avg_epoch_loss=12.897464\u001b[0m\n",
      "\u001b[31m[06/18/2018 04:15:21 INFO 140163425154880] Epoch[26] Batch [10]#011Speed: 339.47 samples/sec#011loss=12.910190\u001b[0m\n",
      "\u001b[31m[06/18/2018 04:15:21 INFO 140163425154880] processed a total of 323 examples\u001b[0m\n",
      "\u001b[31m#metrics {\"Metrics\": {\"update.time\": {\"count\": 1, \"max\": 1077.558994293213, \"sum\": 1077.558994293213, \"min\": 1077.558994293213}}, \"EndTime\": 1529295321.279088, \"Dimensions\": {\"Host\": \"algo-1\", \"Operation\": \"training\", \"Algorithm\": \"AWS/DeepAR\"}, \"StartTime\": 1529295320.184343}\n",
      "\u001b[0m\n",
      "\u001b[31m[06/18/2018 04:15:21 INFO 140163425154880] #throughput_metric: host=algo-1, train throughput=299.716754477 records/second\u001b[0m\n",
      "\u001b[31m[06/18/2018 04:15:21 INFO 140163425154880] #progress_metric: host=algo-1, completed 54 % of epochs\u001b[0m\n",
      "\u001b[31m[06/18/2018 04:15:21 INFO 140163425154880] loss did not improve for 1 epochs\u001b[0m\n",
      "\u001b[31m[06/18/2018 04:15:21 INFO 140163425154880] Epoch[27] Batch[0] avg_epoch_loss=12.813279\u001b[0m\n",
      "\u001b[31m[06/18/2018 04:15:21 INFO 140163425154880] Epoch[27] Batch[5] avg_epoch_loss=12.901632\u001b[0m\n",
      "\u001b[31m[06/18/2018 04:15:21 INFO 140163425154880] Epoch[27] Batch [5]#011Speed: 322.45 samples/sec#011loss=12.901632\u001b[0m\n",
      "\u001b[31m[06/18/2018 04:15:22 INFO 140163425154880] Epoch[27] Batch[10] avg_epoch_loss=12.871911\u001b[0m\n",
      "\u001b[31m[06/18/2018 04:15:22 INFO 140163425154880] Epoch[27] Batch [10]#011Speed: 360.25 samples/sec#011loss=12.836246\u001b[0m\n",
      "\u001b[31m[06/18/2018 04:15:22 INFO 140163425154880] processed a total of 337 examples\u001b[0m\n",
      "\u001b[31m#metrics {\"Metrics\": {\"update.time\": {\"count\": 1, \"max\": 1036.9629859924316, \"sum\": 1036.9629859924316, \"min\": 1036.9629859924316}}, \"EndTime\": 1529295322.33511, \"Dimensions\": {\"Host\": \"algo-1\", \"Operation\": \"training\", \"Algorithm\": \"AWS/DeepAR\"}, \"StartTime\": 1529295321.279178}\n",
      "\u001b[0m\n",
      "\u001b[31m[06/18/2018 04:15:22 INFO 140163425154880] #throughput_metric: host=algo-1, train throughput=324.95177911 records/second\u001b[0m\n",
      "\u001b[31m[06/18/2018 04:15:22 INFO 140163425154880] #progress_metric: host=algo-1, completed 56 % of epochs\u001b[0m\n",
      "\u001b[31m[06/18/2018 04:15:22 INFO 140163425154880] loss did not improve for 2 epochs\u001b[0m\n",
      "\u001b[31m[06/18/2018 04:15:22 INFO 140163425154880] Epoch[28] Batch[0] avg_epoch_loss=13.052170\u001b[0m\n",
      "\u001b[31m[06/18/2018 04:15:22 INFO 140163425154880] Epoch[28] Batch[5] avg_epoch_loss=12.948673\u001b[0m\n",
      "\u001b[31m[06/18/2018 04:15:22 INFO 140163425154880] Epoch[28] Batch [5]#011Speed: 333.94 samples/sec#011loss=12.948673\u001b[0m\n",
      "\u001b[31m[06/18/2018 04:15:23 INFO 140163425154880] processed a total of 314 examples\u001b[0m\n",
      "\u001b[31m#metrics {\"Metrics\": {\"update.time\": {\"count\": 1, \"max\": 902.691125869751, \"sum\": 902.691125869751, \"min\": 902.691125869751}}, \"EndTime\": 1529295323.253006, \"Dimensions\": {\"Host\": \"algo-1\", \"Operation\": \"training\", \"Algorithm\": \"AWS/DeepAR\"}, \"StartTime\": 1529295322.335186}\n",
      "\u001b[0m\n",
      "\u001b[31m[06/18/2018 04:15:23 INFO 140163425154880] #throughput_metric: host=algo-1, train throughput=347.808444515 records/second\u001b[0m\n",
      "\u001b[31m[06/18/2018 04:15:23 INFO 140163425154880] #progress_metric: host=algo-1, completed 58 % of epochs\u001b[0m\n",
      "\u001b[31m[06/18/2018 04:15:23 INFO 140163425154880] loss did not improve for 3 epochs\u001b[0m\n",
      "\u001b[31m[06/18/2018 04:15:23 INFO 140163425154880] Epoch[29] Batch[0] avg_epoch_loss=12.898929\u001b[0m\n",
      "\u001b[31m[06/18/2018 04:15:23 INFO 140163425154880] Epoch[29] Batch[5] avg_epoch_loss=12.899477\u001b[0m\n",
      "\u001b[31m[06/18/2018 04:15:23 INFO 140163425154880] Epoch[29] Batch [5]#011Speed: 330.69 samples/sec#011loss=12.899477\u001b[0m\n",
      "\u001b[31m[06/18/2018 04:15:24 INFO 140163425154880] processed a total of 311 examples\u001b[0m\n",
      "\u001b[31m#metrics {\"Metrics\": {\"update.time\": {\"count\": 1, \"max\": 937.3979568481445, \"sum\": 937.3979568481445, \"min\": 937.3979568481445}}, \"EndTime\": 1529295324.206836, \"Dimensions\": {\"Host\": \"algo-1\", \"Operation\": \"training\", \"Algorithm\": \"AWS/DeepAR\"}, \"StartTime\": 1529295323.253075}\n",
      "\u001b[0m\n",
      "\u001b[31m[06/18/2018 04:15:24 INFO 140163425154880] #throughput_metric: host=algo-1, train throughput=331.734683165 records/second\u001b[0m\n",
      "\u001b[31m[06/18/2018 04:15:24 INFO 140163425154880] #progress_metric: host=algo-1, completed 60 % of epochs\u001b[0m\n",
      "\u001b[31m[06/18/2018 04:15:24 INFO 140163425154880] loss did not improve for 4 epochs\u001b[0m\n",
      "\u001b[31m[06/18/2018 04:15:24 INFO 140163425154880] Epoch[30] Batch[0] avg_epoch_loss=12.731803\u001b[0m\n",
      "\u001b[31m[06/18/2018 04:15:24 INFO 140163425154880] Epoch[30] Batch[5] avg_epoch_loss=12.816602\u001b[0m\n",
      "\u001b[31m[06/18/2018 04:15:24 INFO 140163425154880] Epoch[30] Batch [5]#011Speed: 348.69 samples/sec#011loss=12.816602\u001b[0m\n",
      "\u001b[31m[06/18/2018 04:15:25 INFO 140163425154880] Epoch[30] Batch[10] avg_epoch_loss=12.801603\u001b[0m\n",
      "\u001b[31m[06/18/2018 04:15:25 INFO 140163425154880] Epoch[30] Batch [10]#011Speed: 367.69 samples/sec#011loss=12.783605\u001b[0m\n",
      "\u001b[31m[06/18/2018 04:15:25 INFO 140163425154880] processed a total of 324 examples\u001b[0m\n",
      "\u001b[31m#metrics {\"Metrics\": {\"update.time\": {\"count\": 1, \"max\": 972.865104675293, \"sum\": 972.865104675293, \"min\": 972.865104675293}}, \"EndTime\": 1529295325.19287, \"Dimensions\": {\"Host\": \"algo-1\", \"Operation\": \"training\", \"Algorithm\": \"AWS/DeepAR\"}, \"StartTime\": 1529295324.206901}\n",
      "\u001b[0m\n",
      "\u001b[31m[06/18/2018 04:15:25 INFO 140163425154880] #throughput_metric: host=algo-1, train throughput=333.003054468 records/second\u001b[0m\n",
      "\u001b[31m[06/18/2018 04:15:25 INFO 140163425154880] #progress_metric: host=algo-1, completed 62 % of epochs\u001b[0m\n",
      "\u001b[31m[06/18/2018 04:15:25 INFO 140163425154880] best epoch loss so far\u001b[0m\n",
      "\u001b[31m[06/18/2018 04:15:25 INFO 140163425154880] Saved checkpoint to \"/opt/ml/model/state_c7cf0379-f926-4b1c-b0fa-e35298f07dd8-0000.params\"\u001b[0m\n",
      "\u001b[31m#metrics {\"Metrics\": {\"state.serialize.time\": {\"count\": 1, \"max\": 24.464845657348633, \"sum\": 24.464845657348633, \"min\": 24.464845657348633}}, \"EndTime\": 1529295325.217758, \"Dimensions\": {\"Host\": \"algo-1\", \"Operation\": \"training\", \"Algorithm\": \"AWS/DeepAR\"}, \"StartTime\": 1529295325.192935}\n",
      "\u001b[0m\n",
      "\u001b[31m[06/18/2018 04:15:25 INFO 140163425154880] Epoch[31] Batch[0] avg_epoch_loss=12.693124\u001b[0m\n"
     ]
    },
    {
     "name": "stdout",
     "output_type": "stream",
     "text": [
      "\u001b[31m[06/18/2018 04:15:25 INFO 140163425154880] Epoch[31] Batch[5] avg_epoch_loss=12.809635\u001b[0m\n",
      "\u001b[31m[06/18/2018 04:15:25 INFO 140163425154880] Epoch[31] Batch [5]#011Speed: 340.76 samples/sec#011loss=12.809635\u001b[0m\n",
      "\u001b[31m[06/18/2018 04:15:26 INFO 140163425154880] processed a total of 278 examples\u001b[0m\n",
      "\u001b[31m#metrics {\"Metrics\": {\"update.time\": {\"count\": 1, \"max\": 876.0499954223633, \"sum\": 876.0499954223633, \"min\": 876.0499954223633}}, \"EndTime\": 1529295326.107347, \"Dimensions\": {\"Host\": \"algo-1\", \"Operation\": \"training\", \"Algorithm\": \"AWS/DeepAR\"}, \"StartTime\": 1529295325.217817}\n",
      "\u001b[0m\n",
      "\u001b[31m[06/18/2018 04:15:26 INFO 140163425154880] #throughput_metric: host=algo-1, train throughput=317.295060363 records/second\u001b[0m\n",
      "\u001b[31m[06/18/2018 04:15:26 INFO 140163425154880] #progress_metric: host=algo-1, completed 64 % of epochs\u001b[0m\n",
      "\u001b[31m[06/18/2018 04:15:26 INFO 140163425154880] loss did not improve for 1 epochs\u001b[0m\n",
      "\u001b[31m[06/18/2018 04:15:26 INFO 140163425154880] Epoch[32] Batch[0] avg_epoch_loss=12.815764\u001b[0m\n",
      "\u001b[31m[06/18/2018 04:15:26 INFO 140163425154880] Epoch[32] Batch[5] avg_epoch_loss=12.864804\u001b[0m\n",
      "\u001b[31m[06/18/2018 04:15:26 INFO 140163425154880] Epoch[32] Batch [5]#011Speed: 329.63 samples/sec#011loss=12.864804\u001b[0m\n",
      "\u001b[31m[06/18/2018 04:15:27 INFO 140163425154880] processed a total of 312 examples\u001b[0m\n",
      "\u001b[31m#metrics {\"Metrics\": {\"update.time\": {\"count\": 1, \"max\": 952.4619579315186, \"sum\": 952.4619579315186, \"min\": 952.4619579315186}}, \"EndTime\": 1529295327.07442, \"Dimensions\": {\"Host\": \"algo-1\", \"Operation\": \"training\", \"Algorithm\": \"AWS/DeepAR\"}, \"StartTime\": 1529295326.107417}\n",
      "\u001b[0m\n",
      "\u001b[31m[06/18/2018 04:15:27 INFO 140163425154880] #throughput_metric: host=algo-1, train throughput=327.537784826 records/second\u001b[0m\n",
      "\u001b[31m[06/18/2018 04:15:27 INFO 140163425154880] #progress_metric: host=algo-1, completed 66 % of epochs\u001b[0m\n",
      "\u001b[31m[06/18/2018 04:15:27 INFO 140163425154880] loss did not improve for 2 epochs\u001b[0m\n",
      "\u001b[31m[06/18/2018 04:15:27 INFO 140163425154880] Epoch[33] Batch[0] avg_epoch_loss=12.551066\u001b[0m\n",
      "\u001b[31m[06/18/2018 04:15:27 INFO 140163425154880] Epoch[33] Batch[5] avg_epoch_loss=12.816504\u001b[0m\n",
      "\u001b[31m[06/18/2018 04:15:27 INFO 140163425154880] Epoch[33] Batch [5]#011Speed: 331.74 samples/sec#011loss=12.816504\u001b[0m\n",
      "\u001b[31m[06/18/2018 04:15:28 INFO 140163425154880] processed a total of 289 examples\u001b[0m\n",
      "\u001b[31m#metrics {\"Metrics\": {\"update.time\": {\"count\": 1, \"max\": 963.2420539855957, \"sum\": 963.2420539855957, \"min\": 963.2420539855957}}, \"EndTime\": 1529295328.050988, \"Dimensions\": {\"Host\": \"algo-1\", \"Operation\": \"training\", \"Algorithm\": \"AWS/DeepAR\"}, \"StartTime\": 1529295327.074483}\n",
      "\u001b[0m\n",
      "\u001b[31m[06/18/2018 04:15:28 INFO 140163425154880] #throughput_metric: host=algo-1, train throughput=299.996054018 records/second\u001b[0m\n",
      "\u001b[31m[06/18/2018 04:15:28 INFO 140163425154880] #progress_metric: host=algo-1, completed 68 % of epochs\u001b[0m\n",
      "\u001b[31m[06/18/2018 04:15:28 INFO 140163425154880] loss did not improve for 3 epochs\u001b[0m\n",
      "\u001b[31m[06/18/2018 04:15:28 INFO 140163425154880] Epoch[34] Batch[0] avg_epoch_loss=12.640810\u001b[0m\n",
      "\u001b[31m[06/18/2018 04:15:28 INFO 140163425154880] Epoch[34] Batch[5] avg_epoch_loss=12.773423\u001b[0m\n",
      "\u001b[31m[06/18/2018 04:15:28 INFO 140163425154880] Epoch[34] Batch [5]#011Speed: 327.70 samples/sec#011loss=12.773423\u001b[0m\n",
      "\u001b[31m[06/18/2018 04:15:29 INFO 140163425154880] processed a total of 309 examples\u001b[0m\n",
      "\u001b[31m#metrics {\"Metrics\": {\"update.time\": {\"count\": 1, \"max\": 959.4910144805908, \"sum\": 959.4910144805908, \"min\": 959.4910144805908}}, \"EndTime\": 1529295329.033933, \"Dimensions\": {\"Host\": \"algo-1\", \"Operation\": \"training\", \"Algorithm\": \"AWS/DeepAR\"}, \"StartTime\": 1529295328.051059}\n",
      "\u001b[0m\n",
      "\u001b[31m[06/18/2018 04:15:29 INFO 140163425154880] #throughput_metric: host=algo-1, train throughput=322.006859827 records/second\u001b[0m\n",
      "\u001b[31m[06/18/2018 04:15:29 INFO 140163425154880] #progress_metric: host=algo-1, completed 70 % of epochs\u001b[0m\n",
      "\u001b[31m[06/18/2018 04:15:29 INFO 140163425154880] loss did not improve for 4 epochs\u001b[0m\n",
      "\u001b[31m[06/18/2018 04:15:29 INFO 140163425154880] Epoch[35] Batch[0] avg_epoch_loss=13.014054\u001b[0m\n",
      "\u001b[31m[06/18/2018 04:15:29 INFO 140163425154880] Epoch[35] Batch[5] avg_epoch_loss=12.833768\u001b[0m\n",
      "\u001b[31m[06/18/2018 04:15:29 INFO 140163425154880] Epoch[35] Batch [5]#011Speed: 339.35 samples/sec#011loss=12.833768\u001b[0m\n",
      "\u001b[31m[06/18/2018 04:15:29 INFO 140163425154880] processed a total of 291 examples\u001b[0m\n",
      "\u001b[31m#metrics {\"Metrics\": {\"update.time\": {\"count\": 1, \"max\": 920.2120304107666, \"sum\": 920.2120304107666, \"min\": 920.2120304107666}}, \"EndTime\": 1529295329.97039, \"Dimensions\": {\"Host\": \"algo-1\", \"Operation\": \"training\", \"Algorithm\": \"AWS/DeepAR\"}, \"StartTime\": 1529295329.03401}\n",
      "\u001b[0m\n",
      "\u001b[31m[06/18/2018 04:15:29 INFO 140163425154880] #throughput_metric: host=algo-1, train throughput=316.192962963 records/second\u001b[0m\n",
      "\u001b[31m[06/18/2018 04:15:29 INFO 140163425154880] #progress_metric: host=algo-1, completed 72 % of epochs\u001b[0m\n",
      "\u001b[31m[06/18/2018 04:15:29 INFO 140163425154880] loss did not improve for 5 epochs\u001b[0m\n",
      "\u001b[31m[06/18/2018 04:15:30 INFO 140163425154880] Epoch[36] Batch[0] avg_epoch_loss=12.862883\u001b[0m\n",
      "\u001b[31m[06/18/2018 04:15:30 INFO 140163425154880] Epoch[36] Batch[5] avg_epoch_loss=12.778947\u001b[0m\n",
      "\u001b[31m[06/18/2018 04:15:30 INFO 140163425154880] Epoch[36] Batch [5]#011Speed: 327.38 samples/sec#011loss=12.778947\u001b[0m\n",
      "\u001b[31m[06/18/2018 04:15:30 INFO 140163425154880] processed a total of 320 examples\u001b[0m\n",
      "\u001b[31m#metrics {\"Metrics\": {\"update.time\": {\"count\": 1, \"max\": 928.138017654419, \"sum\": 928.138017654419, \"min\": 928.138017654419}}, \"EndTime\": 1529295330.915903, \"Dimensions\": {\"Host\": \"algo-1\", \"Operation\": \"training\", \"Algorithm\": \"AWS/DeepAR\"}, \"StartTime\": 1529295329.970467}\n",
      "\u001b[0m\n",
      "\u001b[31m[06/18/2018 04:15:30 INFO 140163425154880] #throughput_metric: host=algo-1, train throughput=344.739912424 records/second\u001b[0m\n",
      "\u001b[31m[06/18/2018 04:15:30 INFO 140163425154880] #progress_metric: host=algo-1, completed 74 % of epochs\u001b[0m\n",
      "\u001b[31m[06/18/2018 04:15:30 INFO 140163425154880] loss did not improve for 6 epochs\u001b[0m\n",
      "\u001b[31m[06/18/2018 04:15:31 INFO 140163425154880] Epoch[37] Batch[0] avg_epoch_loss=12.917982\u001b[0m\n",
      "\u001b[31m[06/18/2018 04:15:31 INFO 140163425154880] Epoch[37] Batch[5] avg_epoch_loss=12.879454\u001b[0m\n",
      "\u001b[31m[06/18/2018 04:15:31 INFO 140163425154880] Epoch[37] Batch [5]#011Speed: 362.93 samples/sec#011loss=12.879454\u001b[0m\n",
      "\u001b[31m[06/18/2018 04:15:31 INFO 140163425154880] Epoch[37] Batch[10] avg_epoch_loss=12.850372\u001b[0m\n",
      "\u001b[31m[06/18/2018 04:15:31 INFO 140163425154880] Epoch[37] Batch [10]#011Speed: 359.66 samples/sec#011loss=12.815474\u001b[0m\n",
      "\u001b[31m[06/18/2018 04:15:31 INFO 140163425154880] processed a total of 331 examples\u001b[0m\n",
      "\u001b[31m#metrics {\"Metrics\": {\"update.time\": {\"count\": 1, \"max\": 970.4349040985107, \"sum\": 970.4349040985107, \"min\": 970.4349040985107}}, \"EndTime\": 1529295331.901592, \"Dimensions\": {\"Host\": \"algo-1\", \"Operation\": \"training\", \"Algorithm\": \"AWS/DeepAR\"}, \"StartTime\": 1529295330.915966}\n",
      "\u001b[0m\n",
      "\u001b[31m[06/18/2018 04:15:31 INFO 140163425154880] #throughput_metric: host=algo-1, train throughput=341.043800686 records/second\u001b[0m\n",
      "\u001b[31m[06/18/2018 04:15:31 INFO 140163425154880] #progress_metric: host=algo-1, completed 76 % of epochs\u001b[0m\n",
      "\u001b[31m[06/18/2018 04:15:31 INFO 140163425154880] loss did not improve for 7 epochs\u001b[0m\n",
      "\u001b[31m[06/18/2018 04:15:31 INFO 140163425154880] Epoch[38] Batch[0] avg_epoch_loss=12.670127\u001b[0m\n",
      "\u001b[31m[06/18/2018 04:15:32 INFO 140163425154880] Epoch[38] Batch[5] avg_epoch_loss=12.786064\u001b[0m\n",
      "\u001b[31m[06/18/2018 04:15:32 INFO 140163425154880] Epoch[38] Batch [5]#011Speed: 305.79 samples/sec#011loss=12.786064\u001b[0m\n",
      "\u001b[31m[06/18/2018 04:15:32 INFO 140163425154880] processed a total of 302 examples\u001b[0m\n",
      "\u001b[31m#metrics {\"Metrics\": {\"update.time\": {\"count\": 1, \"max\": 997.9159832000732, \"sum\": 997.9159832000732, \"min\": 997.9159832000732}}, \"EndTime\": 1529295332.912935, \"Dimensions\": {\"Host\": \"algo-1\", \"Operation\": \"training\", \"Algorithm\": \"AWS/DeepAR\"}, \"StartTime\": 1529295331.901671}\n",
      "\u001b[0m\n",
      "\u001b[31m[06/18/2018 04:15:32 INFO 140163425154880] #throughput_metric: host=algo-1, train throughput=302.596130329 records/second\u001b[0m\n",
      "\u001b[31m[06/18/2018 04:15:32 INFO 140163425154880] #progress_metric: host=algo-1, completed 78 % of epochs\u001b[0m\n",
      "\u001b[31m[06/18/2018 04:15:32 INFO 140163425154880] best epoch loss so far\u001b[0m\n",
      "\u001b[31m[06/18/2018 04:15:32 INFO 140163425154880] Saved checkpoint to \"/opt/ml/model/state_dd1cceb3-7471-49fa-b14e-e2ecc67bcfa8-0000.params\"\u001b[0m\n",
      "\u001b[31m#metrics {\"Metrics\": {\"state.serialize.time\": {\"count\": 1, \"max\": 25.294065475463867, \"sum\": 25.294065475463867, \"min\": 25.294065475463867}}, \"EndTime\": 1529295332.938764, \"Dimensions\": {\"Host\": \"algo-1\", \"Operation\": \"training\", \"Algorithm\": \"AWS/DeepAR\"}, \"StartTime\": 1529295332.913011}\n",
      "\u001b[0m\n",
      "\u001b[31m[06/18/2018 04:15:33 INFO 140163425154880] Epoch[39] Batch[0] avg_epoch_loss=12.768273\u001b[0m\n",
      "\u001b[31m[06/18/2018 04:15:33 INFO 140163425154880] Epoch[39] Batch[5] avg_epoch_loss=12.690513\u001b[0m\n",
      "\u001b[31m[06/18/2018 04:15:33 INFO 140163425154880] Epoch[39] Batch [5]#011Speed: 327.35 samples/sec#011loss=12.690513\u001b[0m\n",
      "\u001b[31m[06/18/2018 04:15:33 INFO 140163425154880] Epoch[39] Batch[10] avg_epoch_loss=12.694610\u001b[0m\n",
      "\u001b[31m[06/18/2018 04:15:33 INFO 140163425154880] Epoch[39] Batch [10]#011Speed: 360.24 samples/sec#011loss=12.699526\u001b[0m\n",
      "\u001b[31m[06/18/2018 04:15:33 INFO 140163425154880] processed a total of 332 examples\u001b[0m\n",
      "\u001b[31m#metrics {\"Metrics\": {\"update.time\": {\"count\": 1, \"max\": 1030.900001525879, \"sum\": 1030.900001525879, \"min\": 1030.900001525879}}, \"EndTime\": 1529295333.989304, \"Dimensions\": {\"Host\": \"algo-1\", \"Operation\": \"training\", \"Algorithm\": \"AWS/DeepAR\"}, \"StartTime\": 1529295332.938833}\n",
      "\u001b[0m\n",
      "\u001b[31m[06/18/2018 04:15:33 INFO 140163425154880] #throughput_metric: host=algo-1, train throughput=322.014958511 records/second\u001b[0m\n",
      "\u001b[31m[06/18/2018 04:15:33 INFO 140163425154880] #progress_metric: host=algo-1, completed 80 % of epochs\u001b[0m\n",
      "\u001b[31m[06/18/2018 04:15:33 INFO 140163425154880] best epoch loss so far\u001b[0m\n",
      "\u001b[31m[06/18/2018 04:15:34 INFO 140163425154880] Saved checkpoint to \"/opt/ml/model/state_76e587ee-01a9-4f24-8bef-18993ebabd4f-0000.params\"\u001b[0m\n",
      "\u001b[31m#metrics {\"Metrics\": {\"state.serialize.time\": {\"count\": 1, \"max\": 32.44590759277344, \"sum\": 32.44590759277344, \"min\": 32.44590759277344}}, \"EndTime\": 1529295334.022147, \"Dimensions\": {\"Host\": \"algo-1\", \"Operation\": \"training\", \"Algorithm\": \"AWS/DeepAR\"}, \"StartTime\": 1529295333.989376}\n",
      "\u001b[0m\n",
      "\u001b[31m[06/18/2018 04:15:34 INFO 140163425154880] Epoch[40] Batch[0] avg_epoch_loss=12.758327\u001b[0m\n",
      "\u001b[31m[06/18/2018 04:15:34 INFO 140163425154880] Epoch[40] Batch[5] avg_epoch_loss=12.727572\u001b[0m\n",
      "\u001b[31m[06/18/2018 04:15:34 INFO 140163425154880] Epoch[40] Batch [5]#011Speed: 307.07 samples/sec#011loss=12.727572\u001b[0m\n",
      "\u001b[31m[06/18/2018 04:15:35 INFO 140163425154880] processed a total of 297 examples\u001b[0m\n",
      "\u001b[31m#metrics {\"Metrics\": {\"update.time\": {\"count\": 1, \"max\": 972.9769229888916, \"sum\": 972.9769229888916, \"min\": 972.9769229888916}}, \"EndTime\": 1529295335.013258, \"Dimensions\": {\"Host\": \"algo-1\", \"Operation\": \"training\", \"Algorithm\": \"AWS/DeepAR\"}, \"StartTime\": 1529295334.022222}\n",
      "\u001b[0m\n",
      "\u001b[31m[06/18/2018 04:15:35 INFO 140163425154880] #throughput_metric: host=algo-1, train throughput=305.217647867 records/second\u001b[0m\n",
      "\u001b[31m[06/18/2018 04:15:35 INFO 140163425154880] #progress_metric: host=algo-1, completed 82 % of epochs\u001b[0m\n",
      "\u001b[31m[06/18/2018 04:15:35 INFO 140163425154880] loss did not improve for 1 epochs\u001b[0m\n",
      "\u001b[31m[06/18/2018 04:15:35 INFO 140163425154880] Epoch[41] Batch[0] avg_epoch_loss=12.561625\u001b[0m\n"
     ]
    },
    {
     "name": "stdout",
     "output_type": "stream",
     "text": [
      "\u001b[31m[06/18/2018 04:15:35 INFO 140163425154880] Epoch[41] Batch[5] avg_epoch_loss=12.747143\u001b[0m\n",
      "\u001b[31m[06/18/2018 04:15:35 INFO 140163425154880] Epoch[41] Batch [5]#011Speed: 324.50 samples/sec#011loss=12.747143\u001b[0m\n",
      "\u001b[31m[06/18/2018 04:15:36 INFO 140163425154880] Epoch[41] Batch[10] avg_epoch_loss=12.730785\u001b[0m\n",
      "\u001b[31m[06/18/2018 04:15:36 INFO 140163425154880] Epoch[41] Batch [10]#011Speed: 360.01 samples/sec#011loss=12.711156\u001b[0m\n",
      "\u001b[31m[06/18/2018 04:15:36 INFO 140163425154880] processed a total of 323 examples\u001b[0m\n",
      "\u001b[31m#metrics {\"Metrics\": {\"update.time\": {\"count\": 1, \"max\": 1017.9860591888428, \"sum\": 1017.9860591888428, \"min\": 1017.9860591888428}}, \"EndTime\": 1529295336.046589, \"Dimensions\": {\"Host\": \"algo-1\", \"Operation\": \"training\", \"Algorithm\": \"AWS/DeepAR\"}, \"StartTime\": 1529295335.013324}\n",
      "\u001b[0m\n",
      "\u001b[31m[06/18/2018 04:15:36 INFO 140163425154880] #throughput_metric: host=algo-1, train throughput=317.257629523 records/second\u001b[0m\n",
      "\u001b[31m[06/18/2018 04:15:36 INFO 140163425154880] #progress_metric: host=algo-1, completed 84 % of epochs\u001b[0m\n",
      "\u001b[31m[06/18/2018 04:15:36 INFO 140163425154880] loss did not improve for 2 epochs\u001b[0m\n",
      "\u001b[31m[06/18/2018 04:15:36 INFO 140163425154880] Epoch[42] Batch[0] avg_epoch_loss=12.792798\u001b[0m\n",
      "\u001b[31m[06/18/2018 04:15:36 INFO 140163425154880] Epoch[42] Batch[5] avg_epoch_loss=12.782162\u001b[0m\n",
      "\u001b[31m[06/18/2018 04:15:36 INFO 140163425154880] Epoch[42] Batch [5]#011Speed: 339.65 samples/sec#011loss=12.782162\u001b[0m\n",
      "\u001b[31m[06/18/2018 04:15:37 INFO 140163425154880] Epoch[42] Batch[10] avg_epoch_loss=12.748922\u001b[0m\n",
      "\u001b[31m[06/18/2018 04:15:37 INFO 140163425154880] Epoch[42] Batch [10]#011Speed: 337.12 samples/sec#011loss=12.709034\u001b[0m\n",
      "\u001b[31m[06/18/2018 04:15:37 INFO 140163425154880] processed a total of 343 examples\u001b[0m\n",
      "\u001b[31m#metrics {\"Metrics\": {\"update.time\": {\"count\": 1, \"max\": 1040.3470993041992, \"sum\": 1040.3470993041992, \"min\": 1040.3470993041992}}, \"EndTime\": 1529295337.10188, \"Dimensions\": {\"Host\": \"algo-1\", \"Operation\": \"training\", \"Algorithm\": \"AWS/DeepAR\"}, \"StartTime\": 1529295336.046664}\n",
      "\u001b[0m\n",
      "\u001b[31m[06/18/2018 04:15:37 INFO 140163425154880] #throughput_metric: host=algo-1, train throughput=329.66947539 records/second\u001b[0m\n",
      "\u001b[31m[06/18/2018 04:15:37 INFO 140163425154880] #progress_metric: host=algo-1, completed 86 % of epochs\u001b[0m\n",
      "\u001b[31m[06/18/2018 04:15:37 INFO 140163425154880] loss did not improve for 3 epochs\u001b[0m\n",
      "\u001b[31m[06/18/2018 04:15:37 INFO 140163425154880] Epoch[43] Batch[0] avg_epoch_loss=12.638446\u001b[0m\n",
      "\u001b[31m[06/18/2018 04:15:37 INFO 140163425154880] Epoch[43] Batch[5] avg_epoch_loss=12.706707\u001b[0m\n",
      "\u001b[31m[06/18/2018 04:15:37 INFO 140163425154880] Epoch[43] Batch [5]#011Speed: 338.53 samples/sec#011loss=12.706707\u001b[0m\n",
      "\u001b[31m[06/18/2018 04:15:38 INFO 140163425154880] Epoch[43] Batch[10] avg_epoch_loss=12.734871\u001b[0m\n",
      "\u001b[31m[06/18/2018 04:15:38 INFO 140163425154880] Epoch[43] Batch [10]#011Speed: 338.32 samples/sec#011loss=12.768668\u001b[0m\n",
      "\u001b[31m[06/18/2018 04:15:38 INFO 140163425154880] processed a total of 326 examples\u001b[0m\n",
      "\u001b[31m#metrics {\"Metrics\": {\"update.time\": {\"count\": 1, \"max\": 1042.9441928863525, \"sum\": 1042.9441928863525, \"min\": 1042.9441928863525}}, \"EndTime\": 1529295338.16112, \"Dimensions\": {\"Host\": \"algo-1\", \"Operation\": \"training\", \"Algorithm\": \"AWS/DeepAR\"}, \"StartTime\": 1529295337.101938}\n",
      "\u001b[0m\n",
      "\u001b[31m[06/18/2018 04:15:38 INFO 140163425154880] #throughput_metric: host=algo-1, train throughput=312.54435359 records/second\u001b[0m\n",
      "\u001b[31m[06/18/2018 04:15:38 INFO 140163425154880] #progress_metric: host=algo-1, completed 88 % of epochs\u001b[0m\n",
      "\u001b[31m[06/18/2018 04:15:38 INFO 140163425154880] loss did not improve for 4 epochs\u001b[0m\n",
      "\u001b[31m[06/18/2018 04:15:38 INFO 140163425154880] Epoch[44] Batch[0] avg_epoch_loss=12.848029\u001b[0m\n",
      "\u001b[31m[06/18/2018 04:15:38 INFO 140163425154880] Epoch[44] Batch[5] avg_epoch_loss=12.699640\u001b[0m\n",
      "\u001b[31m[06/18/2018 04:15:38 INFO 140163425154880] Epoch[44] Batch [5]#011Speed: 315.89 samples/sec#011loss=12.699640\u001b[0m\n",
      "\u001b[31m[06/18/2018 04:15:39 INFO 140163425154880] processed a total of 312 examples\u001b[0m\n",
      "\u001b[31m#metrics {\"Metrics\": {\"update.time\": {\"count\": 1, \"max\": 969.8970317840576, \"sum\": 969.8970317840576, \"min\": 969.8970317840576}}, \"EndTime\": 1529295339.149656, \"Dimensions\": {\"Host\": \"algo-1\", \"Operation\": \"training\", \"Algorithm\": \"AWS/DeepAR\"}, \"StartTime\": 1529295338.161191}\n",
      "\u001b[0m\n",
      "\u001b[31m[06/18/2018 04:15:39 INFO 140163425154880] #throughput_metric: host=algo-1, train throughput=321.647498587 records/second\u001b[0m\n",
      "\u001b[31m[06/18/2018 04:15:39 INFO 140163425154880] #progress_metric: host=algo-1, completed 90 % of epochs\u001b[0m\n",
      "\u001b[31m[06/18/2018 04:15:39 INFO 140163425154880] loss did not improve for 5 epochs\u001b[0m\n",
      "\u001b[31m[06/18/2018 04:15:39 INFO 140163425154880] Epoch[45] Batch[0] avg_epoch_loss=12.816351\u001b[0m\n",
      "\u001b[31m[06/18/2018 04:15:39 INFO 140163425154880] Epoch[45] Batch[5] avg_epoch_loss=12.721646\u001b[0m\n",
      "\u001b[31m[06/18/2018 04:15:39 INFO 140163425154880] Epoch[45] Batch [5]#011Speed: 336.81 samples/sec#011loss=12.721646\u001b[0m\n",
      "\u001b[31m[06/18/2018 04:15:40 INFO 140163425154880] processed a total of 311 examples\u001b[0m\n",
      "\u001b[31m#metrics {\"Metrics\": {\"update.time\": {\"count\": 1, \"max\": 928.8129806518555, \"sum\": 928.8129806518555, \"min\": 928.8129806518555}}, \"EndTime\": 1529295340.09502, \"Dimensions\": {\"Host\": \"algo-1\", \"Operation\": \"training\", \"Algorithm\": \"AWS/DeepAR\"}, \"StartTime\": 1529295339.149729}\n",
      "\u001b[0m\n",
      "\u001b[31m[06/18/2018 04:15:40 INFO 140163425154880] #throughput_metric: host=algo-1, train throughput=334.796958455 records/second\u001b[0m\n",
      "\u001b[31m[06/18/2018 04:15:40 INFO 140163425154880] #progress_metric: host=algo-1, completed 92 % of epochs\u001b[0m\n",
      "\u001b[31m[06/18/2018 04:15:40 INFO 140163425154880] loss did not improve for 6 epochs\u001b[0m\n",
      "\u001b[31m[06/18/2018 04:15:40 INFO 140163425154880] Epoch[46] Batch[0] avg_epoch_loss=12.810937\u001b[0m\n",
      "\u001b[31m[06/18/2018 04:15:40 INFO 140163425154880] Epoch[46] Batch[5] avg_epoch_loss=12.712931\u001b[0m\n",
      "\u001b[31m[06/18/2018 04:15:40 INFO 140163425154880] Epoch[46] Batch [5]#011Speed: 311.18 samples/sec#011loss=12.712931\u001b[0m\n",
      "\u001b[31m[06/18/2018 04:15:41 INFO 140163425154880] Epoch[46] Batch[10] avg_epoch_loss=12.688385\u001b[0m\n",
      "\u001b[31m[06/18/2018 04:15:41 INFO 140163425154880] Epoch[46] Batch [10]#011Speed: 326.81 samples/sec#011loss=12.658929\u001b[0m\n",
      "\u001b[31m[06/18/2018 04:15:41 INFO 140163425154880] processed a total of 323 examples\u001b[0m\n",
      "\u001b[31m#metrics {\"Metrics\": {\"update.time\": {\"count\": 1, \"max\": 1082.8819274902344, \"sum\": 1082.8819274902344, \"min\": 1082.8819274902344}}, \"EndTime\": 1529295341.193876, \"Dimensions\": {\"Host\": \"algo-1\", \"Operation\": \"training\", \"Algorithm\": \"AWS/DeepAR\"}, \"StartTime\": 1529295340.09509}\n",
      "\u001b[0m\n",
      "\u001b[31m[06/18/2018 04:15:41 INFO 140163425154880] #throughput_metric: host=algo-1, train throughput=298.243396922 records/second\u001b[0m\n",
      "\u001b[31m[06/18/2018 04:15:41 INFO 140163425154880] #progress_metric: host=algo-1, completed 94 % of epochs\u001b[0m\n",
      "\u001b[31m[06/18/2018 04:15:41 INFO 140163425154880] best epoch loss so far\u001b[0m\n",
      "\u001b[31m[06/18/2018 04:15:41 INFO 140163425154880] Saved checkpoint to \"/opt/ml/model/state_28787d1f-cab4-442d-93cb-0ea635e0631a-0000.params\"\u001b[0m\n",
      "\u001b[31m#metrics {\"Metrics\": {\"state.serialize.time\": {\"count\": 1, \"max\": 34.23595428466797, \"sum\": 34.23595428466797, \"min\": 34.23595428466797}}, \"EndTime\": 1529295341.228551, \"Dimensions\": {\"Host\": \"algo-1\", \"Operation\": \"training\", \"Algorithm\": \"AWS/DeepAR\"}, \"StartTime\": 1529295341.193951}\n",
      "\u001b[0m\n",
      "\u001b[31m[06/18/2018 04:15:41 INFO 140163425154880] Epoch[47] Batch[0] avg_epoch_loss=12.594584\u001b[0m\n",
      "\u001b[31m[06/18/2018 04:15:41 INFO 140163425154880] Epoch[47] Batch[5] avg_epoch_loss=12.775382\u001b[0m\n",
      "\u001b[31m[06/18/2018 04:15:41 INFO 140163425154880] Epoch[47] Batch [5]#011Speed: 316.21 samples/sec#011loss=12.775382\u001b[0m\n",
      "\u001b[31m[06/18/2018 04:15:42 INFO 140163425154880] Epoch[47] Batch[10] avg_epoch_loss=12.796583\u001b[0m\n",
      "\u001b[31m[06/18/2018 04:15:42 INFO 140163425154880] Epoch[47] Batch [10]#011Speed: 352.27 samples/sec#011loss=12.822025\u001b[0m\n",
      "\u001b[31m[06/18/2018 04:15:42 INFO 140163425154880] processed a total of 329 examples\u001b[0m\n",
      "\u001b[31m#metrics {\"Metrics\": {\"update.time\": {\"count\": 1, \"max\": 1060.595989227295, \"sum\": 1060.595989227295, \"min\": 1060.595989227295}}, \"EndTime\": 1529295342.306872, \"Dimensions\": {\"Host\": \"algo-1\", \"Operation\": \"training\", \"Algorithm\": \"AWS/DeepAR\"}, \"StartTime\": 1529295341.228625}\n",
      "\u001b[0m\n",
      "\u001b[31m[06/18/2018 04:15:42 INFO 140163425154880] #throughput_metric: host=algo-1, train throughput=310.173730428 records/second\u001b[0m\n",
      "\u001b[31m[06/18/2018 04:15:42 INFO 140163425154880] #progress_metric: host=algo-1, completed 96 % of epochs\u001b[0m\n",
      "\u001b[31m[06/18/2018 04:15:42 INFO 140163425154880] loss did not improve for 1 epochs\u001b[0m\n",
      "\u001b[31m[06/18/2018 04:15:42 INFO 140163425154880] Epoch[48] Batch[0] avg_epoch_loss=12.536411\u001b[0m\n",
      "\u001b[31m[06/18/2018 04:15:42 INFO 140163425154880] Epoch[48] Batch[5] avg_epoch_loss=12.623986\u001b[0m\n",
      "\u001b[31m[06/18/2018 04:15:42 INFO 140163425154880] Epoch[48] Batch [5]#011Speed: 318.13 samples/sec#011loss=12.623986\u001b[0m\n",
      "\u001b[31m[06/18/2018 04:15:43 INFO 140163425154880] Epoch[48] Batch[10] avg_epoch_loss=12.670985\u001b[0m\n",
      "\u001b[31m[06/18/2018 04:15:43 INFO 140163425154880] Epoch[48] Batch [10]#011Speed: 344.33 samples/sec#011loss=12.727385\u001b[0m\n",
      "\u001b[31m[06/18/2018 04:15:43 INFO 140163425154880] processed a total of 337 examples\u001b[0m\n",
      "\u001b[31m#metrics {\"Metrics\": {\"update.time\": {\"count\": 1, \"max\": 1047.0879077911377, \"sum\": 1047.0879077911377, \"min\": 1047.0879077911377}}, \"EndTime\": 1529295343.373152, \"Dimensions\": {\"Host\": \"algo-1\", \"Operation\": \"training\", \"Algorithm\": \"AWS/DeepAR\"}, \"StartTime\": 1529295342.306938}\n",
      "\u001b[0m\n",
      "\u001b[31m[06/18/2018 04:15:43 INFO 140163425154880] #throughput_metric: host=algo-1, train throughput=321.816341529 records/second\u001b[0m\n",
      "\u001b[31m[06/18/2018 04:15:43 INFO 140163425154880] #progress_metric: host=algo-1, completed 98 % of epochs\u001b[0m\n",
      "\u001b[31m[06/18/2018 04:15:43 INFO 140163425154880] best epoch loss so far\u001b[0m\n",
      "\u001b[31m[06/18/2018 04:15:43 INFO 140163425154880] Saved checkpoint to \"/opt/ml/model/state_72ea1371-2a9e-4ab8-9d90-867b67d2ba7d-0000.params\"\u001b[0m\n",
      "\u001b[31m#metrics {\"Metrics\": {\"state.serialize.time\": {\"count\": 1, \"max\": 26.927947998046875, \"sum\": 26.927947998046875, \"min\": 26.927947998046875}}, \"EndTime\": 1529295343.400503, \"Dimensions\": {\"Host\": \"algo-1\", \"Operation\": \"training\", \"Algorithm\": \"AWS/DeepAR\"}, \"StartTime\": 1529295343.373208}\n",
      "\u001b[0m\n",
      "\u001b[31m[06/18/2018 04:15:43 INFO 140163425154880] Epoch[49] Batch[0] avg_epoch_loss=12.699960\u001b[0m\n",
      "\u001b[31m[06/18/2018 04:15:44 INFO 140163425154880] Epoch[49] Batch[5] avg_epoch_loss=12.661117\u001b[0m\n",
      "\u001b[31m[06/18/2018 04:15:44 INFO 140163425154880] Epoch[49] Batch [5]#011Speed: 322.53 samples/sec#011loss=12.661117\u001b[0m\n",
      "\u001b[31m[06/18/2018 04:15:44 INFO 140163425154880] processed a total of 315 examples\u001b[0m\n",
      "\u001b[31m#metrics {\"Metrics\": {\"update.time\": {\"count\": 1, \"max\": 976.0990142822266, \"sum\": 976.0990142822266, \"min\": 976.0990142822266}}, \"EndTime\": 1529295344.395483, \"Dimensions\": {\"Host\": \"algo-1\", \"Operation\": \"training\", \"Algorithm\": \"AWS/DeepAR\"}, \"StartTime\": 1529295343.40058}\n",
      "\u001b[0m\n",
      "\u001b[31m[06/18/2018 04:15:44 INFO 140163425154880] #throughput_metric: host=algo-1, train throughput=322.679429203 records/second\u001b[0m\n",
      "\u001b[31m[06/18/2018 04:15:44 INFO 140163425154880] #progress_metric: host=algo-1, completed 100 % of epochs\u001b[0m\n",
      "\u001b[31m[06/18/2018 04:15:44 INFO 140163425154880] best epoch loss so far\u001b[0m\n",
      "\u001b[31m[06/18/2018 04:15:44 INFO 140163425154880] Saved checkpoint to \"/opt/ml/model/state_490814a4-37ac-4db0-a5f4-290f641c2eb8-0000.params\"\u001b[0m\n",
      "\u001b[31m#metrics {\"Metrics\": {\"state.serialize.time\": {\"count\": 1, \"max\": 26.51810646057129, \"sum\": 26.51810646057129, \"min\": 26.51810646057129}}, \"EndTime\": 1529295344.422425, \"Dimensions\": {\"Host\": \"algo-1\", \"Operation\": \"training\", \"Algorithm\": \"AWS/DeepAR\"}, \"StartTime\": 1529295344.395548}\n",
      "\u001b[0m\n",
      "\u001b[31m[06/18/2018 04:15:44 INFO 140163425154880] Loading parameters from best epoch (49)\u001b[0m\n",
      "\u001b[31m#metrics {\"Metrics\": {\"state.deserialize.time\": {\"count\": 1, \"max\": 11.75999641418457, \"sum\": 11.75999641418457, \"min\": 11.75999641418457}}, \"EndTime\": 1529295344.434391, \"Dimensions\": {\"Host\": \"algo-1\", \"Operation\": \"training\", \"Algorithm\": \"AWS/DeepAR\"}, \"StartTime\": 1529295344.422498}\n",
      "\u001b[0m\n",
      "\u001b[31m[06/18/2018 04:15:44 INFO 140163425154880] Final loss: 12.6094752312 (occured at epoch 49)\u001b[0m\n",
      "\u001b[31m[06/18/2018 04:15:44 INFO 140163425154880] #quality_metric: host=algo-1, train final_loss <loss>=12.6094752312\u001b[0m\n",
      "\u001b[31m[06/18/2018 04:15:44 INFO 140163425154880] Creating prediction graph.\u001b[0m\n"
     ]
    },
    {
     "name": "stdout",
     "output_type": "stream",
     "text": [
      "\u001b[31m#metrics {\"Metrics\": {\"get_graph.time\": {\"count\": 1, \"max\": 1935.9920024871826, \"sum\": 1935.9920024871826, \"min\": 1935.9920024871826}}, \"EndTime\": 1529295346.370908, \"Dimensions\": {\"Host\": \"algo-1\", \"Operation\": \"training\", \"Algorithm\": \"AWS/DeepAR\"}, \"StartTime\": 1529295344.43446}\n",
      "\u001b[0m\n",
      "\u001b[31m[06/18/2018 04:15:48 INFO 140163425154880] Number of GPUs being used: 0\u001b[0m\n",
      "\u001b[31m#metrics {\"Metrics\": {\"finalize.time\": {\"count\": 1, \"max\": 3922.0199584960938, \"sum\": 3922.0199584960938, \"min\": 3922.0199584960938}}, \"EndTime\": 1529295348.356901, \"Dimensions\": {\"Host\": \"algo-1\", \"Operation\": \"training\", \"Algorithm\": \"AWS/DeepAR\"}, \"StartTime\": 1529295346.370977}\n",
      "\u001b[0m\n",
      "\u001b[31m[06/18/2018 04:15:48 INFO 140163425154880] Serializing to /opt/ml/model/model_algo-1\u001b[0m\n",
      "\u001b[31m[06/18/2018 04:15:48 INFO 140163425154880] Saved checkpoint to \"/opt/ml/model/model_algo-1-0000.params\"\u001b[0m\n",
      "\u001b[31m#metrics {\"Metrics\": {\"model.serialize.time\": {\"count\": 1, \"max\": 289.1697883605957, \"sum\": 289.1697883605957, \"min\": 289.1697883605957}}, \"EndTime\": 1529295348.646185, \"Dimensions\": {\"Host\": \"algo-1\", \"Operation\": \"training\", \"Algorithm\": \"AWS/DeepAR\"}, \"StartTime\": 1529295348.356971}\n",
      "\u001b[0m\n",
      "\u001b[31m[06/18/2018 04:15:48 INFO 140163425154880] Successfully created prediction graph and serialized the model.\u001b[0m\n",
      "\u001b[31m[06/18/2018 04:15:48 INFO 140163425154880] Evaluating model accuracy on testset using 100 samples\u001b[0m\n",
      "\u001b[31m#metrics {\"Metrics\": {\"model.bind.time\": {\"count\": 1, \"max\": 0.03504753112792969, \"sum\": 0.03504753112792969, \"min\": 0.03504753112792969}}, \"EndTime\": 1529295348.647489, \"Dimensions\": {\"Host\": \"algo-1\", \"Operation\": \"training\", \"Algorithm\": \"AWS/DeepAR\"}, \"StartTime\": 1529295348.64624}\n",
      "\u001b[0m\n",
      "\u001b[31m#metrics {\"Metrics\": {\"model.score.time\": {\"count\": 1, \"max\": 2636.3348960876465, \"sum\": 2636.3348960876465, \"min\": 2636.3348960876465}}, \"EndTime\": 1529295351.283788, \"Dimensions\": {\"Host\": \"algo-1\", \"Operation\": \"training\", \"Algorithm\": \"AWS/DeepAR\"}, \"StartTime\": 1529295348.647544}\n",
      "\u001b[0m\n",
      "\u001b[31m[06/18/2018 04:15:51 INFO 140163425154880] #test_score (algo-1, wQuantileLoss[0.7]): 0.382965\u001b[0m\n",
      "\u001b[31m[06/18/2018 04:15:51 INFO 140163425154880] #test_score (algo-1, wQuantileLoss[0.6]): 0.395612\u001b[0m\n",
      "\u001b[31m[06/18/2018 04:15:51 INFO 140163425154880] #test_score (algo-1, mean_wQuantileLoss): 0.319004\u001b[0m\n",
      "\u001b[31m[06/18/2018 04:15:51 INFO 140163425154880] #test_score (algo-1, wQuantileLoss[0.1]): 0.181845\u001b[0m\n",
      "\u001b[31m[06/18/2018 04:15:51 INFO 140163425154880] #test_score (algo-1, RMSE): 85814.3827572\u001b[0m\n",
      "\u001b[31m[06/18/2018 04:15:51 INFO 140163425154880] #test_score (algo-1, wQuantileLoss[0.3]): 0.327606\u001b[0m\n",
      "\u001b[31m[06/18/2018 04:15:51 INFO 140163425154880] #test_score (algo-1, wQuantileLoss[0.9]): 0.231474\u001b[0m\n",
      "\u001b[31m[06/18/2018 04:15:51 INFO 140163425154880] #test_score (algo-1, wQuantileLoss[0.2]): 0.273131\u001b[0m\n",
      "\u001b[31m[06/18/2018 04:15:51 INFO 140163425154880] #test_score (algo-1, wQuantileLoss[0.8]): 0.329838\u001b[0m\n",
      "\u001b[31m[06/18/2018 04:15:51 INFO 140163425154880] #test_score (algo-1, wQuantileLoss[0.5]): 0.38565\u001b[0m\n",
      "\u001b[31m[06/18/2018 04:15:51 INFO 140163425154880] #test_score (algo-1, wQuantileLoss[0.4]): 0.362916\u001b[0m\n",
      "\u001b[31m[06/18/2018 04:15:51 INFO 140163425154880] #quality_metric: host=algo-1, test mean_wQuantileLoss <loss>=0.31900408864\u001b[0m\n",
      "\u001b[31m[06/18/2018 04:15:51 INFO 140163425154880] #quality_metric: host=algo-1, test RMSE <loss>=85814.3827572\u001b[0m\n",
      "\u001b[31m#metrics {\"Metrics\": {\"totaltime\": {\"count\": 1, \"max\": 60153.148889541626, \"sum\": 60153.148889541626, \"min\": 60153.148889541626}, \"setuptime\": {\"count\": 1, \"max\": 9.037971496582031, \"sum\": 9.037971496582031, \"min\": 9.037971496582031}}, \"EndTime\": 1529295351.731451, \"Dimensions\": {\"Host\": \"algo-1\", \"Operation\": \"training\", \"Algorithm\": \"AWS/DeepAR\"}, \"StartTime\": 1529295351.283853}\n",
      "\u001b[0m\n",
      "===== Job Complete =====\n",
      "Billable seconds: 169\n"
     ]
    }
   ],
   "source": [
    "data_channels = {\n",
    "    \"train\": \"s3://{}/train/\".format(s3_data_path),\n",
    "    \"test\": \"s3://{}/test/\".format(s3_data_path)\n",
    "}\n",
    "\n",
    "estimator.fit(inputs=data_channels)"
   ]
  },
  {
   "cell_type": "markdown",
   "metadata": {},
   "source": [
    "Create endpoint and predictor\n",
    "Now that we have trained a model, we can use it to perform predictions by deploying it to an endpoint.\n",
    "\n",
    "Note: remember to delete the enpoint after running this experiment. A cell at the very bottom of this notebook will do that: make sure you run it at the end."
   ]
  },
  {
   "cell_type": "code",
   "execution_count": 378,
   "metadata": {},
   "outputs": [
    {
     "name": "stderr",
     "output_type": "stream",
     "text": [
      "INFO:sagemaker:Creating model with name: test-demo-deepar-2018-06-18-04-11-46-093\n",
      "INFO:sagemaker:Creating endpoint-config with name test-demo-deepar-2018-06-18-04-11-46-093\n",
      "INFO:sagemaker:Creating endpoint with name test-demo-deepar-2018-06-18-04-11-46-093\n"
     ]
    },
    {
     "name": "stdout",
     "output_type": "stream",
     "text": [
      "--------------------------------------------------------------!"
     ]
    }
   ],
   "source": [
    "job_name = estimator.latest_training_job.name\n",
    "\n",
    "endpoint_name = sagemaker_session.endpoint_from_job(\n",
    "    job_name=job_name,\n",
    "    initial_instance_count=1,\n",
    "    instance_type='ml.m4.xlarge',\n",
    "    deployment_image=image_name,\n",
    "    role=role\n",
    ")"
   ]
  },
  {
   "cell_type": "code",
   "execution_count": 379,
   "metadata": {},
   "outputs": [],
   "source": [
    "class DeepARPredictor(sagemaker.predictor.RealTimePredictor):\n",
    "\n",
    "    def set_prediction_parameters(self, freq, prediction_length):\n",
    "        \"\"\"Set the time frequency and prediction length parameters. This method **must** be called\n",
    "        before being able to use `predict`.\n",
    "        \n",
    "        Parameters:\n",
    "        freq -- string indicating the time frequency\n",
    "        prediction_length -- integer, number of predicted time points\n",
    "        \n",
    "        Return value: none.\n",
    "        \"\"\"\n",
    "        self.freq = freq\n",
    "        self.prediction_length = prediction_length\n",
    "        \n",
    "    def predict(self, ts, cat=None, encoding=\"utf-8\", num_samples=100, quantiles=[\"0.1\", \"0.5\", \"0.9\"]):\n",
    "        \"\"\"Requests the prediction of for the time series listed in `ts`, each with the (optional)\n",
    "        corresponding category listed in `cat`.\n",
    "        \n",
    "        Parameters:\n",
    "        ts -- list of `pandas.Series` objects, the time series to predict\n",
    "        cat -- list of integers (default: None)\n",
    "        encoding -- string, encoding to use for the request (default: \"utf-8\")\n",
    "        num_samples -- integer, number of samples to compute at prediction time (default: 100)\n",
    "        quantiles -- list of strings specifying the quantiles to compute (default: [\"0.1\", \"0.5\", \"0.9\"])\n",
    "        \n",
    "        Return value: list of `pandas.DataFrame` objects, each containing the predictions\n",
    "        \"\"\"\n",
    "        prediction_times = [x.index[-1]+1 for x in ts]\n",
    "        req = self.__encode_request(ts, cat, encoding, num_samples, quantiles)\n",
    "        res = super(DeepARPredictor, self).predict(req)\n",
    "        return self.__decode_response(res, prediction_times, encoding)\n",
    "    \n",
    "    def __encode_request(self, ts, cat, encoding, num_samples, quantiles):\n",
    "        instances = [series_to_obj(ts[k], cat[k] if cat else None) for k in range(len(ts))]\n",
    "        configuration = {\"num_samples\": num_samples, \"output_types\": [\"quantiles\"], \"quantiles\": quantiles}\n",
    "        http_request_data = {\"instances\": instances, \"configuration\": configuration}\n",
    "        return json.dumps(http_request_data).encode(encoding)\n",
    "    \n",
    "    def __decode_response(self, response, prediction_times, encoding):\n",
    "        response_data = json.loads(response.decode(encoding))\n",
    "        list_of_df = []\n",
    "        for k in range(len(prediction_times)):\n",
    "            prediction_index = pd.DatetimeIndex(start=prediction_times[k], freq=self.freq, periods=self.prediction_length)\n",
    "            list_of_df.append(pd.DataFrame(data=response_data['predictions'][k]['quantiles'], index=prediction_index))\n",
    "        return list_of_df"
   ]
  },
  {
   "cell_type": "code",
   "execution_count": 380,
   "metadata": {},
   "outputs": [],
   "source": [
    "predictor = DeepARPredictor(\n",
    "    endpoint=endpoint_name,\n",
    "    sagemaker_session=sagemaker_session,\n",
    "    content_type=\"application/json\"\n",
    ")\n",
    "predictor.set_prediction_parameters(freq, prediction_length)"
   ]
  },
  {
   "cell_type": "code",
   "execution_count": 381,
   "metadata": {},
   "outputs": [],
   "source": [
    "#traindat = pd.Series(traindat)"
   ]
  },
  {
   "cell_type": "code",
   "execution_count": 382,
   "metadata": {},
   "outputs": [],
   "source": [
    "list_of_df  = predictor.predict(time_series_training)\n",
    "actual_data = time_series"
   ]
  },
  {
   "cell_type": "code",
   "execution_count": 383,
   "metadata": {},
   "outputs": [
    {
     "data": {
      "image/png": "[encoded data removed]",
      "text/plain": [
       "<Figure size 864x432 with 1 Axes>"
      ]
     },
     "metadata": {},
     "output_type": "display_data"
    }
   ],
   "source": [
    "for k in range(len(list_of_df)):\n",
    "    plt.figure(figsize=(12,6))\n",
    "    actual_data[k][-prediction_length-context_length:].plot(label='target')\n",
    "    p10 = list_of_df[k]['0.1']\n",
    "    p90 = list_of_df[k]['0.9']\n",
    "    plt.fill_between(p10.index, p10, p90, color='y', alpha=0.5, label='80% confidence interval')\n",
    "    list_of_df[k]['0.5'].plot(label='prediction median')\n",
    "    plt.legend()\n",
    "    plt.show()"
   ]
  },
  {
   "cell_type": "code",
   "execution_count": null,
   "metadata": {},
   "outputs": [],
   "source": []
  },
  {
   "cell_type": "code",
   "execution_count": null,
   "metadata": {},
   "outputs": [],
   "source": []
  },
  {
   "cell_type": "code",
   "execution_count": null,
   "metadata": {},
   "outputs": [],
   "source": []
  },
  {
   "cell_type": "code",
   "execution_count": null,
   "metadata": {},
   "outputs": [],
   "source": []
  },
  {
   "cell_type": "code",
   "execution_count": null,
   "metadata": {},
   "outputs": [],
   "source": []
  },
  {
   "cell_type": "code",
   "execution_count": 384,
   "metadata": {},
   "outputs": [
    {
     "name": "stderr",
     "output_type": "stream",
     "text": [
      "INFO:sagemaker:Deleting endpoint with name: test-demo-deepar-2018-06-18-04-11-46-093\n"
     ]
    }
   ],
   "source": [
    "sagemaker_session.delete_endpoint(endpoint_name)"
   ]
  },
  {
   "cell_type": "code",
   "execution_count": null,
   "metadata": {},
   "outputs": [],
   "source": []
  }
 ],
 "metadata": {
  "kernelspec": {
   "display_name": "Python 3",
   "language": "python",
   "name": "python3"
  },
  "language_info": {
   "codemirror_mode": {
    "name": "ipython",
    "version": 3
   },
   "file_extension": ".py",
   "mimetype": "text/x-python",
   "name": "python",
   "nbconvert_exporter": "python",
   "pygments_lexer": "ipython3",
   "version": "3.6.4"
  },
  "notice": "Copyright 2017 Amazon.com, Inc. or its affiliates. All Rights Reserved.  Licensed under the Apache License, Version 2.0 (the \"License\"). You may not use this file except in compliance with the License. A copy of the License is located at http://aws.amazon.com/apache2.0/ or in the \"license\" file accompanying this file. This file is distributed on an \"AS IS\" BASIS, WITHOUT WARRANTIES OR CONDITIONS OF ANY KIND, either express or implied. See the License for the specific language governing permissions and limitations under the License."
 },
 "nbformat": 4,
 "nbformat_minor": 2
}
